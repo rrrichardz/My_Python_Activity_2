{
 "cells": [
  {
   "cell_type": "markdown",
   "id": "cf991ca6",
   "metadata": {},
   "source": [
    "## Practical Activity 3.2.8"
   ]
  },
  {
   "cell_type": "markdown",
   "id": "d23a2850",
   "metadata": {},
   "source": [
    "### Prepare your workstation"
   ]
  },
  {
   "cell_type": "code",
   "execution_count": 2,
   "id": "31b4e893",
   "metadata": {},
   "outputs": [
    {
     "name": "stdout",
     "output_type": "stream",
     "text": [
      "Requirement already satisfied: pyyaml in c:\\users\\richa\\anaconda3\\lib\\site-packages (6.0)\n",
      "Requirement already satisfied: twitter in c:\\users\\richa\\anaconda3\\lib\\site-packages (1.19.3)\n",
      "<twitter.api.Twitter object at 0x0000028672B6F8B0>\n"
     ]
    }
   ],
   "source": [
    "# Copy the YAML file and your Twitter keys over to this Jupyter Notebook before you start to work\n",
    "!pip install pyyaml\n",
    "import yaml\n",
    "from yaml.loader import SafeLoader\n",
    "!pip install twitter\n",
    "from twitter import *\n",
    "\n",
    "# Import the yaml file - remember to specify the whole path and use / between directories\n",
    "twitter_creds = yaml.safe_load(open('Twitter.yaml', 'r').read())\n",
    "\n",
    "# Pass your twitter credentials\n",
    "twitter_api = Twitter(auth = OAuth(twitter_creds['access_token'],\n",
    "                                  twitter_creds['access_token_secret'],\n",
    "                                  twitter_creds['api_key'],\n",
    "                                  twitter_creds['api_secret_key']))\n",
    "\n",
    "# See if you are connected\n",
    "print(twitter_api)"
   ]
  },
  {
   "cell_type": "code",
   "execution_count": 3,
   "id": "67f97141",
   "metadata": {
    "collapsed": true
   },
   "outputs": [
    {
     "name": "stdout",
     "output_type": "stream",
     "text": [
      "{'statuses': [{'created_at': 'Wed Jun 01 13:58:50 +0000 2022', 'id': 1531998710720233474, 'id_str': '1531998710720233474', 'text': 'RT @Biocube_AI: What are the🔝🔟#Applications of #AI in #DigitalMarketing?\\n\\n#MachineLearning #DataScience #BigData #Analytics #innovation #di…', 'truncated': False, 'entities': {'hashtags': [{'text': 'Applications', 'indices': [30, 43]}, {'text': 'AI', 'indices': [47, 50]}, {'text': 'DigitalMarketing', 'indices': [54, 71]}, {'text': 'MachineLearning', 'indices': [74, 90]}, {'text': 'DataScience', 'indices': [91, 103]}, {'text': 'BigData', 'indices': [104, 112]}, {'text': 'Analytics', 'indices': [113, 123]}, {'text': 'innovation', 'indices': [124, 135]}], 'symbols': [], 'user_mentions': [{'screen_name': 'Biocube_AI', 'name': 'BIOCUBE TECHNOLOGIES', 'id': 1423663397585920005, 'id_str': '1423663397585920005', 'indices': [3, 14]}], 'urls': []}, 'metadata': {'iso_language_code': 'en', 'result_type': 'recent'}, 'source': '<a href=\"https://github.com/lina2497\" rel=\"nofollow\">Python Data Science Tweets</a>', 'in_reply_to_status_id': None, 'in_reply_to_status_id_str': None, 'in_reply_to_user_id': None, 'in_reply_to_user_id_str': None, 'in_reply_to_screen_name': None, 'user': {'id': 1288754505211883521, 'id_str': '1288754505211883521', 'name': 'Python for Data Science', 'screen_name': 'py_data_sci', 'location': '', 'description': 'Interested in using #Python for #DataScience. A bot maintained by \\n@AlexBetts. Retweets are not endorsements. For #rstats, check out my other bot @rstats4ds.', 'url': None, 'entities': {'description': {'urls': []}}, 'protected': False, 'followers_count': 6681, 'friends_count': 2, 'listed_count': 112, 'created_at': 'Thu Jul 30 08:33:21 +0000 2020', 'favourites_count': 206625, 'utc_offset': None, 'time_zone': None, 'geo_enabled': False, 'verified': False, 'statuses_count': 206587, 'lang': None, 'contributors_enabled': False, 'is_translator': False, 'is_translation_enabled': False, 'profile_background_color': 'F5F8FA', 'profile_background_image_url': None, 'profile_background_image_url_https': None, 'profile_background_tile': False, 'profile_image_url': 'http://pbs.twimg.com/profile_images/1288765343339614208/JNqvhKEe_normal.jpg', 'profile_image_url_https': 'https://pbs.twimg.com/profile_images/1288765343339614208/JNqvhKEe_normal.jpg', 'profile_banner_url': 'https://pbs.twimg.com/profile_banners/1288754505211883521/1596100587', 'profile_link_color': '1DA1F2', 'profile_sidebar_border_color': 'C0DEED', 'profile_sidebar_fill_color': 'DDEEF6', 'profile_text_color': '333333', 'profile_use_background_image': True, 'has_extended_profile': True, 'default_profile': True, 'default_profile_image': False, 'following': False, 'follow_request_sent': False, 'notifications': False, 'translator_type': 'none', 'withheld_in_countries': []}, 'geo': None, 'coordinates': None, 'place': None, 'contributors': None, 'retweeted_status': {'created_at': 'Wed Jun 01 13:55:05 +0000 2022', 'id': 1531997766712324096, 'id_str': '1531997766712324096', 'text': 'What are the🔝🔟#Applications of #AI in #DigitalMarketing?\\n\\n#MachineLearning #DataScience #BigData #Analytics… https://t.co/JHgX9ZkRPG', 'truncated': True, 'entities': {'hashtags': [{'text': 'Applications', 'indices': [14, 27]}, {'text': 'AI', 'indices': [31, 34]}, {'text': 'DigitalMarketing', 'indices': [38, 55]}, {'text': 'MachineLearning', 'indices': [58, 74]}, {'text': 'DataScience', 'indices': [75, 87]}, {'text': 'BigData', 'indices': [88, 96]}, {'text': 'Analytics', 'indices': [97, 107]}], 'symbols': [], 'user_mentions': [], 'urls': [{'url': 'https://t.co/JHgX9ZkRPG', 'expanded_url': 'https://twitter.com/i/web/status/1531997766712324096', 'display_url': 'twitter.com/i/web/status/1…', 'indices': [109, 132]}]}, 'metadata': {'iso_language_code': 'en', 'result_type': 'recent'}, 'source': '<a href=\"https://mobile.twitter.com\" rel=\"nofollow\">Twitter Web App</a>', 'in_reply_to_status_id': None, 'in_reply_to_status_id_str': None, 'in_reply_to_user_id': None, 'in_reply_to_user_id_str': None, 'in_reply_to_screen_name': None, 'user': {'id': 1423663397585920005, 'id_str': '1423663397585920005', 'name': 'BIOCUBE TECHNOLOGIES', 'screen_name': 'Biocube_AI', 'location': 'India', 'description': 'Bringing Convenience, Seamless Experience & comprehensive Security to every individual’s day-to-day transaction through our innovative AI + Biometrics Platform.', 'url': 'https://t.co/S7G4d8uvSU', 'entities': {'url': {'urls': [{'url': 'https://t.co/S7G4d8uvSU', 'expanded_url': 'http://www.biocube.ai', 'display_url': 'biocube.ai', 'indices': [0, 23]}]}, 'description': {'urls': []}}, 'protected': False, 'followers_count': 64, 'friends_count': 202, 'listed_count': 0, 'created_at': 'Fri Aug 06 15:13:57 +0000 2021', 'favourites_count': 193, 'utc_offset': None, 'time_zone': None, 'geo_enabled': False, 'verified': False, 'statuses_count': 353, 'lang': None, 'contributors_enabled': False, 'is_translator': False, 'is_translation_enabled': False, 'profile_background_color': 'F5F8FA', 'profile_background_image_url': None, 'profile_background_image_url_https': None, 'profile_background_tile': False, 'profile_image_url': 'http://pbs.twimg.com/profile_images/1423665186838220802/zmIW2bzl_normal.jpg', 'profile_image_url_https': 'https://pbs.twimg.com/profile_images/1423665186838220802/zmIW2bzl_normal.jpg', 'profile_banner_url': 'https://pbs.twimg.com/profile_banners/1423663397585920005/1652947572', 'profile_link_color': '1DA1F2', 'profile_sidebar_border_color': 'C0DEED', 'profile_sidebar_fill_color': 'DDEEF6', 'profile_text_color': '333333', 'profile_use_background_image': True, 'has_extended_profile': False, 'default_profile': True, 'default_profile_image': False, 'following': False, 'follow_request_sent': False, 'notifications': False, 'translator_type': 'none', 'withheld_in_countries': []}, 'geo': None, 'coordinates': None, 'place': None, 'contributors': None, 'is_quote_status': False, 'retweet_count': 8, 'favorite_count': 4, 'favorited': False, 'retweeted': False, 'possibly_sensitive': False, 'lang': 'en'}, 'is_quote_status': False, 'retweet_count': 8, 'favorite_count': 0, 'favorited': False, 'retweeted': False, 'lang': 'en'}, {'created_at': 'Wed Jun 01 13:58:41 +0000 2022', 'id': 1531998673118253056, 'id_str': '1531998673118253056', 'text': 'You might think sending an email with Python is straightforward; Think again. I show you around the red tape so you… https://t.co/wkF58JWcW9', 'truncated': True, 'entities': {'hashtags': [], 'symbols': [], 'user_mentions': [], 'urls': [{'url': 'https://t.co/wkF58JWcW9', 'expanded_url': 'https://twitter.com/i/web/status/1531998673118253056', 'display_url': 'twitter.com/i/web/status/1…', 'indices': [117, 140]}]}, 'metadata': {'iso_language_code': 'en', 'result_type': 'recent'}, 'source': '<a href=\"https://mobile.twitter.com\" rel=\"nofollow\">Twitter Web App</a>', 'in_reply_to_status_id': None, 'in_reply_to_status_id_str': None, 'in_reply_to_user_id': None, 'in_reply_to_user_id_str': None, 'in_reply_to_screen_name': None, 'user': {'id': 1472374864430256130, 'id_str': '1472374864430256130', 'name': 'John Solly', 'screen_name': 'effortlessgis', 'location': 'Medford, OR', 'description': 'Geospatial Web Developer (Esri, Mapbox, etc). I make apps with maps.', 'url': 'https://t.co/qRNdUBMzyc', 'entities': {'url': {'urls': [{'url': 'https://t.co/qRNdUBMzyc', 'expanded_url': 'https://blogthedata.com', 'display_url': 'blogthedata.com', 'indices': [0, 23]}]}, 'description': {'urls': []}}, 'protected': False, 'followers_count': 30, 'friends_count': 94, 'listed_count': 0, 'created_at': 'Sun Dec 19 01:15:06 +0000 2021', 'favourites_count': 57, 'utc_offset': None, 'time_zone': None, 'geo_enabled': False, 'verified': False, 'statuses_count': 42, 'lang': None, 'contributors_enabled': False, 'is_translator': False, 'is_translation_enabled': False, 'profile_background_color': 'F5F8FA', 'profile_background_image_url': None, 'profile_background_image_url_https': None, 'profile_background_tile': False, 'profile_image_url': 'http://pbs.twimg.com/profile_images/1505516205364318216/hYQdAAGa_normal.jpg', 'profile_image_url_https': 'https://pbs.twimg.com/profile_images/1505516205364318216/hYQdAAGa_normal.jpg', 'profile_banner_url': 'https://pbs.twimg.com/profile_banners/1472374864430256130/1653957004', 'profile_link_color': '1DA1F2', 'profile_sidebar_border_color': 'C0DEED', 'profile_sidebar_fill_color': 'DDEEF6', 'profile_text_color': '333333', 'profile_use_background_image': True, 'has_extended_profile': True, 'default_profile': True, 'default_profile_image': False, 'following': False, 'follow_request_sent': False, 'notifications': False, 'translator_type': 'none', 'withheld_in_countries': []}, 'geo': None, 'coordinates': None, 'place': None, 'contributors': None, 'is_quote_status': False, 'retweet_count': 0, 'favorite_count': 0, 'favorited': False, 'retweeted': False, 'possibly_sensitive': False, 'lang': 'en'}, {'created_at': 'Wed Jun 01 13:58:37 +0000 2022', 'id': 1531998656576081920, 'id_str': '1531998656576081920', 'text': 'RT @synctone2: Let’s see what you got?! #nft #NFTCommunity #NFTsales #musicnft #nftmusic #thankgoditsfriyay \\n#CodeNewbie #code #girlswhocod…', 'truncated': False, 'entities': {'hashtags': [{'text': 'nft', 'indices': [40, 44]}, {'text': 'NFTCommunity', 'indices': [45, 58]}, {'text': 'NFTsales', 'indices': [59, 68]}, {'text': 'musicnft', 'indices': [69, 78]}, {'text': 'nftmusic', 'indices': [79, 88]}, {'text': 'thankgoditsfriyay', 'indices': [89, 107]}, {'text': 'CodeNewbie', 'indices': [109, 120]}, {'text': 'code', 'indices': [121, 126]}], 'symbols': [], 'user_mentions': [{'screen_name': 'synctone2', 'name': 'synctone', 'id': 1361725867433619459, 'id_str': '1361725867433619459', 'indices': [3, 13]}], 'urls': []}, 'metadata': {'iso_language_code': 'en', 'result_type': 'recent'}, 'source': '<a href=\"https://twitter.com/codedailybot\" rel=\"nofollow\">codedailybot</a>', 'in_reply_to_status_id': None, 'in_reply_to_status_id_str': None, 'in_reply_to_user_id': None, 'in_reply_to_user_id_str': None, 'in_reply_to_screen_name': None, 'user': {'id': 1204128767251230720, 'id_str': '1204128767251230720', 'name': '#100daysOfCode', 'screen_name': 'codedailybot', 'location': '#codedaily', 'description': 'follow me. #100daysOfCode  #coding  #hourofcode or code related\\nmade with ❤️ + node.js by @yunkidev', 'url': None, 'entities': {'description': {'urls': []}}, 'protected': False, 'followers_count': 15063, 'friends_count': 1, 'listed_count': 146, 'created_at': 'Mon Dec 09 20:01:02 +0000 2019', 'favourites_count': 219, 'utc_offset': None, 'time_zone': None, 'geo_enabled': False, 'verified': False, 'statuses_count': 1569888, 'lang': None, 'contributors_enabled': False, 'is_translator': False, 'is_translation_enabled': False, 'profile_background_color': 'F5F8FA', 'profile_background_image_url': None, 'profile_background_image_url_https': None, 'profile_background_tile': False, 'profile_image_url': 'http://pbs.twimg.com/profile_images/1204131757534171136/Hdf5uixg_normal.png', 'profile_image_url_https': 'https://pbs.twimg.com/profile_images/1204131757534171136/Hdf5uixg_normal.png', 'profile_banner_url': 'https://pbs.twimg.com/profile_banners/1204128767251230720/1575923213', 'profile_link_color': '1DA1F2', 'profile_sidebar_border_color': 'C0DEED', 'profile_sidebar_fill_color': 'DDEEF6', 'profile_text_color': '333333', 'profile_use_background_image': True, 'has_extended_profile': False, 'default_profile': True, 'default_profile_image': False, 'following': False, 'follow_request_sent': False, 'notifications': False, 'translator_type': 'none', 'withheld_in_countries': []}, 'geo': None, 'coordinates': None, 'place': None, 'contributors': None, 'retweeted_status': {'created_at': 'Wed Jun 01 12:01:32 +0000 2022', 'id': 1531969192110526467, 'id_str': '1531969192110526467', 'text': 'Let’s see what you got?! #nft #NFTCommunity #NFTsales #musicnft #nftmusic #thankgoditsfriyay \\n#CodeNewbie #code… https://t.co/AmndaY3Ywp', 'truncated': True, 'entities': {'hashtags': [{'text': 'nft', 'indices': [25, 29]}, {'text': 'NFTCommunity', 'indices': [30, 43]}, {'text': 'NFTsales', 'indices': [44, 53]}, {'text': 'musicnft', 'indices': [54, 63]}, {'text': 'nftmusic', 'indices': [64, 73]}, {'text': 'thankgoditsfriyay', 'indices': [74, 92]}, {'text': 'CodeNewbie', 'indices': [94, 105]}, {'text': 'code', 'indices': [106, 111]}], 'symbols': [], 'user_mentions': [], 'urls': [{'url': 'https://t.co/AmndaY3Ywp', 'expanded_url': 'https://twitter.com/i/web/status/1531969192110526467', 'display_url': 'twitter.com/i/web/status/1…', 'indices': [113, 136]}]}, 'metadata': {'iso_language_code': 'en', 'result_type': 'recent'}, 'source': '<a href=\"http://twitter.com/download/iphone\" rel=\"nofollow\">Twitter for iPhone</a>', 'in_reply_to_status_id': None, 'in_reply_to_status_id_str': None, 'in_reply_to_user_id': None, 'in_reply_to_user_id_str': None, 'in_reply_to_screen_name': None, 'user': {'id': 1361725867433619459, 'id_str': '1361725867433619459', 'name': 'synctone', 'screen_name': 'synctone2', 'location': 'https://thankgoditsfriyay.com', 'description': 'Funk/Dance artist with the flare for cranking on the dance floor.', 'url': 'https://t.co/AY7jZl1Jau', 'entities': {'url': {'urls': [{'url': 'https://t.co/AY7jZl1Jau', 'expanded_url': 'https://opensea.io/collection/thank-god-its-friyay', 'display_url': 'opensea.io/collection/tha…', 'indices': [0, 23]}]}, 'description': {'urls': []}}, 'protected': False, 'followers_count': 6205, 'friends_count': 1148, 'listed_count': 9, 'created_at': 'Tue Feb 16 17:15:46 +0000 2021', 'favourites_count': 2357, 'utc_offset': None, 'time_zone': None, 'geo_enabled': False, 'verified': False, 'statuses_count': 423, 'lang': None, 'contributors_enabled': False, 'is_translator': False, 'is_translation_enabled': False, 'profile_background_color': 'F5F8FA', 'profile_background_image_url': None, 'profile_background_image_url_https': None, 'profile_background_tile': False, 'profile_image_url': 'http://pbs.twimg.com/profile_images/1368653998195150848/R9dy5D0j_normal.jpg', 'profile_image_url_https': 'https://pbs.twimg.com/profile_images/1368653998195150848/R9dy5D0j_normal.jpg', 'profile_banner_url': 'https://pbs.twimg.com/profile_banners/1361725867433619459/1613495891', 'profile_link_color': '1DA1F2', 'profile_sidebar_border_color': 'C0DEED', 'profile_sidebar_fill_color': 'DDEEF6', 'profile_text_color': '333333', 'profile_use_background_image': True, 'has_extended_profile': True, 'default_profile': True, 'default_profile_image': False, 'following': False, 'follow_request_sent': False, 'notifications': False, 'translator_type': 'none', 'withheld_in_countries': []}, 'geo': None, 'coordinates': None, 'place': None, 'contributors': None, 'is_quote_status': False, 'retweet_count': 6, 'favorite_count': 5, 'favorited': False, 'retweeted': False, 'lang': 'en'}, 'is_quote_status': False, 'retweet_count': 6, 'favorite_count': 0, 'favorited': False, 'retweeted': False, 'lang': 'en'}, {'created_at': 'Wed Jun 01 13:58:37 +0000 2022', 'id': 1531998656538320897, 'id_str': '1531998656538320897', 'text': 'RT @Biocube_AI: What are the🔝🔟#Applications of #AI in #DigitalMarketing?\\n\\n#MachineLearning #DataScience #BigData #Analytics #innovation #di…', 'truncated': False, 'entities': {'hashtags': [{'text': 'Applications', 'indices': [30, 43]}, {'text': 'AI', 'indices': [47, 50]}, {'text': 'DigitalMarketing', 'indices': [54, 71]}, {'text': 'MachineLearning', 'indices': [74, 90]}, {'text': 'DataScience', 'indices': [91, 103]}, {'text': 'BigData', 'indices': [104, 112]}, {'text': 'Analytics', 'indices': [113, 123]}, {'text': 'innovation', 'indices': [124, 135]}], 'symbols': [], 'user_mentions': [{'screen_name': 'Biocube_AI', 'name': 'BIOCUBE TECHNOLOGIES', 'id': 1423663397585920005, 'id_str': '1423663397585920005', 'indices': [3, 14]}], 'urls': []}, 'metadata': {'iso_language_code': 'en', 'result_type': 'recent'}, 'source': '<a href=\"https://twitter.com/codedailybot\" rel=\"nofollow\">codedailybot</a>', 'in_reply_to_status_id': None, 'in_reply_to_status_id_str': None, 'in_reply_to_user_id': None, 'in_reply_to_user_id_str': None, 'in_reply_to_screen_name': None, 'user': {'id': 1204128767251230720, 'id_str': '1204128767251230720', 'name': '#100daysOfCode', 'screen_name': 'codedailybot', 'location': '#codedaily', 'description': 'follow me. #100daysOfCode  #coding  #hourofcode or code related\\nmade with ❤️ + node.js by @yunkidev', 'url': None, 'entities': {'description': {'urls': []}}, 'protected': False, 'followers_count': 15063, 'friends_count': 1, 'listed_count': 146, 'created_at': 'Mon Dec 09 20:01:02 +0000 2019', 'favourites_count': 219, 'utc_offset': None, 'time_zone': None, 'geo_enabled': False, 'verified': False, 'statuses_count': 1569888, 'lang': None, 'contributors_enabled': False, 'is_translator': False, 'is_translation_enabled': False, 'profile_background_color': 'F5F8FA', 'profile_background_image_url': None, 'profile_background_image_url_https': None, 'profile_background_tile': False, 'profile_image_url': 'http://pbs.twimg.com/profile_images/1204131757534171136/Hdf5uixg_normal.png', 'profile_image_url_https': 'https://pbs.twimg.com/profile_images/1204131757534171136/Hdf5uixg_normal.png', 'profile_banner_url': 'https://pbs.twimg.com/profile_banners/1204128767251230720/1575923213', 'profile_link_color': '1DA1F2', 'profile_sidebar_border_color': 'C0DEED', 'profile_sidebar_fill_color': 'DDEEF6', 'profile_text_color': '333333', 'profile_use_background_image': True, 'has_extended_profile': False, 'default_profile': True, 'default_profile_image': False, 'following': False, 'follow_request_sent': False, 'notifications': False, 'translator_type': 'none', 'withheld_in_countries': []}, 'geo': None, 'coordinates': None, 'place': None, 'contributors': None, 'retweeted_status': {'created_at': 'Wed Jun 01 13:55:05 +0000 2022', 'id': 1531997766712324096, 'id_str': '1531997766712324096', 'text': 'What are the🔝🔟#Applications of #AI in #DigitalMarketing?\\n\\n#MachineLearning #DataScience #BigData #Analytics… https://t.co/JHgX9ZkRPG', 'truncated': True, 'entities': {'hashtags': [{'text': 'Applications', 'indices': [14, 27]}, {'text': 'AI', 'indices': [31, 34]}, {'text': 'DigitalMarketing', 'indices': [38, 55]}, {'text': 'MachineLearning', 'indices': [58, 74]}, {'text': 'DataScience', 'indices': [75, 87]}, {'text': 'BigData', 'indices': [88, 96]}, {'text': 'Analytics', 'indices': [97, 107]}], 'symbols': [], 'user_mentions': [], 'urls': [{'url': 'https://t.co/JHgX9ZkRPG', 'expanded_url': 'https://twitter.com/i/web/status/1531997766712324096', 'display_url': 'twitter.com/i/web/status/1…', 'indices': [109, 132]}]}, 'metadata': {'iso_language_code': 'en', 'result_type': 'recent'}, 'source': '<a href=\"https://mobile.twitter.com\" rel=\"nofollow\">Twitter Web App</a>', 'in_reply_to_status_id': None, 'in_reply_to_status_id_str': None, 'in_reply_to_user_id': None, 'in_reply_to_user_id_str': None, 'in_reply_to_screen_name': None, 'user': {'id': 1423663397585920005, 'id_str': '1423663397585920005', 'name': 'BIOCUBE TECHNOLOGIES', 'screen_name': 'Biocube_AI', 'location': 'India', 'description': 'Bringing Convenience, Seamless Experience & comprehensive Security to every individual’s day-to-day transaction through our innovative AI + Biometrics Platform.', 'url': 'https://t.co/S7G4d8uvSU', 'entities': {'url': {'urls': [{'url': 'https://t.co/S7G4d8uvSU', 'expanded_url': 'http://www.biocube.ai', 'display_url': 'biocube.ai', 'indices': [0, 23]}]}, 'description': {'urls': []}}, 'protected': False, 'followers_count': 64, 'friends_count': 202, 'listed_count': 0, 'created_at': 'Fri Aug 06 15:13:57 +0000 2021', 'favourites_count': 193, 'utc_offset': None, 'time_zone': None, 'geo_enabled': False, 'verified': False, 'statuses_count': 353, 'lang': None, 'contributors_enabled': False, 'is_translator': False, 'is_translation_enabled': False, 'profile_background_color': 'F5F8FA', 'profile_background_image_url': None, 'profile_background_image_url_https': None, 'profile_background_tile': False, 'profile_image_url': 'http://pbs.twimg.com/profile_images/1423665186838220802/zmIW2bzl_normal.jpg', 'profile_image_url_https': 'https://pbs.twimg.com/profile_images/1423665186838220802/zmIW2bzl_normal.jpg', 'profile_banner_url': 'https://pbs.twimg.com/profile_banners/1423663397585920005/1652947572', 'profile_link_color': '1DA1F2', 'profile_sidebar_border_color': 'C0DEED', 'profile_sidebar_fill_color': 'DDEEF6', 'profile_text_color': '333333', 'profile_use_background_image': True, 'has_extended_profile': False, 'default_profile': True, 'default_profile_image': False, 'following': False, 'follow_request_sent': False, 'notifications': False, 'translator_type': 'none', 'withheld_in_countries': []}, 'geo': None, 'coordinates': None, 'place': None, 'contributors': None, 'is_quote_status': False, 'retweet_count': 8, 'favorite_count': 4, 'favorited': False, 'retweeted': False, 'possibly_sensitive': False, 'lang': 'en'}, 'is_quote_status': False, 'retweet_count': 8, 'favorite_count': 0, 'favorited': False, 'retweeted': False, 'lang': 'en'}, {'created_at': 'Wed Jun 01 13:58:37 +0000 2022', 'id': 1531998656521445377, 'id_str': '1531998656521445377', 'text': 'RT @synctone2: Let’s see what you got?! #nft #NFTCommunity #NFTsales #musicnft #nftmusic #thankgoditsfriyay \\n#CodeNewbie #code #girlswhocod…', 'truncated': False, 'entities': {'hashtags': [{'text': 'nft', 'indices': [40, 44]}, {'text': 'NFTCommunity', 'indices': [45, 58]}, {'text': 'NFTsales', 'indices': [59, 68]}, {'text': 'musicnft', 'indices': [69, 78]}, {'text': 'nftmusic', 'indices': [79, 88]}, {'text': 'thankgoditsfriyay', 'indices': [89, 107]}, {'text': 'CodeNewbie', 'indices': [109, 120]}, {'text': 'code', 'indices': [121, 126]}], 'symbols': [], 'user_mentions': [{'screen_name': 'synctone2', 'name': 'synctone', 'id': 1361725867433619459, 'id_str': '1361725867433619459', 'indices': [3, 13]}], 'urls': []}, 'metadata': {'iso_language_code': 'en', 'result_type': 'recent'}, 'source': '<a href=\"https://twitter.com/codedailybot\" rel=\"nofollow\">codedailybot</a>', 'in_reply_to_status_id': None, 'in_reply_to_status_id_str': None, 'in_reply_to_user_id': None, 'in_reply_to_user_id_str': None, 'in_reply_to_screen_name': None, 'user': {'id': 1204128767251230720, 'id_str': '1204128767251230720', 'name': '#100daysOfCode', 'screen_name': 'codedailybot', 'location': '#codedaily', 'description': 'follow me. #100daysOfCode  #coding  #hourofcode or code related\\nmade with ❤️ + node.js by @yunkidev', 'url': None, 'entities': {'description': {'urls': []}}, 'protected': False, 'followers_count': 15063, 'friends_count': 1, 'listed_count': 146, 'created_at': 'Mon Dec 09 20:01:02 +0000 2019', 'favourites_count': 219, 'utc_offset': None, 'time_zone': None, 'geo_enabled': False, 'verified': False, 'statuses_count': 1569888, 'lang': None, 'contributors_enabled': False, 'is_translator': False, 'is_translation_enabled': False, 'profile_background_color': 'F5F8FA', 'profile_background_image_url': None, 'profile_background_image_url_https': None, 'profile_background_tile': False, 'profile_image_url': 'http://pbs.twimg.com/profile_images/1204131757534171136/Hdf5uixg_normal.png', 'profile_image_url_https': 'https://pbs.twimg.com/profile_images/1204131757534171136/Hdf5uixg_normal.png', 'profile_banner_url': 'https://pbs.twimg.com/profile_banners/1204128767251230720/1575923213', 'profile_link_color': '1DA1F2', 'profile_sidebar_border_color': 'C0DEED', 'profile_sidebar_fill_color': 'DDEEF6', 'profile_text_color': '333333', 'profile_use_background_image': True, 'has_extended_profile': False, 'default_profile': True, 'default_profile_image': False, 'following': False, 'follow_request_sent': False, 'notifications': False, 'translator_type': 'none', 'withheld_in_countries': []}, 'geo': None, 'coordinates': None, 'place': None, 'contributors': None, 'retweeted_status': {'created_at': 'Wed Jun 01 12:01:32 +0000 2022', 'id': 1531969192110526467, 'id_str': '1531969192110526467', 'text': 'Let’s see what you got?! #nft #NFTCommunity #NFTsales #musicnft #nftmusic #thankgoditsfriyay \\n#CodeNewbie #code… https://t.co/AmndaY3Ywp', 'truncated': True, 'entities': {'hashtags': [{'text': 'nft', 'indices': [25, 29]}, {'text': 'NFTCommunity', 'indices': [30, 43]}, {'text': 'NFTsales', 'indices': [44, 53]}, {'text': 'musicnft', 'indices': [54, 63]}, {'text': 'nftmusic', 'indices': [64, 73]}, {'text': 'thankgoditsfriyay', 'indices': [74, 92]}, {'text': 'CodeNewbie', 'indices': [94, 105]}, {'text': 'code', 'indices': [106, 111]}], 'symbols': [], 'user_mentions': [], 'urls': [{'url': 'https://t.co/AmndaY3Ywp', 'expanded_url': 'https://twitter.com/i/web/status/1531969192110526467', 'display_url': 'twitter.com/i/web/status/1…', 'indices': [113, 136]}]}, 'metadata': {'iso_language_code': 'en', 'result_type': 'recent'}, 'source': '<a href=\"http://twitter.com/download/iphone\" rel=\"nofollow\">Twitter for iPhone</a>', 'in_reply_to_status_id': None, 'in_reply_to_status_id_str': None, 'in_reply_to_user_id': None, 'in_reply_to_user_id_str': None, 'in_reply_to_screen_name': None, 'user': {'id': 1361725867433619459, 'id_str': '1361725867433619459', 'name': 'synctone', 'screen_name': 'synctone2', 'location': 'https://thankgoditsfriyay.com', 'description': 'Funk/Dance artist with the flare for cranking on the dance floor.', 'url': 'https://t.co/AY7jZl1Jau', 'entities': {'url': {'urls': [{'url': 'https://t.co/AY7jZl1Jau', 'expanded_url': 'https://opensea.io/collection/thank-god-its-friyay', 'display_url': 'opensea.io/collection/tha…', 'indices': [0, 23]}]}, 'description': {'urls': []}}, 'protected': False, 'followers_count': 6205, 'friends_count': 1148, 'listed_count': 9, 'created_at': 'Tue Feb 16 17:15:46 +0000 2021', 'favourites_count': 2357, 'utc_offset': None, 'time_zone': None, 'geo_enabled': False, 'verified': False, 'statuses_count': 423, 'lang': None, 'contributors_enabled': False, 'is_translator': False, 'is_translation_enabled': False, 'profile_background_color': 'F5F8FA', 'profile_background_image_url': None, 'profile_background_image_url_https': None, 'profile_background_tile': False, 'profile_image_url': 'http://pbs.twimg.com/profile_images/1368653998195150848/R9dy5D0j_normal.jpg', 'profile_image_url_https': 'https://pbs.twimg.com/profile_images/1368653998195150848/R9dy5D0j_normal.jpg', 'profile_banner_url': 'https://pbs.twimg.com/profile_banners/1361725867433619459/1613495891', 'profile_link_color': '1DA1F2', 'profile_sidebar_border_color': 'C0DEED', 'profile_sidebar_fill_color': 'DDEEF6', 'profile_text_color': '333333', 'profile_use_background_image': True, 'has_extended_profile': True, 'default_profile': True, 'default_profile_image': False, 'following': False, 'follow_request_sent': False, 'notifications': False, 'translator_type': 'none', 'withheld_in_countries': []}, 'geo': None, 'coordinates': None, 'place': None, 'contributors': None, 'is_quote_status': False, 'retweet_count': 6, 'favorite_count': 5, 'favorited': False, 'retweeted': False, 'lang': 'en'}, 'is_quote_status': False, 'retweet_count': 6, 'favorite_count': 0, 'favorited': False, 'retweeted': False, 'lang': 'en'}, {'created_at': 'Wed Jun 01 13:58:37 +0000 2022', 'id': 1531998656508874754, 'id_str': '1531998656508874754', 'text': 'RT @Biocube_AI: What are the🔝🔟#Applications of #AI in #DigitalMarketing?\\n\\n#MachineLearning #DataScience #BigData #Analytics #innovation #di…', 'truncated': False, 'entities': {'hashtags': [{'text': 'Applications', 'indices': [30, 43]}, {'text': 'AI', 'indices': [47, 50]}, {'text': 'DigitalMarketing', 'indices': [54, 71]}, {'text': 'MachineLearning', 'indices': [74, 90]}, {'text': 'DataScience', 'indices': [91, 103]}, {'text': 'BigData', 'indices': [104, 112]}, {'text': 'Analytics', 'indices': [113, 123]}, {'text': 'innovation', 'indices': [124, 135]}], 'symbols': [], 'user_mentions': [{'screen_name': 'Biocube_AI', 'name': 'BIOCUBE TECHNOLOGIES', 'id': 1423663397585920005, 'id_str': '1423663397585920005', 'indices': [3, 14]}], 'urls': []}, 'metadata': {'iso_language_code': 'en', 'result_type': 'recent'}, 'source': '<a href=\"https://twitter.com/codedailybot\" rel=\"nofollow\">codedailybot</a>', 'in_reply_to_status_id': None, 'in_reply_to_status_id_str': None, 'in_reply_to_user_id': None, 'in_reply_to_user_id_str': None, 'in_reply_to_screen_name': None, 'user': {'id': 1204128767251230720, 'id_str': '1204128767251230720', 'name': '#100daysOfCode', 'screen_name': 'codedailybot', 'location': '#codedaily', 'description': 'follow me. #100daysOfCode  #coding  #hourofcode or code related\\nmade with ❤️ + node.js by @yunkidev', 'url': None, 'entities': {'description': {'urls': []}}, 'protected': False, 'followers_count': 15063, 'friends_count': 1, 'listed_count': 146, 'created_at': 'Mon Dec 09 20:01:02 +0000 2019', 'favourites_count': 219, 'utc_offset': None, 'time_zone': None, 'geo_enabled': False, 'verified': False, 'statuses_count': 1569888, 'lang': None, 'contributors_enabled': False, 'is_translator': False, 'is_translation_enabled': False, 'profile_background_color': 'F5F8FA', 'profile_background_image_url': None, 'profile_background_image_url_https': None, 'profile_background_tile': False, 'profile_image_url': 'http://pbs.twimg.com/profile_images/1204131757534171136/Hdf5uixg_normal.png', 'profile_image_url_https': 'https://pbs.twimg.com/profile_images/1204131757534171136/Hdf5uixg_normal.png', 'profile_banner_url': 'https://pbs.twimg.com/profile_banners/1204128767251230720/1575923213', 'profile_link_color': '1DA1F2', 'profile_sidebar_border_color': 'C0DEED', 'profile_sidebar_fill_color': 'DDEEF6', 'profile_text_color': '333333', 'profile_use_background_image': True, 'has_extended_profile': False, 'default_profile': True, 'default_profile_image': False, 'following': False, 'follow_request_sent': False, 'notifications': False, 'translator_type': 'none', 'withheld_in_countries': []}, 'geo': None, 'coordinates': None, 'place': None, 'contributors': None, 'retweeted_status': {'created_at': 'Wed Jun 01 13:55:05 +0000 2022', 'id': 1531997766712324096, 'id_str': '1531997766712324096', 'text': 'What are the🔝🔟#Applications of #AI in #DigitalMarketing?\\n\\n#MachineLearning #DataScience #BigData #Analytics… https://t.co/JHgX9ZkRPG', 'truncated': True, 'entities': {'hashtags': [{'text': 'Applications', 'indices': [14, 27]}, {'text': 'AI', 'indices': [31, 34]}, {'text': 'DigitalMarketing', 'indices': [38, 55]}, {'text': 'MachineLearning', 'indices': [58, 74]}, {'text': 'DataScience', 'indices': [75, 87]}, {'text': 'BigData', 'indices': [88, 96]}, {'text': 'Analytics', 'indices': [97, 107]}], 'symbols': [], 'user_mentions': [], 'urls': [{'url': 'https://t.co/JHgX9ZkRPG', 'expanded_url': 'https://twitter.com/i/web/status/1531997766712324096', 'display_url': 'twitter.com/i/web/status/1…', 'indices': [109, 132]}]}, 'metadata': {'iso_language_code': 'en', 'result_type': 'recent'}, 'source': '<a href=\"https://mobile.twitter.com\" rel=\"nofollow\">Twitter Web App</a>', 'in_reply_to_status_id': None, 'in_reply_to_status_id_str': None, 'in_reply_to_user_id': None, 'in_reply_to_user_id_str': None, 'in_reply_to_screen_name': None, 'user': {'id': 1423663397585920005, 'id_str': '1423663397585920005', 'name': 'BIOCUBE TECHNOLOGIES', 'screen_name': 'Biocube_AI', 'location': 'India', 'description': 'Bringing Convenience, Seamless Experience & comprehensive Security to every individual’s day-to-day transaction through our innovative AI + Biometrics Platform.', 'url': 'https://t.co/S7G4d8uvSU', 'entities': {'url': {'urls': [{'url': 'https://t.co/S7G4d8uvSU', 'expanded_url': 'http://www.biocube.ai', 'display_url': 'biocube.ai', 'indices': [0, 23]}]}, 'description': {'urls': []}}, 'protected': False, 'followers_count': 64, 'friends_count': 202, 'listed_count': 0, 'created_at': 'Fri Aug 06 15:13:57 +0000 2021', 'favourites_count': 193, 'utc_offset': None, 'time_zone': None, 'geo_enabled': False, 'verified': False, 'statuses_count': 353, 'lang': None, 'contributors_enabled': False, 'is_translator': False, 'is_translation_enabled': False, 'profile_background_color': 'F5F8FA', 'profile_background_image_url': None, 'profile_background_image_url_https': None, 'profile_background_tile': False, 'profile_image_url': 'http://pbs.twimg.com/profile_images/1423665186838220802/zmIW2bzl_normal.jpg', 'profile_image_url_https': 'https://pbs.twimg.com/profile_images/1423665186838220802/zmIW2bzl_normal.jpg', 'profile_banner_url': 'https://pbs.twimg.com/profile_banners/1423663397585920005/1652947572', 'profile_link_color': '1DA1F2', 'profile_sidebar_border_color': 'C0DEED', 'profile_sidebar_fill_color': 'DDEEF6', 'profile_text_color': '333333', 'profile_use_background_image': True, 'has_extended_profile': False, 'default_profile': True, 'default_profile_image': False, 'following': False, 'follow_request_sent': False, 'notifications': False, 'translator_type': 'none', 'withheld_in_countries': []}, 'geo': None, 'coordinates': None, 'place': None, 'contributors': None, 'is_quote_status': False, 'retweet_count': 8, 'favorite_count': 4, 'favorited': False, 'retweeted': False, 'possibly_sensitive': False, 'lang': 'en'}, 'is_quote_status': False, 'retweet_count': 8, 'favorite_count': 0, 'favorited': False, 'retweeted': False, 'lang': 'en'}, {'created_at': 'Wed Jun 01 13:58:37 +0000 2022', 'id': 1531998656500482048, 'id_str': '1531998656500482048', 'text': 'RT @aroramrinaal25: Day-26 of #100DaysOfCode \\n-&gt;Get Route Parameter Input from the Client\\n-&gt;Use body-parser to Parse POST Requests\\n-&gt;Get Da…', 'truncated': False, 'entities': {'hashtags': [{'text': '100DaysOfCode', 'indices': [30, 44]}], 'symbols': [], 'user_mentions': [{'screen_name': 'aroramrinaal25', 'name': 'Mrinaal Arora', 'id': 1434063250027532288, 'id_str': '1434063250027532288', 'indices': [3, 18]}], 'urls': []}, 'metadata': {'iso_language_code': 'en', 'result_type': 'recent'}, 'source': '<a href=\"https://twitter.com/codedailybot\" rel=\"nofollow\">codedailybot</a>', 'in_reply_to_status_id': None, 'in_reply_to_status_id_str': None, 'in_reply_to_user_id': None, 'in_reply_to_user_id_str': None, 'in_reply_to_screen_name': None, 'user': {'id': 1204128767251230720, 'id_str': '1204128767251230720', 'name': '#100daysOfCode', 'screen_name': 'codedailybot', 'location': '#codedaily', 'description': 'follow me. #100daysOfCode  #coding  #hourofcode or code related\\nmade with ❤️ + node.js by @yunkidev', 'url': None, 'entities': {'description': {'urls': []}}, 'protected': False, 'followers_count': 15063, 'friends_count': 1, 'listed_count': 146, 'created_at': 'Mon Dec 09 20:01:02 +0000 2019', 'favourites_count': 219, 'utc_offset': None, 'time_zone': None, 'geo_enabled': False, 'verified': False, 'statuses_count': 1569888, 'lang': None, 'contributors_enabled': False, 'is_translator': False, 'is_translation_enabled': False, 'profile_background_color': 'F5F8FA', 'profile_background_image_url': None, 'profile_background_image_url_https': None, 'profile_background_tile': False, 'profile_image_url': 'http://pbs.twimg.com/profile_images/1204131757534171136/Hdf5uixg_normal.png', 'profile_image_url_https': 'https://pbs.twimg.com/profile_images/1204131757534171136/Hdf5uixg_normal.png', 'profile_banner_url': 'https://pbs.twimg.com/profile_banners/1204128767251230720/1575923213', 'profile_link_color': '1DA1F2', 'profile_sidebar_border_color': 'C0DEED', 'profile_sidebar_fill_color': 'DDEEF6', 'profile_text_color': '333333', 'profile_use_background_image': True, 'has_extended_profile': False, 'default_profile': True, 'default_profile_image': False, 'following': False, 'follow_request_sent': False, 'notifications': False, 'translator_type': 'none', 'withheld_in_countries': []}, 'geo': None, 'coordinates': None, 'place': None, 'contributors': None, 'retweeted_status': {'created_at': 'Wed Jun 01 13:30:02 +0000 2022', 'id': 1531991464427024384, 'id_str': '1531991464427024384', 'text': 'Day-26 of #100DaysOfCode \\n-&gt;Get Route Parameter Input from the Client\\n-&gt;Use body-parser to Parse POST Requests\\n-&gt;Ge… https://t.co/tX3GTgzHeW', 'truncated': True, 'entities': {'hashtags': [{'text': '100DaysOfCode', 'indices': [10, 24]}], 'symbols': [], 'user_mentions': [], 'urls': [{'url': 'https://t.co/tX3GTgzHeW', 'expanded_url': 'https://twitter.com/i/web/status/1531991464427024384', 'display_url': 'twitter.com/i/web/status/1…', 'indices': [126, 149]}]}, 'metadata': {'iso_language_code': 'en', 'result_type': 'recent'}, 'source': '<a href=\"https://mobile.twitter.com\" rel=\"nofollow\">Twitter Web App</a>', 'in_reply_to_status_id': None, 'in_reply_to_status_id_str': None, 'in_reply_to_user_id': None, 'in_reply_to_user_id_str': None, 'in_reply_to_screen_name': None, 'user': {'id': 1434063250027532288, 'id_str': '1434063250027532288', 'name': 'Mrinaal Arora', 'screen_name': 'aroramrinaal25', 'location': 'Mumbai, India', 'description': 'Tech Twitter📲  | #100DaysOfCode | New to Coding.', 'url': 'https://t.co/h4nO9pRGnR', 'entities': {'url': {'urls': [{'url': 'https://t.co/h4nO9pRGnR', 'expanded_url': 'https://linktr.ee/aroramrinaal', 'display_url': 'linktr.ee/aroramrinaal', 'indices': [0, 23]}]}, 'description': {'urls': []}}, 'protected': False, 'followers_count': 43, 'friends_count': 2, 'listed_count': 1, 'created_at': 'Sat Sep 04 07:58:25 +0000 2021', 'favourites_count': 534, 'utc_offset': None, 'time_zone': None, 'geo_enabled': False, 'verified': False, 'statuses_count': 193, 'lang': None, 'contributors_enabled': False, 'is_translator': False, 'is_translation_enabled': False, 'profile_background_color': 'F5F8FA', 'profile_background_image_url': None, 'profile_background_image_url_https': None, 'profile_background_tile': False, 'profile_image_url': 'http://pbs.twimg.com/profile_images/1500373671890022400/y0q5UDSh_normal.jpg', 'profile_image_url_https': 'https://pbs.twimg.com/profile_images/1500373671890022400/y0q5UDSh_normal.jpg', 'profile_banner_url': 'https://pbs.twimg.com/profile_banners/1434063250027532288/1646551972', 'profile_link_color': '1DA1F2', 'profile_sidebar_border_color': 'C0DEED', 'profile_sidebar_fill_color': 'DDEEF6', 'profile_text_color': '333333', 'profile_use_background_image': True, 'has_extended_profile': True, 'default_profile': True, 'default_profile_image': False, 'following': False, 'follow_request_sent': False, 'notifications': False, 'translator_type': 'none', 'withheld_in_countries': []}, 'geo': None, 'coordinates': None, 'place': None, 'contributors': None, 'is_quote_status': False, 'retweet_count': 17, 'favorite_count': 7, 'favorited': False, 'retweeted': False, 'possibly_sensitive': False, 'lang': 'en'}, 'is_quote_status': False, 'retweet_count': 17, 'favorite_count': 0, 'favorited': False, 'retweeted': False, 'lang': 'en'}, {'created_at': 'Wed Jun 01 13:58:37 +0000 2022', 'id': 1531998656483799042, 'id_str': '1531998656483799042', 'text': 'RT @synctone2: Let’s see what you got?! #nft #NFTCommunity #NFTsales #musicnft #nftmusic #thankgoditsfriyay \\n#CodeNewbie #code #girlswhocod…', 'truncated': False, 'entities': {'hashtags': [{'text': 'nft', 'indices': [40, 44]}, {'text': 'NFTCommunity', 'indices': [45, 58]}, {'text': 'NFTsales', 'indices': [59, 68]}, {'text': 'musicnft', 'indices': [69, 78]}, {'text': 'nftmusic', 'indices': [79, 88]}, {'text': 'thankgoditsfriyay', 'indices': [89, 107]}, {'text': 'CodeNewbie', 'indices': [109, 120]}, {'text': 'code', 'indices': [121, 126]}], 'symbols': [], 'user_mentions': [{'screen_name': 'synctone2', 'name': 'synctone', 'id': 1361725867433619459, 'id_str': '1361725867433619459', 'indices': [3, 13]}], 'urls': []}, 'metadata': {'iso_language_code': 'en', 'result_type': 'recent'}, 'source': '<a href=\"https://twitter.com/codedailybot\" rel=\"nofollow\">codedailybot</a>', 'in_reply_to_status_id': None, 'in_reply_to_status_id_str': None, 'in_reply_to_user_id': None, 'in_reply_to_user_id_str': None, 'in_reply_to_screen_name': None, 'user': {'id': 1204128767251230720, 'id_str': '1204128767251230720', 'name': '#100daysOfCode', 'screen_name': 'codedailybot', 'location': '#codedaily', 'description': 'follow me. #100daysOfCode  #coding  #hourofcode or code related\\nmade with ❤️ + node.js by @yunkidev', 'url': None, 'entities': {'description': {'urls': []}}, 'protected': False, 'followers_count': 15063, 'friends_count': 1, 'listed_count': 146, 'created_at': 'Mon Dec 09 20:01:02 +0000 2019', 'favourites_count': 219, 'utc_offset': None, 'time_zone': None, 'geo_enabled': False, 'verified': False, 'statuses_count': 1569888, 'lang': None, 'contributors_enabled': False, 'is_translator': False, 'is_translation_enabled': False, 'profile_background_color': 'F5F8FA', 'profile_background_image_url': None, 'profile_background_image_url_https': None, 'profile_background_tile': False, 'profile_image_url': 'http://pbs.twimg.com/profile_images/1204131757534171136/Hdf5uixg_normal.png', 'profile_image_url_https': 'https://pbs.twimg.com/profile_images/1204131757534171136/Hdf5uixg_normal.png', 'profile_banner_url': 'https://pbs.twimg.com/profile_banners/1204128767251230720/1575923213', 'profile_link_color': '1DA1F2', 'profile_sidebar_border_color': 'C0DEED', 'profile_sidebar_fill_color': 'DDEEF6', 'profile_text_color': '333333', 'profile_use_background_image': True, 'has_extended_profile': False, 'default_profile': True, 'default_profile_image': False, 'following': False, 'follow_request_sent': False, 'notifications': False, 'translator_type': 'none', 'withheld_in_countries': []}, 'geo': None, 'coordinates': None, 'place': None, 'contributors': None, 'retweeted_status': {'created_at': 'Wed Jun 01 12:01:32 +0000 2022', 'id': 1531969192110526467, 'id_str': '1531969192110526467', 'text': 'Let’s see what you got?! #nft #NFTCommunity #NFTsales #musicnft #nftmusic #thankgoditsfriyay \\n#CodeNewbie #code… https://t.co/AmndaY3Ywp', 'truncated': True, 'entities': {'hashtags': [{'text': 'nft', 'indices': [25, 29]}, {'text': 'NFTCommunity', 'indices': [30, 43]}, {'text': 'NFTsales', 'indices': [44, 53]}, {'text': 'musicnft', 'indices': [54, 63]}, {'text': 'nftmusic', 'indices': [64, 73]}, {'text': 'thankgoditsfriyay', 'indices': [74, 92]}, {'text': 'CodeNewbie', 'indices': [94, 105]}, {'text': 'code', 'indices': [106, 111]}], 'symbols': [], 'user_mentions': [], 'urls': [{'url': 'https://t.co/AmndaY3Ywp', 'expanded_url': 'https://twitter.com/i/web/status/1531969192110526467', 'display_url': 'twitter.com/i/web/status/1…', 'indices': [113, 136]}]}, 'metadata': {'iso_language_code': 'en', 'result_type': 'recent'}, 'source': '<a href=\"http://twitter.com/download/iphone\" rel=\"nofollow\">Twitter for iPhone</a>', 'in_reply_to_status_id': None, 'in_reply_to_status_id_str': None, 'in_reply_to_user_id': None, 'in_reply_to_user_id_str': None, 'in_reply_to_screen_name': None, 'user': {'id': 1361725867433619459, 'id_str': '1361725867433619459', 'name': 'synctone', 'screen_name': 'synctone2', 'location': 'https://thankgoditsfriyay.com', 'description': 'Funk/Dance artist with the flare for cranking on the dance floor.', 'url': 'https://t.co/AY7jZl1Jau', 'entities': {'url': {'urls': [{'url': 'https://t.co/AY7jZl1Jau', 'expanded_url': 'https://opensea.io/collection/thank-god-its-friyay', 'display_url': 'opensea.io/collection/tha…', 'indices': [0, 23]}]}, 'description': {'urls': []}}, 'protected': False, 'followers_count': 6205, 'friends_count': 1148, 'listed_count': 9, 'created_at': 'Tue Feb 16 17:15:46 +0000 2021', 'favourites_count': 2357, 'utc_offset': None, 'time_zone': None, 'geo_enabled': False, 'verified': False, 'statuses_count': 423, 'lang': None, 'contributors_enabled': False, 'is_translator': False, 'is_translation_enabled': False, 'profile_background_color': 'F5F8FA', 'profile_background_image_url': None, 'profile_background_image_url_https': None, 'profile_background_tile': False, 'profile_image_url': 'http://pbs.twimg.com/profile_images/1368653998195150848/R9dy5D0j_normal.jpg', 'profile_image_url_https': 'https://pbs.twimg.com/profile_images/1368653998195150848/R9dy5D0j_normal.jpg', 'profile_banner_url': 'https://pbs.twimg.com/profile_banners/1361725867433619459/1613495891', 'profile_link_color': '1DA1F2', 'profile_sidebar_border_color': 'C0DEED', 'profile_sidebar_fill_color': 'DDEEF6', 'profile_text_color': '333333', 'profile_use_background_image': True, 'has_extended_profile': True, 'default_profile': True, 'default_profile_image': False, 'following': False, 'follow_request_sent': False, 'notifications': False, 'translator_type': 'none', 'withheld_in_countries': []}, 'geo': None, 'coordinates': None, 'place': None, 'contributors': None, 'is_quote_status': False, 'retweet_count': 6, 'favorite_count': 5, 'favorited': False, 'retweeted': False, 'lang': 'en'}, 'is_quote_status': False, 'retweet_count': 6, 'favorite_count': 0, 'favorited': False, 'retweeted': False, 'lang': 'en'}, {'created_at': 'Wed Jun 01 13:58:36 +0000 2022', 'id': 1531998654009065473, 'id_str': '1531998654009065473', 'text': 'RT @abumohsenpour: ⚪️TEIA DROP! #tezos\\n\\n\"Kepler-186f\" Kepler-186f\" is the first computerized Exoplanet rendered and generated in real-time…', 'truncated': False, 'entities': {'hashtags': [{'text': 'tezos', 'indices': [32, 38]}], 'symbols': [], 'user_mentions': [{'screen_name': 'abumohsenpour', 'name': 'Arsalan Aboomohsenpour', 'id': 1041513872, 'id_str': '1041513872', 'indices': [3, 17]}], 'urls': []}, 'metadata': {'iso_language_code': 'en', 'result_type': 'recent'}, 'source': '<a href=\"https://help.twitter.com/en/using-twitter/how-to-tweet#source-labels\" rel=\"nofollow\">p5t</a>', 'in_reply_to_status_id': None, 'in_reply_to_status_id_str': None, 'in_reply_to_user_id': None, 'in_reply_to_user_id_str': None, 'in_reply_to_screen_name': None, 'user': {'id': 1329393355554426882, 'id_str': '1329393355554426882', 'name': 'p5tbot', 'screen_name': 'p5tbot1', 'location': '', 'description': 'Retweetin all sort of #creativecoding #plottertwitter #p5t etc', 'url': None, 'entities': {'description': {'urls': []}}, 'protected': False, 'followers_count': 1232, 'friends_count': 1, 'listed_count': 31, 'created_at': 'Thu Nov 19 11:57:38 +0000 2020', 'favourites_count': 0, 'utc_offset': None, 'time_zone': None, 'geo_enabled': False, 'verified': False, 'statuses_count': 158029, 'lang': None, 'contributors_enabled': False, 'is_translator': False, 'is_translation_enabled': False, 'profile_background_color': 'F5F8FA', 'profile_background_image_url': None, 'profile_background_image_url_https': None, 'profile_background_tile': False, 'profile_image_url': 'http://pbs.twimg.com/profile_images/1329842214239936513/0BTywfwK_normal.jpg', 'profile_image_url_https': 'https://pbs.twimg.com/profile_images/1329842214239936513/0BTywfwK_normal.jpg', 'profile_banner_url': 'https://pbs.twimg.com/profile_banners/1329393355554426882/1605894124', 'profile_link_color': '1DA1F2', 'profile_sidebar_border_color': 'C0DEED', 'profile_sidebar_fill_color': 'DDEEF6', 'profile_text_color': '333333', 'profile_use_background_image': True, 'has_extended_profile': True, 'default_profile': True, 'default_profile_image': False, 'following': False, 'follow_request_sent': False, 'notifications': False, 'translator_type': 'none', 'withheld_in_countries': []}, 'geo': None, 'coordinates': None, 'place': None, 'contributors': None, 'retweeted_status': {'created_at': 'Wed Jun 01 13:41:30 +0000 2022', 'id': 1531994349239681024, 'id_str': '1531994349239681024', 'text': '⚪️TEIA DROP! #tezos\\n\\n\"Kepler-186f\" Kepler-186f\" is the first computerized Exoplanet rendered and generated in real-… https://t.co/fXOLKMYeOV', 'truncated': True, 'entities': {'hashtags': [{'text': 'tezos', 'indices': [13, 19]}], 'symbols': [], 'user_mentions': [], 'urls': [{'url': 'https://t.co/fXOLKMYeOV', 'expanded_url': 'https://twitter.com/i/web/status/1531994349239681024', 'display_url': 'twitter.com/i/web/status/1…', 'indices': [117, 140]}]}, 'metadata': {'iso_language_code': 'en', 'result_type': 'recent'}, 'source': '<a href=\"https://mobile.twitter.com\" rel=\"nofollow\">Twitter Web App</a>', 'in_reply_to_status_id': None, 'in_reply_to_status_id_str': None, 'in_reply_to_user_id': None, 'in_reply_to_user_id_str': None, 'in_reply_to_screen_name': None, 'user': {'id': 1041513872, 'id_str': '1041513872', 'name': 'Arsalan Aboomohsenpour', 'screen_name': 'abumohsenpour', 'location': 'Iran, Tehran', 'description': 'Algorithming\\nhttps://t.co/2aIDWiMt19', 'url': 'https://t.co/OeN7DEEIua', 'entities': {'url': {'urls': [{'url': 'https://t.co/OeN7DEEIua', 'expanded_url': 'http://linktr.ee/Abumohsenpour', 'display_url': 'linktr.ee/Abumohsenpour', 'indices': [0, 23]}]}, 'description': {'urls': [{'url': 'https://t.co/2aIDWiMt19', 'expanded_url': 'http://teia.art/abumohsenpour', 'display_url': 'teia.art/abumohsenpour', 'indices': [13, 36]}]}}, 'protected': False, 'followers_count': 2107, 'friends_count': 3005, 'listed_count': 24, 'created_at': 'Fri Dec 28 06:41:10 +0000 2012', 'favourites_count': 7226, 'utc_offset': None, 'time_zone': None, 'geo_enabled': True, 'verified': False, 'statuses_count': 11031, 'lang': None, 'contributors_enabled': False, 'is_translator': False, 'is_translation_enabled': False, 'profile_background_color': '000000', 'profile_background_image_url': 'http://abs.twimg.com/images/themes/theme18/bg.gif', 'profile_background_image_url_https': 'https://abs.twimg.com/images/themes/theme18/bg.gif', 'profile_background_tile': True, 'profile_image_url': 'http://pbs.twimg.com/profile_images/1482880090597900291/Jb0wPdUo_normal.jpg', 'profile_image_url_https': 'https://pbs.twimg.com/profile_images/1482880090597900291/Jb0wPdUo_normal.jpg', 'profile_banner_url': 'https://pbs.twimg.com/profile_banners/1041513872/1653564277', 'profile_link_color': '000000', 'profile_sidebar_border_color': '000000', 'profile_sidebar_fill_color': '000000', 'profile_text_color': '000000', 'profile_use_background_image': True, 'has_extended_profile': False, 'default_profile': False, 'default_profile_image': False, 'following': False, 'follow_request_sent': False, 'notifications': False, 'translator_type': 'none', 'withheld_in_countries': []}, 'geo': None, 'coordinates': None, 'place': None, 'contributors': None, 'is_quote_status': False, 'retweet_count': 6, 'favorite_count': 6, 'favorited': False, 'retweeted': False, 'possibly_sensitive': False, 'lang': 'en'}, 'is_quote_status': False, 'retweet_count': 6, 'favorite_count': 0, 'favorited': False, 'retweeted': False, 'lang': 'en'}, {'created_at': 'Wed Jun 01 13:58:28 +0000 2022', 'id': 1531998620207177733, 'id_str': '1531998620207177733', 'text': 'RT @YuHelenYu: Type of #cryptography and use case\\n\\n#blockchain #AI #Mathematics #DataSecurity #dataScientist #quantum #DataAnalytics #Pytho…', 'truncated': False, 'entities': {'hashtags': [{'text': 'cryptography', 'indices': [23, 36]}, {'text': 'blockchain', 'indices': [51, 62]}, {'text': 'AI', 'indices': [63, 66]}, {'text': 'Mathematics', 'indices': [67, 79]}, {'text': 'DataSecurity', 'indices': [80, 93]}, {'text': 'dataScientist', 'indices': [94, 108]}, {'text': 'quantum', 'indices': [109, 117]}, {'text': 'DataAnalytics', 'indices': [118, 132]}], 'symbols': [], 'user_mentions': [{'screen_name': 'YuHelenYu', 'name': 'Helen Yu', 'id': 839338759330152453, 'id_str': '839338759330152453', 'indices': [3, 13]}], 'urls': []}, 'metadata': {'iso_language_code': 'en', 'result_type': 'recent'}, 'source': '<a href=\"http://www.website.com\" rel=\"nofollow\">javascript-twitter-bot</a>', 'in_reply_to_status_id': None, 'in_reply_to_status_id_str': None, 'in_reply_to_user_id': None, 'in_reply_to_user_id_str': None, 'in_reply_to_screen_name': None, 'user': {'id': 826097054342594560, 'id_str': '826097054342594560', 'name': 'JavaScript Tweets', 'screen_name': 'JSTweetsBot', 'location': '', 'description': '', 'url': None, 'entities': {'description': {'urls': []}}, 'protected': False, 'followers_count': 1452, 'friends_count': 579, 'listed_count': 54, 'created_at': 'Mon Jan 30 15:57:40 +0000 2017', 'favourites_count': 0, 'utc_offset': None, 'time_zone': None, 'geo_enabled': False, 'verified': False, 'statuses_count': 42213, 'lang': None, 'contributors_enabled': False, 'is_translator': False, 'is_translation_enabled': False, 'profile_background_color': 'F5F8FA', 'profile_background_image_url': None, 'profile_background_image_url_https': None, 'profile_background_tile': False, 'profile_image_url': 'http://pbs.twimg.com/profile_images/826458534049173504/0LKKW4Vs_normal.jpg', 'profile_image_url_https': 'https://pbs.twimg.com/profile_images/826458534049173504/0LKKW4Vs_normal.jpg', 'profile_link_color': '1DA1F2', 'profile_sidebar_border_color': 'C0DEED', 'profile_sidebar_fill_color': 'DDEEF6', 'profile_text_color': '333333', 'profile_use_background_image': True, 'has_extended_profile': False, 'default_profile': True, 'default_profile_image': False, 'following': False, 'follow_request_sent': False, 'notifications': False, 'translator_type': 'none', 'withheld_in_countries': []}, 'geo': None, 'coordinates': None, 'place': None, 'contributors': None, 'retweeted_status': {'created_at': 'Wed Feb 23 05:52:54 +0000 2022', 'id': 1496362410357276675, 'id_str': '1496362410357276675', 'text': 'Type of #cryptography and use case\\n\\n#blockchain #AI #Mathematics #DataSecurity #dataScientist #quantum… https://t.co/jqbbD8XW1h', 'truncated': True, 'entities': {'hashtags': [{'text': 'cryptography', 'indices': [8, 21]}, {'text': 'blockchain', 'indices': [36, 47]}, {'text': 'AI', 'indices': [48, 51]}, {'text': 'Mathematics', 'indices': [52, 64]}, {'text': 'DataSecurity', 'indices': [65, 78]}, {'text': 'dataScientist', 'indices': [79, 93]}, {'text': 'quantum', 'indices': [94, 102]}], 'symbols': [], 'user_mentions': [], 'urls': [{'url': 'https://t.co/jqbbD8XW1h', 'expanded_url': 'https://twitter.com/i/web/status/1496362410357276675', 'display_url': 'twitter.com/i/web/status/1…', 'indices': [104, 127]}]}, 'metadata': {'iso_language_code': 'en', 'result_type': 'recent'}, 'source': '<a href=\"https://mobile.twitter.com\" rel=\"nofollow\">Twitter Web App</a>', 'in_reply_to_status_id': None, 'in_reply_to_status_id_str': None, 'in_reply_to_user_id': None, 'in_reply_to_user_id_str': None, 'in_reply_to_screen_name': None, 'user': {'id': 839338759330152453, 'id_str': '839338759330152453', 'name': 'Helen Yu', 'screen_name': 'YuHelenYu', 'location': 'Chicago, IL', 'description': '#DigitalTransformation obsessed #CXO and #GrowthHacker. Find me at the intersection of #Tech and #Humanity. #AI #Blockchain #FinTech #CX #IoT #CyberSecurity', 'url': 'https://t.co/4CzULp96pM', 'entities': {'url': {'urls': [{'url': 'https://t.co/4CzULp96pM', 'expanded_url': 'https://www.linkedin.com/in/tigonhyu/', 'display_url': 'linkedin.com/in/tigonhyu/', 'indices': [0, 23]}]}, 'description': {'urls': []}}, 'protected': False, 'followers_count': 43874, 'friends_count': 17672, 'listed_count': 626, 'created_at': 'Wed Mar 08 04:55:29 +0000 2017', 'favourites_count': 24072, 'utc_offset': None, 'time_zone': None, 'geo_enabled': True, 'verified': False, 'statuses_count': 25177, 'lang': None, 'contributors_enabled': False, 'is_translator': False, 'is_translation_enabled': False, 'profile_background_color': '000000', 'profile_background_image_url': 'http://abs.twimg.com/images/themes/theme1/bg.png', 'profile_background_image_url_https': 'https://abs.twimg.com/images/themes/theme1/bg.png', 'profile_background_tile': False, 'profile_image_url': 'http://pbs.twimg.com/profile_images/1421532831839399944/c-Wl32LB_normal.jpg', 'profile_image_url_https': 'https://pbs.twimg.com/profile_images/1421532831839399944/c-Wl32LB_normal.jpg', 'profile_banner_url': 'https://pbs.twimg.com/profile_banners/839338759330152453/1627965364', 'profile_link_color': '19CF86', 'profile_sidebar_border_color': '000000', 'profile_sidebar_fill_color': '000000', 'profile_text_color': '000000', 'profile_use_background_image': False, 'has_extended_profile': False, 'default_profile': False, 'default_profile_image': False, 'following': False, 'follow_request_sent': False, 'notifications': False, 'translator_type': 'none', 'withheld_in_countries': []}, 'geo': None, 'coordinates': None, 'place': None, 'contributors': None, 'is_quote_status': False, 'retweet_count': 119, 'favorite_count': 113, 'favorited': False, 'retweeted': False, 'possibly_sensitive': False, 'lang': 'en'}, 'is_quote_status': False, 'retweet_count': 119, 'favorite_count': 0, 'favorited': False, 'retweeted': False, 'lang': 'en'}, {'created_at': 'Wed Jun 01 13:58:26 +0000 2022', 'id': 1531998610316898306, 'id_str': '1531998610316898306', 'text': 'RT @synctone2: Let’s see what you got?! #nft #NFTCommunity #NFTsales #musicnft #nftmusic #thankgoditsfriyay \\n#CodeNewbie #code #girlswhocod…', 'truncated': False, 'entities': {'hashtags': [{'text': 'nft', 'indices': [40, 44]}, {'text': 'NFTCommunity', 'indices': [45, 58]}, {'text': 'NFTsales', 'indices': [59, 68]}, {'text': 'musicnft', 'indices': [69, 78]}, {'text': 'nftmusic', 'indices': [79, 88]}, {'text': 'thankgoditsfriyay', 'indices': [89, 107]}, {'text': 'CodeNewbie', 'indices': [109, 120]}, {'text': 'code', 'indices': [121, 126]}], 'symbols': [], 'user_mentions': [{'screen_name': 'synctone2', 'name': 'synctone', 'id': 1361725867433619459, 'id_str': '1361725867433619459', 'indices': [3, 13]}], 'urls': []}, 'metadata': {'iso_language_code': 'en', 'result_type': 'recent'}, 'source': '<a href=\"https://mobile.twitter.com\" rel=\"nofollow\">Twitter Web App</a>', 'in_reply_to_status_id': None, 'in_reply_to_status_id_str': None, 'in_reply_to_user_id': None, 'in_reply_to_user_id_str': None, 'in_reply_to_screen_name': None, 'user': {'id': 1452216953905504257, 'id_str': '1452216953905504257', 'name': 'Egbert Bessemer', 'screen_name': 'bessemer_egbert', 'location': '', 'description': 'NFT passionate, NFT Enthousiast, NFT lover! DM to collab! International spirit. #NFT forever', 'url': None, 'entities': {'description': {'urls': []}}, 'protected': False, 'followers_count': 238, 'friends_count': 208, 'listed_count': 1, 'created_at': 'Sun Oct 24 10:14:52 +0000 2021', 'favourites_count': 4236, 'utc_offset': None, 'time_zone': None, 'geo_enabled': False, 'verified': False, 'statuses_count': 1351, 'lang': None, 'contributors_enabled': False, 'is_translator': False, 'is_translation_enabled': False, 'profile_background_color': 'F5F8FA', 'profile_background_image_url': None, 'profile_background_image_url_https': None, 'profile_background_tile': False, 'profile_image_url': 'http://pbs.twimg.com/profile_images/1464822887391584261/qZHnFBcl_normal.jpg', 'profile_image_url_https': 'https://pbs.twimg.com/profile_images/1464822887391584261/qZHnFBcl_normal.jpg', 'profile_banner_url': 'https://pbs.twimg.com/profile_banners/1452216953905504257/1638076356', 'profile_link_color': '1DA1F2', 'profile_sidebar_border_color': 'C0DEED', 'profile_sidebar_fill_color': 'DDEEF6', 'profile_text_color': '333333', 'profile_use_background_image': True, 'has_extended_profile': True, 'default_profile': True, 'default_profile_image': False, 'following': False, 'follow_request_sent': False, 'notifications': False, 'translator_type': 'none', 'withheld_in_countries': []}, 'geo': None, 'coordinates': None, 'place': None, 'contributors': None, 'retweeted_status': {'created_at': 'Wed Jun 01 12:01:32 +0000 2022', 'id': 1531969192110526467, 'id_str': '1531969192110526467', 'text': 'Let’s see what you got?! #nft #NFTCommunity #NFTsales #musicnft #nftmusic #thankgoditsfriyay \\n#CodeNewbie #code… https://t.co/AmndaY3Ywp', 'truncated': True, 'entities': {'hashtags': [{'text': 'nft', 'indices': [25, 29]}, {'text': 'NFTCommunity', 'indices': [30, 43]}, {'text': 'NFTsales', 'indices': [44, 53]}, {'text': 'musicnft', 'indices': [54, 63]}, {'text': 'nftmusic', 'indices': [64, 73]}, {'text': 'thankgoditsfriyay', 'indices': [74, 92]}, {'text': 'CodeNewbie', 'indices': [94, 105]}, {'text': 'code', 'indices': [106, 111]}], 'symbols': [], 'user_mentions': [], 'urls': [{'url': 'https://t.co/AmndaY3Ywp', 'expanded_url': 'https://twitter.com/i/web/status/1531969192110526467', 'display_url': 'twitter.com/i/web/status/1…', 'indices': [113, 136]}]}, 'metadata': {'iso_language_code': 'en', 'result_type': 'recent'}, 'source': '<a href=\"http://twitter.com/download/iphone\" rel=\"nofollow\">Twitter for iPhone</a>', 'in_reply_to_status_id': None, 'in_reply_to_status_id_str': None, 'in_reply_to_user_id': None, 'in_reply_to_user_id_str': None, 'in_reply_to_screen_name': None, 'user': {'id': 1361725867433619459, 'id_str': '1361725867433619459', 'name': 'synctone', 'screen_name': 'synctone2', 'location': 'https://thankgoditsfriyay.com', 'description': 'Funk/Dance artist with the flare for cranking on the dance floor.', 'url': 'https://t.co/AY7jZl1Jau', 'entities': {'url': {'urls': [{'url': 'https://t.co/AY7jZl1Jau', 'expanded_url': 'https://opensea.io/collection/thank-god-its-friyay', 'display_url': 'opensea.io/collection/tha…', 'indices': [0, 23]}]}, 'description': {'urls': []}}, 'protected': False, 'followers_count': 6205, 'friends_count': 1148, 'listed_count': 9, 'created_at': 'Tue Feb 16 17:15:46 +0000 2021', 'favourites_count': 2357, 'utc_offset': None, 'time_zone': None, 'geo_enabled': False, 'verified': False, 'statuses_count': 423, 'lang': None, 'contributors_enabled': False, 'is_translator': False, 'is_translation_enabled': False, 'profile_background_color': 'F5F8FA', 'profile_background_image_url': None, 'profile_background_image_url_https': None, 'profile_background_tile': False, 'profile_image_url': 'http://pbs.twimg.com/profile_images/1368653998195150848/R9dy5D0j_normal.jpg', 'profile_image_url_https': 'https://pbs.twimg.com/profile_images/1368653998195150848/R9dy5D0j_normal.jpg', 'profile_banner_url': 'https://pbs.twimg.com/profile_banners/1361725867433619459/1613495891', 'profile_link_color': '1DA1F2', 'profile_sidebar_border_color': 'C0DEED', 'profile_sidebar_fill_color': 'DDEEF6', 'profile_text_color': '333333', 'profile_use_background_image': True, 'has_extended_profile': True, 'default_profile': True, 'default_profile_image': False, 'following': False, 'follow_request_sent': False, 'notifications': False, 'translator_type': 'none', 'withheld_in_countries': []}, 'geo': None, 'coordinates': None, 'place': None, 'contributors': None, 'is_quote_status': False, 'retweet_count': 6, 'favorite_count': 5, 'favorited': False, 'retweeted': False, 'lang': 'en'}, 'is_quote_status': False, 'retweet_count': 6, 'favorite_count': 0, 'favorited': False, 'retweeted': False, 'lang': 'en'}, {'created_at': 'Wed Jun 01 13:58:23 +0000 2022', 'id': 1531998598853976066, 'id_str': '1531998598853976066', 'text': 'RT @YuHelenYu: Type of #cryptography and use case\\n\\n#blockchain #AI #Mathematics #DataSecurity #dataScientist #quantum #DataAnalytics #Pytho…', 'truncated': False, 'entities': {'hashtags': [{'text': 'cryptography', 'indices': [23, 36]}, {'text': 'blockchain', 'indices': [51, 62]}, {'text': 'AI', 'indices': [63, 66]}, {'text': 'Mathematics', 'indices': [67, 79]}, {'text': 'DataSecurity', 'indices': [80, 93]}, {'text': 'dataScientist', 'indices': [94, 108]}, {'text': 'quantum', 'indices': [109, 117]}, {'text': 'DataAnalytics', 'indices': [118, 132]}], 'symbols': [], 'user_mentions': [{'screen_name': 'YuHelenYu', 'name': 'Helen Yu', 'id': 839338759330152453, 'id_str': '839338759330152453', 'indices': [3, 13]}], 'urls': []}, 'metadata': {'iso_language_code': 'en', 'result_type': 'recent'}, 'source': '<a href=\"https://github.com/icnawaz/id\" rel=\"nofollow\">All JavaScript Tweet</a>', 'in_reply_to_status_id': None, 'in_reply_to_status_id_str': None, 'in_reply_to_user_id': None, 'in_reply_to_user_id_str': None, 'in_reply_to_screen_name': None, 'user': {'id': 1511954357138636800, 'id_str': '1511954357138636800', 'name': 'All Javascript Tweet', 'screen_name': 'alljstweet', 'location': '', 'description': \"I'm a JavaScript bot. I retweet #javascript. Follow me to gain more knowledge related to JavaScript. Created by @icnawaz\", 'url': None, 'entities': {'description': {'urls': []}}, 'protected': False, 'followers_count': 162, 'friends_count': 0, 'listed_count': 1, 'created_at': 'Thu Apr 07 06:30:18 +0000 2022', 'favourites_count': 0, 'utc_offset': None, 'time_zone': None, 'geo_enabled': False, 'verified': False, 'statuses_count': 15887, 'lang': None, 'contributors_enabled': False, 'is_translator': False, 'is_translation_enabled': False, 'profile_background_color': 'F5F8FA', 'profile_background_image_url': None, 'profile_background_image_url_https': None, 'profile_background_tile': False, 'profile_image_url': 'http://pbs.twimg.com/profile_images/1513066672172969986/e9S0NKRs_normal.jpg', 'profile_image_url_https': 'https://pbs.twimg.com/profile_images/1513066672172969986/e9S0NKRs_normal.jpg', 'profile_banner_url': 'https://pbs.twimg.com/profile_banners/1511954357138636800/1649313860', 'profile_link_color': '1DA1F2', 'profile_sidebar_border_color': 'C0DEED', 'profile_sidebar_fill_color': 'DDEEF6', 'profile_text_color': '333333', 'profile_use_background_image': True, 'has_extended_profile': True, 'default_profile': True, 'default_profile_image': False, 'following': False, 'follow_request_sent': False, 'notifications': False, 'translator_type': 'none', 'withheld_in_countries': []}, 'geo': None, 'coordinates': None, 'place': None, 'contributors': None, 'retweeted_status': {'created_at': 'Wed Feb 23 05:52:54 +0000 2022', 'id': 1496362410357276675, 'id_str': '1496362410357276675', 'text': 'Type of #cryptography and use case\\n\\n#blockchain #AI #Mathematics #DataSecurity #dataScientist #quantum… https://t.co/jqbbD8XW1h', 'truncated': True, 'entities': {'hashtags': [{'text': 'cryptography', 'indices': [8, 21]}, {'text': 'blockchain', 'indices': [36, 47]}, {'text': 'AI', 'indices': [48, 51]}, {'text': 'Mathematics', 'indices': [52, 64]}, {'text': 'DataSecurity', 'indices': [65, 78]}, {'text': 'dataScientist', 'indices': [79, 93]}, {'text': 'quantum', 'indices': [94, 102]}], 'symbols': [], 'user_mentions': [], 'urls': [{'url': 'https://t.co/jqbbD8XW1h', 'expanded_url': 'https://twitter.com/i/web/status/1496362410357276675', 'display_url': 'twitter.com/i/web/status/1…', 'indices': [104, 127]}]}, 'metadata': {'iso_language_code': 'en', 'result_type': 'recent'}, 'source': '<a href=\"https://mobile.twitter.com\" rel=\"nofollow\">Twitter Web App</a>', 'in_reply_to_status_id': None, 'in_reply_to_status_id_str': None, 'in_reply_to_user_id': None, 'in_reply_to_user_id_str': None, 'in_reply_to_screen_name': None, 'user': {'id': 839338759330152453, 'id_str': '839338759330152453', 'name': 'Helen Yu', 'screen_name': 'YuHelenYu', 'location': 'Chicago, IL', 'description': '#DigitalTransformation obsessed #CXO and #GrowthHacker. Find me at the intersection of #Tech and #Humanity. #AI #Blockchain #FinTech #CX #IoT #CyberSecurity', 'url': 'https://t.co/4CzULp96pM', 'entities': {'url': {'urls': [{'url': 'https://t.co/4CzULp96pM', 'expanded_url': 'https://www.linkedin.com/in/tigonhyu/', 'display_url': 'linkedin.com/in/tigonhyu/', 'indices': [0, 23]}]}, 'description': {'urls': []}}, 'protected': False, 'followers_count': 43874, 'friends_count': 17672, 'listed_count': 626, 'created_at': 'Wed Mar 08 04:55:29 +0000 2017', 'favourites_count': 24072, 'utc_offset': None, 'time_zone': None, 'geo_enabled': True, 'verified': False, 'statuses_count': 25177, 'lang': None, 'contributors_enabled': False, 'is_translator': False, 'is_translation_enabled': False, 'profile_background_color': '000000', 'profile_background_image_url': 'http://abs.twimg.com/images/themes/theme1/bg.png', 'profile_background_image_url_https': 'https://abs.twimg.com/images/themes/theme1/bg.png', 'profile_background_tile': False, 'profile_image_url': 'http://pbs.twimg.com/profile_images/1421532831839399944/c-Wl32LB_normal.jpg', 'profile_image_url_https': 'https://pbs.twimg.com/profile_images/1421532831839399944/c-Wl32LB_normal.jpg', 'profile_banner_url': 'https://pbs.twimg.com/profile_banners/839338759330152453/1627965364', 'profile_link_color': '19CF86', 'profile_sidebar_border_color': '000000', 'profile_sidebar_fill_color': '000000', 'profile_text_color': '000000', 'profile_use_background_image': False, 'has_extended_profile': False, 'default_profile': False, 'default_profile_image': False, 'following': False, 'follow_request_sent': False, 'notifications': False, 'translator_type': 'none', 'withheld_in_countries': []}, 'geo': None, 'coordinates': None, 'place': None, 'contributors': None, 'is_quote_status': False, 'retweet_count': 119, 'favorite_count': 113, 'favorited': False, 'retweeted': False, 'possibly_sensitive': False, 'lang': 'en'}, 'is_quote_status': False, 'retweet_count': 119, 'favorite_count': 0, 'favorited': False, 'retweeted': False, 'lang': 'en'}, {'created_at': 'Wed Jun 01 13:58:22 +0000 2022', 'id': 1531998594097729538, 'id_str': '1531998594097729538', 'text': 'RT @YuHelenYu: Type of #cryptography and use case\\n\\n#blockchain #AI #Mathematics #DataSecurity #dataScientist #quantum #DataAnalytics #Pytho…', 'truncated': False, 'entities': {'hashtags': [{'text': 'cryptography', 'indices': [23, 36]}, {'text': 'blockchain', 'indices': [51, 62]}, {'text': 'AI', 'indices': [63, 66]}, {'text': 'Mathematics', 'indices': [67, 79]}, {'text': 'DataSecurity', 'indices': [80, 93]}, {'text': 'dataScientist', 'indices': [94, 108]}, {'text': 'quantum', 'indices': [109, 117]}, {'text': 'DataAnalytics', 'indices': [118, 132]}], 'symbols': [], 'user_mentions': [{'screen_name': 'YuHelenYu', 'name': 'Helen Yu', 'id': 839338759330152453, 'id_str': '839338759330152453', 'indices': [3, 13]}], 'urls': []}, 'metadata': {'iso_language_code': 'en', 'result_type': 'recent'}, 'source': '<a href=\"https://yathinbabu.github.io\" rel=\"nofollow\">xael bot</a>', 'in_reply_to_status_id': None, 'in_reply_to_status_id_str': None, 'in_reply_to_user_id': None, 'in_reply_to_user_id_str': None, 'in_reply_to_screen_name': None, 'user': {'id': 1127829883013361665, 'id_str': '1127829883013361665', 'name': 'xael bot', 'screen_name': 'xaelbot', 'location': 'Earth', 'description': \"A bot, I like and retweet on #100DaysOfCode. Block if don't want to be retweeted.\", 'url': 'https://t.co/r4dUacb1Qk', 'entities': {'url': {'urls': [{'url': 'https://t.co/r4dUacb1Qk', 'expanded_url': 'https://tumkurlab.github.io/', 'display_url': 'tumkurlab.github.io', 'indices': [0, 23]}]}, 'description': {'urls': []}}, 'protected': False, 'followers_count': 6348, 'friends_count': 7, 'listed_count': 107, 'created_at': 'Mon May 13 06:56:12 +0000 2019', 'favourites_count': 434526, 'utc_offset': None, 'time_zone': None, 'geo_enabled': False, 'verified': False, 'statuses_count': 1682941, 'lang': None, 'contributors_enabled': False, 'is_translator': False, 'is_translation_enabled': False, 'profile_background_color': 'F5F8FA', 'profile_background_image_url': None, 'profile_background_image_url_https': None, 'profile_background_tile': False, 'profile_image_url': 'http://pbs.twimg.com/profile_images/1127896024737935360/J0nVyVyF_normal.png', 'profile_image_url_https': 'https://pbs.twimg.com/profile_images/1127896024737935360/J0nVyVyF_normal.png', 'profile_link_color': '1DA1F2', 'profile_sidebar_border_color': 'C0DEED', 'profile_sidebar_fill_color': 'DDEEF6', 'profile_text_color': '333333', 'profile_use_background_image': True, 'has_extended_profile': False, 'default_profile': True, 'default_profile_image': False, 'following': False, 'follow_request_sent': False, 'notifications': False, 'translator_type': 'none', 'withheld_in_countries': []}, 'geo': None, 'coordinates': None, 'place': None, 'contributors': None, 'retweeted_status': {'created_at': 'Wed Feb 23 05:52:54 +0000 2022', 'id': 1496362410357276675, 'id_str': '1496362410357276675', 'text': 'Type of #cryptography and use case\\n\\n#blockchain #AI #Mathematics #DataSecurity #dataScientist #quantum… https://t.co/jqbbD8XW1h', 'truncated': True, 'entities': {'hashtags': [{'text': 'cryptography', 'indices': [8, 21]}, {'text': 'blockchain', 'indices': [36, 47]}, {'text': 'AI', 'indices': [48, 51]}, {'text': 'Mathematics', 'indices': [52, 64]}, {'text': 'DataSecurity', 'indices': [65, 78]}, {'text': 'dataScientist', 'indices': [79, 93]}, {'text': 'quantum', 'indices': [94, 102]}], 'symbols': [], 'user_mentions': [], 'urls': [{'url': 'https://t.co/jqbbD8XW1h', 'expanded_url': 'https://twitter.com/i/web/status/1496362410357276675', 'display_url': 'twitter.com/i/web/status/1…', 'indices': [104, 127]}]}, 'metadata': {'iso_language_code': 'en', 'result_type': 'recent'}, 'source': '<a href=\"https://mobile.twitter.com\" rel=\"nofollow\">Twitter Web App</a>', 'in_reply_to_status_id': None, 'in_reply_to_status_id_str': None, 'in_reply_to_user_id': None, 'in_reply_to_user_id_str': None, 'in_reply_to_screen_name': None, 'user': {'id': 839338759330152453, 'id_str': '839338759330152453', 'name': 'Helen Yu', 'screen_name': 'YuHelenYu', 'location': 'Chicago, IL', 'description': '#DigitalTransformation obsessed #CXO and #GrowthHacker. Find me at the intersection of #Tech and #Humanity. #AI #Blockchain #FinTech #CX #IoT #CyberSecurity', 'url': 'https://t.co/4CzULp96pM', 'entities': {'url': {'urls': [{'url': 'https://t.co/4CzULp96pM', 'expanded_url': 'https://www.linkedin.com/in/tigonhyu/', 'display_url': 'linkedin.com/in/tigonhyu/', 'indices': [0, 23]}]}, 'description': {'urls': []}}, 'protected': False, 'followers_count': 43874, 'friends_count': 17672, 'listed_count': 626, 'created_at': 'Wed Mar 08 04:55:29 +0000 2017', 'favourites_count': 24072, 'utc_offset': None, 'time_zone': None, 'geo_enabled': True, 'verified': False, 'statuses_count': 25177, 'lang': None, 'contributors_enabled': False, 'is_translator': False, 'is_translation_enabled': False, 'profile_background_color': '000000', 'profile_background_image_url': 'http://abs.twimg.com/images/themes/theme1/bg.png', 'profile_background_image_url_https': 'https://abs.twimg.com/images/themes/theme1/bg.png', 'profile_background_tile': False, 'profile_image_url': 'http://pbs.twimg.com/profile_images/1421532831839399944/c-Wl32LB_normal.jpg', 'profile_image_url_https': 'https://pbs.twimg.com/profile_images/1421532831839399944/c-Wl32LB_normal.jpg', 'profile_banner_url': 'https://pbs.twimg.com/profile_banners/839338759330152453/1627965364', 'profile_link_color': '19CF86', 'profile_sidebar_border_color': '000000', 'profile_sidebar_fill_color': '000000', 'profile_text_color': '000000', 'profile_use_background_image': False, 'has_extended_profile': False, 'default_profile': False, 'default_profile_image': False, 'following': False, 'follow_request_sent': False, 'notifications': False, 'translator_type': 'none', 'withheld_in_countries': []}, 'geo': None, 'coordinates': None, 'place': None, 'contributors': None, 'is_quote_status': False, 'retweet_count': 119, 'favorite_count': 113, 'favorited': False, 'retweeted': False, 'possibly_sensitive': False, 'lang': 'en'}, 'is_quote_status': False, 'retweet_count': 119, 'favorite_count': 0, 'favorited': False, 'retweeted': False, 'lang': 'en'}, {'created_at': 'Wed Jun 01 13:58:21 +0000 2022', 'id': 1531998590754865152, 'id_str': '1531998590754865152', 'text': 'RT @YuHelenYu: Type of #cryptography and use case\\n\\n#blockchain #AI #Mathematics #DataSecurity #dataScientist #quantum #DataAnalytics #Pytho…', 'truncated': False, 'entities': {'hashtags': [{'text': 'cryptography', 'indices': [23, 36]}, {'text': 'blockchain', 'indices': [51, 62]}, {'text': 'AI', 'indices': [63, 66]}, {'text': 'Mathematics', 'indices': [67, 79]}, {'text': 'DataSecurity', 'indices': [80, 93]}, {'text': 'dataScientist', 'indices': [94, 108]}, {'text': 'quantum', 'indices': [109, 117]}, {'text': 'DataAnalytics', 'indices': [118, 132]}], 'symbols': [], 'user_mentions': [{'screen_name': 'YuHelenYu', 'name': 'Helen Yu', 'id': 839338759330152453, 'id_str': '839338759330152453', 'indices': [3, 13]}], 'urls': []}, 'metadata': {'iso_language_code': 'en', 'result_type': 'recent'}, 'source': '<a href=\"https://mobile.twitter.com\" rel=\"nofollow\">Twitter Web App</a>', 'in_reply_to_status_id': None, 'in_reply_to_status_id_str': None, 'in_reply_to_user_id': None, 'in_reply_to_user_id_str': None, 'in_reply_to_screen_name': None, 'user': {'id': 1529894984924729344, 'id_str': '1529894984924729344', 'name': 'BIG | ZPrize.io: Zero-Knowledge Proof Competition', 'screen_name': '4BIGNews', 'location': 'New York', 'description': 'Future Technology News: Blockchain | Crypto | AI | Robotics | AR | VR | Web3 | Metaverse\\n-\\nZPrize Competition | $7 Million Prizes | Zero-Knowledge Proofs', 'url': 'https://t.co/F2MF22lcuJ', 'entities': {'url': {'urls': [{'url': 'https://t.co/F2MF22lcuJ', 'expanded_url': 'https://blockchainindustrygroup.org/', 'display_url': 'blockchainindustrygroup.org', 'indices': [0, 23]}]}, 'description': {'urls': []}}, 'protected': False, 'followers_count': 51, 'friends_count': 892, 'listed_count': 0, 'created_at': 'Thu May 26 18:54:14 +0000 2022', 'favourites_count': 104, 'utc_offset': None, 'time_zone': None, 'geo_enabled': False, 'verified': False, 'statuses_count': 109, 'lang': None, 'contributors_enabled': False, 'is_translator': False, 'is_translation_enabled': False, 'profile_background_color': 'F5F8FA', 'profile_background_image_url': None, 'profile_background_image_url_https': None, 'profile_background_tile': False, 'profile_image_url': 'http://pbs.twimg.com/profile_images/1529943211116052499/6nJV92Zp_normal.jpg', 'profile_image_url_https': 'https://pbs.twimg.com/profile_images/1529943211116052499/6nJV92Zp_normal.jpg', 'profile_banner_url': 'https://pbs.twimg.com/profile_banners/1529894984924729344/1653601861', 'profile_link_color': '1DA1F2', 'profile_sidebar_border_color': 'C0DEED', 'profile_sidebar_fill_color': 'DDEEF6', 'profile_text_color': '333333', 'profile_use_background_image': True, 'has_extended_profile': True, 'default_profile': True, 'default_profile_image': False, 'following': False, 'follow_request_sent': False, 'notifications': False, 'translator_type': 'none', 'withheld_in_countries': []}, 'geo': None, 'coordinates': None, 'place': None, 'contributors': None, 'retweeted_status': {'created_at': 'Wed Feb 23 05:52:54 +0000 2022', 'id': 1496362410357276675, 'id_str': '1496362410357276675', 'text': 'Type of #cryptography and use case\\n\\n#blockchain #AI #Mathematics #DataSecurity #dataScientist #quantum… https://t.co/jqbbD8XW1h', 'truncated': True, 'entities': {'hashtags': [{'text': 'cryptography', 'indices': [8, 21]}, {'text': 'blockchain', 'indices': [36, 47]}, {'text': 'AI', 'indices': [48, 51]}, {'text': 'Mathematics', 'indices': [52, 64]}, {'text': 'DataSecurity', 'indices': [65, 78]}, {'text': 'dataScientist', 'indices': [79, 93]}, {'text': 'quantum', 'indices': [94, 102]}], 'symbols': [], 'user_mentions': [], 'urls': [{'url': 'https://t.co/jqbbD8XW1h', 'expanded_url': 'https://twitter.com/i/web/status/1496362410357276675', 'display_url': 'twitter.com/i/web/status/1…', 'indices': [104, 127]}]}, 'metadata': {'iso_language_code': 'en', 'result_type': 'recent'}, 'source': '<a href=\"https://mobile.twitter.com\" rel=\"nofollow\">Twitter Web App</a>', 'in_reply_to_status_id': None, 'in_reply_to_status_id_str': None, 'in_reply_to_user_id': None, 'in_reply_to_user_id_str': None, 'in_reply_to_screen_name': None, 'user': {'id': 839338759330152453, 'id_str': '839338759330152453', 'name': 'Helen Yu', 'screen_name': 'YuHelenYu', 'location': 'Chicago, IL', 'description': '#DigitalTransformation obsessed #CXO and #GrowthHacker. Find me at the intersection of #Tech and #Humanity. #AI #Blockchain #FinTech #CX #IoT #CyberSecurity', 'url': 'https://t.co/4CzULp96pM', 'entities': {'url': {'urls': [{'url': 'https://t.co/4CzULp96pM', 'expanded_url': 'https://www.linkedin.com/in/tigonhyu/', 'display_url': 'linkedin.com/in/tigonhyu/', 'indices': [0, 23]}]}, 'description': {'urls': []}}, 'protected': False, 'followers_count': 43874, 'friends_count': 17672, 'listed_count': 626, 'created_at': 'Wed Mar 08 04:55:29 +0000 2017', 'favourites_count': 24072, 'utc_offset': None, 'time_zone': None, 'geo_enabled': True, 'verified': False, 'statuses_count': 25177, 'lang': None, 'contributors_enabled': False, 'is_translator': False, 'is_translation_enabled': False, 'profile_background_color': '000000', 'profile_background_image_url': 'http://abs.twimg.com/images/themes/theme1/bg.png', 'profile_background_image_url_https': 'https://abs.twimg.com/images/themes/theme1/bg.png', 'profile_background_tile': False, 'profile_image_url': 'http://pbs.twimg.com/profile_images/1421532831839399944/c-Wl32LB_normal.jpg', 'profile_image_url_https': 'https://pbs.twimg.com/profile_images/1421532831839399944/c-Wl32LB_normal.jpg', 'profile_banner_url': 'https://pbs.twimg.com/profile_banners/839338759330152453/1627965364', 'profile_link_color': '19CF86', 'profile_sidebar_border_color': '000000', 'profile_sidebar_fill_color': '000000', 'profile_text_color': '000000', 'profile_use_background_image': False, 'has_extended_profile': False, 'default_profile': False, 'default_profile_image': False, 'following': False, 'follow_request_sent': False, 'notifications': False, 'translator_type': 'none', 'withheld_in_countries': []}, 'geo': None, 'coordinates': None, 'place': None, 'contributors': None, 'is_quote_status': False, 'retweet_count': 119, 'favorite_count': 113, 'favorited': False, 'retweeted': False, 'possibly_sensitive': False, 'lang': 'en'}, 'is_quote_status': False, 'retweet_count': 119, 'favorite_count': 0, 'favorited': False, 'retweeted': False, 'lang': 'en'}, {'created_at': 'Wed Jun 01 13:58:15 +0000 2022', 'id': 1531998565316194305, 'id_str': '1531998565316194305', 'text': 'RT @akshay_pachaar: 🔴 Seaborn Tutorial 1️⃣: Distribution plot.\\nCheckout this out 👇 \\n\\n#Datavisualization #programming #MachineLearning #Data…', 'truncated': False, 'entities': {'hashtags': [{'text': 'Datavisualization', 'indices': [85, 103]}, {'text': 'programming', 'indices': [104, 116]}, {'text': 'MachineLearning', 'indices': [117, 133]}], 'symbols': [], 'user_mentions': [{'screen_name': 'akshay_pachaar', 'name': 'Akshay 🚀', 'id': 703601972, 'id_str': '703601972', 'indices': [3, 18]}], 'urls': []}, 'metadata': {'iso_language_code': 'en', 'result_type': 'recent'}, 'source': '<a href=\"http://twitter.com/download/android\" rel=\"nofollow\">Twitter for Android</a>', 'in_reply_to_status_id': None, 'in_reply_to_status_id_str': None, 'in_reply_to_user_id': None, 'in_reply_to_user_id_str': None, 'in_reply_to_screen_name': None, 'user': {'id': 34622543, 'id_str': '34622543', 'name': 'Abhilshit Soni', 'screen_name': 'abhilshit', 'location': 'Mumbai', 'description': 'Principal Data Scientist @Here Software Engineer, Gamer, Blogger', 'url': 'https://t.co/I5eU11a8kj', 'entities': {'url': {'urls': [{'url': 'https://t.co/I5eU11a8kj', 'expanded_url': 'http://dukesrepaint.blogspot.com', 'display_url': 'dukesrepaint.blogspot.com', 'indices': [0, 23]}]}, 'description': {'urls': []}}, 'protected': False, 'followers_count': 166, 'friends_count': 175, 'listed_count': 12, 'created_at': 'Thu Apr 23 14:16:43 +0000 2009', 'favourites_count': 987, 'utc_offset': None, 'time_zone': None, 'geo_enabled': True, 'verified': False, 'statuses_count': 758, 'lang': None, 'contributors_enabled': False, 'is_translator': False, 'is_translation_enabled': False, 'profile_background_color': 'B2DFDA', 'profile_background_image_url': 'http://abs.twimg.com/images/themes/theme13/bg.gif', 'profile_background_image_url_https': 'https://abs.twimg.com/images/themes/theme13/bg.gif', 'profile_background_tile': False, 'profile_image_url': 'http://pbs.twimg.com/profile_images/1316555670473199616/9B-sW7K__normal.jpg', 'profile_image_url_https': 'https://pbs.twimg.com/profile_images/1316555670473199616/9B-sW7K__normal.jpg', 'profile_link_color': '93A644', 'profile_sidebar_border_color': 'EEEEEE', 'profile_sidebar_fill_color': 'FFFFFF', 'profile_text_color': '333333', 'profile_use_background_image': True, 'has_extended_profile': True, 'default_profile': False, 'default_profile_image': False, 'following': False, 'follow_request_sent': False, 'notifications': False, 'translator_type': 'none', 'withheld_in_countries': []}, 'geo': None, 'coordinates': None, 'place': None, 'contributors': None, 'retweeted_status': {'created_at': 'Wed Jun 01 11:49:10 +0000 2022', 'id': 1531966078355578880, 'id_str': '1531966078355578880', 'text': '🔴 Seaborn Tutorial 1️⃣: Distribution plot.\\nCheckout this out 👇 \\n\\n#Datavisualization #programming #MachineLearning… https://t.co/Z2DRSQL9FQ', 'truncated': True, 'entities': {'hashtags': [{'text': 'Datavisualization', 'indices': [65, 83]}, {'text': 'programming', 'indices': [84, 96]}, {'text': 'MachineLearning', 'indices': [97, 113]}], 'symbols': [], 'user_mentions': [], 'urls': [{'url': 'https://t.co/Z2DRSQL9FQ', 'expanded_url': 'https://twitter.com/i/web/status/1531966078355578880', 'display_url': 'twitter.com/i/web/status/1…', 'indices': [115, 138]}]}, 'metadata': {'iso_language_code': 'en', 'result_type': 'recent'}, 'source': '<a href=\"https://mobile.twitter.com\" rel=\"nofollow\">Twitter Web App</a>', 'in_reply_to_status_id': None, 'in_reply_to_status_id_str': None, 'in_reply_to_user_id': None, 'in_reply_to_user_id_str': None, 'in_reply_to_screen_name': None, 'user': {'id': 703601972, 'id_str': '703601972', 'name': 'Akshay 🚀', 'screen_name': 'akshay_pachaar', 'location': 'Hisar, India', 'description': 'Sr. Data Scientist @tomtom | 🎓 Alum @bitspilaniindia | 3 patents | Writes about: 🐍 Python 🤖 Mathematics for Machine learning 🛠 MlOps.', 'url': 'https://t.co/lSW72knT9W', 'entities': {'url': {'urls': [{'url': 'https://t.co/lSW72knT9W', 'expanded_url': 'https://linktr.ee/pachaar', 'display_url': 'linktr.ee/pachaar', 'indices': [0, 23]}]}, 'description': {'urls': []}}, 'protected': False, 'followers_count': 425, 'friends_count': 257, 'listed_count': 8, 'created_at': 'Wed Jul 18 18:58:39 +0000 2012', 'favourites_count': 1181, 'utc_offset': None, 'time_zone': None, 'geo_enabled': True, 'verified': False, 'statuses_count': 338, 'lang': None, 'contributors_enabled': False, 'is_translator': False, 'is_translation_enabled': False, 'profile_background_color': 'C0DEED', 'profile_background_image_url': 'http://abs.twimg.com/images/themes/theme1/bg.png', 'profile_background_image_url_https': 'https://abs.twimg.com/images/themes/theme1/bg.png', 'profile_background_tile': False, 'profile_image_url': 'http://pbs.twimg.com/profile_images/1528615164823896064/3_vUbm8n_normal.jpg', 'profile_image_url_https': 'https://pbs.twimg.com/profile_images/1528615164823896064/3_vUbm8n_normal.jpg', 'profile_banner_url': 'https://pbs.twimg.com/profile_banners/703601972/1653187031', 'profile_link_color': '1DA1F2', 'profile_sidebar_border_color': 'C0DEED', 'profile_sidebar_fill_color': 'DDEEF6', 'profile_text_color': '333333', 'profile_use_background_image': True, 'has_extended_profile': True, 'default_profile': True, 'default_profile_image': False, 'following': False, 'follow_request_sent': False, 'notifications': False, 'translator_type': 'none', 'withheld_in_countries': []}, 'geo': None, 'coordinates': None, 'place': None, 'contributors': None, 'is_quote_status': False, 'retweet_count': 21, 'favorite_count': 17, 'favorited': False, 'retweeted': False, 'possibly_sensitive': False, 'lang': 'en'}, 'is_quote_status': False, 'retweet_count': 21, 'favorite_count': 0, 'favorited': False, 'retweeted': False, 'lang': 'en'}], 'search_metadata': {'completed_in': 0.102, 'max_id': 1531998710720233474, 'max_id_str': '1531998710720233474', 'next_results': '?max_id=1531998565316194304&q=%23python&include_entities=1', 'query': '%23python', 'refresh_url': '?since_id=1531998710720233474&q=%23python&include_entities=1', 'count': 15, 'since_id': 0, 'since_id_str': '0'}}\n"
     ]
    }
   ],
   "source": [
    "# Run a test with #python\n",
    "python_tweets = twitter_api.search.tweets(q=\"#python\")\n",
    "\n",
    "# View output\n",
    "print(python_tweets)"
   ]
  },
  {
   "cell_type": "markdown",
   "id": "4ac0036c",
   "metadata": {},
   "source": [
    "### 1. Test connection"
   ]
  },
  {
   "cell_type": "code",
   "execution_count": 8,
   "id": "3d0b6053",
   "metadata": {},
   "outputs": [
    {
     "data": {
      "text/plain": [
       "30"
      ]
     },
     "execution_count": 8,
     "metadata": {},
     "output_type": "execute_result"
    }
   ],
   "source": [
    "# Query the term cheesecake\n",
    "q = {'q':'cheesecake', 'count':100, 'result_type':'recent'}\n",
    "results = []\n",
    "\n",
    "while len(results) < 30:\n",
    "    query = twitter_api.search.tweets(**q)\n",
    "    q['max_id'] = query['search_metadata']['next_results'].split('&')[0].split('?max_id=')[1]\n",
    "    results.append(query)\n",
    "    \n",
    "# Determine the number of results\n",
    "len(results)    "
   ]
  },
  {
   "cell_type": "markdown",
   "id": "391ab049",
   "metadata": {},
   "source": [
    "### 2. Create DataFrames"
   ]
  },
  {
   "cell_type": "code",
   "execution_count": 10,
   "id": "74e29ada",
   "metadata": {},
   "outputs": [
    {
     "data": {
      "text/plain": [
       "(2991, 30)"
      ]
     },
     "execution_count": 10,
     "metadata": {},
     "output_type": "execute_result"
    }
   ],
   "source": [
    "# Import Pandas to join the DataFrames.\n",
    "import pandas as pd\n",
    "\n",
    "# Concat DataFrames.\n",
    "results_list_pd = pd.concat([pd.DataFrame(_['statuses'])for _ in results])\n",
    "\n",
    "# View the output.\n",
    "results_list_pd.shape"
   ]
  },
  {
   "cell_type": "code",
   "execution_count": 14,
   "id": "1623c4ac",
   "metadata": {},
   "outputs": [
    {
     "data": {
      "text/plain": [
       "array(['@jwwjjhloml_ strawberry cheesecake 🥺 asan yung kiss ko pla',\n",
       "       '@afiq_ja surely nothing can go wrong with cheesecake hehe nanti klu dh try buat review ok !!',\n",
       "       'Where was the cheesecake nearest besieger?', ...,\n",
       "       \"33. I don't indulge in dessert too often--more of a salty/savory than sweet most of the time (haha-HOW FUCKING APPR… https://t.co/JWuajOS4zh\",\n",
       "       'RT @reportalos: @AytoCancun @ServPublicosBj @SerPublicosBj calle luciérnaga smz 500. Así lucen nuestras hermosas calles de cancun con bache…',\n",
       "       'some homemade vanilla ice and that double sided crust cheesecake would great rn 🥲'],\n",
       "      dtype=object)"
      ]
     },
     "execution_count": 14,
     "metadata": {},
     "output_type": "execute_result"
    }
   ],
   "source": [
    "# Determine values of output.\n",
    "results_list_values = results_list_pd['text'].values\n",
    "\n",
    "results_list_values"
   ]
  },
  {
   "cell_type": "markdown",
   "id": "a9630741",
   "metadata": {},
   "source": [
    "### 3. Investigate tweets"
   ]
  },
  {
   "cell_type": "code",
   "execution_count": 19,
   "id": "891f3e5b",
   "metadata": {},
   "outputs": [
    {
     "name": "stderr",
     "output_type": "stream",
     "text": [
      "[nltk_data] Downloading package stopwords to\n",
      "[nltk_data]     C:\\Users\\richa\\AppData\\Roaming\\nltk_data...\n",
      "[nltk_data]   Package stopwords is already up-to-date!\n",
      "[nltk_data] Downloading package words to\n",
      "[nltk_data]     C:\\Users\\richa\\AppData\\Roaming\\nltk_data...\n",
      "[nltk_data]   Unzipping corpora\\words.zip.\n"
     ]
    }
   ],
   "source": [
    "# Import necessary libraries.\n",
    "import nltk\n",
    "from nltk.corpus import stopwords\n",
    "from nltk.corpus import words\n",
    "nltk.download('stopwords')\n",
    "nltk.download('words')\n",
    "from nltk.tokenize import word_tokenize\n",
    "\n",
    "stop_words = set(stopwords.words('english'))"
   ]
  },
  {
   "cell_type": "code",
   "execution_count": 16,
   "id": "cab25cf0",
   "metadata": {},
   "outputs": [
    {
     "data": {
      "text/plain": [
       "'@afiq_ja surely nothing can go wrong with cheesecake hehe nanti klu dh try buat review ok !!'"
      ]
     },
     "execution_count": 16,
     "metadata": {},
     "output_type": "execute_result"
    }
   ],
   "source": [
    "# Look at one raw tweet.\n",
    "results_list_values[1]"
   ]
  },
  {
   "cell_type": "code",
   "execution_count": 17,
   "id": "62451f4f",
   "metadata": {},
   "outputs": [],
   "source": [
    "# Split up each tweet into individual words.\n",
    "results_list_values_token = [word_tokenize(_) for _ in results_list_values]"
   ]
  },
  {
   "cell_type": "code",
   "execution_count": 20,
   "id": "51f59e37",
   "metadata": {},
   "outputs": [],
   "source": [
    "# Extract a list of all english words.\n",
    "all_english_words = set(words.words())"
   ]
  },
  {
   "cell_type": "code",
   "execution_count": 21,
   "id": "0f253f94",
   "metadata": {},
   "outputs": [],
   "source": [
    "# Pre-process tweets:\n",
    "# Get every word.\n",
    "# Convert it to lowercase.\n",
    "# Only include if the word is alphanumeric and if it is in the list \n",
    "# of English words.\n",
    "results_list_values_token_nostop = \\\n",
    "[[y.lower() for y in x if y.lower() not in stop_words and y.isalpha() and \\\n",
    "y.lower() in all_english_words] for x in results_list_values_token]"
   ]
  },
  {
   "cell_type": "code",
   "execution_count": 22,
   "id": "ca1e0c6e",
   "metadata": {},
   "outputs": [
    {
     "data": {
      "text/plain": [
       "['surely', 'nothing', 'go', 'wrong', 'cheesecake', 'try', 'review']"
      ]
     },
     "execution_count": 22,
     "metadata": {},
     "output_type": "execute_result"
    }
   ],
   "source": [
    "# View output.\n",
    "results_list_values_token_nostop[1]"
   ]
  },
  {
   "cell_type": "markdown",
   "id": "dbe25923",
   "metadata": {},
   "source": [
    "## Continue to work from below for sentiment analysis"
   ]
  },
  {
   "cell_type": "markdown",
   "id": "82692b87",
   "metadata": {},
   "source": [
    "## NLTK sentiment analysis "
   ]
  },
  {
   "cell_type": "markdown",
   "id": "b5c6c790",
   "metadata": {},
   "source": [
    "### 1. Import NLTK"
   ]
  },
  {
   "cell_type": "code",
   "execution_count": 23,
   "id": "10a88934",
   "metadata": {},
   "outputs": [
    {
     "name": "stderr",
     "output_type": "stream",
     "text": [
      "[nltk_data] Downloading package vader_lexicon to\n",
      "[nltk_data]     C:\\Users\\richa\\AppData\\Roaming\\nltk_data...\n"
     ]
    },
    {
     "data": {
      "text/plain": [
       "True"
      ]
     },
     "execution_count": 23,
     "metadata": {},
     "output_type": "execute_result"
    }
   ],
   "source": [
    "# Import the prebuilt rules and values of the 'vader lexicon'.\n",
    "nltk.download('vader_lexicon')"
   ]
  },
  {
   "cell_type": "code",
   "execution_count": 24,
   "id": "332bafea",
   "metadata": {},
   "outputs": [],
   "source": [
    "# Import the vader class and create an object of the analyser called darth_vader.\n",
    "from nltk.sentiment.vader import SentimentIntensityAnalyzer\n",
    "\n",
    "# Create a variable to store the SIA.\n",
    "darth_vader = SentimentIntensityAnalyzer()"
   ]
  },
  {
   "cell_type": "code",
   "execution_count": 25,
   "id": "eacb424c",
   "metadata": {},
   "outputs": [],
   "source": [
    "# Run through a dictionary comprehension to take every cleaned tweet.\n",
    "# Next run the polarity score function on the string.\n",
    "# This will return four values in a dictionary.\n",
    "results_list_values_token_nostop_polarity = \\\n",
    "{\" \".join(_) : darth_vader.polarity_scores(\" \".join(_)) for _ in results_list_values_token_nostop}"
   ]
  },
  {
   "cell_type": "markdown",
   "id": "e2fbc1e5",
   "metadata": {},
   "source": [
    "### 2. Create a Pandas DataFrame"
   ]
  },
  {
   "cell_type": "code",
   "execution_count": 26,
   "id": "15020f3c",
   "metadata": {},
   "outputs": [],
   "source": [
    "# Convert the list of dictionary results to a pandas dataframe.\n",
    "polarity_pd = pd.DataFrame(results_list_values_token_nostop_polarity).T"
   ]
  },
  {
   "cell_type": "code",
   "execution_count": 27,
   "id": "1ee6ff56",
   "metadata": {},
   "outputs": [
    {
     "data": {
      "text/html": [
       "<div>\n",
       "<style scoped>\n",
       "    .dataframe tbody tr th:only-of-type {\n",
       "        vertical-align: middle;\n",
       "    }\n",
       "\n",
       "    .dataframe tbody tr th {\n",
       "        vertical-align: top;\n",
       "    }\n",
       "\n",
       "    .dataframe thead th {\n",
       "        text-align: right;\n",
       "    }\n",
       "</style>\n",
       "<table border=\"1\" class=\"dataframe\">\n",
       "  <thead>\n",
       "    <tr style=\"text-align: right;\">\n",
       "      <th></th>\n",
       "      <th>neg</th>\n",
       "      <th>neu</th>\n",
       "      <th>pos</th>\n",
       "      <th>compound</th>\n",
       "    </tr>\n",
       "  </thead>\n",
       "  <tbody>\n",
       "    <tr>\n",
       "      <th>yes u</th>\n",
       "      <td>0.0</td>\n",
       "      <td>0.0</td>\n",
       "      <td>1.0</td>\n",
       "      <td>0.4019</td>\n",
       "    </tr>\n",
       "    <tr>\n",
       "      <th>honestly</th>\n",
       "      <td>0.0</td>\n",
       "      <td>0.0</td>\n",
       "      <td>1.0</td>\n",
       "      <td>0.4588</td>\n",
       "    </tr>\n",
       "    <tr>\n",
       "      <th>better</th>\n",
       "      <td>0.0</td>\n",
       "      <td>0.0</td>\n",
       "      <td>1.0</td>\n",
       "      <td>0.4404</td>\n",
       "    </tr>\n",
       "    <tr>\n",
       "      <th>want fun</th>\n",
       "      <td>0.0</td>\n",
       "      <td>0.0</td>\n",
       "      <td>1.0</td>\n",
       "      <td>0.5574</td>\n",
       "    </tr>\n",
       "    <tr>\n",
       "      <th>love</th>\n",
       "      <td>0.0</td>\n",
       "      <td>0.0</td>\n",
       "      <td>1.0</td>\n",
       "      <td>0.6369</td>\n",
       "    </tr>\n",
       "  </tbody>\n",
       "</table>\n",
       "</div>"
      ],
      "text/plain": [
       "          neg  neu  pos  compound\n",
       "yes u     0.0  0.0  1.0    0.4019\n",
       "honestly  0.0  0.0  1.0    0.4588\n",
       "better    0.0  0.0  1.0    0.4404\n",
       "want fun  0.0  0.0  1.0    0.5574\n",
       "love      0.0  0.0  1.0    0.6369"
      ]
     },
     "execution_count": 27,
     "metadata": {},
     "output_type": "execute_result"
    }
   ],
   "source": [
    "# Get the top 5 most positive cleaned tweets related to cheesecake\n",
    "polarity_pd.sort_values('pos', ascending = 0).head(5)"
   ]
  },
  {
   "cell_type": "code",
   "execution_count": 28,
   "id": "080c5ed3",
   "metadata": {},
   "outputs": [
    {
     "data": {
      "text/html": [
       "<div>\n",
       "<style scoped>\n",
       "    .dataframe tbody tr th:only-of-type {\n",
       "        vertical-align: middle;\n",
       "    }\n",
       "\n",
       "    .dataframe tbody tr th {\n",
       "        vertical-align: top;\n",
       "    }\n",
       "\n",
       "    .dataframe thead th {\n",
       "        text-align: right;\n",
       "    }\n",
       "</style>\n",
       "<table border=\"1\" class=\"dataframe\">\n",
       "  <thead>\n",
       "    <tr style=\"text-align: right;\">\n",
       "      <th></th>\n",
       "      <th>neg</th>\n",
       "      <th>neu</th>\n",
       "      <th>pos</th>\n",
       "      <th>compound</th>\n",
       "    </tr>\n",
       "  </thead>\n",
       "  <tbody>\n",
       "    <tr>\n",
       "      <th>insane</th>\n",
       "      <td>1.000</td>\n",
       "      <td>0.000</td>\n",
       "      <td>0.0</td>\n",
       "      <td>-0.4019</td>\n",
       "    </tr>\n",
       "    <tr>\n",
       "      <th>fire</th>\n",
       "      <td>1.000</td>\n",
       "      <td>0.000</td>\n",
       "      <td>0.0</td>\n",
       "      <td>-0.3400</td>\n",
       "    </tr>\n",
       "    <tr>\n",
       "      <th>cry</th>\n",
       "      <td>1.000</td>\n",
       "      <td>0.000</td>\n",
       "      <td>0.0</td>\n",
       "      <td>-0.4767</td>\n",
       "    </tr>\n",
       "    <tr>\n",
       "      <th>victim abuse victim abuse amber</th>\n",
       "      <td>0.926</td>\n",
       "      <td>0.074</td>\n",
       "      <td>0.0</td>\n",
       "      <td>-0.9118</td>\n",
       "    </tr>\n",
       "    <tr>\n",
       "      <th>heartbroken crying ride</th>\n",
       "      <td>0.881</td>\n",
       "      <td>0.119</td>\n",
       "      <td>0.0</td>\n",
       "      <td>-0.8126</td>\n",
       "    </tr>\n",
       "  </tbody>\n",
       "</table>\n",
       "</div>"
      ],
      "text/plain": [
       "                                   neg    neu  pos  compound\n",
       "insane                           1.000  0.000  0.0   -0.4019\n",
       "fire                             1.000  0.000  0.0   -0.3400\n",
       "cry                              1.000  0.000  0.0   -0.4767\n",
       "victim abuse victim abuse amber  0.926  0.074  0.0   -0.9118\n",
       "heartbroken crying ride          0.881  0.119  0.0   -0.8126"
      ]
     },
     "execution_count": 28,
     "metadata": {},
     "output_type": "execute_result"
    }
   ],
   "source": [
    "# Get the top 5 most negative words related to cheesecake\n",
    "polarity_pd.sort_values('neg', ascending = 0).head(5)"
   ]
  },
  {
   "cell_type": "code",
   "execution_count": 29,
   "id": "f744434b",
   "metadata": {},
   "outputs": [
    {
     "data": {
      "text/plain": [
       "count    1295.000000\n",
       "mean        0.142539\n",
       "std         0.329356\n",
       "min        -0.911800\n",
       "25%         0.000000\n",
       "50%         0.000000\n",
       "75%         0.381800\n",
       "max         0.961200\n",
       "Name: compound, dtype: float64"
      ]
     },
     "execution_count": 29,
     "metadata": {},
     "output_type": "execute_result"
    }
   ],
   "source": [
    "# Show the distribution of sentiment values.\n",
    "polarity_pd['compound'].describe()"
   ]
  },
  {
   "cell_type": "markdown",
   "id": "d6f8a49b",
   "metadata": {},
   "source": [
    "### 3. Plot the output"
   ]
  },
  {
   "cell_type": "code",
   "execution_count": 30,
   "id": "e3423f1f",
   "metadata": {},
   "outputs": [],
   "source": [
    "# Import matplotlib for visualisation.\n",
    "%matplotlib inline\n",
    "import matplotlib.pyplot as plt"
   ]
  },
  {
   "cell_type": "code",
   "execution_count": 33,
   "id": "4daaac87",
   "metadata": {},
   "outputs": [
    {
     "data": {
      "image/png": "[encoded data removed]",
      "text/plain": [
       "<Figure size 432x288 with 2 Axes>"
      ]
     },
     "metadata": {
      "needs_background": "light"
     },
     "output_type": "display_data"
    }
   ],
   "source": [
    "# Create barplot visualisation.\n",
    "_plot = polarity_pd.reset_index()['compound'].sort_values()\n",
    "_plot.plot(kind = 'bar')\n",
    "ax1 = plt.axes()\n",
    "x_axis = ax1.axes.get_xaxis()\n",
    "x_axis.set_visible(False)\n",
    "\n",
    "plt.show()\n",
    "plt.close()"
   ]
  },
  {
   "cell_type": "code",
   "execution_count": 34,
   "id": "a8398c8f",
   "metadata": {},
   "outputs": [
    {
     "data": {
      "text/plain": [
       "<AxesSubplot:>"
      ]
     },
     "execution_count": 34,
     "metadata": {},
     "output_type": "execute_result"
    },
    {
     "data": {
      "image/png": "[encoded data removed]",
      "text/plain": [
       "<Figure size 432x288 with 1 Axes>"
      ]
     },
     "metadata": {
      "needs_background": "light"
     },
     "output_type": "display_data"
    }
   ],
   "source": [
    "# Visualise outliers with a boxplot.\n",
    "_plot = polarity_pd.reset_index()['compound'].sort_values()\n",
    "_plot.plot(kind = 'box')"
   ]
  },
  {
   "cell_type": "code",
   "execution_count": null,
   "id": "5d2aa604",
   "metadata": {},
   "outputs": [],
   "source": []
  }
 ],
 "metadata": {
  "kernelspec": {
   "display_name": "Python 3 (ipykernel)",
   "language": "python",
   "name": "python3"
  },
  "language_info": {
   "codemirror_mode": {
    "name": "ipython",
    "version": 3
   },
   "file_extension": ".py",
   "mimetype": "text/x-python",
   "name": "python",
   "nbconvert_exporter": "python",
   "pygments_lexer": "ipython3",
   "version": "3.9.7"
  }
 },
 "nbformat": 4,
 "nbformat_minor": 5
}
