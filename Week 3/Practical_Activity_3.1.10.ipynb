{
 "cells": [
  {
   "cell_type": "markdown",
   "id": "cf991ca6",
   "metadata": {},
   "source": [
    "## Practical Activity 3.1.10"
   ]
  },
  {
   "cell_type": "markdown",
   "id": "b0dab3bb",
   "metadata": {},
   "source": [
    "### 1. Prepare your workstation"
   ]
  },
  {
   "cell_type": "code",
   "execution_count": 1,
   "id": "4ecb754c",
   "metadata": {},
   "outputs": [
    {
     "name": "stdout",
     "output_type": "stream",
     "text": [
      "Collecting VaderSentiment\n",
      "  Downloading vaderSentiment-3.3.2-py2.py3-none-any.whl (125 kB)\n",
      "Requirement already satisfied: requests in c:\\users\\richa\\anaconda3\\lib\\site-packages (from VaderSentiment) (2.26.0)\n",
      "Requirement already satisfied: charset-normalizer~=2.0.0 in c:\\users\\richa\\anaconda3\\lib\\site-packages (from requests->VaderSentiment) (2.0.4)\n",
      "Requirement already satisfied: idna<4,>=2.5 in c:\\users\\richa\\anaconda3\\lib\\site-packages (from requests->VaderSentiment) (3.2)\n",
      "Requirement already satisfied: certifi>=2017.4.17 in c:\\users\\richa\\anaconda3\\lib\\site-packages (from requests->VaderSentiment) (2021.10.8)\n",
      "Requirement already satisfied: urllib3<1.27,>=1.21.1 in c:\\users\\richa\\anaconda3\\lib\\site-packages (from requests->VaderSentiment) (1.26.7)\n",
      "Installing collected packages: VaderSentiment\n",
      "Successfully installed VaderSentiment-3.3.2\n"
     ]
    }
   ],
   "source": [
    "# Install vaderSentiment tool.\n",
    "!pip install VaderSentiment"
   ]
  },
  {
   "cell_type": "code",
   "execution_count": 2,
   "id": "75d6a328",
   "metadata": {},
   "outputs": [],
   "source": [
    "# Import the necessary class.\n",
    "from vaderSentiment.vaderSentiment import SentimentIntensityAnalyzer\n",
    "\n",
    "# Create an object from the class.\n",
    "sia = SentimentIntensityAnalyzer()"
   ]
  },
  {
   "cell_type": "markdown",
   "id": "26192dff",
   "metadata": {},
   "source": [
    "### 2. Define the input data"
   ]
  },
  {
   "cell_type": "code",
   "execution_count": 5,
   "id": "1779695a",
   "metadata": {},
   "outputs": [],
   "source": [
    "# Define the input data.\n",
    "sentences = [\n",
    "\"Excellent customer service. Also loved the amazing showroom where you can \\\n",
    "get a real feel of the top quality furniture and get inspiration for room \\\n",
    "designs.\",\n",
    "\"I found the sales person to be quite rude and stuck up... don't think she \\\n",
    "realised I know all the suppliers she uses. I got the sofa & chair elsewhere. \\\n",
    "I will not be coming back\",\n",
    "\"Thank you for finding replacement crystals for my chandelier.\",\n",
    "\"I have worked with the team in several houses. All work was carried out on \\\n",
    "time and to budget.\"]"
   ]
  },
  {
   "cell_type": "code",
   "execution_count": 7,
   "id": "091bc030",
   "metadata": {},
   "outputs": [
    {
     "name": "stdout",
     "output_type": "stream",
     "text": [
      "['Excellent customer service. Also loved the amazing showroom where you can get a real feel of the top quality furniture and get inspiration for room designs.', \"I found the sales person to be quite rude and stuck up... don't think she realised I know all the suppliers she uses. I got the sofa & chair elsewhere. I will not be coming back\", 'Thank you for finding replacement crystals for my chandelier.', 'I have worked with the team in several houses. All work was carried out on time and to budget.']\n"
     ]
    }
   ],
   "source": [
    "# Display the data.\n",
    "print(sentences)"
   ]
  },
  {
   "cell_type": "markdown",
   "id": "411d77e3",
   "metadata": {},
   "source": [
    "### 3. Apply sentiment analysis"
   ]
  },
  {
   "cell_type": "code",
   "execution_count": 9,
   "id": "bd6afddd",
   "metadata": {},
   "outputs": [
    {
     "name": "stdout",
     "output_type": "stream",
     "text": [
      "The sentiment value of the sentence: \"Excellent customer service. Also loved the amazing showroom where you can get a real feel of the top quality furniture and get inspiration for room designs.\" is: 0.9485\n",
      "The sentiment value of the sentence: \"I found the sales person to be quite rude and stuck up... don't think she realised I know all the suppliers she uses. I got the sofa & chair elsewhere. I will not be coming back\" is: -0.6764\n",
      "The sentiment value of the sentence: \"Thank you for finding replacement crystals for my chandelier.\" is: 0.3612\n",
      "The sentiment value of the sentence: \"I have worked with the team in several houses. All work was carried out on time and to budget.\" is: 0.0\n"
     ]
    }
   ],
   "source": [
    "# Apply sentiment analysis.\n",
    "for sentence in sentences:\n",
    "    score = sia.polarity_scores(sentence)[\"compound\"]\n",
    "    print(f'The sentiment value of the sentence: \"{sentence}\" is: {score}')"
   ]
  },
  {
   "cell_type": "markdown",
   "id": "cddf9e54",
   "metadata": {},
   "source": [
    "### 4. Calculate the output"
   ]
  },
  {
   "cell_type": "code",
   "execution_count": 10,
   "id": "ca25d0fc",
   "metadata": {},
   "outputs": [
    {
     "name": "stdout",
     "output_type": "stream",
     "text": [
      "For the sentence \"Excellent customer service. Also loved the amazing showroom where you can get a real feel of the top quality furniture and get inspiration for room designs.\"\n",
      "For the sentence \"I found the sales person to be quite rude and stuck up... don't think she realised I know all the suppliers she uses. I got the sofa & chair elsewhere. I will not be coming back\"\n",
      "For the sentence \"Thank you for finding replacement crystals for my chandelier.\"\n",
      "For the sentence \"I have worked with the team in several houses. All work was carried out on time and to budget.\"\n",
      "The percentage of positive sentiment in: \"I have worked with the team in several houses. All work was carried out on time and to budget.\" is : 0.0 %\n",
      "The percentage of neutral sentiment in: \"I have worked with the team in several houses. All work was carried out on time and to budget.\" is : 100.0 %\n",
      "The percentage of negative sentiment in: \"I have worked with the team in several houses. All work was carried out on time and to budget.\" is : 0.0 %\n",
      "==================================================\n"
     ]
    }
   ],
   "source": [
    "# Calculate the percentage of the output.\n",
    "for sentence in sentences:\n",
    "    print(f'For the sentence \"{sentence}\"')\n",
    "    # Calculate the scores.\n",
    "    polarity = sia.polarity_scores(sentence)\n",
    "    pos = polarity['pos']\n",
    "    neu = polarity['neu']\n",
    "    neg = polarity['neg']\n",
    "    \n",
    "# Display the results.\n",
    "print(f'The percentage of positive sentiment in: \"{sentence}\" is : {round(pos * 100, 2)} %')\n",
    "print(f'The percentage of neutral sentiment in: \"{sentence}\" is : {round(neu * 100, 2)} %')\n",
    "print(f'The percentage of negative sentiment in: \"{sentence}\" is : {round(neg * 100, 2)} %')\n",
    "print(\"=\" * 50)"
   ]
  },
  {
   "cell_type": "code",
   "execution_count": null,
   "id": "f3a87dd2",
   "metadata": {},
   "outputs": [],
   "source": []
  }
 ],
 "metadata": {
  "kernelspec": {
   "display_name": "Python 3 (ipykernel)",
   "language": "python",
   "name": "python3"
  },
  "language_info": {
   "codemirror_mode": {
    "name": "ipython",
    "version": 3
   },
   "file_extension": ".py",
   "mimetype": "text/x-python",
   "name": "python",
   "nbconvert_exporter": "python",
   "pygments_lexer": "ipython3",
   "version": "3.9.7"
  }
 },
 "nbformat": 4,
 "nbformat_minor": 5
}
