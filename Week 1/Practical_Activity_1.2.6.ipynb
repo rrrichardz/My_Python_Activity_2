{
 "cells": [
  {
   "cell_type": "markdown",
   "id": "eb72ec4a",
   "metadata": {},
   "source": [
    "## Practical_Activity_1.2.6"
   ]
  },
  {
   "cell_type": "markdown",
   "id": "e0ec3ed0",
   "metadata": {},
   "source": [
    "### 1. Prepare your workstation"
   ]
  },
  {
   "cell_type": "code",
   "execution_count": 20,
   "id": "9aed69b8",
   "metadata": {},
   "outputs": [],
   "source": [
    "# Import all the necessary packages.\n",
    "import numpy as np\n",
    "import pandas as pd\n",
    "import matplotlib.pyplot as plt\n",
    "import statsmodels.api as sm\n",
    "import sklearn\n",
    "\n",
    "from sklearn import datasets \n",
    "from sklearn import linear_model\n",
    "from sklearn.model_selection import train_test_split\n",
    "from sklearn import metrics\n",
    "from sklearn.linear_model import LinearRegression"
   ]
  },
  {
   "cell_type": "markdown",
   "id": "cc1f5f91",
   "metadata": {},
   "source": [
    "### 2. Import the data set"
   ]
  },
  {
   "cell_type": "code",
   "execution_count": 22,
   "id": "df7c6374",
   "metadata": {},
   "outputs": [
    {
     "data": {
      "text/html": [
       "<div>\n",
       "<style scoped>\n",
       "    .dataframe tbody tr th:only-of-type {\n",
       "        vertical-align: middle;\n",
       "    }\n",
       "\n",
       "    .dataframe tbody tr th {\n",
       "        vertical-align: top;\n",
       "    }\n",
       "\n",
       "    .dataframe thead th {\n",
       "        text-align: right;\n",
       "    }\n",
       "</style>\n",
       "<table border=\"1\" class=\"dataframe\">\n",
       "  <thead>\n",
       "    <tr style=\"text-align: right;\">\n",
       "      <th></th>\n",
       "      <th>Sale</th>\n",
       "      <th>por_OS</th>\n",
       "      <th>por_NON</th>\n",
       "      <th>recc</th>\n",
       "      <th>avg_no_it</th>\n",
       "      <th>age</th>\n",
       "      <th>dis</th>\n",
       "      <th>diff_reg</th>\n",
       "      <th>tax</th>\n",
       "      <th>bk</th>\n",
       "      <th>lowstat</th>\n",
       "      <th>Median_s</th>\n",
       "    </tr>\n",
       "  </thead>\n",
       "  <tbody>\n",
       "    <tr>\n",
       "      <th>0</th>\n",
       "      <td>0.63</td>\n",
       "      <td>18.0</td>\n",
       "      <td>2.31</td>\n",
       "      <td>0</td>\n",
       "      <td>6.575</td>\n",
       "      <td>65.2</td>\n",
       "      <td>4.0900</td>\n",
       "      <td>1</td>\n",
       "      <td>296</td>\n",
       "      <td>396.90</td>\n",
       "      <td>4.98</td>\n",
       "      <td>24.0</td>\n",
       "    </tr>\n",
       "    <tr>\n",
       "      <th>1</th>\n",
       "      <td>2.73</td>\n",
       "      <td>0.0</td>\n",
       "      <td>7.07</td>\n",
       "      <td>0</td>\n",
       "      <td>6.421</td>\n",
       "      <td>78.9</td>\n",
       "      <td>4.9671</td>\n",
       "      <td>2</td>\n",
       "      <td>242</td>\n",
       "      <td>396.90</td>\n",
       "      <td>9.14</td>\n",
       "      <td>21.6</td>\n",
       "    </tr>\n",
       "    <tr>\n",
       "      <th>2</th>\n",
       "      <td>2.73</td>\n",
       "      <td>0.0</td>\n",
       "      <td>7.07</td>\n",
       "      <td>0</td>\n",
       "      <td>7.185</td>\n",
       "      <td>61.1</td>\n",
       "      <td>4.9671</td>\n",
       "      <td>2</td>\n",
       "      <td>242</td>\n",
       "      <td>392.83</td>\n",
       "      <td>4.03</td>\n",
       "      <td>34.7</td>\n",
       "    </tr>\n",
       "    <tr>\n",
       "      <th>3</th>\n",
       "      <td>3.24</td>\n",
       "      <td>0.0</td>\n",
       "      <td>2.18</td>\n",
       "      <td>0</td>\n",
       "      <td>6.998</td>\n",
       "      <td>45.8</td>\n",
       "      <td>6.0622</td>\n",
       "      <td>3</td>\n",
       "      <td>222</td>\n",
       "      <td>394.63</td>\n",
       "      <td>2.94</td>\n",
       "      <td>33.4</td>\n",
       "    </tr>\n",
       "    <tr>\n",
       "      <th>4</th>\n",
       "      <td>6.91</td>\n",
       "      <td>0.0</td>\n",
       "      <td>2.18</td>\n",
       "      <td>0</td>\n",
       "      <td>7.147</td>\n",
       "      <td>54.2</td>\n",
       "      <td>6.0622</td>\n",
       "      <td>3</td>\n",
       "      <td>222</td>\n",
       "      <td>396.90</td>\n",
       "      <td>5.33</td>\n",
       "      <td>36.2</td>\n",
       "    </tr>\n",
       "  </tbody>\n",
       "</table>\n",
       "</div>"
      ],
      "text/plain": [
       "   Sale  por_OS  por_NON  recc  avg_no_it   age     dis  diff_reg  tax  \\\n",
       "0  0.63    18.0     2.31     0      6.575  65.2  4.0900         1  296   \n",
       "1  2.73     0.0     7.07     0      6.421  78.9  4.9671         2  242   \n",
       "2  2.73     0.0     7.07     0      7.185  61.1  4.9671         2  242   \n",
       "3  3.24     0.0     2.18     0      6.998  45.8  6.0622         3  222   \n",
       "4  6.91     0.0     2.18     0      7.147  54.2  6.0622         3  222   \n",
       "\n",
       "       bk  lowstat  Median_s  \n",
       "0  396.90     4.98      24.0  \n",
       "1  396.90     9.14      21.6  \n",
       "2  392.83     4.03      34.7  \n",
       "3  394.63     2.94      33.4  \n",
       "4  396.90     5.33      36.2  "
      ]
     },
     "execution_count": 22,
     "metadata": {},
     "output_type": "execute_result"
    }
   ],
   "source": [
    "# Import the data set.\n",
    "df = pd.read_csv(\"Ecommerce_data.csv\")\n",
    "\n",
    "# View DataFrame.\n",
    "df.head()"
   ]
  },
  {
   "cell_type": "code",
   "execution_count": 24,
   "id": "f9a3773d",
   "metadata": {},
   "outputs": [],
   "source": [
    "# Fill the missing values to 0.\n",
    "df.fillna(0, inplace = True)"
   ]
  },
  {
   "cell_type": "markdown",
   "id": "d5a2cc20",
   "metadata": {},
   "source": [
    "### 3. Define the variables"
   ]
  },
  {
   "cell_type": "code",
   "execution_count": 25,
   "id": "52ce331e",
   "metadata": {},
   "outputs": [],
   "source": [
    "# Define the variables.\n",
    "x = df['avg_no_it'].values.reshape(-1, 1)\n",
    "y = df['Median_s'].values"
   ]
  },
  {
   "cell_type": "markdown",
   "id": "2aa1088f",
   "metadata": {},
   "source": [
    "### 4. Split the data set"
   ]
  },
  {
   "cell_type": "code",
   "execution_count": 30,
   "id": "915b6906",
   "metadata": {},
   "outputs": [],
   "source": [
    "# Split the data into training = 70% and test = 30% subsets.\n",
    "x_train, x_test, y_train, y_test = train_test_split(x, y, test_size = 0.3,\n",
    "                                                   random_state = 0)"
   ]
  },
  {
   "cell_type": "markdown",
   "id": "1c3cd4ee",
   "metadata": {},
   "source": [
    "### 5. Run a linear equation"
   ]
  },
  {
   "cell_type": "code",
   "execution_count": 31,
   "id": "81f9aab2",
   "metadata": {},
   "outputs": [],
   "source": [
    "# Linear regression.\n",
    "lr = LinearRegression()"
   ]
  },
  {
   "cell_type": "code",
   "execution_count": 32,
   "id": "e732c8cd",
   "metadata": {},
   "outputs": [
    {
     "data": {
      "text/plain": [
       "LinearRegression()"
      ]
     },
     "execution_count": 32,
     "metadata": {},
     "output_type": "execute_result"
    }
   ],
   "source": [
    "# Fit the data into the model.\n",
    "lr.fit(x_train, y_train)"
   ]
  },
  {
   "cell_type": "code",
   "execution_count": 33,
   "id": "6ea1a769",
   "metadata": {},
   "outputs": [],
   "source": [
    "# Predict the x-test.\n",
    "y_pred = lr.predict(x_test)"
   ]
  },
  {
   "cell_type": "markdown",
   "id": "2e95e452",
   "metadata": {},
   "source": [
    "### 6. Plot the regression"
   ]
  },
  {
   "cell_type": "code",
   "execution_count": 34,
   "id": "db0c5d32",
   "metadata": {},
   "outputs": [
    {
     "data": {
      "image/png": "[encoded data removed]",
      "text/plain": [
       "<Figure size 432x288 with 1 Axes>"
      ]
     },
     "metadata": {
      "needs_background": "light"
     },
     "output_type": "display_data"
    }
   ],
   "source": [
    "# Training data visualisation.\n",
    "plt.scatter(x_train, y_train, color = 'red')\n",
    "plt.plot(x_train, lr.predict(x_train), color = 'green')\n",
    "plt.title(\"Avg. no of items vs Median of Seller Business(Training Data)\")\n",
    "plt.xlabel(\"Avg. no of items\")\n",
    "plt.ylabel(\"Median of Seller Business\")\n",
    "\n",
    "plt.show()"
   ]
  },
  {
   "cell_type": "code",
   "execution_count": 38,
   "id": "572512b1",
   "metadata": {},
   "outputs": [
    {
     "data": {
      "image/png": "[encoded data removed]",
      "text/plain": [
       "<Figure size 432x288 with 1 Axes>"
      ]
     },
     "metadata": {
      "needs_background": "light"
     },
     "output_type": "display_data"
    }
   ],
   "source": [
    "# Test data visualisation.\n",
    "plt.scatter(x_test, y_test, color = 'red')\n",
    "plt.plot(x_test, y_pred, color = 'green')\n",
    "plt.title(\"Avg. no of items vs Median of Seller Business(Training Data)\")\n",
    "plt.xlabel(\"Avg. no of items\")\n",
    "plt.ylabel(\"Median of Seller Business\")\n",
    "\n",
    "plt.show()"
   ]
  },
  {
   "cell_type": "markdown",
   "id": "8b58d03c",
   "metadata": {},
   "source": [
    "### 7. Print the values"
   ]
  },
  {
   "cell_type": "code",
   "execution_count": 39,
   "id": "ad987c37",
   "metadata": {},
   "outputs": [
    {
     "name": "stdout",
     "output_type": "stream",
     "text": [
      "0.5026497630040827\n"
     ]
    }
   ],
   "source": [
    "# Print the R-squared value.\n",
    "print(lr.score(x_train, y_train))"
   ]
  },
  {
   "cell_type": "code",
   "execution_count": 40,
   "id": "4a8490eb",
   "metadata": {},
   "outputs": [
    {
     "name": "stdout",
     "output_type": "stream",
     "text": [
      "Intercept value:  -35.9943489781835\n",
      "Coefficient value:  [9.31132806]\n"
     ]
    }
   ],
   "source": [
    "# Print the intercept value.\n",
    "print(\"Intercept value: \", lr.intercept_)\n",
    "# Print the coefficient value.\n",
    "print(\"Coefficient value: \", lr.coef_)"
   ]
  },
  {
   "cell_type": "code",
   "execution_count": 44,
   "id": "343b7409",
   "metadata": {},
   "outputs": [],
   "source": [
    "# The R-squared tells us that the model is explaining a fraction over 50% of the model.\n",
    "# The intercept value of -35.99 tells us that as the low stat variable increases by 1,\n",
    "# the predicted value of Median_s decreases by -35.99."
   ]
  },
  {
   "cell_type": "code",
   "execution_count": null,
   "id": "aa12e28d",
   "metadata": {},
   "outputs": [],
   "source": []
  }
 ],
 "metadata": {
  "kernelspec": {
   "display_name": "Python 3 (ipykernel)",
   "language": "python",
   "name": "python3"
  },
  "language_info": {
   "codemirror_mode": {
    "name": "ipython",
    "version": 3
   },
   "file_extension": ".py",
   "mimetype": "text/x-python",
   "name": "python",
   "nbconvert_exporter": "python",
   "pygments_lexer": "ipython3",
   "version": "3.9.7"
  }
 },
 "nbformat": 4,
 "nbformat_minor": 5
}
