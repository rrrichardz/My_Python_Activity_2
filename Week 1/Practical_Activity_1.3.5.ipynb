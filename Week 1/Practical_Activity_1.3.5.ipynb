{
 "cells": [
  {
   "cell_type": "markdown",
   "id": "eb72ec4a",
   "metadata": {},
   "source": [
    "## Practical_Activity_1.3.5"
   ]
  },
  {
   "cell_type": "markdown",
   "id": "e0ec3ed0",
   "metadata": {},
   "source": [
    "### 1. Prepare your workstation"
   ]
  },
  {
   "cell_type": "code",
   "execution_count": 1,
   "id": "9aed69b8",
   "metadata": {},
   "outputs": [],
   "source": [
    "# Import all the necessary packages.\n",
    "import numpy as np\n",
    "import pandas as pd\n",
    "import matplotlib.pyplot as plt\n",
    "import statsmodels.api as sm\n",
    "import statsmodels.stats.api as sms\n",
    "import sklearn\n",
    "\n",
    "from sklearn import datasets \n",
    "from sklearn import linear_model\n",
    "from statsmodels.stats.outliers_influence import variance_inflation_factor\n",
    "from sklearn.model_selection import train_test_split\n",
    "from sklearn import metrics\n",
    "from sklearn.linear_model import LinearRegression\n",
    "from statsmodels.formula.api import ols"
   ]
  },
  {
   "cell_type": "markdown",
   "id": "cc1f5f91",
   "metadata": {},
   "source": [
    "### 2. Import the data set"
   ]
  },
  {
   "cell_type": "code",
   "execution_count": 5,
   "id": "df7c6374",
   "metadata": {},
   "outputs": [
    {
     "name": "stdout",
     "output_type": "stream",
     "text": [
      "<class 'pandas.core.frame.DataFrame'>\n",
      "RangeIndex: 506 entries, 0 to 505\n",
      "Data columns (total 12 columns):\n",
      " #   Column     Non-Null Count  Dtype  \n",
      "---  ------     --------------  -----  \n",
      " 0   Sale       506 non-null    float64\n",
      " 1   por_OS     506 non-null    float64\n",
      " 2   por_NON    506 non-null    float64\n",
      " 3   recc       506 non-null    int64  \n",
      " 4   avg_no_it  506 non-null    float64\n",
      " 5   age        506 non-null    float64\n",
      " 6   dis        506 non-null    float64\n",
      " 7   diff_reg   506 non-null    int64  \n",
      " 8   tax        506 non-null    int64  \n",
      " 9   bk         506 non-null    float64\n",
      " 10  lowstat    506 non-null    float64\n",
      " 11  Median_s   506 non-null    float64\n",
      "dtypes: float64(9), int64(3)\n",
      "memory usage: 47.6 KB\n"
     ]
    }
   ],
   "source": [
    "# Import the data set.\n",
    "df_ecom = pd.read_csv(\"Ecommerce_data.csv\")\n",
    "\n",
    "# View DataFrame.\n",
    "df_ecom.info()"
   ]
  },
  {
   "cell_type": "markdown",
   "id": "5b5c360b",
   "metadata": {},
   "source": [
    "### 3 Define variables"
   ]
  },
  {
   "cell_type": "code",
   "execution_count": 6,
   "id": "aa12e28d",
   "metadata": {},
   "outputs": [],
   "source": [
    "# Define dependent variable.\n",
    "y = df_ecom['Median_s']\n",
    "\n",
    "# Define independent variable.\n",
    "X = df_ecom[['avg_no_it', 'tax']]"
   ]
  },
  {
   "cell_type": "code",
   "execution_count": 7,
   "id": "ce47171e",
   "metadata": {},
   "outputs": [],
   "source": [
    "# Create train and test data sets.\n",
    "X_train, X_test, y_train, y_test = train_test_split(X, y, test_size = 0.2,\n",
    "                                                    random_state = 5)"
   ]
  },
  {
   "cell_type": "code",
   "execution_count": 8,
   "id": "3a6bbf0c",
   "metadata": {},
   "outputs": [
    {
     "data": {
      "text/plain": [
       "LinearRegression()"
      ]
     },
     "execution_count": 8,
     "metadata": {},
     "output_type": "execute_result"
    }
   ],
   "source": [
    "# Run regression on training data.\n",
    "multi = LinearRegression()\n",
    "multi.fit(X_train, y_train)"
   ]
  },
  {
   "cell_type": "code",
   "execution_count": 9,
   "id": "73c755b6",
   "metadata": {},
   "outputs": [
    {
     "data": {
      "text/plain": [
       "array([19.68077167, 38.76268832, 15.79429553, 23.49922927, 19.2739039 ,\n",
       "        8.11113341, 22.59791218, 14.06288888, 26.39447012, 21.86039213,\n",
       "       19.79545594, 30.26529047, 21.22777796, 21.44808858, 20.79264432,\n",
       "       23.45370907, 21.97392517, 18.46339447, 23.11847005, 34.4541126 ,\n",
       "       25.78072075, 19.76882387, 23.04084157, 26.82686538, 17.75595394,\n",
       "       22.13454223, 20.1246662 , 37.45556138, 34.46353646, 25.41954164,\n",
       "       14.71226966, 21.05474884, 20.37149849, 22.93705789, 11.66858537,\n",
       "        5.63570732, 25.934629  , 26.27064708, 22.2364656 , 21.61934447,\n",
       "       17.77360377, 18.96641292, 31.56527838, 15.15597811, 26.66444607,\n",
       "       20.36881247, 24.43706724, 23.85868181, 18.76614735, 24.03793148,\n",
       "       19.70204364, 17.6314042 , 21.96729204, 33.05748004, 11.14180696,\n",
       "       25.42261122, 31.1691132 , 31.06150421, 21.95950768, 28.04224855,\n",
       "       18.54177868, 31.03384325, 24.53573494, 19.40072084, 20.55261985,\n",
       "       21.02538463, 30.45308592, -2.85702811, 24.909733  , 19.05594186,\n",
       "       17.05358842, 21.07872391, 22.54333459, 12.74517546, 19.53717674,\n",
       "       29.52410786, 22.68984204, 16.15237603, 31.01355975, 36.30385414,\n",
       "       21.09084518, 23.29169095,  8.0566429 , 21.41668368, 32.02703216,\n",
       "       19.22719775, 32.86618479, 24.12806479, 17.86720216, 21.38031987,\n",
       "       22.03620004, 24.877491  , 28.85074631, 17.86493496, 22.91933239,\n",
       "       27.25260989, 22.86244664, 24.32851643, 29.30614581, 17.56912933,\n",
       "       28.19548814, 25.86720913, 12.39253074, 32.57945417, 25.64924709,\n",
       "       19.28168826, 29.81948328, 21.79603615, 23.73407972, 26.05492321,\n",
       "       20.74475221, 20.36043514, 21.55432553, 25.06625729, 23.39089358,\n",
       "       29.27659552, 22.76119763, 20.71609139,  1.6345469 , 13.66138122,\n",
       "       23.51369342, 15.12484067, 25.36408029, 21.8167032 , 17.56912933,\n",
       "       27.54071254, 34.54472279, 17.42901087, 18.88676707, 24.68964319,\n",
       "       19.52300339, 26.01901864, 22.1202932 , 23.95161154, 14.86017247,\n",
       "       24.87956641, 13.22545713, 22.01284696, 29.10550239, 22.6549897 ,\n",
       "       21.93045136, 19.08707929, 20.43628469, 37.66611693, 23.01522699,\n",
       "       17.39305965, 15.25973276, 23.78482629, 18.2255268 , 23.6555908 ,\n",
       "       25.41873355, 19.47064634, 32.32898265, 13.38892867, 23.89994648,\n",
       "       18.5577429 , 39.21649498, 25.04117764, 24.25673633, 24.40614491,\n",
       "       30.00924374, 26.35000213, 21.29919159, 22.79863698, 35.45215002,\n",
       "       21.3879705 , 32.29725224, 27.38120005, 20.55261985, 29.26692753,\n",
       "       21.11489594, 17.86012118, 18.4936948 , 19.71761236, 26.62832639,\n",
       "       15.78885974, 19.28947262, 26.24077698, 26.30526099, 27.78008598,\n",
       "       22.47233924, 17.70146343, 27.89504911, 27.2207981 , 21.44030422,\n",
       "       24.99619806, 22.64313589, 28.74588709, 27.18123098, 23.23436929,\n",
       "       18.47211495, 18.66102067, 17.00087114, 25.65196783, 12.51708048,\n",
       "       31.96010056, 38.62181413, 13.89491199, 10.71110924, 29.72598959,\n",
       "       29.08125985, 20.4907752 , 23.93281049, 21.9384218 , 19.20384468,\n",
       "       19.43737544, 26.34988604, 31.66647505, 19.4786458 , 22.04726909,\n",
       "       19.32839442, 20.78054638, 21.60781617, 29.68798059, 18.48340481,\n",
       "       19.883165  , 17.39008908, 28.88298832, 43.76140359, 20.91202004,\n",
       "       23.91635231, 19.50743467, 28.92360766, 23.44454698, 16.75955602,\n",
       "       26.40651001, 19.50199888, 15.62303964, 21.18107181, 15.63082399,\n",
       "       16.29484306, 18.94279238, 22.34781853, 33.86966369, 29.28774595,\n",
       "       19.76103951, 14.09965389, 34.15550485, 23.98827184, 19.42781785,\n",
       "       19.02906565, 18.08289701, 29.19554862, 27.39787334, 22.26299866,\n",
       "       13.89491199, 28.31664279, 25.28712616, 14.59550428, 25.25219244,\n",
       "       19.08707929, 30.60583724, 17.81044445, 18.83797981, 23.56543416,\n",
       "       21.22913236, 25.18218556, 24.78496815, 32.07708105, 27.39353643,\n",
       "       21.58585846, 23.11367389, 22.55021185, 27.00049318, 23.75769456,\n",
       "       26.84025398, 29.41122015, 21.61129265, 15.75537373, 22.38221163,\n",
       "       22.54703187, 24.64051279, 32.73904804, -0.50615176, 21.94529337,\n",
       "       24.76455093, 20.81039315, 43.22067263, 22.94516776, 21.64412763,\n",
       "       27.25495276, 25.30444478, 24.84610943, 14.25299249, 25.69088962,\n",
       "       37.61464365, 39.49974913, 12.47815869, 18.79905802, 21.22234217,\n",
       "       20.94458756, 24.38822762, 32.10043413, 32.09251604, 12.74282689,\n",
       "       17.92239605, 19.90443697,  3.42494942, 23.82684669, 16.93081191,\n",
       "       26.43869966, 11.8709787 , 22.21639152, 18.85673421, 22.29874047,\n",
       "       21.61907701, 22.56876878, 40.20034142, 22.6777498 ,  1.6345469 ,\n",
       "       14.15958018, 13.14761354, 26.60537451, 25.42673302, 11.3805641 ,\n",
       "       20.12239901, 29.29224562, 22.20217721, 19.28737957, 18.44097751,\n",
       "       22.75559339, 24.55254196, 21.50231162, 16.52602525, 32.04535064,\n",
       "       27.51353415, 26.63573289,  9.55123979, 18.35182644, 22.32397718,\n",
       "       25.76690193,  8.34466417, 28.25784439, 23.66428226, 20.06279822,\n",
       "       40.59316956, 27.92093115, 15.25973276, 22.52989934, 37.76954037,\n",
       "       17.77930702, 22.48707085, 18.55680678, 21.44574   , 28.77680942,\n",
       "       12.0757206 , 19.58741172, 22.37313661, 25.56633988, 33.0890477 ,\n",
       "       23.86450116, 14.27634557, 31.503922  , 18.08289701, 19.29960555,\n",
       "       22.26523114,  7.41054112, 34.35849115, 26.47115678, 26.74759741,\n",
       "       18.59666469, 11.89668035, 21.81373833, 22.18822466, 10.50093156,\n",
       "       20.05660101, 29.21413457, 11.16260205, 23.41340955, 22.30980383,\n",
       "       22.71799128, 17.54034047, 23.84815338, 23.10766846, 15.55298041,\n",
       "       19.77418397, 22.61339382, 23.77445493, 37.79198635, 21.6511039 ,\n",
       "       23.75729906, 22.37415981, 28.09332064, 17.31224549, 20.67735568,\n",
       "       14.97693786, 39.20095529, 23.28169745, 22.99779797, 20.94988961,\n",
       "       19.28395546, 21.24334668, 18.7834893 , 32.99980954, 35.13272385,\n",
       "       19.07035935, 23.94821645, 16.02782629, 18.96479675, 17.01643986,\n",
       "       29.7424711 , 18.06380516, 25.03729997, 21.06792232])"
      ]
     },
     "execution_count": 9,
     "metadata": {},
     "output_type": "execute_result"
    }
   ],
   "source": [
    "multi.predict(X_train)"
   ]
  },
  {
   "cell_type": "code",
   "execution_count": 12,
   "id": "121e3254",
   "metadata": {},
   "outputs": [
    {
     "name": "stdout",
     "output_type": "stream",
     "text": [
      "R-squared:  0.516326158853115\n",
      "Intercept:  -19.67017947454343\n",
      "Coefficients:\n"
     ]
    },
    {
     "data": {
      "text/plain": [
       "[('avg_no_it', 7.784358782154015), ('tax', -0.016376802195044227)]"
      ]
     },
     "execution_count": 12,
     "metadata": {},
     "output_type": "execute_result"
    }
   ],
   "source": [
    "# Check the value of the R-squared, intercept and coefficients.\n",
    "print('R-squared: ', multi.score(X_train, y_train))\n",
    "print('Intercept: ', multi.intercept_)\n",
    "print('Coefficients:')\n",
    "list(zip(X_train, multi.coef_))"
   ]
  },
  {
   "cell_type": "code",
   "execution_count": 13,
   "id": "7fe96dd0",
   "metadata": {},
   "outputs": [
    {
     "name": "stdout",
     "output_type": "stream",
     "text": [
      "Predicted Value: \n",
      " [24.84095613]\n"
     ]
    }
   ],
   "source": [
    "# Make predictions.\n",
    "New_Value1 = 5.75\n",
    "New_Value2 = 15.2\n",
    "print ('Predicted Value: \\n', multi.predict([[New_Value1 ,New_Value2]]))"
   ]
  },
  {
   "cell_type": "markdown",
   "id": "08d52a96",
   "metadata": {},
   "source": [
    "### 4. Check the model with OLS"
   ]
  },
  {
   "cell_type": "code",
   "execution_count": 18,
   "id": "4cf6ccf0",
   "metadata": {},
   "outputs": [
    {
     "data": {
      "text/plain": [
       "LinearRegression()"
      ]
     },
     "execution_count": 18,
     "metadata": {},
     "output_type": "execute_result"
    }
   ],
   "source": [
    "# Run regression on test subset.\n",
    "mlr = LinearRegression()  \n",
    "mlr.fit(X_test, y_test)"
   ]
  },
  {
   "cell_type": "code",
   "execution_count": 19,
   "id": "bd6448db",
   "metadata": {},
   "outputs": [
    {
     "name": "stdout",
     "output_type": "stream",
     "text": [
      "                            OLS Regression Results                            \n",
      "==============================================================================\n",
      "Dep. Variable:               Median_s   R-squared:                       0.758\n",
      "Model:                            OLS   Adj. R-squared:                  0.753\n",
      "Method:                 Least Squares   F-statistic:                     154.8\n",
      "Date:                Wed, 18 May 2022   Prob (F-statistic):           3.31e-31\n",
      "Time:                        18:40:52   Log-Likelihood:                -294.81\n",
      "No. Observations:                 102   AIC:                             595.6\n",
      "Df Residuals:                      99   BIC:                             603.5\n",
      "Df Model:                           2                                         \n",
      "Covariance Type:            nonrobust                                         \n",
      "==============================================================================\n",
      "                 coef    std err          t      P>|t|      [0.025      0.975]\n",
      "------------------------------------------------------------------------------\n",
      "const        -27.9776      4.694     -5.961      0.000     -37.291     -18.664\n",
      "avg_no_it      8.8557      0.648     13.675      0.000       7.571      10.141\n",
      "tax           -0.0130      0.003     -4.577      0.000      -0.019      -0.007\n",
      "==============================================================================\n",
      "Omnibus:                       17.926   Durbin-Watson:                   1.981\n",
      "Prob(Omnibus):                  0.000   Jarque-Bera (JB):               27.109\n",
      "Skew:                           0.797   Prob(JB):                     1.30e-06\n",
      "Kurtosis:                       4.958   Cond. No.                     4.90e+03\n",
      "==============================================================================\n",
      "\n",
      "Notes:\n",
      "[1] Standard Errors assume that the covariance matrix of the errors is correctly specified.\n",
      "[2] The condition number is large, 4.9e+03. This might indicate that there are\n",
      "strong multicollinearity or other numerical problems.\n"
     ]
    },
    {
     "name": "stderr",
     "output_type": "stream",
     "text": [
      "C:\\Users\\richa\\anaconda3\\lib\\site-packages\\statsmodels\\tsa\\tsatools.py:142: FutureWarning: In a future version of pandas all arguments of concat except for the argument 'objs' will be keyword-only\n",
      "  x = pd.concat(x[::order], 1)\n"
     ]
    }
   ],
   "source": [
    "model = sm.OLS(y_test, sm.add_constant(X_test)).fit()\n",
    "y_pred = model.predict(sm.add_constant(X_test))\n",
    "print_model = model.summary()\n",
    "\n",
    "print(print_model)"
   ]
  },
  {
   "cell_type": "code",
   "execution_count": 20,
   "id": "1154e1c4",
   "metadata": {},
   "outputs": [
    {
     "name": "stdout",
     "output_type": "stream",
     "text": [
      "Prediction for test set: [39.2353427  27.55398583 25.34304102  6.81916286 37.23561518 10.34373721\n",
      " 30.25442409 27.5989339  25.87813291 20.3772617  34.11197713 22.1147792\n",
      " 20.96068651 33.21925221 27.02497641 19.6819826   4.35727424 14.64491729\n",
      " 14.67678255 14.35537586  7.89076173 22.77568732 41.23673417 24.59152944\n",
      " 31.09041885 15.21438017 24.75917594 21.10490281 25.04602069 24.94648494\n",
      " 21.43992782 10.73344607 15.50661874 28.84332472 25.26754755 22.36832445\n",
      " 26.75764102 15.58632017 42.964134   30.95222759 18.21646737 10.79390565\n",
      " 26.64251674 16.29477733 26.26524033 28.22067014  3.39200136 22.36977784\n",
      " 21.00332028 21.02225586 21.29435385 22.1644516  22.52059297 22.01983379\n",
      " 17.3459102  24.48350121 37.68968578 21.15656457 27.4076275  21.67319849\n",
      " 20.31787266 21.48965764 16.7626572  28.27386185 17.63199021 10.74224436\n",
      " 25.55326386 23.99928673 20.85028655 15.6660216  20.79348028 22.28904368\n",
      " 18.60615662 24.0523832  13.03587441 29.17509794 18.8159588  16.35407018\n",
      " 33.47966381 16.56044876 18.53527309 40.95524496 22.62202237 18.34930309\n",
      " 18.89380487 20.20014741 16.26195544  7.97040574 19.54375305 18.79176339\n",
      " 38.86502836 20.85973519 18.53527309 18.44671594 22.52122419 26.52613001\n",
      " 17.32942293 29.12156214 19.85014546 13.47596298 18.65039738 24.70550614]\n"
     ]
    }
   ],
   "source": [
    "# Predictions on the test subset.\n",
    "y_pred_mlr = mlr.predict(X_test)\n",
    "print('Prediction for test set: {}'.format(y_pred_mlr))"
   ]
  },
  {
   "cell_type": "code",
   "execution_count": 21,
   "id": "b6d4cfac",
   "metadata": {},
   "outputs": [
    {
     "name": "stdout",
     "output_type": "stream",
     "text": [
      "75.7763821386432\n"
     ]
    }
   ],
   "source": [
    "print(mlr.score(X_test, y_test) * 100)"
   ]
  },
  {
   "cell_type": "code",
   "execution_count": 22,
   "id": "c1429e82",
   "metadata": {},
   "outputs": [
    {
     "name": "stdout",
     "output_type": "stream",
     "text": [
      "R-squared: 55.52\n",
      "Mean Absolute Error:  3.0984239086143517\n",
      "Mean Squared Error:  18.965607563812828\n"
     ]
    }
   ],
   "source": [
    "# Determine the R-squared, mean absolute error and mean square error.\n",
    "meanAbErr = metrics.mean_absolute_error(y_test, y_pred_mlr)\n",
    "meanSqErr = metrics.mean_squared_error(y_test, y_pred_mlr)\n",
    "\n",
    "print('R-squared: {:.2f}'.format(mlr.score(X, y) * 100))\n",
    "print('Mean Absolute Error: ', meanAbErr)\n",
    "print('Mean Squared Error: ', meanSqErr)"
   ]
  },
  {
   "cell_type": "code",
   "execution_count": 24,
   "id": "3325b64c",
   "metadata": {},
   "outputs": [
    {
     "name": "stdout",
     "output_type": "stream",
     "text": [
      "   VIF Factor    feature\n",
      "0      108.11      const\n",
      "1        1.07  avg_no_it\n",
      "2        1.07        tax\n"
     ]
    }
   ],
   "source": [
    "# Check for multicollinearity.\n",
    "x_temp = sm.add_constant(X_train)\n",
    "\n",
    "# Create an empty DataFrame.\n",
    "vif = pd.DataFrame()\n",
    "\n",
    "# Calculate the VIF.\n",
    "vif['VIF Factor'] = [variance_inflation_factor(x_temp.values, i) \\\n",
    "for i in range (x_temp.values.shape[1])]\n",
    "\n",
    "# Create the feature column.\n",
    "vif['feature'] = x_temp.columns\n",
    "\n",
    "# Print the values to 2 decimal places.\n",
    "print(vif.round(2))"
   ]
  },
  {
   "cell_type": "code",
   "execution_count": 27,
   "id": "3dee4110",
   "metadata": {},
   "outputs": [],
   "source": [
    "# Check for homoscedasticity.\n",
    "model = sms.het_breuschpagan(model.resid, model.model.exog)"
   ]
  },
  {
   "cell_type": "code",
   "execution_count": 28,
   "id": "908dad85",
   "metadata": {},
   "outputs": [
    {
     "name": "stdout",
     "output_type": "stream",
     "text": [
      "{'LM stat': 8.935428044928047, 'LM Test p-value': 0.01147351409027232, 'F-stat': 4.752653764286001, 'F-test p-value': 0.010693466529860293}\n"
     ]
    }
   ],
   "source": [
    "# Print the results of the Breusch-Pagan test:\n",
    "terms = ['LM stat', 'LM Test p-value', 'F-stat', 'F-test p-value']\n",
    "print(dict(zip(terms, model)))"
   ]
  },
  {
   "cell_type": "code",
   "execution_count": null,
   "id": "64d68a28",
   "metadata": {},
   "outputs": [],
   "source": []
  }
 ],
 "metadata": {
  "kernelspec": {
   "display_name": "Python 3 (ipykernel)",
   "language": "python",
   "name": "python3"
  },
  "language_info": {
   "codemirror_mode": {
    "name": "ipython",
    "version": 3
   },
   "file_extension": ".py",
   "mimetype": "text/x-python",
   "name": "python",
   "nbconvert_exporter": "python",
   "pygments_lexer": "ipython3",
   "version": "3.9.7"
  }
 },
 "nbformat": 4,
 "nbformat_minor": 5
}
