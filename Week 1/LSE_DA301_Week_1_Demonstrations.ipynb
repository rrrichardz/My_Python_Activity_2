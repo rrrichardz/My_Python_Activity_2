{
 "cells": [
  {
   "cell_type": "markdown",
   "id": "b9a3ec7a",
   "metadata": {},
   "source": [
    "### LSE Data Analytics Online Career Accelerator \n",
    "\n",
    "# DA301:  Advanced Analytics for Organisational Impact"
   ]
  },
  {
   "cell_type": "markdown",
   "id": "1dbdb90d",
   "metadata": {},
   "source": [
    "## Week 1: Predicting business outcomes with regression!"
   ]
  },
  {
   "cell_type": "markdown",
   "id": "a24170c4",
   "metadata": {},
   "source": [
    "This week, we will take a deep dive into predictive analytics and, more specifically, regression modelling. You will use this notebook to follow along with the demonstrations throughout the week. \n",
    "\n",
    "This is your notebook. Use it to follow along with the demonstrations, test ideas and explore what is possible. The hands-on experience of writing your own code will accelarate your learning!\n",
    "\n",
    "For more tips: https://jupyter-notebook.readthedocs.io/en/latest/ui_components.html"
   ]
  },
  {
   "cell_type": "markdown",
   "id": "11cfebf7",
   "metadata": {},
   "source": [
    "# 1.1 Advanced Analytics with Python"
   ]
  },
  {
   "cell_type": "markdown",
   "id": "3c2a241a",
   "metadata": {},
   "source": [
    "## A/B testing"
   ]
  },
  {
   "cell_type": "markdown",
   "id": "cc727820",
   "metadata": {},
   "source": [
    "### Conduct Power Analysis"
   ]
  },
  {
   "cell_type": "code",
   "execution_count": 1,
   "id": "8ffa1a09",
   "metadata": {},
   "outputs": [
    {
     "name": "stdout",
     "output_type": "stream",
     "text": [
      "Sample Size: 4720.435\n"
     ]
    }
   ],
   "source": [
    "# [1] Import the 'statsmodel' for statistical calculations and\n",
    "# [1a] the 'TTestIndPower' class to calculate the parameters for the analysis:\n",
    "import statsmodels.stats.api as sms\n",
    "from statsmodels.stats.power import TTestIndPower\n",
    "\n",
    "# [2] Specify the three required parameters for the power analysis:\n",
    "# [2a] Specify 'alpha'\n",
    "alpha = 0.05\n",
    "# [2b] Specify 'power'\n",
    "power = 0.8\n",
    "# [2c] Specify 'effect' and calculate the minimum effect.\n",
    "effect = sms.proportion_effectsize(0.13, 0.15)\n",
    "\n",
    "# [3] Perform power analysis by using solve_power() function:\n",
    "# [3a] Specify an instance of 'TTestIndPower'\n",
    "analysis = TTestIndPower()\n",
    "# [3b] Calculate the sample size and list the parameters\n",
    "result = analysis.solve_power(effect, power = power, nobs1 = None,\n",
    "                             ratio = 1.0, alpha = alpha)\n",
    "\n",
    "# [4] Print the output up to 3 decimal places (with lead-in text)\n",
    "print('Sample Size: %.3f' % result)"
   ]
  },
  {
   "cell_type": "markdown",
   "id": "04431d35",
   "metadata": {},
   "source": [
    "### Prepare the data in Python"
   ]
  },
  {
   "cell_type": "code",
   "execution_count": 1,
   "id": "722c846d",
   "metadata": {},
   "outputs": [
    {
     "name": "stdout",
     "output_type": "stream",
     "text": [
      "Requirement already satisfied: scipy in c:\\users\\richa\\anaconda3\\lib\\site-packages (1.7.1)\n",
      "Requirement already satisfied: numpy<1.23.0,>=1.16.5 in c:\\users\\richa\\anaconda3\\lib\\site-packages (from scipy) (1.20.3)\n"
     ]
    }
   ],
   "source": [
    "# Install the relevant modules:\n",
    "!pip install scipy\n",
    "\n",
    "# Import necessary libraries, packages and classes\n",
    "import pandas as pd\n",
    "# Import Python's built-in maths module\n",
    "import math\n",
    "import numpy as np\n",
    "# Import statsmodels stats test and tools\n",
    "import statsmodels.stats.api as sms\n",
    "# Import the scipy.stats for more stats functions\n",
    "import scipy.stats as st\n",
    "# Import Matplotlib for visualisation tools\n",
    "import matplotlib as mpl\n",
    "import matplotlib.pyplot as plt"
   ]
  },
  {
   "cell_type": "code",
   "execution_count": 2,
   "id": "8e099310",
   "metadata": {},
   "outputs": [
    {
     "data": {
      "text/html": [
       "<div>\n",
       "<style scoped>\n",
       "    .dataframe tbody tr th:only-of-type {\n",
       "        vertical-align: middle;\n",
       "    }\n",
       "\n",
       "    .dataframe tbody tr th {\n",
       "        vertical-align: top;\n",
       "    }\n",
       "\n",
       "    .dataframe thead th {\n",
       "        text-align: right;\n",
       "    }\n",
       "</style>\n",
       "<table border=\"1\" class=\"dataframe\">\n",
       "  <thead>\n",
       "    <tr style=\"text-align: right;\">\n",
       "      <th></th>\n",
       "      <th>user_id</th>\n",
       "      <th>timestamp</th>\n",
       "      <th>group</th>\n",
       "      <th>landing_page</th>\n",
       "      <th>converted</th>\n",
       "    </tr>\n",
       "  </thead>\n",
       "  <tbody>\n",
       "    <tr>\n",
       "      <th>0</th>\n",
       "      <td>851104</td>\n",
       "      <td>2017-01-21 22:11:48.556739</td>\n",
       "      <td>control</td>\n",
       "      <td>old_page</td>\n",
       "      <td>0</td>\n",
       "    </tr>\n",
       "    <tr>\n",
       "      <th>1</th>\n",
       "      <td>804228</td>\n",
       "      <td>2017-01-12 08:01:45.159739</td>\n",
       "      <td>control</td>\n",
       "      <td>old_page</td>\n",
       "      <td>0</td>\n",
       "    </tr>\n",
       "    <tr>\n",
       "      <th>2</th>\n",
       "      <td>661590</td>\n",
       "      <td>2017-01-11 16:55:06.154213</td>\n",
       "      <td>treatment</td>\n",
       "      <td>new_page</td>\n",
       "      <td>0</td>\n",
       "    </tr>\n",
       "    <tr>\n",
       "      <th>3</th>\n",
       "      <td>853541</td>\n",
       "      <td>2017-01-08 18:28:03.143765</td>\n",
       "      <td>treatment</td>\n",
       "      <td>new_page</td>\n",
       "      <td>0</td>\n",
       "    </tr>\n",
       "    <tr>\n",
       "      <th>4</th>\n",
       "      <td>864975</td>\n",
       "      <td>2017-01-21 01:52:26.210827</td>\n",
       "      <td>control</td>\n",
       "      <td>old_page</td>\n",
       "      <td>1</td>\n",
       "    </tr>\n",
       "  </tbody>\n",
       "</table>\n",
       "</div>"
      ],
      "text/plain": [
       "   user_id                   timestamp      group landing_page  converted\n",
       "0   851104  2017-01-21 22:11:48.556739    control     old_page          0\n",
       "1   804228  2017-01-12 08:01:45.159739    control     old_page          0\n",
       "2   661590  2017-01-11 16:55:06.154213  treatment     new_page          0\n",
       "3   853541  2017-01-08 18:28:03.143765  treatment     new_page          0\n",
       "4   864975  2017-01-21 01:52:26.210827    control     old_page          1"
      ]
     },
     "execution_count": 2,
     "metadata": {},
     "output_type": "execute_result"
    }
   ],
   "source": [
    "# Read the 'ab_data.csv' file\n",
    "df = pd.read_csv(\"ab_data.csv\")\n",
    "\n",
    "# View the DataFrame\n",
    "df.head()"
   ]
  },
  {
   "cell_type": "code",
   "execution_count": 3,
   "id": "331703aa",
   "metadata": {},
   "outputs": [
    {
     "name": "stdout",
     "output_type": "stream",
     "text": [
      "<class 'pandas.core.frame.DataFrame'>\n",
      "RangeIndex: 294478 entries, 0 to 294477\n",
      "Data columns (total 5 columns):\n",
      " #   Column        Non-Null Count   Dtype \n",
      "---  ------        --------------   ----- \n",
      " 0   user_id       294478 non-null  int64 \n",
      " 1   timestamp     294478 non-null  object\n",
      " 2   group         294478 non-null  object\n",
      " 3   landing_page  294478 non-null  object\n",
      " 4   converted     294478 non-null  int64 \n",
      "dtypes: int64(2), object(3)\n",
      "memory usage: 11.2+ MB\n"
     ]
    }
   ],
   "source": [
    "# Check the metadata for information about the file\n",
    "df.info()"
   ]
  },
  {
   "cell_type": "markdown",
   "id": "59245019",
   "metadata": {},
   "source": [
    "#### Check for duplicates"
   ]
  },
  {
   "cell_type": "code",
   "execution_count": 4,
   "id": "9d75f752",
   "metadata": {},
   "outputs": [
    {
     "name": "stdout",
     "output_type": "stream",
     "text": [
      "        user_id                   timestamp      group landing_page  converted\n",
      "2656     698120  2017-01-15 17:13:42.602796    control     old_page          0\n",
      "2893     773192  2017-01-14 02:55:59.590927  treatment     new_page          0\n",
      "7500     899953  2017-01-07 03:06:54.068237    control     new_page          0\n",
      "8036     790934  2017-01-19 08:32:20.329057  treatment     new_page          0\n",
      "10218    633793  2017-01-17 00:16:00.746561  treatment     old_page          0\n",
      "...         ...                         ...        ...          ...        ...\n",
      "294308   905197  2017-01-03 06:56:47.488231  treatment     new_page          0\n",
      "294309   787083  2017-01-17 00:15:20.950723    control     old_page          0\n",
      "294328   641570  2017-01-09 21:59:27.695711    control     old_page          0\n",
      "294331   689637  2017-01-13 11:34:28.339532    control     new_page          0\n",
      "294355   744456  2017-01-13 09:32:07.106794  treatment     new_page          0\n",
      "\n",
      "[3894 rows x 5 columns]\n"
     ]
    }
   ],
   "source": [
    "# Use Pandas's duplicated() function to check the user_id column\n",
    "print(df[df.user_id.duplicated()])"
   ]
  },
  {
   "cell_type": "code",
   "execution_count": 5,
   "id": "3ba27434",
   "metadata": {},
   "outputs": [
    {
     "name": "stdout",
     "output_type": "stream",
     "text": [
      "<class 'pandas.core.frame.DataFrame'>\n",
      "Int64Index: 290584 entries, 0 to 294477\n",
      "Data columns (total 5 columns):\n",
      " #   Column        Non-Null Count   Dtype \n",
      "---  ------        --------------   ----- \n",
      " 0   user_id       290584 non-null  int64 \n",
      " 1   timestamp     290584 non-null  object\n",
      " 2   group         290584 non-null  object\n",
      " 3   landing_page  290584 non-null  object\n",
      " 4   converted     290584 non-null  int64 \n",
      "dtypes: int64(2), object(3)\n",
      "memory usage: 13.3+ MB\n"
     ]
    }
   ],
   "source": [
    "# Use 'drop_duplicate' to return the Series without the duplicate values\n",
    "dropped = df.drop_duplicates(subset = \"user_id\")\n",
    "\n",
    "dropped.info()"
   ]
  },
  {
   "cell_type": "markdown",
   "id": "d6bde2f5",
   "metadata": {},
   "source": [
    "#### Remove unnecessary columns"
   ]
  },
  {
   "cell_type": "code",
   "execution_count": 6,
   "id": "41dd6b78",
   "metadata": {},
   "outputs": [
    {
     "data": {
      "text/html": [
       "<div>\n",
       "<style scoped>\n",
       "    .dataframe tbody tr th:only-of-type {\n",
       "        vertical-align: middle;\n",
       "    }\n",
       "\n",
       "    .dataframe tbody tr th {\n",
       "        vertical-align: top;\n",
       "    }\n",
       "\n",
       "    .dataframe thead th {\n",
       "        text-align: right;\n",
       "    }\n",
       "</style>\n",
       "<table border=\"1\" class=\"dataframe\">\n",
       "  <thead>\n",
       "    <tr style=\"text-align: right;\">\n",
       "      <th></th>\n",
       "      <th>group</th>\n",
       "      <th>landing_page</th>\n",
       "      <th>converted</th>\n",
       "    </tr>\n",
       "  </thead>\n",
       "  <tbody>\n",
       "    <tr>\n",
       "      <th>0</th>\n",
       "      <td>control</td>\n",
       "      <td>old_page</td>\n",
       "      <td>0</td>\n",
       "    </tr>\n",
       "    <tr>\n",
       "      <th>1</th>\n",
       "      <td>control</td>\n",
       "      <td>old_page</td>\n",
       "      <td>0</td>\n",
       "    </tr>\n",
       "    <tr>\n",
       "      <th>2</th>\n",
       "      <td>treatment</td>\n",
       "      <td>new_page</td>\n",
       "      <td>0</td>\n",
       "    </tr>\n",
       "    <tr>\n",
       "      <th>3</th>\n",
       "      <td>treatment</td>\n",
       "      <td>new_page</td>\n",
       "      <td>0</td>\n",
       "    </tr>\n",
       "    <tr>\n",
       "      <th>4</th>\n",
       "      <td>control</td>\n",
       "      <td>old_page</td>\n",
       "      <td>1</td>\n",
       "    </tr>\n",
       "  </tbody>\n",
       "</table>\n",
       "</div>"
      ],
      "text/plain": [
       "       group landing_page  converted\n",
       "0    control     old_page          0\n",
       "1    control     old_page          0\n",
       "2  treatment     new_page          0\n",
       "3  treatment     new_page          0\n",
       "4    control     old_page          1"
      ]
     },
     "execution_count": 6,
     "metadata": {},
     "output_type": "execute_result"
    }
   ],
   "source": [
    "# Use 'dropped.drop' to remove irrelevant columns from the DataFrame\n",
    "# and specify the column names:\n",
    "# Specify that 'user_id' and 'timestamp' are columns (i.e. 'axis_1')\n",
    "final_tab = dropped.drop([\"user_id\", \"timestamp\"], axis = 1)\n",
    "\n",
    "final_tab.head()"
   ]
  },
  {
   "cell_type": "markdown",
   "id": "043b5618",
   "metadata": {},
   "source": [
    "#### Check for errors"
   ]
  },
  {
   "cell_type": "code",
   "execution_count": 7,
   "id": "9555b1bc",
   "metadata": {},
   "outputs": [
    {
     "data": {
      "text/html": [
       "<div>\n",
       "<style scoped>\n",
       "    .dataframe tbody tr th:only-of-type {\n",
       "        vertical-align: middle;\n",
       "    }\n",
       "\n",
       "    .dataframe tbody tr th {\n",
       "        vertical-align: top;\n",
       "    }\n",
       "\n",
       "    .dataframe thead th {\n",
       "        text-align: right;\n",
       "    }\n",
       "</style>\n",
       "<table border=\"1\" class=\"dataframe\">\n",
       "  <thead>\n",
       "    <tr style=\"text-align: right;\">\n",
       "      <th>landing_page</th>\n",
       "      <th>new_page</th>\n",
       "      <th>old_page</th>\n",
       "    </tr>\n",
       "    <tr>\n",
       "      <th>group</th>\n",
       "      <th></th>\n",
       "      <th></th>\n",
       "    </tr>\n",
       "  </thead>\n",
       "  <tbody>\n",
       "    <tr>\n",
       "      <th>control</th>\n",
       "      <td>1006</td>\n",
       "      <td>144226</td>\n",
       "    </tr>\n",
       "    <tr>\n",
       "      <th>treatment</th>\n",
       "      <td>144314</td>\n",
       "      <td>1038</td>\n",
       "    </tr>\n",
       "  </tbody>\n",
       "</table>\n",
       "</div>"
      ],
      "text/plain": [
       "landing_page  new_page  old_page\n",
       "group                           \n",
       "control           1006    144226\n",
       "treatment       144314      1038"
      ]
     },
     "execution_count": 7,
     "metadata": {},
     "output_type": "execute_result"
    }
   ],
   "source": [
    "# Use 'crosstab' to compute a simple cross-tabulation between two variables\n",
    "pd.crosstab(final_tab[\"group\"], final_tab[\"landing_page\"])"
   ]
  },
  {
   "cell_type": "code",
   "execution_count": 9,
   "id": "3bffee18",
   "metadata": {},
   "outputs": [
    {
     "name": "stdout",
     "output_type": "stream",
     "text": [
      "(288540, 3)\n"
     ]
    },
    {
     "data": {
      "text/plain": [
       "treatment    144314\n",
       "control      144226\n",
       "Name: group, dtype: int64"
      ]
     },
     "execution_count": 9,
     "metadata": {},
     "output_type": "execute_result"
    }
   ],
   "source": [
    "# [1] Specify groups to be dropped\n",
    "final_tab_cleaned = final_tab[((final_tab.group == 'control') & \\\n",
    "(final_tab.landing_page == 'old_page')) | \\\n",
    "((final_tab.group == 'treatment') & (final_tab.landing_page == 'new_page'))]\n",
    "\n",
    "# [2] Print the shape of the new 'final' table\n",
    "print(final_tab_cleaned.shape)\n",
    "final_tab_cleaned['group'].value_counts()"
   ]
  },
  {
   "cell_type": "code",
   "execution_count": 10,
   "id": "0e098eca",
   "metadata": {},
   "outputs": [
    {
     "data": {
      "text/html": [
       "<div>\n",
       "<style scoped>\n",
       "    .dataframe tbody tr th:only-of-type {\n",
       "        vertical-align: middle;\n",
       "    }\n",
       "\n",
       "    .dataframe tbody tr th {\n",
       "        vertical-align: top;\n",
       "    }\n",
       "\n",
       "    .dataframe thead th {\n",
       "        text-align: right;\n",
       "    }\n",
       "</style>\n",
       "<table border=\"1\" class=\"dataframe\">\n",
       "  <thead>\n",
       "    <tr style=\"text-align: right;\">\n",
       "      <th>landing_page</th>\n",
       "      <th>new_page</th>\n",
       "      <th>old_page</th>\n",
       "    </tr>\n",
       "    <tr>\n",
       "      <th>group</th>\n",
       "      <th></th>\n",
       "      <th></th>\n",
       "    </tr>\n",
       "  </thead>\n",
       "  <tbody>\n",
       "    <tr>\n",
       "      <th>control</th>\n",
       "      <td>0</td>\n",
       "      <td>144226</td>\n",
       "    </tr>\n",
       "    <tr>\n",
       "      <th>treatment</th>\n",
       "      <td>144314</td>\n",
       "      <td>0</td>\n",
       "    </tr>\n",
       "  </tbody>\n",
       "</table>\n",
       "</div>"
      ],
      "text/plain": [
       "landing_page  new_page  old_page\n",
       "group                           \n",
       "control              0    144226\n",
       "treatment       144314         0"
      ]
     },
     "execution_count": 10,
     "metadata": {},
     "output_type": "execute_result"
    }
   ],
   "source": [
    "# Re-check/compute another simple cross-tabulation\n",
    "pd.crosstab(final_tab_cleaned['group'], final_tab_cleaned['landing_page'])"
   ]
  },
  {
   "cell_type": "markdown",
   "id": "107492dd",
   "metadata": {},
   "source": [
    "### Perform random sampling with Pandas"
   ]
  },
  {
   "cell_type": "code",
   "execution_count": 16,
   "id": "514b0de2",
   "metadata": {},
   "outputs": [],
   "source": [
    "# Obtain a simple random sample for control and treatment groups with n = 4721;\n",
    "# set random_stategenerator seed at an arbitrary value of 22.\n",
    "\n",
    "# Obtain a simple random sample for the control group.\n",
    "control_sample = final_tab_cleaned[final_tab_cleaned['group'] == 'control'].sample \\\n",
    "(n = 4721, random_state = 22)\n",
    "                                   \n",
    "# Obtain a simple random sample for the treatment group.\n",
    "treatment_sample = final_tab_cleaned[final_tab_cleaned['group'] == 'treatment'].sample \\\n",
    "(n = 4721, random_state = 22)"
   ]
  },
  {
   "cell_type": "code",
   "execution_count": 17,
   "id": "277a711f",
   "metadata": {},
   "outputs": [
    {
     "data": {
      "text/html": [
       "<div>\n",
       "<style scoped>\n",
       "    .dataframe tbody tr th:only-of-type {\n",
       "        vertical-align: middle;\n",
       "    }\n",
       "\n",
       "    .dataframe tbody tr th {\n",
       "        vertical-align: top;\n",
       "    }\n",
       "\n",
       "    .dataframe thead th {\n",
       "        text-align: right;\n",
       "    }\n",
       "</style>\n",
       "<table border=\"1\" class=\"dataframe\">\n",
       "  <thead>\n",
       "    <tr style=\"text-align: right;\">\n",
       "      <th></th>\n",
       "      <th>group</th>\n",
       "      <th>landing_page</th>\n",
       "      <th>converted</th>\n",
       "    </tr>\n",
       "  </thead>\n",
       "  <tbody>\n",
       "    <tr>\n",
       "      <th>0</th>\n",
       "      <td>control</td>\n",
       "      <td>old_page</td>\n",
       "      <td>0</td>\n",
       "    </tr>\n",
       "    <tr>\n",
       "      <th>1</th>\n",
       "      <td>control</td>\n",
       "      <td>old_page</td>\n",
       "      <td>0</td>\n",
       "    </tr>\n",
       "    <tr>\n",
       "      <th>2</th>\n",
       "      <td>control</td>\n",
       "      <td>old_page</td>\n",
       "      <td>0</td>\n",
       "    </tr>\n",
       "    <tr>\n",
       "      <th>3</th>\n",
       "      <td>control</td>\n",
       "      <td>old_page</td>\n",
       "      <td>0</td>\n",
       "    </tr>\n",
       "    <tr>\n",
       "      <th>4</th>\n",
       "      <td>control</td>\n",
       "      <td>old_page</td>\n",
       "      <td>0</td>\n",
       "    </tr>\n",
       "    <tr>\n",
       "      <th>...</th>\n",
       "      <td>...</td>\n",
       "      <td>...</td>\n",
       "      <td>...</td>\n",
       "    </tr>\n",
       "    <tr>\n",
       "      <th>9437</th>\n",
       "      <td>treatment</td>\n",
       "      <td>new_page</td>\n",
       "      <td>0</td>\n",
       "    </tr>\n",
       "    <tr>\n",
       "      <th>9438</th>\n",
       "      <td>treatment</td>\n",
       "      <td>new_page</td>\n",
       "      <td>0</td>\n",
       "    </tr>\n",
       "    <tr>\n",
       "      <th>9439</th>\n",
       "      <td>treatment</td>\n",
       "      <td>new_page</td>\n",
       "      <td>0</td>\n",
       "    </tr>\n",
       "    <tr>\n",
       "      <th>9440</th>\n",
       "      <td>treatment</td>\n",
       "      <td>new_page</td>\n",
       "      <td>0</td>\n",
       "    </tr>\n",
       "    <tr>\n",
       "      <th>9441</th>\n",
       "      <td>treatment</td>\n",
       "      <td>new_page</td>\n",
       "      <td>0</td>\n",
       "    </tr>\n",
       "  </tbody>\n",
       "</table>\n",
       "<p>9442 rows × 3 columns</p>\n",
       "</div>"
      ],
      "text/plain": [
       "          group landing_page  converted\n",
       "0       control     old_page          0\n",
       "1       control     old_page          0\n",
       "2       control     old_page          0\n",
       "3       control     old_page          0\n",
       "4       control     old_page          0\n",
       "...         ...          ...        ...\n",
       "9437  treatment     new_page          0\n",
       "9438  treatment     new_page          0\n",
       "9439  treatment     new_page          0\n",
       "9440  treatment     new_page          0\n",
       "9441  treatment     new_page          0\n",
       "\n",
       "[9442 rows x 3 columns]"
      ]
     },
     "execution_count": 17,
     "metadata": {},
     "output_type": "execute_result"
    }
   ],
   "source": [
    "# [1] Join the two samples.\n",
    "ab_test = pd.concat([control_sample, treatment_sample], axis = 0)\n",
    "\n",
    "# [2] Reset the A/B index.\n",
    "ab_test.reset_index(drop = True, inplace = True)\n",
    "\n",
    "# [3] Print the sample table.\n",
    "ab_test"
   ]
  },
  {
   "cell_type": "markdown",
   "id": "75dffed6",
   "metadata": {},
   "source": [
    "### Analyse the data"
   ]
  },
  {
   "cell_type": "markdown",
   "id": "8f30deb8",
   "metadata": {},
   "source": [
    "#### Calculate basic statistics"
   ]
  },
  {
   "cell_type": "code",
   "execution_count": 19,
   "id": "d9c05dd6",
   "metadata": {},
   "outputs": [
    {
     "data": {
      "text/html": [
       "<style type=\"text/css\">\n",
       "</style>\n",
       "<table id=\"T_b5d3c_\">\n",
       "  <thead>\n",
       "    <tr>\n",
       "      <th class=\"blank level0\" >&nbsp;</th>\n",
       "      <th class=\"col_heading level0 col0\" >conversion_rate</th>\n",
       "      <th class=\"col_heading level0 col1\" >std_deviationo</th>\n",
       "      <th class=\"col_heading level0 col2\" >std_error</th>\n",
       "    </tr>\n",
       "    <tr>\n",
       "      <th class=\"index_name level0\" >group</th>\n",
       "      <th class=\"blank col0\" >&nbsp;</th>\n",
       "      <th class=\"blank col1\" >&nbsp;</th>\n",
       "      <th class=\"blank col2\" >&nbsp;</th>\n",
       "    </tr>\n",
       "  </thead>\n",
       "  <tbody>\n",
       "    <tr>\n",
       "      <th id=\"T_b5d3c_level0_row0\" class=\"row_heading level0 row0\" >control</th>\n",
       "      <td id=\"T_b5d3c_row0_col0\" class=\"data row0 col0\" >0.124</td>\n",
       "      <td id=\"T_b5d3c_row0_col1\" class=\"data row0 col1\" >0.330</td>\n",
       "      <td id=\"T_b5d3c_row0_col2\" class=\"data row0 col2\" >0.005</td>\n",
       "    </tr>\n",
       "    <tr>\n",
       "      <th id=\"T_b5d3c_level0_row1\" class=\"row_heading level0 row1\" >treatment</th>\n",
       "      <td id=\"T_b5d3c_row1_col0\" class=\"data row1 col0\" >0.115</td>\n",
       "      <td id=\"T_b5d3c_row1_col1\" class=\"data row1 col1\" >0.319</td>\n",
       "      <td id=\"T_b5d3c_row1_col2\" class=\"data row1 col2\" >0.005</td>\n",
       "    </tr>\n",
       "  </tbody>\n",
       "</table>\n"
      ],
      "text/plain": [
       "<pandas.io.formats.style.Styler at 0x2548bd10760>"
      ]
     },
     "execution_count": 19,
     "metadata": {},
     "output_type": "execute_result"
    }
   ],
   "source": [
    "# [1] Import library.\n",
    "from scipy.stats import sem\n",
    "\n",
    "# [2] Group the ab_test data set by group and aggregate by converted:\n",
    "conversion_rates = ab_test.groupby('group')['converted']\n",
    "\n",
    "# [3] Calculate conversion rates by calculating the means of columns STD_p and SE_p:\n",
    "conversion_rates = conversion_rates.agg([np.mean, np.std, sem])\n",
    "\n",
    "# [4] Assign names to the three columns.\n",
    "conversion_rates.columns = ['conversion_rate', 'std_deviationo', 'std_error']\n",
    "\n",
    "# [5] Round the output to 3 decimal places\n",
    "conversion_rates.style.format('{:.3f}')"
   ]
  },
  {
   "cell_type": "markdown",
   "id": "a6e2eb0f",
   "metadata": {},
   "source": [
    "#### Calculate statistical significance"
   ]
  },
  {
   "cell_type": "code",
   "execution_count": 22,
   "id": "9179432f",
   "metadata": {},
   "outputs": [
    {
     "name": "stdout",
     "output_type": "stream",
     "text": [
      "Z test stat: 1.40\n",
      "P-value: 0.163\n",
      "Confidence Interval of 95% for control group: [0.115, 0.134]\n",
      "Confidence Interval of 95% for treatment group: [0.106, 0.124]\n"
     ]
    }
   ],
   "source": [
    "# [1] Import proportions_ztest and proportion_confint from statsmodels:\n",
    "from statsmodels.stats.proportion import proportions_ztest, proportion_confint\n",
    "\n",
    "# [2] Create a subset of control and treatment results:\n",
    "control_results = ab_test[ab_test['group'] == 'control']['converted']\n",
    "treatment_results = ab_test[ab_test['group'] == 'treatment']['converted']\n",
    "\n",
    "# [3] Determine the count of the control_results and treatment_result\n",
    "# sub-datasets and store them in their respective variables:\n",
    "n_con = control_results.count()\n",
    "n_treat = treatment_results.count()\n",
    "\n",
    "# [4a] Create a variable 'success' with the sum of the two data sets\n",
    "# in a list format:\n",
    "successes = [control_results.sum(), treatment_results.sum()]\n",
    "\n",
    "# [4b] Create a variable 'nobs' which stores the values of\n",
    "# variables n_con and n_treat in list format:\n",
    "nobs = [n_con, n_treat]\n",
    "\n",
    "# [5] Use the imported libraries to calculate the statistical values:\n",
    "z_stat, pval = proportions_ztest(successes, nobs = nobs)\n",
    "(lower_con, lower_treat), (upper_con, upper_treat) = proportion_confint \\\n",
    "(successes, nobs = nobs, alpha = 0.05)\n",
    "\n",
    "# [6a-d] Print the outputs (with lead-in text):\n",
    "print(f'Z test stat: {z_stat:.2f}')\n",
    "print(f'P-value: {pval:.3f}')\n",
    "print(f'Confidence Interval of 95% for control group: [{lower_con:.3f}, \\\n",
    "{upper_con:.3f}]')\n",
    "print(f'Confidence Interval of 95% for treatment group: [{lower_treat:.3f}, \\\n",
    "{upper_treat:.3f}]')"
   ]
  },
  {
   "cell_type": "markdown",
   "id": "7723e1d7",
   "metadata": {},
   "source": [
    "## Conducting a what-if analysis"
   ]
  },
  {
   "cell_type": "markdown",
   "id": "ce84ea05",
   "metadata": {},
   "source": [
    "### Set up"
   ]
  },
  {
   "cell_type": "code",
   "execution_count": 1,
   "id": "e3981a73",
   "metadata": {},
   "outputs": [
    {
     "name": "stdout",
     "output_type": "stream",
     "text": [
      "Collecting sensitivity\n",
      "  Downloading sensitivity-0.2.6-py3-none-any.whl (14 kB)\n",
      "Requirement already satisfied: tqdm in c:\\users\\richa\\anaconda3\\lib\\site-packages (from sensitivity) (4.62.3)\n",
      "Requirement already satisfied: matplotlib in c:\\users\\richa\\anaconda3\\lib\\site-packages (from sensitivity) (3.4.3)\n",
      "Requirement already satisfied: pandas>=1 in c:\\users\\richa\\anaconda3\\lib\\site-packages (from sensitivity) (1.3.4)\n",
      "Requirement already satisfied: IPython in c:\\users\\richa\\anaconda3\\lib\\site-packages (from sensitivity) (7.29.0)\n",
      "Requirement already satisfied: numpy>=1.17.3 in c:\\users\\richa\\anaconda3\\lib\\site-packages (from pandas>=1->sensitivity) (1.20.3)\n",
      "Requirement already satisfied: pytz>=2017.3 in c:\\users\\richa\\anaconda3\\lib\\site-packages (from pandas>=1->sensitivity) (2021.3)\n",
      "Requirement already satisfied: python-dateutil>=2.7.3 in c:\\users\\richa\\anaconda3\\lib\\site-packages (from pandas>=1->sensitivity) (2.8.2)\n",
      "Requirement already satisfied: six>=1.5 in c:\\users\\richa\\anaconda3\\lib\\site-packages (from python-dateutil>=2.7.3->pandas>=1->sensitivity) (1.16.0)\n",
      "Requirement already satisfied: prompt-toolkit!=3.0.0,!=3.0.1,<3.1.0,>=2.0.0 in c:\\users\\richa\\anaconda3\\lib\\site-packages (from IPython->sensitivity) (3.0.20)\n",
      "Requirement already satisfied: matplotlib-inline in c:\\users\\richa\\anaconda3\\lib\\site-packages (from IPython->sensitivity) (0.1.2)\n",
      "Requirement already satisfied: setuptools>=18.5 in c:\\users\\richa\\anaconda3\\lib\\site-packages (from IPython->sensitivity) (58.0.4)\n",
      "Requirement already satisfied: jedi>=0.16 in c:\\users\\richa\\anaconda3\\lib\\site-packages (from IPython->sensitivity) (0.18.0)\n",
      "Requirement already satisfied: backcall in c:\\users\\richa\\anaconda3\\lib\\site-packages (from IPython->sensitivity) (0.2.0)\n",
      "Requirement already satisfied: pickleshare in c:\\users\\richa\\anaconda3\\lib\\site-packages (from IPython->sensitivity) (0.7.5)\n",
      "Requirement already satisfied: colorama in c:\\users\\richa\\anaconda3\\lib\\site-packages (from IPython->sensitivity) (0.4.4)\n",
      "Requirement already satisfied: pygments in c:\\users\\richa\\anaconda3\\lib\\site-packages (from IPython->sensitivity) (2.10.0)\n",
      "Requirement already satisfied: decorator in c:\\users\\richa\\anaconda3\\lib\\site-packages (from IPython->sensitivity) (5.1.0)\n",
      "Requirement already satisfied: traitlets>=4.2 in c:\\users\\richa\\anaconda3\\lib\\site-packages (from IPython->sensitivity) (5.1.0)\n",
      "Requirement already satisfied: parso<0.9.0,>=0.8.0 in c:\\users\\richa\\anaconda3\\lib\\site-packages (from jedi>=0.16->IPython->sensitivity) (0.8.2)\n",
      "Requirement already satisfied: wcwidth in c:\\users\\richa\\anaconda3\\lib\\site-packages (from prompt-toolkit!=3.0.0,!=3.0.1,<3.1.0,>=2.0.0->IPython->sensitivity) (0.2.5)\n",
      "Requirement already satisfied: pyparsing>=2.2.1 in c:\\users\\richa\\anaconda3\\lib\\site-packages (from matplotlib->sensitivity) (3.0.4)\n",
      "Requirement already satisfied: cycler>=0.10 in c:\\users\\richa\\anaconda3\\lib\\site-packages (from matplotlib->sensitivity) (0.10.0)\n",
      "Requirement already satisfied: pillow>=6.2.0 in c:\\users\\richa\\anaconda3\\lib\\site-packages (from matplotlib->sensitivity) (8.4.0)\n",
      "Requirement already satisfied: kiwisolver>=1.0.1 in c:\\users\\richa\\anaconda3\\lib\\site-packages (from matplotlib->sensitivity) (1.3.1)\n",
      "Installing collected packages: sensitivity\n",
      "Successfully installed sensitivity-0.2.6\n"
     ]
    }
   ],
   "source": [
    "# Install Python Sensitivity Analysis\n",
    "!pip install sensitivity"
   ]
  },
  {
   "cell_type": "code",
   "execution_count": 2,
   "id": "78cfc15a",
   "metadata": {},
   "outputs": [],
   "source": [
    "# Define classes to contain and encapsulate data.\n",
    "from dataclasses import dataclass\n",
    "import pandas as pd\n",
    "# Import built-in module for generating random numbers.\n",
    "import random\n",
    "# Display output inline.\n",
    "%matplotlib inline\n",
    "# Import to replicate a nested loop over the input values.\n",
    "from sensitivity import SensitivityAnalyzer"
   ]
  },
  {
   "cell_type": "markdown",
   "id": "33f196eb",
   "metadata": {},
   "source": [
    "### Specify inputs"
   ]
  },
  {
   "cell_type": "code",
   "execution_count": 3,
   "id": "cdec436e",
   "metadata": {},
   "outputs": [
    {
     "data": {
      "text/plain": [
       "ModelInputs(starting_salary=300000, promos_every_n_years=5, cost_of_living_raise=0.025, promo_raise=0.15, savings_rate=0.2, interest_rate=0.07, desired_cash=1500000)"
      ]
     },
     "execution_count": 3,
     "metadata": {},
     "output_type": "execute_result"
    }
   ],
   "source": [
    "# Create a DataFrame consisting of various classes using Python's 'dataclass()'\n",
    "# module and Object Oriented programming (OPP):\n",
    "\n",
    "@dataclass\n",
    "class ModelInputs:\n",
    "    # Define the class and specify the default inputs.\n",
    "    starting_salary: int = 300000\n",
    "    promos_every_n_years: int = 5\n",
    "    cost_of_living_raise: float = 0.025\n",
    "    promo_raise: float = 0.15\n",
    "    savings_rate: float = 0.20\n",
    "    interest_rate: float = 0.07\n",
    "    desired_cash: int = 1500000\n",
    "        \n",
    "# Create an instance of the new class with the default inputs.\n",
    "model_data = ModelInputs()\n",
    "\n",
    "# Print the results.\n",
    "model_data"
   ]
  },
  {
   "cell_type": "markdown",
   "id": "035b4f2f",
   "metadata": {},
   "source": [
    "### Calculate wages"
   ]
  },
  {
   "cell_type": "code",
   "execution_count": 4,
   "id": "e24f309d",
   "metadata": {},
   "outputs": [],
   "source": [
    "# Get the wage at a given year from the start of the model based on\n",
    "# the cost of living raises and regular promotions:\n",
    "\n",
    "def wages_year(data: ModelInputs, year):\n",
    "    # Every n years we have a promotion, so dividing the years and\n",
    "    # taking out the decimals gets the number of promotions\n",
    "    num_promos = int(year / data.promos_every_n_years)\n",
    "    \n",
    "    # This is the formula above implemented in Python:\n",
    "    salary_t = data.starting_salary * (1 + data.cost_of_living_raise) \\\n",
    "    ** year * (1 + data.promo_raise) ** num_promos\n",
    "    return salary_t"
   ]
  },
  {
   "cell_type": "code",
   "execution_count": 5,
   "id": "bc59aef8",
   "metadata": {},
   "outputs": [
    {
     "name": "stdout",
     "output_type": "stream",
     "text": [
      "The wage at year 1 is $307,500.\n",
      "The wage at year 2 is $315,188.\n",
      "The wage at year 3 is $323,067.\n",
      "The wage at year 4 is $331,144.\n"
     ]
    }
   ],
   "source": [
    "# Show the first four salaries in the range and print the\n",
    "# results using the f-string:\n",
    "\n",
    "for i in range(4):\n",
    "    year = i + 1\n",
    "    salary = wages_year(model_data, year)\n",
    "    print(f'The wage at year {year} is ${salary:,.0f}.')"
   ]
  },
  {
   "cell_type": "code",
   "execution_count": 6,
   "id": "e5d37805",
   "metadata": {},
   "outputs": [
    {
     "name": "stdout",
     "output_type": "stream",
     "text": [
      "The wage at year 1 is $307,500.\n",
      "The wage at year 2 is $315,188.\n",
      "The wage at year 3 is $323,067.\n",
      "The wage at year 4 is $331,144.\n",
      "The wage at year 5 is $390,336.\n",
      "The wage at year 6 is $400,094.\n",
      "The wage at year 7 is $410,097.\n",
      "The wage at year 8 is $420,349.\n",
      "The wage at year 9 is $430,858.\n",
      "The wage at year 10 is $507,874.\n"
     ]
    }
   ],
   "source": [
    "# Change to show the salaries for the first 10 years \n",
    "# only and print the results using the f-string:\n",
    "\n",
    "for i in range(10):\n",
    "    year = i + 1\n",
    "    salary = wages_year(model_data, year)\n",
    "    print(f'The wage at year {year} is ${salary:,.0f}.')"
   ]
  },
  {
   "cell_type": "markdown",
   "id": "ab532fb0",
   "metadata": {},
   "source": [
    "### Calculate wealth"
   ]
  },
  {
   "cell_type": "code",
   "execution_count": 7,
   "id": "75e4a599",
   "metadata": {},
   "outputs": [],
   "source": [
    "# Calculate the cash saved within a given year by first calculating\n",
    "# the salary at that year then applying the savings rate:\n",
    "\n",
    "def cash_saved_during_year(data: ModelInputs, year):\n",
    "    salary = wages_year(data, year)\n",
    "    cash_saved = salary * data.savings_rate\n",
    "    return cash_saved"
   ]
  },
  {
   "cell_type": "code",
   "execution_count": 8,
   "id": "32aa690d",
   "metadata": {},
   "outputs": [],
   "source": [
    "# Calculate the accumulated wealth for a given year based on\n",
    "# previous wealth, the investment rate, and cash saved during the year:\n",
    "\n",
    "def wealth_year(data: ModelInputs, year, prior_wealth):\n",
    "    cash_saved = cash_saved_during_year(data, year)\n",
    "    wealth = prior_wealth * (1 + data.interest_rate) + cash_saved\n",
    "    return wealth"
   ]
  },
  {
   "cell_type": "code",
   "execution_count": 10,
   "id": "8d611b9c",
   "metadata": {},
   "outputs": [
    {
     "name": "stdout",
     "output_type": "stream",
     "text": [
      "The wealth at year 1 is $61,500.\n",
      "The wealth at year 2 is $63,038.\n",
      "The wealth at year 3 is $64,613.\n",
      "The wealth at year 4 is $66,229.\n"
     ]
    }
   ],
   "source": [
    "# Start with no cash saved.\n",
    "prior_wealth = 0\n",
    "for i in range(4):\n",
    "    year = i + 1\n",
    "    wealth = wealth_year(model_data, year, prior_wealth)\n",
    "    print(f'The wealth at year {year} is ${wealth:,.0f}.')"
   ]
  },
  {
   "cell_type": "code",
   "execution_count": 16,
   "id": "7f6dcaad",
   "metadata": {},
   "outputs": [
    {
     "name": "stdout",
     "output_type": "stream",
     "text": [
      "The wealth at year 1 is $61,500.\n",
      "The wealth at year 2 is $128,842.\n",
      "The wealth at year 3 is $202,475.\n",
      "The wealth at year 4 is $282,877.\n"
     ]
    }
   ],
   "source": [
    "# Start with no cash saved, view 10 years.\n",
    "prior_wealth = 0\n",
    "for i in range(4):\n",
    "    year = i + 1\n",
    "    wealth = wealth_year(model_data, year, prior_wealth)\n",
    "    print(f'The wealth at year {year} is ${wealth:,.0f}.')\n",
    "    \n",
    "    # Set next year's prior wealth to this year's wealth.\n",
    "    prior_wealth = wealth"
   ]
  },
  {
   "cell_type": "markdown",
   "id": "e5cd4662",
   "metadata": {},
   "source": [
    "### Calculate retirement"
   ]
  },
  {
   "cell_type": "code",
   "execution_count": 12,
   "id": "ceb87503",
   "metadata": {},
   "outputs": [],
   "source": [
    "# Create while loop to run through each year, starting with\n",
    "# no cash saved:\n",
    "\n",
    "def years_to_retirement(data: ModelInputs, print_output = True):\n",
    "    # Start with no cash saved.\n",
    "    prior_wealth = 0\n",
    "    wealth = 0\n",
    "    # The 'year' becomes '1' on the first loop.\n",
    "    year = 0\n",
    "    \n",
    "    if print_output:\n",
    "        print('Wealths over time:')\n",
    "    while wealth < data.desired_cash:\n",
    "        year = year + 1\n",
    "        wealth = wealth_year(data, year, prior_wealth)\n",
    "        if print_output:\n",
    "            print(f'The wealth at year {year} is ${wealth:,.0f}.')\n",
    "        # Set the next year's prior wealth to this year's wealth.\n",
    "        prior_wealth = wealth\n",
    "        \n",
    "    # Now we have run the while loop, the wealth must be >= desired_cash\n",
    "    # (whatever last year was set is the years to retirement), which we can print:\n",
    "    if print_output:\n",
    "        # \\n makes a blank line in the output.\n",
    "        print(f'\\nRetirement:\\nIt will take {year} years to retire.')\n",
    "    return year"
   ]
  },
  {
   "cell_type": "code",
   "execution_count": 14,
   "id": "5629c0bd",
   "metadata": {},
   "outputs": [
    {
     "name": "stdout",
     "output_type": "stream",
     "text": [
      "Wealths over time:\n",
      "The wealth at year 1 is $61,500.\n",
      "The wealth at year 2 is $128,842.\n",
      "The wealth at year 3 is $202,475.\n",
      "The wealth at year 4 is $282,877.\n",
      "The wealth at year 5 is $380,745.\n",
      "The wealth at year 6 is $487,417.\n",
      "The wealth at year 7 is $603,555.\n",
      "The wealth at year 8 is $729,874.\n",
      "The wealth at year 9 is $867,136.\n",
      "The wealth at year 10 is $1,029,411.\n",
      "The wealth at year 11 is $1,205,583.\n",
      "The wealth at year 12 is $1,396,691.\n",
      "The wealth at year 13 is $1,603,844.\n",
      "\n",
      "Retirement:\n",
      "It will take 13 years to retire.\n"
     ]
    }
   ],
   "source": [
    "# Using the default inputs, let's see how long it will take\n",
    "# to reach over $1.5 million in wealth and retire.\n",
    "years = years_to_retirement(model_data)"
   ]
  },
  {
   "cell_type": "markdown",
   "id": "ce4a9358",
   "metadata": {},
   "source": [
    "## Running a sensitivity and scenario analysis"
   ]
  },
  {
   "cell_type": "markdown",
   "id": "2f31decb",
   "metadata": {},
   "source": [
    "## Testing a model's sensitivity with different inputs"
   ]
  },
  {
   "cell_type": "markdown",
   "id": "f9e59876",
   "metadata": {},
   "source": [
    "### Defining functions for calculating the values for sensitivity analysis"
   ]
  },
  {
   "cell_type": "code",
   "execution_count": 18,
   "id": "57a79d58",
   "metadata": {},
   "outputs": [],
   "source": [
    "import warnings\n",
    "warnings.simplefilter(action = 'ignore', category = FutureWarning)"
   ]
  },
  {
   "cell_type": "code",
   "execution_count": 19,
   "id": "dbdd4ea0",
   "metadata": {},
   "outputs": [
    {
     "data": {
      "text/plain": [
       "28"
      ]
     },
     "execution_count": 19,
     "metadata": {},
     "output_type": "execute_result"
    }
   ],
   "source": [
    "# [1] Define the function that accpets the infividual parameters\n",
    "# rather than the entire data:\n",
    "def years_to_retirement_separate_args(\n",
    "    # [2] List the parameters and set their values.\n",
    "    starting_salary = 60000, promos_every_n_years = 5, cost_of_living_raise = 0.02,\n",
    "    promo_raise = 0.15, savings_rate = 0.25, interest_rate = 0.05, desired_cash = 1500000):\n",
    "    # [3] Update the values of the parameters:\n",
    "    data = ModelInputs(\n",
    "        starting_salary = starting_salary,\n",
    "        promos_every_n_years = promos_every_n_years,\n",
    "        cost_of_living_raise = cost_of_living_raise,\n",
    "        promo_raise = promo_raise,\n",
    "        savings_rate = savings_rate,\n",
    "        interest_rate = interest_rate,\n",
    "        desired_cash = desired_cash)\n",
    "    \n",
    "    return years_to_retirement(data, print_output = False)\n",
    "\n",
    "# [4] Call the function.\n",
    "years_to_retirement_separate_args()"
   ]
  },
  {
   "cell_type": "markdown",
   "id": "6305a553",
   "metadata": {},
   "source": [
    "### Generate random values for the input variables using list comprehensions"
   ]
  },
  {
   "cell_type": "code",
   "execution_count": 20,
   "id": "409c8281",
   "metadata": {},
   "outputs": [],
   "source": [
    "# Use Python's 'list comprehensions' syntax to make it easier to adjust the inputs;\n",
    "# Use i (the iterator) as a temporary variable to store the values's position in the range:\n",
    "\n",
    "sensitivity_values = {\n",
    "    'starting_salary': [i * 10000 for i in range(4, 8)],\n",
    "    'promos_every_n_years': [i for i in range(4, 8)],\n",
    "    'cost_of_living_raise': [i / 100 for i in range(1, 4)],\n",
    "    'promo_raise': [i / 100 for i in range(10, 25, 5)],\n",
    "    'savings_rate': [i / 100 for i in range(10, 50, 10)],\n",
    "    'interest_rate': [i / 100 for  i in range(3, 8)],\n",
    "    'desired_cash': [ i * 100000 for i in range(10, 26, 5)]}"
   ]
  },
  {
   "cell_type": "markdown",
   "id": "d546dc52",
   "metadata": {},
   "source": [
    "### Running the sensitivity analyser module"
   ]
  },
  {
   "cell_type": "code",
   "execution_count": 21,
   "id": "6739b3b3",
   "metadata": {},
   "outputs": [
    {
     "name": "stderr",
     "output_type": "stream",
     "text": [
      "100%|██████████| 11520/11520 [00:06<00:00, 1764.09it/s]\n"
     ]
    }
   ],
   "source": [
    "# Run the Python's SensitivityAnalyzer with all the assigned inputs:\n",
    "\n",
    "sa = SensitivityAnalyzer(\n",
    "    sensitivity_values,\n",
    "    years_to_retirement_separate_args,\n",
    "    result_name = 'Years to Retirement',\n",
    "    reverse_colors = True,\n",
    "    grid_size = 3)"
   ]
  },
  {
   "cell_type": "markdown",
   "id": "e15a124f",
   "metadata": {},
   "source": [
    "### Display the results"
   ]
  },
  {
   "cell_type": "code",
   "execution_count": 22,
   "id": "6bd7d2d1",
   "metadata": {},
   "outputs": [
    {
     "data": {
      "text/html": [
       "<h2>Years to Retirement by starting_salary vs. promos_every_n_years</h2>"
      ],
      "text/plain": [
       "<IPython.core.display.HTML object>"
      ]
     },
     "metadata": {},
     "output_type": "display_data"
    },
    {
     "data": {
      "text/html": [
       "<style type=\"text/css\">\n",
       "#T_11955_row0_col0 {\n",
       "  background-color: #fece7c;\n",
       "  color: #000000;\n",
       "}\n",
       "#T_11955_row0_col1 {\n",
       "  background-color: #f46d43;\n",
       "  color: #f1f1f1;\n",
       "}\n",
       "#T_11955_row0_col2 {\n",
       "  background-color: #d02927;\n",
       "  color: #f1f1f1;\n",
       "}\n",
       "#T_11955_row0_col3 {\n",
       "  background-color: #a50026;\n",
       "  color: #f1f1f1;\n",
       "}\n",
       "#T_11955_row1_col0 {\n",
       "  background-color: #cbe982;\n",
       "  color: #000000;\n",
       "}\n",
       "#T_11955_row1_col1 {\n",
       "  background-color: #fff8b4;\n",
       "  color: #000000;\n",
       "}\n",
       "#T_11955_row1_col2 {\n",
       "  background-color: #fed27f;\n",
       "  color: #000000;\n",
       "}\n",
       "#T_11955_row1_col3 {\n",
       "  background-color: #fdad60;\n",
       "  color: #000000;\n",
       "}\n",
       "#T_11955_row2_col0 {\n",
       "  background-color: #4eb15d;\n",
       "  color: #f1f1f1;\n",
       "}\n",
       "#T_11955_row2_col1 {\n",
       "  background-color: #a7d96b;\n",
       "  color: #000000;\n",
       "}\n",
       "#T_11955_row2_col2 {\n",
       "  background-color: #d7ee8a;\n",
       "  color: #000000;\n",
       "}\n",
       "#T_11955_row2_col3 {\n",
       "  background-color: #f2faae;\n",
       "  color: #000000;\n",
       "}\n",
       "#T_11955_row3_col0 {\n",
       "  background-color: #006837;\n",
       "  color: #f1f1f1;\n",
       "}\n",
       "#T_11955_row3_col1 {\n",
       "  background-color: #2aa054;\n",
       "  color: #f1f1f1;\n",
       "}\n",
       "#T_11955_row3_col2 {\n",
       "  background-color: #6bbf64;\n",
       "  color: #000000;\n",
       "}\n",
       "#T_11955_row3_col3 {\n",
       "  background-color: #96d268;\n",
       "  color: #000000;\n",
       "}\n",
       "</style>\n",
       "<table id=\"T_11955_\">\n",
       "  <caption>Years to Retirement - starting_salary vs. promos_every_n_years</caption>\n",
       "  <thead>\n",
       "    <tr>\n",
       "      <th class=\"blank level0\" >&nbsp;</th>\n",
       "      <th class=\"col_heading level0 col0\" >4</th>\n",
       "      <th class=\"col_heading level0 col1\" >5</th>\n",
       "      <th class=\"col_heading level0 col2\" >6</th>\n",
       "      <th class=\"col_heading level0 col3\" >7</th>\n",
       "    </tr>\n",
       "    <tr>\n",
       "      <th class=\"index_name level0\" >starting_salary</th>\n",
       "      <th class=\"blank col0\" >&nbsp;</th>\n",
       "      <th class=\"blank col1\" >&nbsp;</th>\n",
       "      <th class=\"blank col2\" >&nbsp;</th>\n",
       "      <th class=\"blank col3\" >&nbsp;</th>\n",
       "    </tr>\n",
       "  </thead>\n",
       "  <tbody>\n",
       "    <tr>\n",
       "      <th id=\"T_11955_level0_row0\" class=\"row_heading level0 row0\" >40000</th>\n",
       "      <td id=\"T_11955_row0_col0\" class=\"data row0 col0\" >35.1</td>\n",
       "      <td id=\"T_11955_row0_col1\" class=\"data row0 col1\" >36.8</td>\n",
       "      <td id=\"T_11955_row0_col2\" class=\"data row0 col2\" >38.0</td>\n",
       "      <td id=\"T_11955_row0_col3\" class=\"data row0 col3\" >38.9</td>\n",
       "    </tr>\n",
       "    <tr>\n",
       "      <th id=\"T_11955_level0_row1\" class=\"row_heading level0 row1\" >50000</th>\n",
       "      <td id=\"T_11955_row1_col0\" class=\"data row1 col0\" >32.4</td>\n",
       "      <td id=\"T_11955_row1_col1\" class=\"data row1 col1\" >33.9</td>\n",
       "      <td id=\"T_11955_row1_col2\" class=\"data row1 col2\" >35.0</td>\n",
       "      <td id=\"T_11955_row1_col3\" class=\"data row1 col3\" >35.8</td>\n",
       "    </tr>\n",
       "    <tr>\n",
       "      <th id=\"T_11955_level0_row2\" class=\"row_heading level0 row2\" >60000</th>\n",
       "      <td id=\"T_11955_row2_col0\" class=\"data row2 col0\" >30.2</td>\n",
       "      <td id=\"T_11955_row2_col1\" class=\"data row2 col1\" >31.6</td>\n",
       "      <td id=\"T_11955_row2_col2\" class=\"data row2 col2\" >32.6</td>\n",
       "      <td id=\"T_11955_row2_col3\" class=\"data row2 col3\" >33.3</td>\n",
       "    </tr>\n",
       "    <tr>\n",
       "      <th id=\"T_11955_level0_row3\" class=\"row_heading level0 row3\" >70000</th>\n",
       "      <td id=\"T_11955_row3_col0\" class=\"data row3 col0\" >28.4</td>\n",
       "      <td id=\"T_11955_row3_col1\" class=\"data row3 col1\" >29.7</td>\n",
       "      <td id=\"T_11955_row3_col2\" class=\"data row3 col2\" >30.6</td>\n",
       "      <td id=\"T_11955_row3_col3\" class=\"data row3 col3\" >31.3</td>\n",
       "    </tr>\n",
       "  </tbody>\n",
       "</table>\n"
      ],
      "text/plain": [
       "<IPython.core.display.HTML object>"
      ]
     },
     "metadata": {},
     "output_type": "display_data"
    },
    {
     "data": {
      "text/html": [
       "<h2>Years to Retirement by starting_salary vs. cost_of_living_raise</h2>"
      ],
      "text/plain": [
       "<IPython.core.display.HTML object>"
      ]
     },
     "metadata": {},
     "output_type": "display_data"
    },
    {
     "data": {
      "text/html": [
       "<style type=\"text/css\">\n",
       "#T_56c2a_row0_col0 {\n",
       "  background-color: #a50026;\n",
       "  color: #f1f1f1;\n",
       "}\n",
       "#T_56c2a_row0_col1 {\n",
       "  background-color: #f7814c;\n",
       "  color: #f1f1f1;\n",
       "}\n",
       "#T_56c2a_row0_col2 {\n",
       "  background-color: #feec9f;\n",
       "  color: #000000;\n",
       "}\n",
       "#T_56c2a_row1_col0 {\n",
       "  background-color: #fb9d59;\n",
       "  color: #000000;\n",
       "}\n",
       "#T_56c2a_row1_col1 {\n",
       "  background-color: #fffab6;\n",
       "  color: #000000;\n",
       "}\n",
       "#T_56c2a_row1_col2 {\n",
       "  background-color: #b5df74;\n",
       "  color: #000000;\n",
       "}\n",
       "#T_56c2a_row2_col0 {\n",
       "  background-color: #fffdbc;\n",
       "  color: #000000;\n",
       "}\n",
       "#T_56c2a_row2_col1 {\n",
       "  background-color: #afdd70;\n",
       "  color: #000000;\n",
       "}\n",
       "#T_56c2a_row2_col2 {\n",
       "  background-color: #3faa59;\n",
       "  color: #f1f1f1;\n",
       "}\n",
       "#T_56c2a_row3_col0 {\n",
       "  background-color: #b3df72;\n",
       "  color: #000000;\n",
       "}\n",
       "#T_56c2a_row3_col1 {\n",
       "  background-color: #42ac5a;\n",
       "  color: #f1f1f1;\n",
       "}\n",
       "#T_56c2a_row3_col2 {\n",
       "  background-color: #006837;\n",
       "  color: #f1f1f1;\n",
       "}\n",
       "</style>\n",
       "<table id=\"T_56c2a_\">\n",
       "  <caption>Years to Retirement - starting_salary vs. cost_of_living_raise</caption>\n",
       "  <thead>\n",
       "    <tr>\n",
       "      <th class=\"blank level0\" >&nbsp;</th>\n",
       "      <th class=\"col_heading level0 col0\" >0.01</th>\n",
       "      <th class=\"col_heading level0 col1\" >0.02</th>\n",
       "      <th class=\"col_heading level0 col2\" >0.03</th>\n",
       "    </tr>\n",
       "    <tr>\n",
       "      <th class=\"index_name level0\" >starting_salary</th>\n",
       "      <th class=\"blank col0\" >&nbsp;</th>\n",
       "      <th class=\"blank col1\" >&nbsp;</th>\n",
       "      <th class=\"blank col2\" >&nbsp;</th>\n",
       "    </tr>\n",
       "  </thead>\n",
       "  <tbody>\n",
       "    <tr>\n",
       "      <th id=\"T_56c2a_level0_row0\" class=\"row_heading level0 row0\" >40000</th>\n",
       "      <td id=\"T_56c2a_row0_col0\" class=\"data row0 col0\" >39.8</td>\n",
       "      <td id=\"T_56c2a_row0_col1\" class=\"data row0 col1\" >37.1</td>\n",
       "      <td id=\"T_56c2a_row0_col2\" class=\"data row0 col2\" >34.7</td>\n",
       "    </tr>\n",
       "    <tr>\n",
       "      <th id=\"T_56c2a_level0_row1\" class=\"row_heading level0 row1\" >50000</th>\n",
       "      <td id=\"T_56c2a_row1_col0\" class=\"data row1 col0\" >36.6</td>\n",
       "      <td id=\"T_56c2a_row1_col1\" class=\"data row1 col1\" >34.2</td>\n",
       "      <td id=\"T_56c2a_row1_col2\" class=\"data row1 col2\" >32.0</td>\n",
       "    </tr>\n",
       "    <tr>\n",
       "      <th id=\"T_56c2a_level0_row2\" class=\"row_heading level0 row2\" >60000</th>\n",
       "      <td id=\"T_56c2a_row2_col0\" class=\"data row2 col0\" >34.0</td>\n",
       "      <td id=\"T_56c2a_row2_col1\" class=\"data row2 col1\" >31.9</td>\n",
       "      <td id=\"T_56c2a_row2_col2\" class=\"data row2 col2\" >29.9</td>\n",
       "    </tr>\n",
       "    <tr>\n",
       "      <th id=\"T_56c2a_level0_row3\" class=\"row_heading level0 row3\" >70000</th>\n",
       "      <td id=\"T_56c2a_row3_col0\" class=\"data row3 col0\" >32.0</td>\n",
       "      <td id=\"T_56c2a_row3_col1\" class=\"data row3 col1\" >29.9</td>\n",
       "      <td id=\"T_56c2a_row3_col2\" class=\"data row3 col2\" >28.2</td>\n",
       "    </tr>\n",
       "  </tbody>\n",
       "</table>\n"
      ],
      "text/plain": [
       "<IPython.core.display.HTML object>"
      ]
     },
     "metadata": {},
     "output_type": "display_data"
    },
    {
     "data": {
      "text/html": [
       "<h2>Years to Retirement by starting_salary vs. promo_raise</h2>"
      ],
      "text/plain": [
       "<IPython.core.display.HTML object>"
      ]
     },
     "metadata": {},
     "output_type": "display_data"
    },
    {
     "data": {
      "text/html": [
       "<style type=\"text/css\">\n",
       "#T_d4ab8_row0_col0 {\n",
       "  background-color: #a50026;\n",
       "  color: #f1f1f1;\n",
       "}\n",
       "#T_d4ab8_row0_col1 {\n",
       "  background-color: #f26841;\n",
       "  color: #f1f1f1;\n",
       "}\n",
       "#T_d4ab8_row0_col2 {\n",
       "  background-color: #fecc7b;\n",
       "  color: #000000;\n",
       "}\n",
       "#T_d4ab8_row1_col0 {\n",
       "  background-color: #fdaf62;\n",
       "  color: #000000;\n",
       "}\n",
       "#T_d4ab8_row1_col1 {\n",
       "  background-color: #fff6b0;\n",
       "  color: #000000;\n",
       "}\n",
       "#T_d4ab8_row1_col2 {\n",
       "  background-color: #cdea83;\n",
       "  color: #000000;\n",
       "}\n",
       "#T_d4ab8_row2_col0 {\n",
       "  background-color: #eff8aa;\n",
       "  color: #000000;\n",
       "}\n",
       "#T_d4ab8_row2_col1 {\n",
       "  background-color: #a9da6c;\n",
       "  color: #000000;\n",
       "}\n",
       "#T_d4ab8_row2_col2 {\n",
       "  background-color: #4eb15d;\n",
       "  color: #f1f1f1;\n",
       "}\n",
       "#T_d4ab8_row3_col0 {\n",
       "  background-color: #8ecf67;\n",
       "  color: #000000;\n",
       "}\n",
       "#T_d4ab8_row3_col1 {\n",
       "  background-color: #2aa054;\n",
       "  color: #f1f1f1;\n",
       "}\n",
       "#T_d4ab8_row3_col2 {\n",
       "  background-color: #006837;\n",
       "  color: #f1f1f1;\n",
       "}\n",
       "</style>\n",
       "<table id=\"T_d4ab8_\">\n",
       "  <caption>Years to Retirement - starting_salary vs. promo_raise</caption>\n",
       "  <thead>\n",
       "    <tr>\n",
       "      <th class=\"blank level0\" >&nbsp;</th>\n",
       "      <th class=\"col_heading level0 col0\" >0.1</th>\n",
       "      <th class=\"col_heading level0 col1\" >0.15</th>\n",
       "      <th class=\"col_heading level0 col2\" >0.2</th>\n",
       "    </tr>\n",
       "    <tr>\n",
       "      <th class=\"index_name level0\" >starting_salary</th>\n",
       "      <th class=\"blank col0\" >&nbsp;</th>\n",
       "      <th class=\"blank col1\" >&nbsp;</th>\n",
       "      <th class=\"blank col2\" >&nbsp;</th>\n",
       "    </tr>\n",
       "  </thead>\n",
       "  <tbody>\n",
       "    <tr>\n",
       "      <th id=\"T_d4ab8_level0_row0\" class=\"row_heading level0 row0\" >40000</th>\n",
       "      <td id=\"T_d4ab8_row0_col0\" class=\"data row0 col0\" >39.1</td>\n",
       "      <td id=\"T_d4ab8_row0_col1\" class=\"data row0 col1\" >37.1</td>\n",
       "      <td id=\"T_d4ab8_row0_col2\" class=\"data row0 col2\" >35.4</td>\n",
       "    </tr>\n",
       "    <tr>\n",
       "      <th id=\"T_d4ab8_level0_row1\" class=\"row_heading level0 row1\" >50000</th>\n",
       "      <td id=\"T_d4ab8_row1_col0\" class=\"data row1 col0\" >36.0</td>\n",
       "      <td id=\"T_d4ab8_row1_col1\" class=\"data row1 col1\" >34.2</td>\n",
       "      <td id=\"T_d4ab8_row1_col2\" class=\"data row1 col2\" >32.6</td>\n",
       "    </tr>\n",
       "    <tr>\n",
       "      <th id=\"T_d4ab8_level0_row2\" class=\"row_heading level0 row2\" >60000</th>\n",
       "      <td id=\"T_d4ab8_row2_col0\" class=\"data row2 col0\" >33.5</td>\n",
       "      <td id=\"T_d4ab8_row2_col1\" class=\"data row2 col1\" >31.9</td>\n",
       "      <td id=\"T_d4ab8_row2_col2\" class=\"data row2 col2\" >30.5</td>\n",
       "    </tr>\n",
       "    <tr>\n",
       "      <th id=\"T_d4ab8_level0_row3\" class=\"row_heading level0 row3\" >70000</th>\n",
       "      <td id=\"T_d4ab8_row3_col0\" class=\"data row3 col0\" >31.4</td>\n",
       "      <td id=\"T_d4ab8_row3_col1\" class=\"data row3 col1\" >30.0</td>\n",
       "      <td id=\"T_d4ab8_row3_col2\" class=\"data row3 col2\" >28.7</td>\n",
       "    </tr>\n",
       "  </tbody>\n",
       "</table>\n"
      ],
      "text/plain": [
       "<IPython.core.display.HTML object>"
      ]
     },
     "metadata": {},
     "output_type": "display_data"
    },
    {
     "data": {
      "text/html": [
       "<h2>Years to Retirement by starting_salary vs. savings_rate</h2>"
      ],
      "text/plain": [
       "<IPython.core.display.HTML object>"
      ]
     },
     "metadata": {},
     "output_type": "display_data"
    },
    {
     "data": {
      "text/html": [
       "<style type=\"text/css\">\n",
       "#T_dc113_row0_col0 {\n",
       "  background-color: #a50026;\n",
       "  color: #f1f1f1;\n",
       "}\n",
       "#T_dc113_row0_col1 {\n",
       "  background-color: #feda86;\n",
       "  color: #000000;\n",
       "}\n",
       "#T_dc113_row0_col2, #T_dc113_row2_col1 {\n",
       "  background-color: #d9ef8b;\n",
       "  color: #000000;\n",
       "}\n",
       "#T_dc113_row0_col3 {\n",
       "  background-color: #89cc67;\n",
       "  color: #000000;\n",
       "}\n",
       "#T_dc113_row1_col0 {\n",
       "  background-color: #de402e;\n",
       "  color: #f1f1f1;\n",
       "}\n",
       "#T_dc113_row1_col1 {\n",
       "  background-color: #fdfebc;\n",
       "  color: #000000;\n",
       "}\n",
       "#T_dc113_row1_col2 {\n",
       "  background-color: #9dd569;\n",
       "  color: #000000;\n",
       "}\n",
       "#T_dc113_row1_col3 {\n",
       "  background-color: #3faa59;\n",
       "  color: #f1f1f1;\n",
       "}\n",
       "#T_dc113_row2_col0 {\n",
       "  background-color: #f7814c;\n",
       "  color: #f1f1f1;\n",
       "}\n",
       "#T_dc113_row2_col2 {\n",
       "  background-color: #66bd63;\n",
       "  color: #f1f1f1;\n",
       "}\n",
       "#T_dc113_row2_col3 {\n",
       "  background-color: #118848;\n",
       "  color: #f1f1f1;\n",
       "}\n",
       "#T_dc113_row3_col0 {\n",
       "  background-color: #fdb567;\n",
       "  color: #000000;\n",
       "}\n",
       "#T_dc113_row3_col1 {\n",
       "  background-color: #b1de71;\n",
       "  color: #000000;\n",
       "}\n",
       "#T_dc113_row3_col2 {\n",
       "  background-color: #2da155;\n",
       "  color: #f1f1f1;\n",
       "}\n",
       "#T_dc113_row3_col3 {\n",
       "  background-color: #006837;\n",
       "  color: #f1f1f1;\n",
       "}\n",
       "</style>\n",
       "<table id=\"T_dc113_\">\n",
       "  <caption>Years to Retirement - starting_salary vs. savings_rate</caption>\n",
       "  <thead>\n",
       "    <tr>\n",
       "      <th class=\"blank level0\" >&nbsp;</th>\n",
       "      <th class=\"col_heading level0 col0\" >0.1</th>\n",
       "      <th class=\"col_heading level0 col1\" >0.2</th>\n",
       "      <th class=\"col_heading level0 col2\" >0.3</th>\n",
       "      <th class=\"col_heading level0 col3\" >0.4</th>\n",
       "    </tr>\n",
       "    <tr>\n",
       "      <th class=\"index_name level0\" >starting_salary</th>\n",
       "      <th class=\"blank col0\" >&nbsp;</th>\n",
       "      <th class=\"blank col1\" >&nbsp;</th>\n",
       "      <th class=\"blank col2\" >&nbsp;</th>\n",
       "      <th class=\"blank col3\" >&nbsp;</th>\n",
       "    </tr>\n",
       "  </thead>\n",
       "  <tbody>\n",
       "    <tr>\n",
       "      <th id=\"T_dc113_level0_row0\" class=\"row_heading level0 row0\" >40000</th>\n",
       "      <td id=\"T_dc113_row0_col0\" class=\"data row0 col0\" >48.1</td>\n",
       "      <td id=\"T_dc113_row0_col1\" class=\"data row0 col1\" >38.3</td>\n",
       "      <td id=\"T_dc113_row0_col2\" class=\"data row0 col2\" >33.0</td>\n",
       "      <td id=\"T_dc113_row0_col3\" class=\"data row0 col3\" >29.3</td>\n",
       "    </tr>\n",
       "    <tr>\n",
       "      <th id=\"T_dc113_level0_row1\" class=\"row_heading level0 row1\" >50000</th>\n",
       "      <td id=\"T_dc113_row1_col0\" class=\"data row1 col0\" >44.9</td>\n",
       "      <td id=\"T_dc113_row1_col1\" class=\"data row1 col1\" >35.3</td>\n",
       "      <td id=\"T_dc113_row1_col2\" class=\"data row1 col2\" >30.1</td>\n",
       "      <td id=\"T_dc113_row1_col3\" class=\"data row1 col3\" >26.7</td>\n",
       "    </tr>\n",
       "    <tr>\n",
       "      <th id=\"T_dc113_level0_row2\" class=\"row_heading level0 row2\" >60000</th>\n",
       "      <td id=\"T_dc113_row2_col0\" class=\"data row2 col0\" >42.3</td>\n",
       "      <td id=\"T_dc113_row2_col1\" class=\"data row2 col1\" >33.0</td>\n",
       "      <td id=\"T_dc113_row2_col2\" class=\"data row2 col2\" >27.9</td>\n",
       "      <td id=\"T_dc113_row2_col3\" class=\"data row2 col3\" >24.6</td>\n",
       "    </tr>\n",
       "    <tr>\n",
       "      <th id=\"T_dc113_level0_row3\" class=\"row_heading level0 row3\" >70000</th>\n",
       "      <td id=\"T_dc113_row3_col0\" class=\"data row3 col0\" >40.2</td>\n",
       "      <td id=\"T_dc113_row3_col1\" class=\"data row3 col1\" >31.0</td>\n",
       "      <td id=\"T_dc113_row3_col2\" class=\"data row3 col2\" >26.1</td>\n",
       "      <td id=\"T_dc113_row3_col3\" class=\"data row3 col3\" >22.9</td>\n",
       "    </tr>\n",
       "  </tbody>\n",
       "</table>\n"
      ],
      "text/plain": [
       "<IPython.core.display.HTML object>"
      ]
     },
     "metadata": {},
     "output_type": "display_data"
    },
    {
     "data": {
      "text/html": [
       "<h2>Years to Retirement by starting_salary vs. interest_rate</h2>"
      ],
      "text/plain": [
       "<IPython.core.display.HTML object>"
      ]
     },
     "metadata": {},
     "output_type": "display_data"
    },
    {
     "data": {
      "text/html": [
       "<style type=\"text/css\">\n",
       "#T_e5dff_row0_col0 {\n",
       "  background-color: #a50026;\n",
       "  color: #f1f1f1;\n",
       "}\n",
       "#T_e5dff_row0_col1 {\n",
       "  background-color: #ef633f;\n",
       "  color: #f1f1f1;\n",
       "}\n",
       "#T_e5dff_row0_col2 {\n",
       "  background-color: #fdc372;\n",
       "  color: #000000;\n",
       "}\n",
       "#T_e5dff_row0_col3 {\n",
       "  background-color: #fffcba;\n",
       "  color: #000000;\n",
       "}\n",
       "#T_e5dff_row0_col4 {\n",
       "  background-color: #d1ec86;\n",
       "  color: #000000;\n",
       "}\n",
       "#T_e5dff_row1_col0 {\n",
       "  background-color: #f67c4a;\n",
       "  color: #f1f1f1;\n",
       "}\n",
       "#T_e5dff_row1_col1 {\n",
       "  background-color: #feda86;\n",
       "  color: #000000;\n",
       "}\n",
       "#T_e5dff_row1_col2 {\n",
       "  background-color: #f4fab0;\n",
       "  color: #000000;\n",
       "}\n",
       "#T_e5dff_row1_col3 {\n",
       "  background-color: #bbe278;\n",
       "  color: #000000;\n",
       "}\n",
       "#T_e5dff_row1_col4 {\n",
       "  background-color: #78c565;\n",
       "  color: #000000;\n",
       "}\n",
       "#T_e5dff_row2_col0 {\n",
       "  background-color: #fee08b;\n",
       "  color: #000000;\n",
       "}\n",
       "#T_e5dff_row2_col1 {\n",
       "  background-color: #ecf7a6;\n",
       "  color: #000000;\n",
       "}\n",
       "#T_e5dff_row2_col2 {\n",
       "  background-color: #b1de71;\n",
       "  color: #000000;\n",
       "}\n",
       "#T_e5dff_row2_col3 {\n",
       "  background-color: #69be63;\n",
       "  color: #f1f1f1;\n",
       "}\n",
       "#T_e5dff_row2_col4 {\n",
       "  background-color: #1b9950;\n",
       "  color: #f1f1f1;\n",
       "}\n",
       "#T_e5dff_row3_col0 {\n",
       "  background-color: #eef8a8;\n",
       "  color: #000000;\n",
       "}\n",
       "#T_e5dff_row3_col1 {\n",
       "  background-color: #afdd70;\n",
       "  color: #000000;\n",
       "}\n",
       "#T_e5dff_row3_col2 {\n",
       "  background-color: #63bc62;\n",
       "  color: #f1f1f1;\n",
       "}\n",
       "#T_e5dff_row3_col3 {\n",
       "  background-color: #17934e;\n",
       "  color: #f1f1f1;\n",
       "}\n",
       "#T_e5dff_row3_col4 {\n",
       "  background-color: #006837;\n",
       "  color: #f1f1f1;\n",
       "}\n",
       "</style>\n",
       "<table id=\"T_e5dff_\">\n",
       "  <caption>Years to Retirement - starting_salary vs. interest_rate</caption>\n",
       "  <thead>\n",
       "    <tr>\n",
       "      <th class=\"blank level0\" >&nbsp;</th>\n",
       "      <th class=\"col_heading level0 col0\" >0.03</th>\n",
       "      <th class=\"col_heading level0 col1\" >0.04</th>\n",
       "      <th class=\"col_heading level0 col2\" >0.05</th>\n",
       "      <th class=\"col_heading level0 col3\" >0.06</th>\n",
       "      <th class=\"col_heading level0 col4\" >0.07</th>\n",
       "    </tr>\n",
       "    <tr>\n",
       "      <th class=\"index_name level0\" >starting_salary</th>\n",
       "      <th class=\"blank col0\" >&nbsp;</th>\n",
       "      <th class=\"blank col1\" >&nbsp;</th>\n",
       "      <th class=\"blank col2\" >&nbsp;</th>\n",
       "      <th class=\"blank col3\" >&nbsp;</th>\n",
       "      <th class=\"blank col4\" >&nbsp;</th>\n",
       "    </tr>\n",
       "  </thead>\n",
       "  <tbody>\n",
       "    <tr>\n",
       "      <th id=\"T_e5dff_level0_row0\" class=\"row_heading level0 row0\" >40000</th>\n",
       "      <td id=\"T_e5dff_row0_col0\" class=\"data row0 col0\" >42.3</td>\n",
       "      <td id=\"T_e5dff_row0_col1\" class=\"data row0 col1\" >39.4</td>\n",
       "      <td id=\"T_e5dff_row0_col2\" class=\"data row0 col2\" >36.9</td>\n",
       "      <td id=\"T_e5dff_row0_col3\" class=\"data row0 col3\" >34.7</td>\n",
       "      <td id=\"T_e5dff_row0_col4\" class=\"data row0 col4\" >32.7</td>\n",
       "    </tr>\n",
       "    <tr>\n",
       "      <th id=\"T_e5dff_level0_row1\" class=\"row_heading level0 row1\" >50000</th>\n",
       "      <td id=\"T_e5dff_row1_col0\" class=\"data row1 col0\" >38.8</td>\n",
       "      <td id=\"T_e5dff_row1_col1\" class=\"data row1 col1\" >36.2</td>\n",
       "      <td id=\"T_e5dff_row1_col2\" class=\"data row1 col2\" >34.0</td>\n",
       "      <td id=\"T_e5dff_row1_col3\" class=\"data row1 col3\" >32.0</td>\n",
       "      <td id=\"T_e5dff_row1_col4\" class=\"data row1 col4\" >30.3</td>\n",
       "    </tr>\n",
       "    <tr>\n",
       "      <th id=\"T_e5dff_level0_row2\" class=\"row_heading level0 row2\" >60000</th>\n",
       "      <td id=\"T_e5dff_row2_col0\" class=\"data row2 col0\" >36.0</td>\n",
       "      <td id=\"T_e5dff_row2_col1\" class=\"data row2 col1\" >33.7</td>\n",
       "      <td id=\"T_e5dff_row2_col2\" class=\"data row2 col2\" >31.7</td>\n",
       "      <td id=\"T_e5dff_row2_col3\" class=\"data row2 col3\" >29.9</td>\n",
       "      <td id=\"T_e5dff_row2_col4\" class=\"data row2 col4\" >28.3</td>\n",
       "    </tr>\n",
       "    <tr>\n",
       "      <th id=\"T_e5dff_level0_row3\" class=\"row_heading level0 row3\" >70000</th>\n",
       "      <td id=\"T_e5dff_row3_col0\" class=\"data row3 col0\" >33.8</td>\n",
       "      <td id=\"T_e5dff_row3_col1\" class=\"data row3 col1\" >31.7</td>\n",
       "      <td id=\"T_e5dff_row3_col2\" class=\"data row3 col2\" >29.8</td>\n",
       "      <td id=\"T_e5dff_row3_col3\" class=\"data row3 col3\" >28.2</td>\n",
       "      <td id=\"T_e5dff_row3_col4\" class=\"data row3 col4\" >26.7</td>\n",
       "    </tr>\n",
       "  </tbody>\n",
       "</table>\n"
      ],
      "text/plain": [
       "<IPython.core.display.HTML object>"
      ]
     },
     "metadata": {},
     "output_type": "display_data"
    },
    {
     "data": {
      "text/html": [
       "<h2>Years to Retirement by starting_salary vs. desired_cash</h2>"
      ],
      "text/plain": [
       "<IPython.core.display.HTML object>"
      ]
     },
     "metadata": {},
     "output_type": "display_data"
    },
    {
     "data": {
      "text/html": [
       "<style type=\"text/css\">\n",
       "#T_fcbd2_row0_col0, #T_fcbd2_row2_col1 {\n",
       "  background-color: #bfe47a;\n",
       "  color: #000000;\n",
       "}\n",
       "#T_fcbd2_row0_col1 {\n",
       "  background-color: #fed27f;\n",
       "  color: #000000;\n",
       "}\n",
       "#T_fcbd2_row0_col2, #T_fcbd2_row1_col3 {\n",
       "  background-color: #ea5739;\n",
       "  color: #f1f1f1;\n",
       "}\n",
       "#T_fcbd2_row0_col3 {\n",
       "  background-color: #a50026;\n",
       "  color: #f1f1f1;\n",
       "}\n",
       "#T_fcbd2_row1_col0 {\n",
       "  background-color: #6bbf64;\n",
       "  color: #000000;\n",
       "}\n",
       "#T_fcbd2_row1_col1 {\n",
       "  background-color: #f5fbb2;\n",
       "  color: #000000;\n",
       "}\n",
       "#T_fcbd2_row1_col2 {\n",
       "  background-color: #fdbb6c;\n",
       "  color: #000000;\n",
       "}\n",
       "#T_fcbd2_row2_col0 {\n",
       "  background-color: #17934e;\n",
       "  color: #f1f1f1;\n",
       "}\n",
       "#T_fcbd2_row2_col2 {\n",
       "  background-color: #fff1a8;\n",
       "  color: #000000;\n",
       "}\n",
       "#T_fcbd2_row2_col3 {\n",
       "  background-color: #fdad60;\n",
       "  color: #000000;\n",
       "}\n",
       "#T_fcbd2_row3_col0 {\n",
       "  background-color: #006837;\n",
       "  color: #f1f1f1;\n",
       "}\n",
       "#T_fcbd2_row3_col1 {\n",
       "  background-color: #87cb67;\n",
       "  color: #000000;\n",
       "}\n",
       "#T_fcbd2_row3_col2 {\n",
       "  background-color: #e8f59f;\n",
       "  color: #000000;\n",
       "}\n",
       "#T_fcbd2_row3_col3 {\n",
       "  background-color: #fee28f;\n",
       "  color: #000000;\n",
       "}\n",
       "</style>\n",
       "<table id=\"T_fcbd2_\">\n",
       "  <caption>Years to Retirement - starting_salary vs. desired_cash</caption>\n",
       "  <thead>\n",
       "    <tr>\n",
       "      <th class=\"blank level0\" >&nbsp;</th>\n",
       "      <th class=\"col_heading level0 col0\" >1000000</th>\n",
       "      <th class=\"col_heading level0 col1\" >1500000</th>\n",
       "      <th class=\"col_heading level0 col2\" >2000000</th>\n",
       "      <th class=\"col_heading level0 col3\" >2500000</th>\n",
       "    </tr>\n",
       "    <tr>\n",
       "      <th class=\"index_name level0\" >starting_salary</th>\n",
       "      <th class=\"blank col0\" >&nbsp;</th>\n",
       "      <th class=\"blank col1\" >&nbsp;</th>\n",
       "      <th class=\"blank col2\" >&nbsp;</th>\n",
       "      <th class=\"blank col3\" >&nbsp;</th>\n",
       "    </tr>\n",
       "  </thead>\n",
       "  <tbody>\n",
       "    <tr>\n",
       "      <th id=\"T_fcbd2_level0_row0\" class=\"row_heading level0 row0\" >40000</th>\n",
       "      <td id=\"T_fcbd2_row0_col0\" class=\"data row0 col0\" >30.6</td>\n",
       "      <td id=\"T_fcbd2_row0_col1\" class=\"data row0 col1\" >35.8</td>\n",
       "      <td id=\"T_fcbd2_row0_col2\" class=\"data row0 col2\" >39.6</td>\n",
       "      <td id=\"T_fcbd2_row0_col3\" class=\"data row0 col3\" >42.8</td>\n",
       "    </tr>\n",
       "    <tr>\n",
       "      <th id=\"T_fcbd2_level0_row1\" class=\"row_heading level0 row1\" >50000</th>\n",
       "      <td id=\"T_fcbd2_row1_col0\" class=\"data row1 col0\" >27.9</td>\n",
       "      <td id=\"T_fcbd2_row1_col1\" class=\"data row1 col1\" >32.9</td>\n",
       "      <td id=\"T_fcbd2_row1_col2\" class=\"data row1 col2\" >36.6</td>\n",
       "      <td id=\"T_fcbd2_row1_col3\" class=\"data row1 col3\" >39.6</td>\n",
       "    </tr>\n",
       "    <tr>\n",
       "      <th id=\"T_fcbd2_level0_row2\" class=\"row_heading level0 row2\" >60000</th>\n",
       "      <td id=\"T_fcbd2_row2_col0\" class=\"data row2 col0\" >25.8</td>\n",
       "      <td id=\"T_fcbd2_row2_col1\" class=\"data row2 col1\" >30.6</td>\n",
       "      <td id=\"T_fcbd2_row2_col2\" class=\"data row2 col2\" >34.2</td>\n",
       "      <td id=\"T_fcbd2_row2_col3\" class=\"data row2 col3\" >37.2</td>\n",
       "    </tr>\n",
       "    <tr>\n",
       "      <th id=\"T_fcbd2_level0_row3\" class=\"row_heading level0 row3\" >70000</th>\n",
       "      <td id=\"T_fcbd2_row3_col0\" class=\"data row3 col0\" >24.0</td>\n",
       "      <td id=\"T_fcbd2_row3_col1\" class=\"data row3 col1\" >28.7</td>\n",
       "      <td id=\"T_fcbd2_row3_col2\" class=\"data row3 col2\" >32.3</td>\n",
       "      <td id=\"T_fcbd2_row3_col3\" class=\"data row3 col3\" >35.1</td>\n",
       "    </tr>\n",
       "  </tbody>\n",
       "</table>\n"
      ],
      "text/plain": [
       "<IPython.core.display.HTML object>"
      ]
     },
     "metadata": {},
     "output_type": "display_data"
    },
    {
     "data": {
      "text/html": [
       "<h2>Years to Retirement by promos_every_n_years vs. cost_of_living_raise</h2>"
      ],
      "text/plain": [
       "<IPython.core.display.HTML object>"
      ]
     },
     "metadata": {},
     "output_type": "display_data"
    },
    {
     "data": {
      "text/html": [
       "<style type=\"text/css\">\n",
       "#T_f72f3_row0_col0 {\n",
       "  background-color: #fff8b4;\n",
       "  color: #000000;\n",
       "}\n",
       "#T_f72f3_row0_col1 {\n",
       "  background-color: #82c966;\n",
       "  color: #000000;\n",
       "}\n",
       "#T_f72f3_row0_col2 {\n",
       "  background-color: #006837;\n",
       "  color: #f1f1f1;\n",
       "}\n",
       "#T_f72f3_row1_col0 {\n",
       "  background-color: #fa9656;\n",
       "  color: #000000;\n",
       "}\n",
       "#T_f72f3_row1_col1 {\n",
       "  background-color: #e6f59d;\n",
       "  color: #000000;\n",
       "}\n",
       "#T_f72f3_row1_col2 {\n",
       "  background-color: #4eb15d;\n",
       "  color: #f1f1f1;\n",
       "}\n",
       "#T_f72f3_row2_col0 {\n",
       "  background-color: #db382b;\n",
       "  color: #f1f1f1;\n",
       "}\n",
       "#T_f72f3_row2_col1 {\n",
       "  background-color: #fee999;\n",
       "  color: #000000;\n",
       "}\n",
       "#T_f72f3_row2_col2 {\n",
       "  background-color: #a2d76a;\n",
       "  color: #000000;\n",
       "}\n",
       "#T_f72f3_row3_col0 {\n",
       "  background-color: #a50026;\n",
       "  color: #f1f1f1;\n",
       "}\n",
       "#T_f72f3_row3_col1 {\n",
       "  background-color: #fdb96a;\n",
       "  color: #000000;\n",
       "}\n",
       "#T_f72f3_row3_col2 {\n",
       "  background-color: #d1ec86;\n",
       "  color: #000000;\n",
       "}\n",
       "</style>\n",
       "<table id=\"T_f72f3_\">\n",
       "  <caption>Years to Retirement - promos_every_n_years vs. cost_of_living_raise</caption>\n",
       "  <thead>\n",
       "    <tr>\n",
       "      <th class=\"blank level0\" >&nbsp;</th>\n",
       "      <th class=\"col_heading level0 col0\" >0.01</th>\n",
       "      <th class=\"col_heading level0 col1\" >0.02</th>\n",
       "      <th class=\"col_heading level0 col2\" >0.03</th>\n",
       "    </tr>\n",
       "    <tr>\n",
       "      <th class=\"index_name level0\" >promos_every_n_years</th>\n",
       "      <th class=\"blank col0\" >&nbsp;</th>\n",
       "      <th class=\"blank col1\" >&nbsp;</th>\n",
       "      <th class=\"blank col2\" >&nbsp;</th>\n",
       "    </tr>\n",
       "  </thead>\n",
       "  <tbody>\n",
       "    <tr>\n",
       "      <th id=\"T_f72f3_level0_row0\" class=\"row_heading level0 row0\" >4</th>\n",
       "      <td id=\"T_f72f3_row0_col0\" class=\"data row0 col0\" >33.6</td>\n",
       "      <td id=\"T_f72f3_row0_col1\" class=\"data row0 col1\" >31.4</td>\n",
       "      <td id=\"T_f72f3_row0_col2\" class=\"data row0 col2\" >29.6</td>\n",
       "    </tr>\n",
       "    <tr>\n",
       "      <th id=\"T_f72f3_level0_row1\" class=\"row_heading level0 row1\" >5</th>\n",
       "      <td id=\"T_f72f3_row1_col0\" class=\"data row1 col0\" >35.2</td>\n",
       "      <td id=\"T_f72f3_row1_col1\" class=\"data row1 col1\" >32.9</td>\n",
       "      <td id=\"T_f72f3_row1_col2\" class=\"data row1 col2\" >30.9</td>\n",
       "    </tr>\n",
       "    <tr>\n",
       "      <th id=\"T_f72f3_level0_row2\" class=\"row_heading level0 row2\" >6</th>\n",
       "      <td id=\"T_f72f3_row2_col0\" class=\"data row2 col0\" >36.4</td>\n",
       "      <td id=\"T_f72f3_row2_col1\" class=\"data row2 col1\" >34.0</td>\n",
       "      <td id=\"T_f72f3_row2_col2\" class=\"data row2 col2\" >31.8</td>\n",
       "    </tr>\n",
       "    <tr>\n",
       "      <th id=\"T_f72f3_level0_row3\" class=\"row_heading level0 row3\" >7</th>\n",
       "      <td id=\"T_f72f3_row3_col0\" class=\"data row3 col0\" >37.2</td>\n",
       "      <td id=\"T_f72f3_row3_col1\" class=\"data row3 col1\" >34.8</td>\n",
       "      <td id=\"T_f72f3_row3_col2\" class=\"data row3 col2\" >32.5</td>\n",
       "    </tr>\n",
       "  </tbody>\n",
       "</table>\n"
      ],
      "text/plain": [
       "<IPython.core.display.HTML object>"
      ]
     },
     "metadata": {},
     "output_type": "display_data"
    },
    {
     "data": {
      "text/html": [
       "<h2>Years to Retirement by promos_every_n_years vs. promo_raise</h2>"
      ],
      "text/plain": [
       "<IPython.core.display.HTML object>"
      ]
     },
     "metadata": {},
     "output_type": "display_data"
    },
    {
     "data": {
      "text/html": [
       "<style type=\"text/css\">\n",
       "#T_36573_row0_col0, #T_36573_row3_col2 {\n",
       "  background-color: #fed683;\n",
       "  color: #000000;\n",
       "}\n",
       "#T_36573_row0_col1 {\n",
       "  background-color: #9dd569;\n",
       "  color: #000000;\n",
       "}\n",
       "#T_36573_row0_col2 {\n",
       "  background-color: #006837;\n",
       "  color: #f1f1f1;\n",
       "}\n",
       "#T_36573_row1_col0 {\n",
       "  background-color: #f57547;\n",
       "  color: #f1f1f1;\n",
       "}\n",
       "#T_36573_row1_col1 {\n",
       "  background-color: #fffab6;\n",
       "  color: #000000;\n",
       "}\n",
       "#T_36573_row1_col2 {\n",
       "  background-color: #96d268;\n",
       "  color: #000000;\n",
       "}\n",
       "#T_36573_row2_col0 {\n",
       "  background-color: #d02927;\n",
       "  color: #f1f1f1;\n",
       "}\n",
       "#T_36573_row2_col1 {\n",
       "  background-color: #fdbb6c;\n",
       "  color: #000000;\n",
       "}\n",
       "#T_36573_row2_col2 {\n",
       "  background-color: #f4fab0;\n",
       "  color: #000000;\n",
       "}\n",
       "#T_36573_row3_col0 {\n",
       "  background-color: #a50026;\n",
       "  color: #f1f1f1;\n",
       "}\n",
       "#T_36573_row3_col1 {\n",
       "  background-color: #f46d43;\n",
       "  color: #f1f1f1;\n",
       "}\n",
       "</style>\n",
       "<table id=\"T_36573_\">\n",
       "  <caption>Years to Retirement - promos_every_n_years vs. promo_raise</caption>\n",
       "  <thead>\n",
       "    <tr>\n",
       "      <th class=\"blank level0\" >&nbsp;</th>\n",
       "      <th class=\"col_heading level0 col0\" >0.1</th>\n",
       "      <th class=\"col_heading level0 col1\" >0.15</th>\n",
       "      <th class=\"col_heading level0 col2\" >0.2</th>\n",
       "    </tr>\n",
       "    <tr>\n",
       "      <th class=\"index_name level0\" >promos_every_n_years</th>\n",
       "      <th class=\"blank col0\" >&nbsp;</th>\n",
       "      <th class=\"blank col1\" >&nbsp;</th>\n",
       "      <th class=\"blank col2\" >&nbsp;</th>\n",
       "    </tr>\n",
       "  </thead>\n",
       "  <tbody>\n",
       "    <tr>\n",
       "      <th id=\"T_36573_level0_row0\" class=\"row_heading level0 row0\" >4</th>\n",
       "      <td id=\"T_36573_row0_col0\" class=\"data row0 col0\" >33.6</td>\n",
       "      <td id=\"T_36573_row0_col1\" class=\"data row0 col1\" >31.4</td>\n",
       "      <td id=\"T_36573_row0_col2\" class=\"data row0 col2\" >29.5</td>\n",
       "    </tr>\n",
       "    <tr>\n",
       "      <th id=\"T_36573_level0_row1\" class=\"row_heading level0 row1\" >5</th>\n",
       "      <td id=\"T_36573_row1_col0\" class=\"data row1 col0\" >34.7</td>\n",
       "      <td id=\"T_36573_row1_col1\" class=\"data row1 col1\" >32.9</td>\n",
       "      <td id=\"T_36573_row1_col2\" class=\"data row1 col2\" >31.4</td>\n",
       "    </tr>\n",
       "    <tr>\n",
       "      <th id=\"T_36573_level0_row2\" class=\"row_heading level0 row2\" >6</th>\n",
       "      <td id=\"T_36573_row2_col0\" class=\"data row2 col0\" >35.5</td>\n",
       "      <td id=\"T_36573_row2_col1\" class=\"data row2 col1\" >34.0</td>\n",
       "      <td id=\"T_36573_row2_col2\" class=\"data row2 col2\" >32.6</td>\n",
       "    </tr>\n",
       "    <tr>\n",
       "      <th id=\"T_36573_level0_row3\" class=\"row_heading level0 row3\" >7</th>\n",
       "      <td id=\"T_36573_row3_col0\" class=\"data row3 col0\" >36.1</td>\n",
       "      <td id=\"T_36573_row3_col1\" class=\"data row3 col1\" >34.8</td>\n",
       "      <td id=\"T_36573_row3_col2\" class=\"data row3 col2\" >33.6</td>\n",
       "    </tr>\n",
       "  </tbody>\n",
       "</table>\n"
      ],
      "text/plain": [
       "<IPython.core.display.HTML object>"
      ]
     },
     "metadata": {},
     "output_type": "display_data"
    },
    {
     "data": {
      "text/html": [
       "<h2>Years to Retirement by promos_every_n_years vs. savings_rate</h2>"
      ],
      "text/plain": [
       "<IPython.core.display.HTML object>"
      ]
     },
     "metadata": {},
     "output_type": "display_data"
    },
    {
     "data": {
      "text/html": [
       "<style type=\"text/css\">\n",
       "#T_35055_row0_col0 {\n",
       "  background-color: #f67a49;\n",
       "  color: #f1f1f1;\n",
       "}\n",
       "#T_35055_row0_col1 {\n",
       "  background-color: #c9e881;\n",
       "  color: #000000;\n",
       "}\n",
       "#T_35055_row0_col2 {\n",
       "  background-color: #3ca959;\n",
       "  color: #f1f1f1;\n",
       "}\n",
       "#T_35055_row0_col3 {\n",
       "  background-color: #006837;\n",
       "  color: #f1f1f1;\n",
       "}\n",
       "#T_35055_row1_col0 {\n",
       "  background-color: #dd3d2d;\n",
       "  color: #f1f1f1;\n",
       "}\n",
       "#T_35055_row1_col1 {\n",
       "  background-color: #e8f59f;\n",
       "  color: #000000;\n",
       "}\n",
       "#T_35055_row1_col2 {\n",
       "  background-color: #69be63;\n",
       "  color: #f1f1f1;\n",
       "}\n",
       "#T_35055_row1_col3 {\n",
       "  background-color: #0c7f43;\n",
       "  color: #f1f1f1;\n",
       "}\n",
       "#T_35055_row2_col0 {\n",
       "  background-color: #be1827;\n",
       "  color: #f1f1f1;\n",
       "}\n",
       "#T_35055_row2_col1 {\n",
       "  background-color: #fbfdba;\n",
       "  color: #000000;\n",
       "}\n",
       "#T_35055_row2_col2 {\n",
       "  background-color: #82c966;\n",
       "  color: #000000;\n",
       "}\n",
       "#T_35055_row2_col3 {\n",
       "  background-color: #15904c;\n",
       "  color: #f1f1f1;\n",
       "}\n",
       "#T_35055_row3_col0 {\n",
       "  background-color: #a50026;\n",
       "  color: #f1f1f1;\n",
       "}\n",
       "#T_35055_row3_col1 {\n",
       "  background-color: #fff6b0;\n",
       "  color: #000000;\n",
       "}\n",
       "#T_35055_row3_col2 {\n",
       "  background-color: #96d268;\n",
       "  color: #000000;\n",
       "}\n",
       "#T_35055_row3_col3 {\n",
       "  background-color: #1e9a51;\n",
       "  color: #f1f1f1;\n",
       "}\n",
       "</style>\n",
       "<table id=\"T_35055_\">\n",
       "  <caption>Years to Retirement - promos_every_n_years vs. savings_rate</caption>\n",
       "  <thead>\n",
       "    <tr>\n",
       "      <th class=\"blank level0\" >&nbsp;</th>\n",
       "      <th class=\"col_heading level0 col0\" >0.1</th>\n",
       "      <th class=\"col_heading level0 col1\" >0.2</th>\n",
       "      <th class=\"col_heading level0 col2\" >0.3</th>\n",
       "      <th class=\"col_heading level0 col3\" >0.4</th>\n",
       "    </tr>\n",
       "    <tr>\n",
       "      <th class=\"index_name level0\" >promos_every_n_years</th>\n",
       "      <th class=\"blank col0\" >&nbsp;</th>\n",
       "      <th class=\"blank col1\" >&nbsp;</th>\n",
       "      <th class=\"blank col2\" >&nbsp;</th>\n",
       "      <th class=\"blank col3\" >&nbsp;</th>\n",
       "    </tr>\n",
       "  </thead>\n",
       "  <tbody>\n",
       "    <tr>\n",
       "      <th id=\"T_35055_level0_row0\" class=\"row_heading level0 row0\" >4</th>\n",
       "      <td id=\"T_35055_row0_col0\" class=\"data row0 col0\" >41.2</td>\n",
       "      <td id=\"T_35055_row0_col1\" class=\"data row0 col1\" >32.5</td>\n",
       "      <td id=\"T_35055_row0_col2\" class=\"data row0 col2\" >27.8</td>\n",
       "      <td id=\"T_35055_row0_col3\" class=\"data row0 col3\" >24.6</td>\n",
       "    </tr>\n",
       "    <tr>\n",
       "      <th id=\"T_35055_level0_row1\" class=\"row_heading level0 row1\" >5</th>\n",
       "      <td id=\"T_35055_row1_col0\" class=\"data row1 col0\" >43.4</td>\n",
       "      <td id=\"T_35055_row1_col1\" class=\"data row1 col1\" >34.0</td>\n",
       "      <td id=\"T_35055_row1_col2\" class=\"data row1 col2\" >29.0</td>\n",
       "      <td id=\"T_35055_row1_col3\" class=\"data row1 col3\" >25.6</td>\n",
       "    </tr>\n",
       "    <tr>\n",
       "      <th id=\"T_35055_level0_row2\" class=\"row_heading level0 row2\" >6</th>\n",
       "      <td id=\"T_35055_row2_col0\" class=\"data row2 col0\" >44.9</td>\n",
       "      <td id=\"T_35055_row2_col1\" class=\"data row2 col1\" >35.1</td>\n",
       "      <td id=\"T_35055_row2_col2\" class=\"data row2 col2\" >29.9</td>\n",
       "      <td id=\"T_35055_row2_col3\" class=\"data row2 col3\" >26.3</td>\n",
       "    </tr>\n",
       "    <tr>\n",
       "      <th id=\"T_35055_level0_row3\" class=\"row_heading level0 row3\" >7</th>\n",
       "      <td id=\"T_35055_row3_col0\" class=\"data row3 col0\" >46.0</td>\n",
       "      <td id=\"T_35055_row3_col1\" class=\"data row3 col1\" >36.0</td>\n",
       "      <td id=\"T_35055_row3_col2\" class=\"data row3 col2\" >30.5</td>\n",
       "      <td id=\"T_35055_row3_col3\" class=\"data row3 col3\" >26.9</td>\n",
       "    </tr>\n",
       "  </tbody>\n",
       "</table>\n"
      ],
      "text/plain": [
       "<IPython.core.display.HTML object>"
      ]
     },
     "metadata": {},
     "output_type": "display_data"
    },
    {
     "data": {
      "text/html": [
       "<h2>Years to Retirement by promos_every_n_years vs. interest_rate</h2>"
      ],
      "text/plain": [
       "<IPython.core.display.HTML object>"
      ]
     },
     "metadata": {},
     "output_type": "display_data"
    },
    {
     "data": {
      "text/html": [
       "<style type=\"text/css\">\n",
       "#T_34999_row0_col0 {\n",
       "  background-color: #fee28f;\n",
       "  color: #000000;\n",
       "}\n",
       "#T_34999_row0_col1 {\n",
       "  background-color: #dff293;\n",
       "  color: #000000;\n",
       "}\n",
       "#T_34999_row0_col2 {\n",
       "  background-color: #91d068;\n",
       "  color: #000000;\n",
       "}\n",
       "#T_34999_row0_col3 {\n",
       "  background-color: #2aa054;\n",
       "  color: #f1f1f1;\n",
       "}\n",
       "#T_34999_row0_col4 {\n",
       "  background-color: #006837;\n",
       "  color: #f1f1f1;\n",
       "}\n",
       "#T_34999_row1_col0 {\n",
       "  background-color: #f7814c;\n",
       "  color: #f1f1f1;\n",
       "}\n",
       "#T_34999_row1_col1 {\n",
       "  background-color: #feea9b;\n",
       "  color: #000000;\n",
       "}\n",
       "#T_34999_row1_col2 {\n",
       "  background-color: #d3ec87;\n",
       "  color: #000000;\n",
       "}\n",
       "#T_34999_row1_col3 {\n",
       "  background-color: #78c565;\n",
       "  color: #000000;\n",
       "}\n",
       "#T_34999_row1_col4 {\n",
       "  background-color: #15904c;\n",
       "  color: #f1f1f1;\n",
       "}\n",
       "#T_34999_row2_col0 {\n",
       "  background-color: #d83128;\n",
       "  color: #f1f1f1;\n",
       "}\n",
       "#T_34999_row2_col1 {\n",
       "  background-color: #fdbb6c;\n",
       "  color: #000000;\n",
       "}\n",
       "#T_34999_row2_col2 {\n",
       "  background-color: #f5fbb2;\n",
       "  color: #000000;\n",
       "}\n",
       "#T_34999_row2_col3 {\n",
       "  background-color: #a5d86a;\n",
       "  color: #000000;\n",
       "}\n",
       "#T_34999_row2_col4 {\n",
       "  background-color: #39a758;\n",
       "  color: #f1f1f1;\n",
       "}\n",
       "#T_34999_row3_col0 {\n",
       "  background-color: #a50026;\n",
       "  color: #f1f1f1;\n",
       "}\n",
       "#T_34999_row3_col1 {\n",
       "  background-color: #f88c51;\n",
       "  color: #f1f1f1;\n",
       "}\n",
       "#T_34999_row3_col2 {\n",
       "  background-color: #fff2aa;\n",
       "  color: #000000;\n",
       "}\n",
       "#T_34999_row3_col3 {\n",
       "  background-color: #bfe47a;\n",
       "  color: #000000;\n",
       "}\n",
       "#T_34999_row3_col4 {\n",
       "  background-color: #5db961;\n",
       "  color: #f1f1f1;\n",
       "}\n",
       "</style>\n",
       "<table id=\"T_34999_\">\n",
       "  <caption>Years to Retirement - promos_every_n_years vs. interest_rate</caption>\n",
       "  <thead>\n",
       "    <tr>\n",
       "      <th class=\"blank level0\" >&nbsp;</th>\n",
       "      <th class=\"col_heading level0 col0\" >0.03</th>\n",
       "      <th class=\"col_heading level0 col1\" >0.04</th>\n",
       "      <th class=\"col_heading level0 col2\" >0.05</th>\n",
       "      <th class=\"col_heading level0 col3\" >0.06</th>\n",
       "      <th class=\"col_heading level0 col4\" >0.07</th>\n",
       "    </tr>\n",
       "    <tr>\n",
       "      <th class=\"index_name level0\" >promos_every_n_years</th>\n",
       "      <th class=\"blank col0\" >&nbsp;</th>\n",
       "      <th class=\"blank col1\" >&nbsp;</th>\n",
       "      <th class=\"blank col2\" >&nbsp;</th>\n",
       "      <th class=\"blank col3\" >&nbsp;</th>\n",
       "      <th class=\"blank col4\" >&nbsp;</th>\n",
       "    </tr>\n",
       "  </thead>\n",
       "  <tbody>\n",
       "    <tr>\n",
       "      <th id=\"T_34999_level0_row0\" class=\"row_heading level0 row0\" >4</th>\n",
       "      <td id=\"T_34999_row0_col0\" class=\"data row0 col0\" >35.1</td>\n",
       "      <td id=\"T_34999_row0_col1\" class=\"data row0 col1\" >33.1</td>\n",
       "      <td id=\"T_34999_row0_col2\" class=\"data row0 col2\" >31.4</td>\n",
       "      <td id=\"T_34999_row0_col3\" class=\"data row0 col3\" >29.7</td>\n",
       "      <td id=\"T_34999_row0_col4\" class=\"data row0 col4\" >28.3</td>\n",
       "    </tr>\n",
       "    <tr>\n",
       "      <th id=\"T_34999_level0_row1\" class=\"row_heading level0 row1\" >5</th>\n",
       "      <td id=\"T_34999_row1_col0\" class=\"data row1 col0\" >37.2</td>\n",
       "      <td id=\"T_34999_row1_col1\" class=\"data row1 col1\" >34.8</td>\n",
       "      <td id=\"T_34999_row1_col2\" class=\"data row1 col2\" >32.8</td>\n",
       "      <td id=\"T_34999_row1_col3\" class=\"data row1 col3\" >30.9</td>\n",
       "      <td id=\"T_34999_row1_col4\" class=\"data row1 col4\" >29.3</td>\n",
       "    </tr>\n",
       "    <tr>\n",
       "      <th id=\"T_34999_level0_row2\" class=\"row_heading level0 row2\" >6</th>\n",
       "      <td id=\"T_34999_row2_col0\" class=\"data row2 col0\" >38.7</td>\n",
       "      <td id=\"T_34999_row2_col1\" class=\"data row2 col1\" >36.1</td>\n",
       "      <td id=\"T_34999_row2_col2\" class=\"data row2 col2\" >33.8</td>\n",
       "      <td id=\"T_34999_row2_col3\" class=\"data row2 col3\" >31.8</td>\n",
       "      <td id=\"T_34999_row2_col4\" class=\"data row2 col4\" >29.9</td>\n",
       "    </tr>\n",
       "    <tr>\n",
       "      <th id=\"T_34999_level0_row3\" class=\"row_heading level0 row3\" >7</th>\n",
       "      <td id=\"T_34999_row3_col0\" class=\"data row3 col0\" >39.9</td>\n",
       "      <td id=\"T_34999_row3_col1\" class=\"data row3 col1\" >37.0</td>\n",
       "      <td id=\"T_34999_row3_col2\" class=\"data row3 col2\" >34.6</td>\n",
       "      <td id=\"T_34999_row3_col3\" class=\"data row3 col3\" >32.3</td>\n",
       "      <td id=\"T_34999_row3_col4\" class=\"data row3 col4\" >30.5</td>\n",
       "    </tr>\n",
       "  </tbody>\n",
       "</table>\n"
      ],
      "text/plain": [
       "<IPython.core.display.HTML object>"
      ]
     },
     "metadata": {},
     "output_type": "display_data"
    },
    {
     "data": {
      "text/html": [
       "<h2>Years to Retirement by promos_every_n_years vs. desired_cash</h2>"
      ],
      "text/plain": [
       "<IPython.core.display.HTML object>"
      ]
     },
     "metadata": {},
     "output_type": "display_data"
    },
    {
     "data": {
      "text/html": [
       "<style type=\"text/css\">\n",
       "#T_69111_row0_col0 {\n",
       "  background-color: #006837;\n",
       "  color: #f1f1f1;\n",
       "}\n",
       "#T_69111_row0_col1 {\n",
       "  background-color: #abdb6d;\n",
       "  color: #000000;\n",
       "}\n",
       "#T_69111_row0_col2 {\n",
       "  background-color: #fff2aa;\n",
       "  color: #000000;\n",
       "}\n",
       "#T_69111_row0_col3, #T_69111_row2_col2 {\n",
       "  background-color: #fa9b58;\n",
       "  color: #000000;\n",
       "}\n",
       "#T_69111_row1_col0 {\n",
       "  background-color: #138c4a;\n",
       "  color: #f1f1f1;\n",
       "}\n",
       "#T_69111_row1_col1 {\n",
       "  background-color: #daf08d;\n",
       "  color: #000000;\n",
       "}\n",
       "#T_69111_row1_col2 {\n",
       "  background-color: #fdc776;\n",
       "  color: #000000;\n",
       "}\n",
       "#T_69111_row1_col3 {\n",
       "  background-color: #e54e35;\n",
       "  color: #f1f1f1;\n",
       "}\n",
       "#T_69111_row2_col0 {\n",
       "  background-color: #2da155;\n",
       "  color: #f1f1f1;\n",
       "}\n",
       "#T_69111_row2_col1 {\n",
       "  background-color: #f4fab0;\n",
       "  color: #000000;\n",
       "}\n",
       "#T_69111_row2_col3 {\n",
       "  background-color: #c41e27;\n",
       "  color: #f1f1f1;\n",
       "}\n",
       "#T_69111_row3_col0 {\n",
       "  background-color: #4bb05c;\n",
       "  color: #f1f1f1;\n",
       "}\n",
       "#T_69111_row3_col1 {\n",
       "  background-color: #fff8b4;\n",
       "  color: #000000;\n",
       "}\n",
       "#T_69111_row3_col2 {\n",
       "  background-color: #f57547;\n",
       "  color: #f1f1f1;\n",
       "}\n",
       "#T_69111_row3_col3 {\n",
       "  background-color: #a50026;\n",
       "  color: #f1f1f1;\n",
       "}\n",
       "</style>\n",
       "<table id=\"T_69111_\">\n",
       "  <caption>Years to Retirement - promos_every_n_years vs. desired_cash</caption>\n",
       "  <thead>\n",
       "    <tr>\n",
       "      <th class=\"blank level0\" >&nbsp;</th>\n",
       "      <th class=\"col_heading level0 col0\" >1000000</th>\n",
       "      <th class=\"col_heading level0 col1\" >1500000</th>\n",
       "      <th class=\"col_heading level0 col2\" >2000000</th>\n",
       "      <th class=\"col_heading level0 col3\" >2500000</th>\n",
       "    </tr>\n",
       "    <tr>\n",
       "      <th class=\"index_name level0\" >promos_every_n_years</th>\n",
       "      <th class=\"blank col0\" >&nbsp;</th>\n",
       "      <th class=\"blank col1\" >&nbsp;</th>\n",
       "      <th class=\"blank col2\" >&nbsp;</th>\n",
       "      <th class=\"blank col3\" >&nbsp;</th>\n",
       "    </tr>\n",
       "  </thead>\n",
       "  <tbody>\n",
       "    <tr>\n",
       "      <th id=\"T_69111_level0_row0\" class=\"row_heading level0 row0\" >4</th>\n",
       "      <td id=\"T_69111_row0_col0\" class=\"data row0 col0\" >25.7</td>\n",
       "      <td id=\"T_69111_row0_col1\" class=\"data row0 col1\" >30.3</td>\n",
       "      <td id=\"T_69111_row0_col2\" class=\"data row0 col2\" >33.7</td>\n",
       "      <td id=\"T_69111_row0_col3\" class=\"data row0 col3\" >36.5</td>\n",
       "    </tr>\n",
       "    <tr>\n",
       "      <th id=\"T_69111_level0_row1\" class=\"row_heading level0 row1\" >5</th>\n",
       "      <td id=\"T_69111_row1_col0\" class=\"data row1 col0\" >26.8</td>\n",
       "      <td id=\"T_69111_row1_col1\" class=\"data row1 col1\" >31.7</td>\n",
       "      <td id=\"T_69111_row1_col2\" class=\"data row1 col2\" >35.3</td>\n",
       "      <td id=\"T_69111_row1_col3\" class=\"data row1 col3\" >38.3</td>\n",
       "    </tr>\n",
       "    <tr>\n",
       "      <th id=\"T_69111_level0_row2\" class=\"row_heading level0 row2\" >6</th>\n",
       "      <td id=\"T_69111_row2_col0\" class=\"data row2 col0\" >27.6</td>\n",
       "      <td id=\"T_69111_row2_col1\" class=\"data row2 col1\" >32.6</td>\n",
       "      <td id=\"T_69111_row2_col2\" class=\"data row2 col2\" >36.5</td>\n",
       "      <td id=\"T_69111_row2_col3\" class=\"data row2 col3\" >39.5</td>\n",
       "    </tr>\n",
       "    <tr>\n",
       "      <th id=\"T_69111_level0_row3\" class=\"row_heading level0 row3\" >7</th>\n",
       "      <td id=\"T_69111_row3_col0\" class=\"data row3 col0\" >28.2</td>\n",
       "      <td id=\"T_69111_row3_col1\" class=\"data row3 col1\" >33.4</td>\n",
       "      <td id=\"T_69111_row3_col2\" class=\"data row3 col2\" >37.3</td>\n",
       "      <td id=\"T_69111_row3_col3\" class=\"data row3 col3\" >40.5</td>\n",
       "    </tr>\n",
       "  </tbody>\n",
       "</table>\n"
      ],
      "text/plain": [
       "<IPython.core.display.HTML object>"
      ]
     },
     "metadata": {},
     "output_type": "display_data"
    },
    {
     "data": {
      "text/html": [
       "<h2>Years to Retirement by cost_of_living_raise vs. promo_raise</h2>"
      ],
      "text/plain": [
       "<IPython.core.display.HTML object>"
      ]
     },
     "metadata": {},
     "output_type": "display_data"
    },
    {
     "data": {
      "text/html": [
       "<style type=\"text/css\">\n",
       "#T_ee0f6_row0_col0 {\n",
       "  background-color: #a50026;\n",
       "  color: #f1f1f1;\n",
       "}\n",
       "#T_ee0f6_row0_col1 {\n",
       "  background-color: #f88c51;\n",
       "  color: #f1f1f1;\n",
       "}\n",
       "#T_ee0f6_row0_col2 {\n",
       "  background-color: #fff6b0;\n",
       "  color: #000000;\n",
       "}\n",
       "#T_ee0f6_row1_col0 {\n",
       "  background-color: #fdbd6d;\n",
       "  color: #000000;\n",
       "}\n",
       "#T_ee0f6_row1_col1 {\n",
       "  background-color: #ebf7a3;\n",
       "  color: #000000;\n",
       "}\n",
       "#T_ee0f6_row1_col2 {\n",
       "  background-color: #84ca66;\n",
       "  color: #000000;\n",
       "}\n",
       "#T_ee0f6_row2_col0 {\n",
       "  background-color: #cbe982;\n",
       "  color: #000000;\n",
       "}\n",
       "#T_ee0f6_row2_col1 {\n",
       "  background-color: #51b35e;\n",
       "  color: #f1f1f1;\n",
       "}\n",
       "#T_ee0f6_row2_col2 {\n",
       "  background-color: #006837;\n",
       "  color: #f1f1f1;\n",
       "}\n",
       "</style>\n",
       "<table id=\"T_ee0f6_\">\n",
       "  <caption>Years to Retirement - cost_of_living_raise vs. promo_raise</caption>\n",
       "  <thead>\n",
       "    <tr>\n",
       "      <th class=\"blank level0\" >&nbsp;</th>\n",
       "      <th class=\"col_heading level0 col0\" >0.1</th>\n",
       "      <th class=\"col_heading level0 col1\" >0.15</th>\n",
       "      <th class=\"col_heading level0 col2\" >0.2</th>\n",
       "    </tr>\n",
       "    <tr>\n",
       "      <th class=\"index_name level0\" >cost_of_living_raise</th>\n",
       "      <th class=\"blank col0\" >&nbsp;</th>\n",
       "      <th class=\"blank col1\" >&nbsp;</th>\n",
       "      <th class=\"blank col2\" >&nbsp;</th>\n",
       "    </tr>\n",
       "  </thead>\n",
       "  <tbody>\n",
       "    <tr>\n",
       "      <th id=\"T_ee0f6_level0_row0\" class=\"row_heading level0 row0\" >0.01</th>\n",
       "      <td id=\"T_ee0f6_row0_col0\" class=\"data row0 col0\" >37.4</td>\n",
       "      <td id=\"T_ee0f6_row0_col1\" class=\"data row0 col1\" >35.5</td>\n",
       "      <td id=\"T_ee0f6_row0_col2\" class=\"data row0 col2\" >33.8</td>\n",
       "    </tr>\n",
       "    <tr>\n",
       "      <th id=\"T_ee0f6_level0_row1\" class=\"row_heading level0 row1\" >0.02</th>\n",
       "      <td id=\"T_ee0f6_row1_col0\" class=\"data row1 col0\" >34.9</td>\n",
       "      <td id=\"T_ee0f6_row1_col1\" class=\"data row1 col1\" >33.2</td>\n",
       "      <td id=\"T_ee0f6_row1_col2\" class=\"data row1 col2\" >31.7</td>\n",
       "    </tr>\n",
       "    <tr>\n",
       "      <th id=\"T_ee0f6_level0_row2\" class=\"row_heading level0 row2\" >0.03</th>\n",
       "      <td id=\"T_ee0f6_row2_col0\" class=\"data row2 col0\" >32.6</td>\n",
       "      <td id=\"T_ee0f6_row2_col1\" class=\"data row2 col1\" >31.1</td>\n",
       "      <td id=\"T_ee0f6_row2_col2\" class=\"data row2 col2\" >29.8</td>\n",
       "    </tr>\n",
       "  </tbody>\n",
       "</table>\n"
      ],
      "text/plain": [
       "<IPython.core.display.HTML object>"
      ]
     },
     "metadata": {},
     "output_type": "display_data"
    },
    {
     "data": {
      "text/html": [
       "<h2>Years to Retirement by cost_of_living_raise vs. savings_rate</h2>"
      ],
      "text/plain": [
       "<IPython.core.display.HTML object>"
      ]
     },
     "metadata": {},
     "output_type": "display_data"
    },
    {
     "data": {
      "text/html": [
       "<style type=\"text/css\">\n",
       "#T_d1e58_row0_col0 {\n",
       "  background-color: #a50026;\n",
       "  color: #f1f1f1;\n",
       "}\n",
       "#T_d1e58_row0_col1 {\n",
       "  background-color: #fff1a8;\n",
       "  color: #000000;\n",
       "}\n",
       "#T_d1e58_row0_col2 {\n",
       "  background-color: #a5d86a;\n",
       "  color: #000000;\n",
       "}\n",
       "#T_d1e58_row0_col3, #T_d1e58_row2_col2 {\n",
       "  background-color: #33a456;\n",
       "  color: #f1f1f1;\n",
       "}\n",
       "#T_d1e58_row1_col0 {\n",
       "  background-color: #e44c34;\n",
       "  color: #f1f1f1;\n",
       "}\n",
       "#T_d1e58_row1_col1 {\n",
       "  background-color: #e8f59f;\n",
       "  color: #000000;\n",
       "}\n",
       "#T_d1e58_row1_col2 {\n",
       "  background-color: #6ec064;\n",
       "  color: #000000;\n",
       "}\n",
       "#T_d1e58_row1_col3 {\n",
       "  background-color: #108647;\n",
       "  color: #f1f1f1;\n",
       "}\n",
       "#T_d1e58_row2_col0 {\n",
       "  background-color: #fba05b;\n",
       "  color: #000000;\n",
       "}\n",
       "#T_d1e58_row2_col1 {\n",
       "  background-color: #bbe278;\n",
       "  color: #000000;\n",
       "}\n",
       "#T_d1e58_row2_col3 {\n",
       "  background-color: #006837;\n",
       "  color: #f1f1f1;\n",
       "}\n",
       "</style>\n",
       "<table id=\"T_d1e58_\">\n",
       "  <caption>Years to Retirement - cost_of_living_raise vs. savings_rate</caption>\n",
       "  <thead>\n",
       "    <tr>\n",
       "      <th class=\"blank level0\" >&nbsp;</th>\n",
       "      <th class=\"col_heading level0 col0\" >0.1</th>\n",
       "      <th class=\"col_heading level0 col1\" >0.2</th>\n",
       "      <th class=\"col_heading level0 col2\" >0.3</th>\n",
       "      <th class=\"col_heading level0 col3\" >0.4</th>\n",
       "    </tr>\n",
       "    <tr>\n",
       "      <th class=\"index_name level0\" >cost_of_living_raise</th>\n",
       "      <th class=\"blank col0\" >&nbsp;</th>\n",
       "      <th class=\"blank col1\" >&nbsp;</th>\n",
       "      <th class=\"blank col2\" >&nbsp;</th>\n",
       "      <th class=\"blank col3\" >&nbsp;</th>\n",
       "    </tr>\n",
       "  </thead>\n",
       "  <tbody>\n",
       "    <tr>\n",
       "      <th id=\"T_d1e58_level0_row0\" class=\"row_heading level0 row0\" >0.01</th>\n",
       "      <td id=\"T_d1e58_row0_col0\" class=\"data row0 col0\" >47.1</td>\n",
       "      <td id=\"T_d1e58_row0_col1\" class=\"data row0 col1\" >36.7</td>\n",
       "      <td id=\"T_d1e58_row0_col2\" class=\"data row0 col2\" >31.1</td>\n",
       "      <td id=\"T_d1e58_row0_col3\" class=\"data row0 col3\" >27.4</td>\n",
       "    </tr>\n",
       "    <tr>\n",
       "      <th id=\"T_d1e58_level0_row1\" class=\"row_heading level0 row1\" >0.02</th>\n",
       "      <td id=\"T_d1e58_row1_col0\" class=\"data row1 col0\" >43.8</td>\n",
       "      <td id=\"T_d1e58_row1_col1\" class=\"data row1 col1\" >34.3</td>\n",
       "      <td id=\"T_d1e58_row1_col2\" class=\"data row1 col2\" >29.2</td>\n",
       "      <td id=\"T_d1e58_row1_col3\" class=\"data row1 col3\" >25.8</td>\n",
       "    </tr>\n",
       "    <tr>\n",
       "      <th id=\"T_d1e58_level0_row2\" class=\"row_heading level0 row2\" >0.03</th>\n",
       "      <td id=\"T_d1e58_row2_col0\" class=\"data row2 col0\" >40.8</td>\n",
       "      <td id=\"T_d1e58_row2_col1\" class=\"data row2 col1\" >32.2</td>\n",
       "      <td id=\"T_d1e58_row2_col2\" class=\"data row2 col2\" >27.5</td>\n",
       "      <td id=\"T_d1e58_row2_col3\" class=\"data row2 col3\" >24.4</td>\n",
       "    </tr>\n",
       "  </tbody>\n",
       "</table>\n"
      ],
      "text/plain": [
       "<IPython.core.display.HTML object>"
      ]
     },
     "metadata": {},
     "output_type": "display_data"
    },
    {
     "data": {
      "text/html": [
       "<h2>Years to Retirement by cost_of_living_raise vs. interest_rate</h2>"
      ],
      "text/plain": [
       "<IPython.core.display.HTML object>"
      ]
     },
     "metadata": {},
     "output_type": "display_data"
    },
    {
     "data": {
      "text/html": [
       "<style type=\"text/css\">\n",
       "#T_7129f_row0_col0 {\n",
       "  background-color: #a50026;\n",
       "  color: #f1f1f1;\n",
       "}\n",
       "#T_7129f_row0_col1 {\n",
       "  background-color: #f88950;\n",
       "  color: #f1f1f1;\n",
       "}\n",
       "#T_7129f_row0_col2 {\n",
       "  background-color: #feeda1;\n",
       "  color: #000000;\n",
       "}\n",
       "#T_7129f_row0_col3 {\n",
       "  background-color: #cbe982;\n",
       "  color: #000000;\n",
       "}\n",
       "#T_7129f_row0_col4 {\n",
       "  background-color: #73c264;\n",
       "  color: #000000;\n",
       "}\n",
       "#T_7129f_row1_col0 {\n",
       "  background-color: #fa9b58;\n",
       "  color: #000000;\n",
       "}\n",
       "#T_7129f_row1_col1 {\n",
       "  background-color: #fff0a6;\n",
       "  color: #000000;\n",
       "}\n",
       "#T_7129f_row1_col2 {\n",
       "  background-color: #d1ec86;\n",
       "  color: #000000;\n",
       "}\n",
       "#T_7129f_row1_col3 {\n",
       "  background-color: #7dc765;\n",
       "  color: #000000;\n",
       "}\n",
       "#T_7129f_row1_col4 {\n",
       "  background-color: #1e9a51;\n",
       "  color: #f1f1f1;\n",
       "}\n",
       "#T_7129f_row2_col0 {\n",
       "  background-color: #fffebe;\n",
       "  color: #000000;\n",
       "}\n",
       "#T_7129f_row2_col1 {\n",
       "  background-color: #c5e67e;\n",
       "  color: #000000;\n",
       "}\n",
       "#T_7129f_row2_col2 {\n",
       "  background-color: #78c565;\n",
       "  color: #000000;\n",
       "}\n",
       "#T_7129f_row2_col3 {\n",
       "  background-color: #219c52;\n",
       "  color: #f1f1f1;\n",
       "}\n",
       "#T_7129f_row2_col4 {\n",
       "  background-color: #006837;\n",
       "  color: #f1f1f1;\n",
       "}\n",
       "</style>\n",
       "<table id=\"T_7129f_\">\n",
       "  <caption>Years to Retirement - cost_of_living_raise vs. interest_rate</caption>\n",
       "  <thead>\n",
       "    <tr>\n",
       "      <th class=\"blank level0\" >&nbsp;</th>\n",
       "      <th class=\"col_heading level0 col0\" >0.03</th>\n",
       "      <th class=\"col_heading level0 col1\" >0.04</th>\n",
       "      <th class=\"col_heading level0 col2\" >0.05</th>\n",
       "      <th class=\"col_heading level0 col3\" >0.06</th>\n",
       "      <th class=\"col_heading level0 col4\" >0.07</th>\n",
       "    </tr>\n",
       "    <tr>\n",
       "      <th class=\"index_name level0\" >cost_of_living_raise</th>\n",
       "      <th class=\"blank col0\" >&nbsp;</th>\n",
       "      <th class=\"blank col1\" >&nbsp;</th>\n",
       "      <th class=\"blank col2\" >&nbsp;</th>\n",
       "      <th class=\"blank col3\" >&nbsp;</th>\n",
       "      <th class=\"blank col4\" >&nbsp;</th>\n",
       "    </tr>\n",
       "  </thead>\n",
       "  <tbody>\n",
       "    <tr>\n",
       "      <th id=\"T_7129f_level0_row0\" class=\"row_heading level0 row0\" >0.01</th>\n",
       "      <td id=\"T_7129f_row0_col0\" class=\"data row0 col0\" >41.0</td>\n",
       "      <td id=\"T_7129f_row0_col1\" class=\"data row0 col1\" >37.9</td>\n",
       "      <td id=\"T_7129f_row0_col2\" class=\"data row0 col2\" >35.3</td>\n",
       "      <td id=\"T_7129f_row0_col3\" class=\"data row0 col3\" >32.9</td>\n",
       "      <td id=\"T_7129f_row0_col4\" class=\"data row0 col4\" >30.9</td>\n",
       "    </tr>\n",
       "    <tr>\n",
       "      <th id=\"T_7129f_level0_row1\" class=\"row_heading level0 row1\" >0.02</th>\n",
       "      <td id=\"T_7129f_row1_col0\" class=\"data row1 col0\" >37.5</td>\n",
       "      <td id=\"T_7129f_row1_col1\" class=\"data row1 col1\" >35.2</td>\n",
       "      <td id=\"T_7129f_row1_col2\" class=\"data row1 col2\" >33.1</td>\n",
       "      <td id=\"T_7129f_row1_col3\" class=\"data row1 col3\" >31.2</td>\n",
       "      <td id=\"T_7129f_row1_col4\" class=\"data row1 col4\" >29.5</td>\n",
       "    </tr>\n",
       "    <tr>\n",
       "      <th id=\"T_7129f_level0_row2\" class=\"row_heading level0 row2\" >0.03</th>\n",
       "      <td id=\"T_7129f_row2_col0\" class=\"data row2 col0\" >34.6</td>\n",
       "      <td id=\"T_7129f_row2_col1\" class=\"data row2 col1\" >32.7</td>\n",
       "      <td id=\"T_7129f_row2_col2\" class=\"data row2 col2\" >31.1</td>\n",
       "      <td id=\"T_7129f_row2_col3\" class=\"data row2 col3\" >29.5</td>\n",
       "      <td id=\"T_7129f_row2_col4\" class=\"data row2 col4\" >28.1</td>\n",
       "    </tr>\n",
       "  </tbody>\n",
       "</table>\n"
      ],
      "text/plain": [
       "<IPython.core.display.HTML object>"
      ]
     },
     "metadata": {},
     "output_type": "display_data"
    },
    {
     "data": {
      "text/html": [
       "<h2>Years to Retirement by cost_of_living_raise vs. desired_cash</h2>"
      ],
      "text/plain": [
       "<IPython.core.display.HTML object>"
      ]
     },
     "metadata": {},
     "output_type": "display_data"
    },
    {
     "data": {
      "text/html": [
       "<style type=\"text/css\">\n",
       "#T_62034_row0_col0 {\n",
       "  background-color: #69be63;\n",
       "  color: #f1f1f1;\n",
       "}\n",
       "#T_62034_row0_col1 {\n",
       "  background-color: #fff2aa;\n",
       "  color: #000000;\n",
       "}\n",
       "#T_62034_row0_col2 {\n",
       "  background-color: #f47044;\n",
       "  color: #f1f1f1;\n",
       "}\n",
       "#T_62034_row0_col3 {\n",
       "  background-color: #a50026;\n",
       "  color: #f1f1f1;\n",
       "}\n",
       "#T_62034_row1_col0 {\n",
       "  background-color: #18954f;\n",
       "  color: #f1f1f1;\n",
       "}\n",
       "#T_62034_row1_col1 {\n",
       "  background-color: #daf08d;\n",
       "  color: #000000;\n",
       "}\n",
       "#T_62034_row1_col2 {\n",
       "  background-color: #fece7c;\n",
       "  color: #000000;\n",
       "}\n",
       "#T_62034_row1_col3 {\n",
       "  background-color: #ed5f3c;\n",
       "  color: #f1f1f1;\n",
       "}\n",
       "#T_62034_row2_col0 {\n",
       "  background-color: #006837;\n",
       "  color: #f1f1f1;\n",
       "}\n",
       "#T_62034_row2_col1 {\n",
       "  background-color: #9bd469;\n",
       "  color: #000000;\n",
       "}\n",
       "#T_62034_row2_col2 {\n",
       "  background-color: #fdfebc;\n",
       "  color: #000000;\n",
       "}\n",
       "#T_62034_row2_col3 {\n",
       "  background-color: #fdc171;\n",
       "  color: #000000;\n",
       "}\n",
       "</style>\n",
       "<table id=\"T_62034_\">\n",
       "  <caption>Years to Retirement - cost_of_living_raise vs. desired_cash</caption>\n",
       "  <thead>\n",
       "    <tr>\n",
       "      <th class=\"blank level0\" >&nbsp;</th>\n",
       "      <th class=\"col_heading level0 col0\" >1000000</th>\n",
       "      <th class=\"col_heading level0 col1\" >1500000</th>\n",
       "      <th class=\"col_heading level0 col2\" >2000000</th>\n",
       "      <th class=\"col_heading level0 col3\" >2500000</th>\n",
       "    </tr>\n",
       "    <tr>\n",
       "      <th class=\"index_name level0\" >cost_of_living_raise</th>\n",
       "      <th class=\"blank col0\" >&nbsp;</th>\n",
       "      <th class=\"blank col1\" >&nbsp;</th>\n",
       "      <th class=\"blank col2\" >&nbsp;</th>\n",
       "      <th class=\"blank col3\" >&nbsp;</th>\n",
       "    </tr>\n",
       "  </thead>\n",
       "  <tbody>\n",
       "    <tr>\n",
       "      <th id=\"T_62034_level0_row0\" class=\"row_heading level0 row0\" >0.01</th>\n",
       "      <td id=\"T_62034_row0_col0\" class=\"data row0 col0\" >28.7</td>\n",
       "      <td id=\"T_62034_row0_col1\" class=\"data row0 col1\" >34.1</td>\n",
       "      <td id=\"T_62034_row0_col2\" class=\"data row0 col2\" >38.1</td>\n",
       "      <td id=\"T_62034_row0_col3\" class=\"data row0 col3\" >41.4</td>\n",
       "    </tr>\n",
       "    <tr>\n",
       "      <th id=\"T_62034_level0_row1\" class=\"row_heading level0 row1\" >0.02</th>\n",
       "      <td id=\"T_62034_row1_col0\" class=\"data row1 col0\" >27.0</td>\n",
       "      <td id=\"T_62034_row1_col1\" class=\"data row1 col1\" >31.9</td>\n",
       "      <td id=\"T_62034_row1_col2\" class=\"data row1 col2\" >35.6</td>\n",
       "      <td id=\"T_62034_row1_col3\" class=\"data row1 col3\" >38.6</td>\n",
       "    </tr>\n",
       "    <tr>\n",
       "      <th id=\"T_62034_level0_row2\" class=\"row_heading level0 row2\" >0.03</th>\n",
       "      <td id=\"T_62034_row2_col0\" class=\"data row2 col0\" >25.4</td>\n",
       "      <td id=\"T_62034_row2_col1\" class=\"data row2 col1\" >30.0</td>\n",
       "      <td id=\"T_62034_row2_col2\" class=\"data row2 col2\" >33.3</td>\n",
       "      <td id=\"T_62034_row2_col3\" class=\"data row2 col3\" >36.0</td>\n",
       "    </tr>\n",
       "  </tbody>\n",
       "</table>\n"
      ],
      "text/plain": [
       "<IPython.core.display.HTML object>"
      ]
     },
     "metadata": {},
     "output_type": "display_data"
    },
    {
     "data": {
      "text/html": [
       "<h2>Years to Retirement by promo_raise vs. savings_rate</h2>"
      ],
      "text/plain": [
       "<IPython.core.display.HTML object>"
      ]
     },
     "metadata": {},
     "output_type": "display_data"
    },
    {
     "data": {
      "text/html": [
       "<style type=\"text/css\">\n",
       "#T_39f77_row0_col0 {\n",
       "  background-color: #a50026;\n",
       "  color: #f1f1f1;\n",
       "}\n",
       "#T_39f77_row0_col1 {\n",
       "  background-color: #fff7b2;\n",
       "  color: #000000;\n",
       "}\n",
       "#T_39f77_row0_col2 {\n",
       "  background-color: #91d068;\n",
       "  color: #000000;\n",
       "}\n",
       "#T_39f77_row0_col3 {\n",
       "  background-color: #199750;\n",
       "  color: #f1f1f1;\n",
       "}\n",
       "#T_39f77_row1_col0 {\n",
       "  background-color: #dc3b2c;\n",
       "  color: #f1f1f1;\n",
       "}\n",
       "#T_39f77_row1_col1 {\n",
       "  background-color: #e9f6a1;\n",
       "  color: #000000;\n",
       "}\n",
       "#T_39f77_row1_col2 {\n",
       "  background-color: #69be63;\n",
       "  color: #f1f1f1;\n",
       "}\n",
       "#T_39f77_row1_col3 {\n",
       "  background-color: #0b7d42;\n",
       "  color: #f1f1f1;\n",
       "}\n",
       "#T_39f77_row2_col0 {\n",
       "  background-color: #f67a49;\n",
       "  color: #f1f1f1;\n",
       "}\n",
       "#T_39f77_row2_col1 {\n",
       "  background-color: #c9e881;\n",
       "  color: #000000;\n",
       "}\n",
       "#T_39f77_row2_col2 {\n",
       "  background-color: #3ca959;\n",
       "  color: #f1f1f1;\n",
       "}\n",
       "#T_39f77_row2_col3 {\n",
       "  background-color: #006837;\n",
       "  color: #f1f1f1;\n",
       "}\n",
       "</style>\n",
       "<table id=\"T_39f77_\">\n",
       "  <caption>Years to Retirement - promo_raise vs. savings_rate</caption>\n",
       "  <thead>\n",
       "    <tr>\n",
       "      <th class=\"blank level0\" >&nbsp;</th>\n",
       "      <th class=\"col_heading level0 col0\" >0.1</th>\n",
       "      <th class=\"col_heading level0 col1\" >0.2</th>\n",
       "      <th class=\"col_heading level0 col2\" >0.3</th>\n",
       "      <th class=\"col_heading level0 col3\" >0.4</th>\n",
       "    </tr>\n",
       "    <tr>\n",
       "      <th class=\"index_name level0\" >promo_raise</th>\n",
       "      <th class=\"blank col0\" >&nbsp;</th>\n",
       "      <th class=\"blank col1\" >&nbsp;</th>\n",
       "      <th class=\"blank col2\" >&nbsp;</th>\n",
       "      <th class=\"blank col3\" >&nbsp;</th>\n",
       "    </tr>\n",
       "  </thead>\n",
       "  <tbody>\n",
       "    <tr>\n",
       "      <th id=\"T_39f77_level0_row0\" class=\"row_heading level0 row0\" >0.1</th>\n",
       "      <td id=\"T_39f77_row0_col0\" class=\"data row0 col0\" >46.3</td>\n",
       "      <td id=\"T_39f77_row0_col1\" class=\"data row0 col1\" >36.1</td>\n",
       "      <td id=\"T_39f77_row0_col2\" class=\"data row0 col2\" >30.6</td>\n",
       "      <td id=\"T_39f77_row0_col3\" class=\"data row0 col3\" >27.0</td>\n",
       "    </tr>\n",
       "    <tr>\n",
       "      <th id=\"T_39f77_level0_row1\" class=\"row_heading level0 row1\" >0.15</th>\n",
       "      <td id=\"T_39f77_row1_col0\" class=\"data row1 col0\" >43.8</td>\n",
       "      <td id=\"T_39f77_row1_col1\" class=\"data row1 col1\" >34.3</td>\n",
       "      <td id=\"T_39f77_row1_col2\" class=\"data row1 col2\" >29.2</td>\n",
       "      <td id=\"T_39f77_row1_col3\" class=\"data row1 col3\" >25.8</td>\n",
       "    </tr>\n",
       "    <tr>\n",
       "      <th id=\"T_39f77_level0_row2\" class=\"row_heading level0 row2\" >0.2</th>\n",
       "      <td id=\"T_39f77_row2_col0\" class=\"data row2 col0\" >41.5</td>\n",
       "      <td id=\"T_39f77_row2_col1\" class=\"data row2 col1\" >32.8</td>\n",
       "      <td id=\"T_39f77_row2_col2\" class=\"data row2 col2\" >28.0</td>\n",
       "      <td id=\"T_39f77_row2_col3\" class=\"data row2 col3\" >24.8</td>\n",
       "    </tr>\n",
       "  </tbody>\n",
       "</table>\n"
      ],
      "text/plain": [
       "<IPython.core.display.HTML object>"
      ]
     },
     "metadata": {},
     "output_type": "display_data"
    },
    {
     "data": {
      "text/html": [
       "<h2>Years to Retirement by promo_raise vs. interest_rate</h2>"
      ],
      "text/plain": [
       "<IPython.core.display.HTML object>"
      ]
     },
     "metadata": {},
     "output_type": "display_data"
    },
    {
     "data": {
      "text/html": [
       "<style type=\"text/css\">\n",
       "#T_cc682_row0_col0 {\n",
       "  background-color: #a50026;\n",
       "  color: #f1f1f1;\n",
       "}\n",
       "#T_cc682_row0_col1 {\n",
       "  background-color: #f98e52;\n",
       "  color: #f1f1f1;\n",
       "}\n",
       "#T_cc682_row0_col2 {\n",
       "  background-color: #fff6b0;\n",
       "  color: #000000;\n",
       "}\n",
       "#T_cc682_row0_col3 {\n",
       "  background-color: #b9e176;\n",
       "  color: #000000;\n",
       "}\n",
       "#T_cc682_row0_col4 {\n",
       "  background-color: #4eb15d;\n",
       "  color: #f1f1f1;\n",
       "}\n",
       "#T_cc682_row1_col0 {\n",
       "  background-color: #f67a49;\n",
       "  color: #f1f1f1;\n",
       "}\n",
       "#T_cc682_row1_col1 {\n",
       "  background-color: #fee999;\n",
       "  color: #000000;\n",
       "}\n",
       "#T_cc682_row1_col2 {\n",
       "  background-color: #d5ed88;\n",
       "  color: #000000;\n",
       "}\n",
       "#T_cc682_row1_col3 {\n",
       "  background-color: #78c565;\n",
       "  color: #000000;\n",
       "}\n",
       "#T_cc682_row1_col4 {\n",
       "  background-color: #15904c;\n",
       "  color: #f1f1f1;\n",
       "}\n",
       "#T_cc682_row2_col0 {\n",
       "  background-color: #fee28f;\n",
       "  color: #000000;\n",
       "}\n",
       "#T_cc682_row2_col1 {\n",
       "  background-color: #e0f295;\n",
       "  color: #000000;\n",
       "}\n",
       "#T_cc682_row2_col2 {\n",
       "  background-color: #93d168;\n",
       "  color: #000000;\n",
       "}\n",
       "#T_cc682_row2_col3 {\n",
       "  background-color: #2da155;\n",
       "  color: #f1f1f1;\n",
       "}\n",
       "#T_cc682_row2_col4 {\n",
       "  background-color: #006837;\n",
       "  color: #f1f1f1;\n",
       "}\n",
       "</style>\n",
       "<table id=\"T_cc682_\">\n",
       "  <caption>Years to Retirement - promo_raise vs. interest_rate</caption>\n",
       "  <thead>\n",
       "    <tr>\n",
       "      <th class=\"blank level0\" >&nbsp;</th>\n",
       "      <th class=\"col_heading level0 col0\" >0.03</th>\n",
       "      <th class=\"col_heading level0 col1\" >0.04</th>\n",
       "      <th class=\"col_heading level0 col2\" >0.05</th>\n",
       "      <th class=\"col_heading level0 col3\" >0.06</th>\n",
       "      <th class=\"col_heading level0 col4\" >0.07</th>\n",
       "    </tr>\n",
       "    <tr>\n",
       "      <th class=\"index_name level0\" >promo_raise</th>\n",
       "      <th class=\"blank col0\" >&nbsp;</th>\n",
       "      <th class=\"blank col1\" >&nbsp;</th>\n",
       "      <th class=\"blank col2\" >&nbsp;</th>\n",
       "      <th class=\"blank col3\" >&nbsp;</th>\n",
       "      <th class=\"blank col4\" >&nbsp;</th>\n",
       "    </tr>\n",
       "  </thead>\n",
       "  <tbody>\n",
       "    <tr>\n",
       "      <th id=\"T_cc682_level0_row0\" class=\"row_heading level0 row0\" >0.1</th>\n",
       "      <td id=\"T_cc682_row0_col0\" class=\"data row0 col0\" >40.1</td>\n",
       "      <td id=\"T_cc682_row0_col1\" class=\"data row0 col1\" >37.2</td>\n",
       "      <td id=\"T_cc682_row0_col2\" class=\"data row0 col2\" >34.7</td>\n",
       "      <td id=\"T_cc682_row0_col3\" class=\"data row0 col3\" >32.4</td>\n",
       "      <td id=\"T_cc682_row0_col4\" class=\"data row0 col4\" >30.5</td>\n",
       "    </tr>\n",
       "    <tr>\n",
       "      <th id=\"T_cc682_level0_row1\" class=\"row_heading level0 row1\" >0.15</th>\n",
       "      <td id=\"T_cc682_row1_col0\" class=\"data row1 col0\" >37.6</td>\n",
       "      <td id=\"T_cc682_row1_col1\" class=\"data row1 col1\" >35.1</td>\n",
       "      <td id=\"T_cc682_row1_col2\" class=\"data row1 col2\" >33.1</td>\n",
       "      <td id=\"T_cc682_row1_col3\" class=\"data row1 col3\" >31.2</td>\n",
       "      <td id=\"T_cc682_row1_col4\" class=\"data row1 col4\" >29.5</td>\n",
       "    </tr>\n",
       "    <tr>\n",
       "      <th id=\"T_cc682_level0_row2\" class=\"row_heading level0 row2\" >0.2</th>\n",
       "      <td id=\"T_cc682_row2_col0\" class=\"data row2 col0\" >35.4</td>\n",
       "      <td id=\"T_cc682_row2_col1\" class=\"data row2 col1\" >33.4</td>\n",
       "      <td id=\"T_cc682_row2_col2\" class=\"data row2 col2\" >31.7</td>\n",
       "      <td id=\"T_cc682_row2_col3\" class=\"data row2 col3\" >30.0</td>\n",
       "      <td id=\"T_cc682_row2_col4\" class=\"data row2 col4\" >28.5</td>\n",
       "    </tr>\n",
       "  </tbody>\n",
       "</table>\n"
      ],
      "text/plain": [
       "<IPython.core.display.HTML object>"
      ]
     },
     "metadata": {},
     "output_type": "display_data"
    },
    {
     "data": {
      "text/html": [
       "<h2>Years to Retirement by promo_raise vs. desired_cash</h2>"
      ],
      "text/plain": [
       "<IPython.core.display.HTML object>"
      ]
     },
     "metadata": {},
     "output_type": "display_data"
    },
    {
     "data": {
      "text/html": [
       "<style type=\"text/css\">\n",
       "#T_32c0d_row0_col0 {\n",
       "  background-color: #42ac5a;\n",
       "  color: #f1f1f1;\n",
       "}\n",
       "#T_32c0d_row0_col1 {\n",
       "  background-color: #fffbb8;\n",
       "  color: #000000;\n",
       "}\n",
       "#T_32c0d_row0_col2 {\n",
       "  background-color: #f57748;\n",
       "  color: #f1f1f1;\n",
       "}\n",
       "#T_32c0d_row0_col3 {\n",
       "  background-color: #a50026;\n",
       "  color: #f1f1f1;\n",
       "}\n",
       "#T_32c0d_row1_col0 {\n",
       "  background-color: #128a49;\n",
       "  color: #f1f1f1;\n",
       "}\n",
       "#T_32c0d_row1_col1 {\n",
       "  background-color: #daf08d;\n",
       "  color: #000000;\n",
       "}\n",
       "#T_32c0d_row1_col2 {\n",
       "  background-color: #fdc574;\n",
       "  color: #000000;\n",
       "}\n",
       "#T_32c0d_row1_col3 {\n",
       "  background-color: #e34933;\n",
       "  color: #f1f1f1;\n",
       "}\n",
       "#T_32c0d_row2_col0 {\n",
       "  background-color: #006837;\n",
       "  color: #f1f1f1;\n",
       "}\n",
       "#T_32c0d_row2_col1 {\n",
       "  background-color: #abdb6d;\n",
       "  color: #000000;\n",
       "}\n",
       "#T_32c0d_row2_col2 {\n",
       "  background-color: #fff1a8;\n",
       "  color: #000000;\n",
       "}\n",
       "#T_32c0d_row2_col3 {\n",
       "  background-color: #fa9857;\n",
       "  color: #000000;\n",
       "}\n",
       "</style>\n",
       "<table id=\"T_32c0d_\">\n",
       "  <caption>Years to Retirement - promo_raise vs. desired_cash</caption>\n",
       "  <thead>\n",
       "    <tr>\n",
       "      <th class=\"blank level0\" >&nbsp;</th>\n",
       "      <th class=\"col_heading level0 col0\" >1000000</th>\n",
       "      <th class=\"col_heading level0 col1\" >1500000</th>\n",
       "      <th class=\"col_heading level0 col2\" >2000000</th>\n",
       "      <th class=\"col_heading level0 col3\" >2500000</th>\n",
       "    </tr>\n",
       "    <tr>\n",
       "      <th class=\"index_name level0\" >promo_raise</th>\n",
       "      <th class=\"blank col0\" >&nbsp;</th>\n",
       "      <th class=\"blank col1\" >&nbsp;</th>\n",
       "      <th class=\"blank col2\" >&nbsp;</th>\n",
       "      <th class=\"blank col3\" >&nbsp;</th>\n",
       "    </tr>\n",
       "  </thead>\n",
       "  <tbody>\n",
       "    <tr>\n",
       "      <th id=\"T_32c0d_level0_row0\" class=\"row_heading level0 row0\" >0.1</th>\n",
       "      <td id=\"T_32c0d_row0_col0\" class=\"data row0 col0\" >28.2</td>\n",
       "      <td id=\"T_32c0d_row0_col1\" class=\"data row0 col1\" >33.5</td>\n",
       "      <td id=\"T_32c0d_row0_col2\" class=\"data row0 col2\" >37.5</td>\n",
       "      <td id=\"T_32c0d_row0_col3\" class=\"data row0 col3\" >40.7</td>\n",
       "    </tr>\n",
       "    <tr>\n",
       "      <th id=\"T_32c0d_level0_row1\" class=\"row_heading level0 row1\" >0.15</th>\n",
       "      <td id=\"T_32c0d_row1_col0\" class=\"data row1 col0\" >27.0</td>\n",
       "      <td id=\"T_32c0d_row1_col1\" class=\"data row1 col1\" >31.9</td>\n",
       "      <td id=\"T_32c0d_row1_col2\" class=\"data row1 col2\" >35.6</td>\n",
       "      <td id=\"T_32c0d_row1_col3\" class=\"data row1 col3\" >38.6</td>\n",
       "    </tr>\n",
       "    <tr>\n",
       "      <th id=\"T_32c0d_level0_row2\" class=\"row_heading level0 row2\" >0.2</th>\n",
       "      <td id=\"T_32c0d_row2_col0\" class=\"data row2 col0\" >25.9</td>\n",
       "      <td id=\"T_32c0d_row2_col1\" class=\"data row2 col1\" >30.5</td>\n",
       "      <td id=\"T_32c0d_row2_col2\" class=\"data row2 col2\" >34.0</td>\n",
       "      <td id=\"T_32c0d_row2_col3\" class=\"data row2 col3\" >36.7</td>\n",
       "    </tr>\n",
       "  </tbody>\n",
       "</table>\n"
      ],
      "text/plain": [
       "<IPython.core.display.HTML object>"
      ]
     },
     "metadata": {},
     "output_type": "display_data"
    },
    {
     "data": {
      "text/html": [
       "<h2>Years to Retirement by savings_rate vs. interest_rate</h2>"
      ],
      "text/plain": [
       "<IPython.core.display.HTML object>"
      ]
     },
     "metadata": {},
     "output_type": "display_data"
    },
    {
     "data": {
      "text/html": [
       "<style type=\"text/css\">\n",
       "#T_32254_row0_col0 {\n",
       "  background-color: #a50026;\n",
       "  color: #f1f1f1;\n",
       "}\n",
       "#T_32254_row0_col1 {\n",
       "  background-color: #e0422f;\n",
       "  color: #f1f1f1;\n",
       "}\n",
       "#T_32254_row0_col2 {\n",
       "  background-color: #f88c51;\n",
       "  color: #f1f1f1;\n",
       "}\n",
       "#T_32254_row0_col3 {\n",
       "  background-color: #fec877;\n",
       "  color: #000000;\n",
       "}\n",
       "#T_32254_row0_col4 {\n",
       "  background-color: #feefa3;\n",
       "  color: #000000;\n",
       "}\n",
       "#T_32254_row1_col0 {\n",
       "  background-color: #fee695;\n",
       "  color: #000000;\n",
       "}\n",
       "#T_32254_row1_col1 {\n",
       "  background-color: #fafdb8;\n",
       "  color: #000000;\n",
       "}\n",
       "#T_32254_row1_col2 {\n",
       "  background-color: #daf08d;\n",
       "  color: #000000;\n",
       "}\n",
       "#T_32254_row1_col3 {\n",
       "  background-color: #b5df74;\n",
       "  color: #000000;\n",
       "}\n",
       "#T_32254_row1_col4 {\n",
       "  background-color: #8ecf67;\n",
       "  color: #000000;\n",
       "}\n",
       "#T_32254_row2_col0 {\n",
       "  background-color: #c3e67d;\n",
       "  color: #000000;\n",
       "}\n",
       "#T_32254_row2_col1 {\n",
       "  background-color: #98d368;\n",
       "  color: #000000;\n",
       "}\n",
       "#T_32254_row2_col2 {\n",
       "  background-color: #70c164;\n",
       "  color: #000000;\n",
       "}\n",
       "#T_32254_row2_col3 {\n",
       "  background-color: #45ad5b;\n",
       "  color: #f1f1f1;\n",
       "}\n",
       "#T_32254_row2_col4 {\n",
       "  background-color: #1e9a51;\n",
       "  color: #f1f1f1;\n",
       "}\n",
       "#T_32254_row3_col0 {\n",
       "  background-color: #69be63;\n",
       "  color: #f1f1f1;\n",
       "}\n",
       "#T_32254_row3_col1 {\n",
       "  background-color: #3ca959;\n",
       "  color: #f1f1f1;\n",
       "}\n",
       "#T_32254_row3_col2 {\n",
       "  background-color: #17934e;\n",
       "  color: #f1f1f1;\n",
       "}\n",
       "#T_32254_row3_col3 {\n",
       "  background-color: #0a7b41;\n",
       "  color: #f1f1f1;\n",
       "}\n",
       "#T_32254_row3_col4 {\n",
       "  background-color: #006837;\n",
       "  color: #f1f1f1;\n",
       "}\n",
       "</style>\n",
       "<table id=\"T_32254_\">\n",
       "  <caption>Years to Retirement - savings_rate vs. interest_rate</caption>\n",
       "  <thead>\n",
       "    <tr>\n",
       "      <th class=\"blank level0\" >&nbsp;</th>\n",
       "      <th class=\"col_heading level0 col0\" >0.03</th>\n",
       "      <th class=\"col_heading level0 col1\" >0.04</th>\n",
       "      <th class=\"col_heading level0 col2\" >0.05</th>\n",
       "      <th class=\"col_heading level0 col3\" >0.06</th>\n",
       "      <th class=\"col_heading level0 col4\" >0.07</th>\n",
       "    </tr>\n",
       "    <tr>\n",
       "      <th class=\"index_name level0\" >savings_rate</th>\n",
       "      <th class=\"blank col0\" >&nbsp;</th>\n",
       "      <th class=\"blank col1\" >&nbsp;</th>\n",
       "      <th class=\"blank col2\" >&nbsp;</th>\n",
       "      <th class=\"blank col3\" >&nbsp;</th>\n",
       "      <th class=\"blank col4\" >&nbsp;</th>\n",
       "    </tr>\n",
       "  </thead>\n",
       "  <tbody>\n",
       "    <tr>\n",
       "      <th id=\"T_32254_level0_row0\" class=\"row_heading level0 row0\" >0.1</th>\n",
       "      <td id=\"T_32254_row0_col0\" class=\"data row0 col0\" >50.2</td>\n",
       "      <td id=\"T_32254_row0_col1\" class=\"data row0 col1\" >46.7</td>\n",
       "      <td id=\"T_32254_row0_col2\" class=\"data row0 col2\" >43.5</td>\n",
       "      <td id=\"T_32254_row0_col3\" class=\"data row0 col3\" >40.7</td>\n",
       "      <td id=\"T_32254_row0_col4\" class=\"data row0 col4\" >38.2</td>\n",
       "    </tr>\n",
       "    <tr>\n",
       "      <th id=\"T_32254_level0_row1\" class=\"row_heading level0 row1\" >0.2</th>\n",
       "      <td id=\"T_32254_row1_col0\" class=\"data row1 col0\" >38.9</td>\n",
       "      <td id=\"T_32254_row1_col1\" class=\"data row1 col1\" >36.3</td>\n",
       "      <td id=\"T_32254_row1_col2\" class=\"data row1 col2\" >34.2</td>\n",
       "      <td id=\"T_32254_row1_col3\" class=\"data row1 col3\" >32.2</td>\n",
       "      <td id=\"T_32254_row1_col4\" class=\"data row1 col4\" >30.4</td>\n",
       "    </tr>\n",
       "    <tr>\n",
       "      <th id=\"T_32254_level0_row2\" class=\"row_heading level0 row2\" >0.3</th>\n",
       "      <td id=\"T_32254_row2_col0\" class=\"data row2 col0\" >32.8</td>\n",
       "      <td id=\"T_32254_row2_col1\" class=\"data row2 col1\" >30.8</td>\n",
       "      <td id=\"T_32254_row2_col2\" class=\"data row2 col2\" >29.1</td>\n",
       "      <td id=\"T_32254_row2_col3\" class=\"data row2 col3\" >27.5</td>\n",
       "      <td id=\"T_32254_row2_col4\" class=\"data row2 col4\" >26.1</td>\n",
       "    </tr>\n",
       "    <tr>\n",
       "      <th id=\"T_32254_level0_row3\" class=\"row_heading level0 row3\" >0.4</th>\n",
       "      <td id=\"T_32254_row3_col0\" class=\"data row3 col0\" >28.8</td>\n",
       "      <td id=\"T_32254_row3_col1\" class=\"data row3 col1\" >27.2</td>\n",
       "      <td id=\"T_32254_row3_col2\" class=\"data row3 col2\" >25.7</td>\n",
       "      <td id=\"T_32254_row3_col3\" class=\"data row3 col3\" >24.4</td>\n",
       "      <td id=\"T_32254_row3_col4\" class=\"data row3 col4\" >23.2</td>\n",
       "    </tr>\n",
       "  </tbody>\n",
       "</table>\n"
      ],
      "text/plain": [
       "<IPython.core.display.HTML object>"
      ]
     },
     "metadata": {},
     "output_type": "display_data"
    },
    {
     "data": {
      "text/html": [
       "<h2>Years to Retirement by savings_rate vs. desired_cash</h2>"
      ],
      "text/plain": [
       "<IPython.core.display.HTML object>"
      ]
     },
     "metadata": {},
     "output_type": "display_data"
    },
    {
     "data": {
      "text/html": [
       "<style type=\"text/css\">\n",
       "#T_3b294_row0_col0, #T_3b294_row1_col2 {\n",
       "  background-color: #feec9f;\n",
       "  color: #000000;\n",
       "}\n",
       "#T_3b294_row0_col1 {\n",
       "  background-color: #f98e52;\n",
       "  color: #f1f1f1;\n",
       "}\n",
       "#T_3b294_row0_col2 {\n",
       "  background-color: #da362a;\n",
       "  color: #f1f1f1;\n",
       "}\n",
       "#T_3b294_row0_col3 {\n",
       "  background-color: #a50026;\n",
       "  color: #f1f1f1;\n",
       "}\n",
       "#T_3b294_row1_col0, #T_3b294_row2_col1, #T_3b294_row3_col2 {\n",
       "  background-color: #8ecf67;\n",
       "  color: #000000;\n",
       "}\n",
       "#T_3b294_row1_col1 {\n",
       "  background-color: #e5f49b;\n",
       "  color: #000000;\n",
       "}\n",
       "#T_3b294_row1_col3 {\n",
       "  background-color: #fdc171;\n",
       "  color: #000000;\n",
       "}\n",
       "#T_3b294_row2_col0 {\n",
       "  background-color: #1b9950;\n",
       "  color: #f1f1f1;\n",
       "}\n",
       "#T_3b294_row2_col2 {\n",
       "  background-color: #cfeb85;\n",
       "  color: #000000;\n",
       "}\n",
       "#T_3b294_row2_col3 {\n",
       "  background-color: #f7fcb4;\n",
       "  color: #000000;\n",
       "}\n",
       "#T_3b294_row3_col0 {\n",
       "  background-color: #006837;\n",
       "  color: #f1f1f1;\n",
       "}\n",
       "#T_3b294_row3_col1 {\n",
       "  background-color: #3faa59;\n",
       "  color: #f1f1f1;\n",
       "}\n",
       "#T_3b294_row3_col3 {\n",
       "  background-color: #c1e57b;\n",
       "  color: #000000;\n",
       "}\n",
       "</style>\n",
       "<table id=\"T_3b294_\">\n",
       "  <caption>Years to Retirement - savings_rate vs. desired_cash</caption>\n",
       "  <thead>\n",
       "    <tr>\n",
       "      <th class=\"blank level0\" >&nbsp;</th>\n",
       "      <th class=\"col_heading level0 col0\" >1000000</th>\n",
       "      <th class=\"col_heading level0 col1\" >1500000</th>\n",
       "      <th class=\"col_heading level0 col2\" >2000000</th>\n",
       "      <th class=\"col_heading level0 col3\" >2500000</th>\n",
       "    </tr>\n",
       "    <tr>\n",
       "      <th class=\"index_name level0\" >savings_rate</th>\n",
       "      <th class=\"blank col0\" >&nbsp;</th>\n",
       "      <th class=\"blank col1\" >&nbsp;</th>\n",
       "      <th class=\"blank col2\" >&nbsp;</th>\n",
       "      <th class=\"blank col3\" >&nbsp;</th>\n",
       "    </tr>\n",
       "  </thead>\n",
       "  <tbody>\n",
       "    <tr>\n",
       "      <th id=\"T_3b294_level0_row0\" class=\"row_heading level0 row0\" >0.1</th>\n",
       "      <td id=\"T_3b294_row0_col0\" class=\"data row0 col0\" >36.8</td>\n",
       "      <td id=\"T_3b294_row0_col1\" class=\"data row0 col1\" >42.4</td>\n",
       "      <td id=\"T_3b294_row0_col2\" class=\"data row0 col2\" >46.5</td>\n",
       "      <td id=\"T_3b294_row0_col3\" class=\"data row0 col3\" >49.8</td>\n",
       "    </tr>\n",
       "    <tr>\n",
       "      <th id=\"T_3b294_level0_row1\" class=\"row_heading level0 row1\" >0.2</th>\n",
       "      <td id=\"T_3b294_row1_col0\" class=\"data row1 col0\" >28.0</td>\n",
       "      <td id=\"T_3b294_row1_col1\" class=\"data row1 col1\" >33.0</td>\n",
       "      <td id=\"T_3b294_row1_col2\" class=\"data row1 col2\" >36.8</td>\n",
       "      <td id=\"T_3b294_row1_col3\" class=\"data row1 col3\" >39.8</td>\n",
       "    </tr>\n",
       "    <tr>\n",
       "      <th id=\"T_3b294_level0_row2\" class=\"row_heading level0 row2\" >0.3</th>\n",
       "      <td id=\"T_3b294_row2_col0\" class=\"data row2 col0\" >23.3</td>\n",
       "      <td id=\"T_3b294_row2_col1\" class=\"data row2 col1\" >28.0</td>\n",
       "      <td id=\"T_3b294_row2_col2\" class=\"data row2 col2\" >31.5</td>\n",
       "      <td id=\"T_3b294_row2_col3\" class=\"data row2 col3\" >34.4</td>\n",
       "    </tr>\n",
       "    <tr>\n",
       "      <th id=\"T_3b294_level0_row3\" class=\"row_heading level0 row3\" >0.4</th>\n",
       "      <td id=\"T_3b294_row3_col0\" class=\"data row3 col0\" >20.2</td>\n",
       "      <td id=\"T_3b294_row3_col1\" class=\"data row3 col1\" >24.6</td>\n",
       "      <td id=\"T_3b294_row3_col2\" class=\"data row3 col2\" >28.0</td>\n",
       "      <td id=\"T_3b294_row3_col3\" class=\"data row3 col3\" >30.7</td>\n",
       "    </tr>\n",
       "  </tbody>\n",
       "</table>\n"
      ],
      "text/plain": [
       "<IPython.core.display.HTML object>"
      ]
     },
     "metadata": {},
     "output_type": "display_data"
    },
    {
     "data": {
      "text/html": [
       "<h2>Years to Retirement by interest_rate vs. desired_cash</h2>"
      ],
      "text/plain": [
       "<IPython.core.display.HTML object>"
      ]
     },
     "metadata": {},
     "output_type": "display_data"
    },
    {
     "data": {
      "text/html": [
       "<style type=\"text/css\">\n",
       "#T_e0e7e_row0_col0 {\n",
       "  background-color: #a7d96b;\n",
       "  color: #000000;\n",
       "}\n",
       "#T_e0e7e_row0_col1, #T_e0e7e_row3_col3 {\n",
       "  background-color: #fee18d;\n",
       "  color: #000000;\n",
       "}\n",
       "#T_e0e7e_row0_col2 {\n",
       "  background-color: #ee613e;\n",
       "  color: #f1f1f1;\n",
       "}\n",
       "#T_e0e7e_row0_col3 {\n",
       "  background-color: #a50026;\n",
       "  color: #f1f1f1;\n",
       "}\n",
       "#T_e0e7e_row1_col0 {\n",
       "  background-color: #6ec064;\n",
       "  color: #000000;\n",
       "}\n",
       "#T_e0e7e_row1_col1 {\n",
       "  background-color: #f8fcb6;\n",
       "  color: #000000;\n",
       "}\n",
       "#T_e0e7e_row1_col2 {\n",
       "  background-color: #fdb567;\n",
       "  color: #000000;\n",
       "}\n",
       "#T_e0e7e_row1_col3 {\n",
       "  background-color: #e65036;\n",
       "  color: #f1f1f1;\n",
       "}\n",
       "#T_e0e7e_row2_col0 {\n",
       "  background-color: #33a456;\n",
       "  color: #f1f1f1;\n",
       "}\n",
       "#T_e0e7e_row2_col1 {\n",
       "  background-color: #cfeb85;\n",
       "  color: #000000;\n",
       "}\n",
       "#T_e0e7e_row2_col2 {\n",
       "  background-color: #feeb9d;\n",
       "  color: #000000;\n",
       "}\n",
       "#T_e0e7e_row2_col3 {\n",
       "  background-color: #fba35c;\n",
       "  color: #000000;\n",
       "}\n",
       "#T_e0e7e_row3_col0 {\n",
       "  background-color: #108647;\n",
       "  color: #f1f1f1;\n",
       "}\n",
       "#T_e0e7e_row3_col1 {\n",
       "  background-color: #a0d669;\n",
       "  color: #000000;\n",
       "}\n",
       "#T_e0e7e_row3_col2 {\n",
       "  background-color: #eff8aa;\n",
       "  color: #000000;\n",
       "}\n",
       "#T_e0e7e_row4_col0 {\n",
       "  background-color: #006837;\n",
       "  color: #f1f1f1;\n",
       "}\n",
       "#T_e0e7e_row4_col1 {\n",
       "  background-color: #6bbf64;\n",
       "  color: #000000;\n",
       "}\n",
       "#T_e0e7e_row4_col2 {\n",
       "  background-color: #c7e77f;\n",
       "  color: #000000;\n",
       "}\n",
       "#T_e0e7e_row4_col3 {\n",
       "  background-color: #fbfdba;\n",
       "  color: #000000;\n",
       "}\n",
       "</style>\n",
       "<table id=\"T_e0e7e_\">\n",
       "  <caption>Years to Retirement - interest_rate vs. desired_cash</caption>\n",
       "  <thead>\n",
       "    <tr>\n",
       "      <th class=\"blank level0\" >&nbsp;</th>\n",
       "      <th class=\"col_heading level0 col0\" >1000000</th>\n",
       "      <th class=\"col_heading level0 col1\" >1500000</th>\n",
       "      <th class=\"col_heading level0 col2\" >2000000</th>\n",
       "      <th class=\"col_heading level0 col3\" >2500000</th>\n",
       "    </tr>\n",
       "    <tr>\n",
       "      <th class=\"index_name level0\" >interest_rate</th>\n",
       "      <th class=\"blank col0\" >&nbsp;</th>\n",
       "      <th class=\"blank col1\" >&nbsp;</th>\n",
       "      <th class=\"blank col2\" >&nbsp;</th>\n",
       "      <th class=\"blank col3\" >&nbsp;</th>\n",
       "    </tr>\n",
       "  </thead>\n",
       "  <tbody>\n",
       "    <tr>\n",
       "      <th id=\"T_e0e7e_level0_row0\" class=\"row_heading level0 row0\" >0.03</th>\n",
       "      <td id=\"T_e0e7e_row0_col0\" class=\"data row0 col0\" >30.2</td>\n",
       "      <td id=\"T_e0e7e_row0_col1\" class=\"data row0 col1\" >36.1</td>\n",
       "      <td id=\"T_e0e7e_row0_col2\" class=\"data row0 col2\" >40.5</td>\n",
       "      <td id=\"T_e0e7e_row0_col3\" class=\"data row0 col3\" >44.0</td>\n",
       "    </tr>\n",
       "    <tr>\n",
       "      <th id=\"T_e0e7e_level0_row1\" class=\"row_heading level0 row1\" >0.04</th>\n",
       "      <td id=\"T_e0e7e_row1_col0\" class=\"data row1 col0\" >28.4</td>\n",
       "      <td id=\"T_e0e7e_row1_col1\" class=\"data row1 col1\" >33.8</td>\n",
       "      <td id=\"T_e0e7e_row1_col2\" class=\"data row1 col2\" >37.8</td>\n",
       "      <td id=\"T_e0e7e_row1_col3\" class=\"data row1 col3\" >41.0</td>\n",
       "    </tr>\n",
       "    <tr>\n",
       "      <th id=\"T_e0e7e_level0_row2\" class=\"row_heading level0 row2\" >0.05</th>\n",
       "      <td id=\"T_e0e7e_row2_col0\" class=\"data row2 col0\" >26.9</td>\n",
       "      <td id=\"T_e0e7e_row2_col1\" class=\"data row2 col1\" >31.8</td>\n",
       "      <td id=\"T_e0e7e_row2_col2\" class=\"data row2 col2\" >35.4</td>\n",
       "      <td id=\"T_e0e7e_row2_col3\" class=\"data row2 col3\" >38.4</td>\n",
       "    </tr>\n",
       "    <tr>\n",
       "      <th id=\"T_e0e7e_level0_row3\" class=\"row_heading level0 row3\" >0.06</th>\n",
       "      <td id=\"T_e0e7e_row3_col0\" class=\"data row3 col0\" >25.5</td>\n",
       "      <td id=\"T_e0e7e_row3_col1\" class=\"data row3 col1\" >30.0</td>\n",
       "      <td id=\"T_e0e7e_row3_col2\" class=\"data row3 col2\" >33.3</td>\n",
       "      <td id=\"T_e0e7e_row3_col3\" class=\"data row3 col3\" >36.0</td>\n",
       "    </tr>\n",
       "    <tr>\n",
       "      <th id=\"T_e0e7e_level0_row4\" class=\"row_heading level0 row4\" >0.07</th>\n",
       "      <td id=\"T_e0e7e_row4_col0\" class=\"data row4 col0\" >24.2</td>\n",
       "      <td id=\"T_e0e7e_row4_col1\" class=\"data row4 col1\" >28.4</td>\n",
       "      <td id=\"T_e0e7e_row4_col2\" class=\"data row4 col2\" >31.4</td>\n",
       "      <td id=\"T_e0e7e_row4_col3\" class=\"data row4 col3\" >33.9</td>\n",
       "    </tr>\n",
       "  </tbody>\n",
       "</table>\n"
      ],
      "text/plain": [
       "<IPython.core.display.HTML object>"
      ]
     },
     "metadata": {},
     "output_type": "display_data"
    }
   ],
   "source": [
    "# Display the results using a DataFrame.\n",
    "styled_dict = sa.styled_dfs(num_fmt = '{:.1f}')"
   ]
  },
  {
   "cell_type": "markdown",
   "id": "e54be7e7",
   "metadata": {},
   "source": [
    "## Scenario analysis"
   ]
  },
  {
   "cell_type": "code",
   "execution_count": 23,
   "id": "ac892eb8",
   "metadata": {},
   "outputs": [],
   "source": [
    "# The function to calculate 'bad' economy:\n",
    "bad_economy_data = ModelInputs(\n",
    "    starting_salary = 100000,\n",
    "    promos_every_n_years = 8,\n",
    "    cost_of_living_raise = 0.01,\n",
    "    promo_raise = 0.07,\n",
    "    savings_rate = 0.15,\n",
    "    interest_rate = 0.03)\n",
    "\n",
    "# The function to calculate 'good' economy:\n",
    "good_economy_data = ModelInputs(\n",
    "    starting_salary = 500000,\n",
    "    promos_every_n_years = 4,\n",
    "    cost_of_living_raise = 0.03,\n",
    "    promo_raise = 0.20,\n",
    "    savings_rate = 0.35,\n",
    "    interest_rate = 0.06)\n",
    "\n",
    "cases = {\n",
    "    'Bad': bad_economy_data,\n",
    "    'Normal': model_data, # Original inputs were set to assume a 'normal' economy\n",
    "    'Good': good_economy_data}"
   ]
  },
  {
   "cell_type": "code",
   "execution_count": 24,
   "id": "9222b8f2",
   "metadata": {},
   "outputs": [
    {
     "name": "stdout",
     "output_type": "stream",
     "text": [
      "It would take 40 years tp retire in a Bad economy.\n",
      "It would take 13 years tp retire in a Normal economy.\n",
      "It would take 7 years tp retire in a Good economy.\n"
     ]
    }
   ],
   "source": [
    "# Run the model with the three scenarios and print the results (with a text string):\n",
    "for case_type, case_inputs in cases.items():\n",
    "    ytr = years_to_retirement(case_inputs, print_output = False)\n",
    "    print(f'It would take {ytr} years tp retire in a {case_type} economy.')"
   ]
  },
  {
   "cell_type": "markdown",
   "id": "dc4b4e4f",
   "metadata": {},
   "source": [
    "## Assigning probabilities"
   ]
  },
  {
   "cell_type": "code",
   "execution_count": 25,
   "id": "332c177b",
   "metadata": {},
   "outputs": [],
   "source": [
    "# Note: These values are arbitrary (i.e. they have been randomly allocated)\n",
    "# and are only used for demonstration.\n",
    "\n",
    "case_probabilities = {\n",
    "    'Bad': 0.2,\n",
    "    'Normal': 0.5,\n",
    "    'Good': 0.3}"
   ]
  },
  {
   "cell_type": "code",
   "execution_count": 27,
   "id": "5528805a",
   "metadata": {},
   "outputs": [
    {
     "name": "stdout",
     "output_type": "stream",
     "text": [
      "It would take 8 years to retire given a 20% change of a bad economy and 30% change of a good economy.\n",
      "It would take 14 years to retire given a 20% change of a bad economy and 30% change of a good economy.\n",
      "It would take 17 years to retire given a 20% change of a bad economy and 30% change of a good economy.\n"
     ]
    }
   ],
   "source": [
    "# Run the model by taking the expected value over the three cases;\n",
    "# Print the results with a text string:\n",
    "\n",
    "expected_ytr = 0\n",
    "for case_type, case_inputs in cases.items():\n",
    "    ytr = years_to_retirement(case_inputs, print_output = False)\n",
    "    weighted_ytr = ytr * case_probabilities[case_type]\n",
    "    expected_ytr += weighted_ytr\n",
    "    \n",
    "    print(f'It would take {expected_ytr:.0f} years to retire given a \\\n",
    "{case_probabilities[\"Bad\"]:.0%} change of a bad economy and \\\n",
    "{case_probabilities[\"Good\"]:.0%} change of a good economy.')"
   ]
  },
  {
   "cell_type": "code",
   "execution_count": null,
   "id": "35ec3c8a",
   "metadata": {},
   "outputs": [],
   "source": []
  },
  {
   "cell_type": "markdown",
   "id": "ca098172",
   "metadata": {},
   "source": [
    "# "
   ]
  },
  {
   "cell_type": "markdown",
   "id": "4dd362eb",
   "metadata": {},
   "source": [
    "# 1.2 Linear regression using Python"
   ]
  },
  {
   "cell_type": "markdown",
   "id": "6ea88bea",
   "metadata": {},
   "source": [
    "## Simple linear regression analysis"
   ]
  },
  {
   "cell_type": "markdown",
   "id": "967b241f",
   "metadata": {},
   "source": [
    "### 1. Find the line of best fit"
   ]
  },
  {
   "cell_type": "code",
   "execution_count": 1,
   "id": "037b480c",
   "metadata": {},
   "outputs": [],
   "source": [
    "# Import Numpy for statistical calculations and Matplotlib for plotting functions:\n",
    "import numpy as np\n",
    "import matplotlib.pyplot as plt"
   ]
  },
  {
   "cell_type": "code",
   "execution_count": 2,
   "id": "801d834c",
   "metadata": {},
   "outputs": [],
   "source": [
    "# Regression analysis function:\n",
    "def estimate_coef(x, y):\n",
    "    n = np.size(x) # Specify the size or number of points.\n",
    "    \n",
    "    # Calculate the mean of x and y:\n",
    "    mean_x = np.mean(x)\n",
    "    mean_y = np.mean(y)\n",
    "    \n",
    "    # Calculate the cross_deviation and deviation around x:\n",
    "    SS_xy = np.sum(y * x) - n * mean_y * mean_x\n",
    "    SS_xx = np.sum(x * x) - n * mean_x * mean_x\n",
    "    \n",
    "    # Calculate the regression coefficients:\n",
    "    m = SS_xy / SS_xx\n",
    "    b = mean_y - m * mean_x\n",
    "    \n",
    "    return (b, m)"
   ]
  },
  {
   "cell_type": "code",
   "execution_count": 3,
   "id": "de98a388",
   "metadata": {},
   "outputs": [],
   "source": [
    "def plot_regression_line(x, y, b):\n",
    "    # [1] Use scatterplot to plot the actual points:\n",
    "    plt.scatter(x, y, color = \"g\", marker = \"o\", s = 30)\n",
    "    \n",
    "    # [2] Set the predicted response vector using the linear equation:\n",
    "    y_pred = b[0] + b[1] * x\n",
    "    \n",
    "    # [3] Plot the regression line (in red):\n",
    "    plt.plot(x, y_pred, color = \"r\")\n",
    "    \n",
    "    # [4] Add two labels for clarity:\n",
    "    plt.xlabel('x')\n",
    "    plt.ylabel('y')\n",
    "    \n",
    "    # [5] Set a function to display the plot:\n",
    "    plt.show()"
   ]
  },
  {
   "cell_type": "markdown",
   "id": "ba4ade1e",
   "metadata": {},
   "source": [
    "### 2. Add data"
   ]
  },
  {
   "cell_type": "code",
   "execution_count": 6,
   "id": "427c67d3",
   "metadata": {},
   "outputs": [
    {
     "name": "stdout",
     "output_type": "stream",
     "text": [
      "Estimated coefficients:\n",
      "c = 8362.602405110887            \n",
      "m = 12909.488913942112\n"
     ]
    },
    {
     "data": {
      "image/png": "[encoded data removed]",
      "text/plain": [
       "<Figure size 432x288 with 1 Axes>"
      ]
     },
     "metadata": {
      "needs_background": "light"
     },
     "output_type": "display_data"
    }
   ],
   "source": [
    "def main():\n",
    "    # [1] Enter small data set (in this case) manually as an array:\n",
    "    x = np.array([0.9, 1, 1.1, 1.2, 1.4, 1.6, 1.8, 2, 2.2, 2.5])\n",
    "    y = np.array([20000, 22000, 23500, 26000, 25000, 28250, 29300,\n",
    "                  33000, 34255, 45000])\n",
    "    \n",
    "    # [2] Calculate the coefficients:\n",
    "    b = estimate_coef(x, y)\n",
    "    print(\"Estimated coefficients:\\nc = {}  \\\n",
    "          \\nm = {}\".format(b[0], b[1]))\n",
    "    \n",
    "    # [3] Plot the regression line (i.e. y = mc + c):\n",
    "    plot_regression_line(x, y, b)\n",
    "    \n",
    "main()"
   ]
  },
  {
   "cell_type": "markdown",
   "id": "96ba67d9",
   "metadata": {},
   "source": [
    "### 3. Simplify functions and calculations with NumPy"
   ]
  },
  {
   "cell_type": "code",
   "execution_count": 8,
   "id": "a042bb63",
   "metadata": {},
   "outputs": [
    {
     "data": {
      "text/plain": [
       "[<matplotlib.lines.Line2D at 0x28ee85dda30>]"
      ]
     },
     "execution_count": 8,
     "metadata": {},
     "output_type": "execute_result"
    },
    {
     "data": {
      "image/png": "[encoded data removed]",
      "text/plain": [
       "<Figure size 432x288 with 1 Axes>"
      ]
     },
     "metadata": {
      "needs_background": "light"
     },
     "output_type": "display_data"
    }
   ],
   "source": [
    "# [1] Re-enter the values of x and y in your Notebook:\n",
    "x = np.array([0.9, 1, 1.1, 1.2, 1.4, 1.6, 1.8, 2, 2.2, 2.5])\n",
    "y = np.array([20000, 22000, 23500, 26000, 25000, 28250, 29300, 33000, 34255, 45000])\n",
    "\n",
    "# [2] Create a basic scatterplot.\n",
    "plt.plot(x, y, 'o')\n",
    "\n",
    "# [3] Obtain m (slope) and c (intercept) of the linear regression line:\n",
    "m, c = np.polyfit(x, y, 1)\n",
    "\n",
    "# [4] Add the linear regression line to the scatterplot:\n",
    "plt.plot(x, m * x + c)"
   ]
  },
  {
   "cell_type": "markdown",
   "id": "71b51ef3",
   "metadata": {},
   "source": [
    "## The OLD method and the statsmodels package"
   ]
  },
  {
   "cell_type": "markdown",
   "id": "24c0c421",
   "metadata": {},
   "source": [
    "### 1. Practice the OLD method using the statsmodels package"
   ]
  },
  {
   "cell_type": "code",
   "execution_count": 2,
   "id": "ca05fefd",
   "metadata": {},
   "outputs": [],
   "source": [
    "# Import the 'statsmodels' package along with Numpy, Pandas and Matplotlib:\n",
    "import statsmodels.api as sm\n",
    "from statsmodels.formula.api import ols\n",
    "import numpy as np\n",
    "import pandas as pd\n",
    "import matplotlib.pyplot as plt"
   ]
  },
  {
   "cell_type": "code",
   "execution_count": 3,
   "id": "07198d41",
   "metadata": {},
   "outputs": [
    {
     "data": {
      "text/html": [
       "<div>\n",
       "<style scoped>\n",
       "    .dataframe tbody tr th:only-of-type {\n",
       "        vertical-align: middle;\n",
       "    }\n",
       "\n",
       "    .dataframe tbody tr th {\n",
       "        vertical-align: top;\n",
       "    }\n",
       "\n",
       "    .dataframe thead th {\n",
       "        text-align: right;\n",
       "    }\n",
       "</style>\n",
       "<table border=\"1\" class=\"dataframe\">\n",
       "  <thead>\n",
       "    <tr style=\"text-align: right;\">\n",
       "      <th></th>\n",
       "      <th>x</th>\n",
       "      <th>y</th>\n",
       "    </tr>\n",
       "  </thead>\n",
       "  <tbody>\n",
       "    <tr>\n",
       "      <th>0</th>\n",
       "      <td>77</td>\n",
       "      <td>79.775152</td>\n",
       "    </tr>\n",
       "    <tr>\n",
       "      <th>1</th>\n",
       "      <td>21</td>\n",
       "      <td>23.177279</td>\n",
       "    </tr>\n",
       "    <tr>\n",
       "      <th>2</th>\n",
       "      <td>22</td>\n",
       "      <td>25.609262</td>\n",
       "    </tr>\n",
       "    <tr>\n",
       "      <th>3</th>\n",
       "      <td>20</td>\n",
       "      <td>17.857388</td>\n",
       "    </tr>\n",
       "    <tr>\n",
       "      <th>4</th>\n",
       "      <td>36</td>\n",
       "      <td>41.849864</td>\n",
       "    </tr>\n",
       "    <tr>\n",
       "      <th>...</th>\n",
       "      <td>...</td>\n",
       "      <td>...</td>\n",
       "    </tr>\n",
       "    <tr>\n",
       "      <th>295</th>\n",
       "      <td>71</td>\n",
       "      <td>68.545888</td>\n",
       "    </tr>\n",
       "    <tr>\n",
       "      <th>296</th>\n",
       "      <td>46</td>\n",
       "      <td>47.334876</td>\n",
       "    </tr>\n",
       "    <tr>\n",
       "      <th>297</th>\n",
       "      <td>55</td>\n",
       "      <td>54.090637</td>\n",
       "    </tr>\n",
       "    <tr>\n",
       "      <th>298</th>\n",
       "      <td>62</td>\n",
       "      <td>63.297171</td>\n",
       "    </tr>\n",
       "    <tr>\n",
       "      <th>299</th>\n",
       "      <td>47</td>\n",
       "      <td>52.459467</td>\n",
       "    </tr>\n",
       "  </tbody>\n",
       "</table>\n",
       "<p>300 rows × 2 columns</p>\n",
       "</div>"
      ],
      "text/plain": [
       "      x          y\n",
       "0    77  79.775152\n",
       "1    21  23.177279\n",
       "2    22  25.609262\n",
       "3    20  17.857388\n",
       "4    36  41.849864\n",
       "..   ..        ...\n",
       "295  71  68.545888\n",
       "296  46  47.334876\n",
       "297  55  54.090637\n",
       "298  62  63.297171\n",
       "299  47  52.459467\n",
       "\n",
       "[300 rows x 2 columns]"
      ]
     },
     "execution_count": 3,
     "metadata": {},
     "output_type": "execute_result"
    }
   ],
   "source": [
    "# Import and read the data file:\n",
    "df_test = pd.read_csv(\"test.csv\")\n",
    "\n",
    "df_test"
   ]
  },
  {
   "cell_type": "code",
   "execution_count": 4,
   "id": "9a8b2e58",
   "metadata": {},
   "outputs": [],
   "source": [
    "# Define the dependent variable.\n",
    "y = df_test['y']\n",
    "\n",
    "# Define the independent variable.\n",
    "x = df_test['x']"
   ]
  },
  {
   "cell_type": "code",
   "execution_count": 5,
   "id": "5cd19596",
   "metadata": {},
   "outputs": [
    {
     "data": {
      "text/plain": [
       "<matplotlib.collections.PathCollection at 0x1eb1ca0d220>"
      ]
     },
     "execution_count": 5,
     "metadata": {},
     "output_type": "execute_result"
    },
    {
     "data": {
      "image/png": "[encoded data removed]",
      "text/plain": [
       "<Figure size 432x288 with 1 Axes>"
      ]
     },
     "metadata": {
      "needs_background": "light"
     },
     "output_type": "display_data"
    }
   ],
   "source": [
    "# Check for linearity with scatterplot.\n",
    "plt.scatter(x, y)"
   ]
  },
  {
   "cell_type": "code",
   "execution_count": 6,
   "id": "4c860628",
   "metadata": {},
   "outputs": [],
   "source": [
    "# Create formula and pass through OLS method:\n",
    "f = 'y ~ x'\n",
    "test = ols(f, data = df_test).fit()"
   ]
  },
  {
   "cell_type": "code",
   "execution_count": 7,
   "id": "198ffe62",
   "metadata": {},
   "outputs": [
    {
     "data": {
      "text/html": [
       "<table class=\"simpletable\">\n",
       "<caption>OLS Regression Results</caption>\n",
       "<tr>\n",
       "  <th>Dep. Variable:</th>            <td>y</td>        <th>  R-squared:         </th> <td>   0.989</td> \n",
       "</tr>\n",
       "<tr>\n",
       "  <th>Model:</th>                   <td>OLS</td>       <th>  Adj. R-squared:    </th> <td>   0.989</td> \n",
       "</tr>\n",
       "<tr>\n",
       "  <th>Method:</th>             <td>Least Squares</td>  <th>  F-statistic:       </th> <td>2.709e+04</td>\n",
       "</tr>\n",
       "<tr>\n",
       "  <th>Date:</th>             <td>Tue, 17 May 2022</td> <th>  Prob (F-statistic):</th> <td>1.33e-294</td>\n",
       "</tr>\n",
       "<tr>\n",
       "  <th>Time:</th>                 <td>18:52:22</td>     <th>  Log-Likelihood:    </th> <td> -757.98</td> \n",
       "</tr>\n",
       "<tr>\n",
       "  <th>No. Observations:</th>      <td>   300</td>      <th>  AIC:               </th> <td>   1520.</td> \n",
       "</tr>\n",
       "<tr>\n",
       "  <th>Df Residuals:</th>          <td>   298</td>      <th>  BIC:               </th> <td>   1527.</td> \n",
       "</tr>\n",
       "<tr>\n",
       "  <th>Df Model:</th>              <td>     1</td>      <th>                     </th>     <td> </td>    \n",
       "</tr>\n",
       "<tr>\n",
       "  <th>Covariance Type:</th>      <td>nonrobust</td>    <th>                     </th>     <td> </td>    \n",
       "</tr>\n",
       "</table>\n",
       "<table class=\"simpletable\">\n",
       "<tr>\n",
       "      <td></td>         <th>coef</th>     <th>std err</th>      <th>t</th>      <th>P>|t|</th>  <th>[0.025</th>    <th>0.975]</th>  \n",
       "</tr>\n",
       "<tr>\n",
       "  <th>Intercept</th> <td>   -0.4618</td> <td>    0.360</td> <td>   -1.284</td> <td> 0.200</td> <td>   -1.169</td> <td>    0.246</td>\n",
       "</tr>\n",
       "<tr>\n",
       "  <th>x</th>         <td>    1.0143</td> <td>    0.006</td> <td>  164.598</td> <td> 0.000</td> <td>    1.002</td> <td>    1.026</td>\n",
       "</tr>\n",
       "</table>\n",
       "<table class=\"simpletable\">\n",
       "<tr>\n",
       "  <th>Omnibus:</th>       <td> 1.034</td> <th>  Durbin-Watson:     </th> <td>   2.006</td>\n",
       "</tr>\n",
       "<tr>\n",
       "  <th>Prob(Omnibus):</th> <td> 0.596</td> <th>  Jarque-Bera (JB):  </th> <td>   0.825</td>\n",
       "</tr>\n",
       "<tr>\n",
       "  <th>Skew:</th>          <td> 0.117</td> <th>  Prob(JB):          </th> <td>   0.662</td>\n",
       "</tr>\n",
       "<tr>\n",
       "  <th>Kurtosis:</th>      <td> 3.104</td> <th>  Cond. No.          </th> <td>    120.</td>\n",
       "</tr>\n",
       "</table><br/><br/>Notes:<br/>[1] Standard Errors assume that the covariance matrix of the errors is correctly specified."
      ],
      "text/plain": [
       "<class 'statsmodels.iolib.summary.Summary'>\n",
       "\"\"\"\n",
       "                            OLS Regression Results                            \n",
       "==============================================================================\n",
       "Dep. Variable:                      y   R-squared:                       0.989\n",
       "Model:                            OLS   Adj. R-squared:                  0.989\n",
       "Method:                 Least Squares   F-statistic:                 2.709e+04\n",
       "Date:                Tue, 17 May 2022   Prob (F-statistic):          1.33e-294\n",
       "Time:                        18:52:22   Log-Likelihood:                -757.98\n",
       "No. Observations:                 300   AIC:                             1520.\n",
       "Df Residuals:                     298   BIC:                             1527.\n",
       "Df Model:                           1                                         \n",
       "Covariance Type:            nonrobust                                         \n",
       "==============================================================================\n",
       "                 coef    std err          t      P>|t|      [0.025      0.975]\n",
       "------------------------------------------------------------------------------\n",
       "Intercept     -0.4618      0.360     -1.284      0.200      -1.169       0.246\n",
       "x              1.0143      0.006    164.598      0.000       1.002       1.026\n",
       "==============================================================================\n",
       "Omnibus:                        1.034   Durbin-Watson:                   2.006\n",
       "Prob(Omnibus):                  0.596   Jarque-Bera (JB):                0.825\n",
       "Skew:                           0.117   Prob(JB):                        0.662\n",
       "Kurtosis:                       3.104   Cond. No.                         120.\n",
       "==============================================================================\n",
       "\n",
       "Notes:\n",
       "[1] Standard Errors assume that the covariance matrix of the errors is correctly specified.\n",
       "\"\"\""
      ]
     },
     "execution_count": 7,
     "metadata": {},
     "output_type": "execute_result"
    }
   ],
   "source": [
    "# Print the regression table.\n",
    "test.summary()"
   ]
  },
  {
   "cell_type": "markdown",
   "id": "2e890e22",
   "metadata": {},
   "source": [
    "### 2. Print useful values"
   ]
  },
  {
   "cell_type": "code",
   "execution_count": 8,
   "id": "69a4b23b",
   "metadata": {},
   "outputs": [
    {
     "name": "stdout",
     "output_type": "stream",
     "text": [
      "Parameters:  Intercept   -0.461811\n",
      "x            1.014335\n",
      "dtype: float64\n",
      "Standard errors:  Intercept    0.359560\n",
      "x            0.006162\n",
      "dtype: float64\n",
      "Predicted values:  [ 77.64201157  20.83923168  21.85356704  19.82489633  36.05426201\n",
      "  14.75321955  62.42698124  95.90004796  19.82489633   4.609866\n",
      "   3.59553065  18.81056097  96.91438332  62.42698124  36.05426201\n",
      "  14.75321955  65.46998731  13.7388842   87.78536512  69.52732873\n",
      "  89.81403583  51.26929234  89.81403583  26.92524381  97.92871867\n",
      "  58.36963982  79.67068228  20.83923168  93.87137725  26.92524381\n",
      "  99.95738938  30.98258524  33.01125595  80.68501764  27.93957917\n",
      "  47.21195092  53.29796305  69.52732873  27.93957917  33.01125595\n",
      "  91.84270654  71.55599944  50.25495698  76.62767622   3.59553065\n",
      "  37.06859737  70.54166408  68.51299337  40.11160343  35.03992666\n",
      "  94.88571261  88.79970048  52.28362769  30.98258524  59.38397518\n",
      "  -0.46181077  39.09726808  64.45565195  69.52732873  57.35530447\n",
      "  12.72454884  72.57033479  76.62767622  61.41264589  82.71368835\n",
      "  17.79622562  41.12593879  50.25495698  55.32663376  12.72454884\n",
      "  46.19761556  12.72454884  79.67068228  53.29796305  14.75321955\n",
      "  27.93957917  81.69935299  69.52732873  52.28362769  84.74235906\n",
      "  68.51299337  26.92524381  56.34096911  48.22628627  40.11160343\n",
      "  39.09726808  82.71368835 100.97172474  59.38397518  43.1546095\n",
      "  67.49865802  38.08293272  63.4413166   91.84270654  60.39831053\n",
      "  13.7388842   20.83923168  87.78536512  73.58467015  31.99692059\n",
      "   1.56685994  82.71368835  18.81056097  74.59900551  42.14027414\n",
      "  11.71021349   0.55252458  90.82837119  89.81403583  -0.46181077\n",
      "  41.12593879  15.76755491  94.88571261  97.92871867  66.48432266\n",
      "  23.88223775  16.78189026  90.82837119  12.72454884  -0.46181077\n",
      "  64.45565195  96.91438332  98.94305403  11.71021349  41.12593879\n",
      "  47.21195092  78.65634693  19.82489633  89.81403583  28.95391452\n",
      "  64.45565195  75.61334086  11.71021349  24.8965731   27.93957917\n",
      "  29.96824988  65.46998731  59.38397518  64.45565195  53.29796305\n",
      "  71.55599944  97.92871867  73.58467015   8.66720742  11.71021349\n",
      "  63.4413166   99.95738938  60.39831053  35.03992666   1.56685994\n",
      "  60.39831053  31.99692059  94.88571261  84.74235906  63.4413166\n",
      "  21.85356704  81.69935299  93.87137725  33.01125595   6.63853671\n",
      "  42.14027414  46.19761556  54.3122984   15.76755491  49.24062163\n",
      "  43.1546095   95.90004796  66.48432266  20.83923168  35.03992666\n",
      "  80.68501764  37.06859737  54.3122984   56.34096911   0.55252458\n",
      "  31.99692059  58.36963982  31.99692059  46.19761556  72.57033479\n",
      "  16.78189026  97.92871867  93.87137725  91.84270654  37.06859737\n",
      "   3.59553065  54.3122984   51.26929234  26.92524381  46.19761556\n",
      "  92.8570419   73.58467015  77.64201157  91.84270654  61.41264589\n",
      "  99.95738938   3.59553065  72.57033479  18.81056097  57.35530447\n",
      "  78.65634693  25.91090846  74.59900551  90.82837119  66.48432266\n",
      "  12.72454884  40.11160343  77.64201157  67.49865802  75.61334086\n",
      "  22.86790239  45.18328021  59.38397518  44.16894485  22.86790239\n",
      "  55.32663376  55.32663376  95.90004796  11.71021349   3.59553065\n",
      "   6.63853671 100.97172474  48.22628627  42.14027414  96.91438332\n",
      "  39.09726808 100.97172474  87.78536512  13.7388842   13.7388842\n",
      "  37.06859737   4.609866    88.79970048  91.84270654  65.46998731\n",
      "  74.59900551  56.34096911  15.76755491   4.609866    27.93957917\n",
      "  92.8570419   46.19761556  54.3122984   39.09726808  44.16894485\n",
      "  30.98258524  68.51299337  86.77102977  90.82837119  38.08293272\n",
      "  20.83923168  95.90004796  56.34096911  60.39831053  65.46998731\n",
      "  78.65634693  89.81403583   5.62420136  67.49865802  36.05426201\n",
      "  15.76755491 100.97172474  45.18328021  73.58467015  57.35530447\n",
      "  19.82489633  76.62767622  34.0255913   55.32663376  72.57033479\n",
      "  55.32663376   7.65287207  56.34096911  72.57033479  58.36963982\n",
      "   5.62420136  96.91438332  22.86790239  58.36963982  22.86790239\n",
      "  18.81056097  24.8965731   64.45565195  20.83923168  59.38397518\n",
      "  18.81056097  15.76755491  42.14027414  43.1546095   61.41264589\n",
      "  92.8570419   10.69587813  41.12593879   0.55252458   7.65287207\n",
      "  71.55599944  46.19761556  55.32663376  62.42698124  47.21195092]\n"
     ]
    }
   ],
   "source": [
    "# Extract the estimated parameters.\n",
    "print(\"Parameters: \", test.params)\n",
    "# Extract the standard errors.\n",
    "print(\"Standard errors: \", test.bse)\n",
    "# Extract the predicted values.\n",
    "print(\"Predicted values: \", test.predict())"
   ]
  },
  {
   "cell_type": "markdown",
   "id": "7632dcbb",
   "metadata": {},
   "source": [
    "### 3. Create a linear equation and plotting regression"
   ]
  },
  {
   "cell_type": "code",
   "execution_count": 9,
   "id": "a3f9ad4f",
   "metadata": {},
   "outputs": [
    {
     "data": {
      "text/plain": [
       "0      77.6393\n",
       "1      20.8385\n",
       "2      21.8528\n",
       "3      19.8242\n",
       "4      36.0530\n",
       "        ...   \n",
       "295    71.5535\n",
       "296    46.1960\n",
       "297    55.3247\n",
       "298    62.4248\n",
       "299    47.2103\n",
       "Name: x, Length: 300, dtype: float64"
      ]
     },
     "execution_count": 9,
     "metadata": {},
     "output_type": "execute_result"
    }
   ],
   "source": [
    "# Set the x coefficient to '1.0143' and the constant to '-0.4618'\n",
    "# to generate the regression table:\n",
    "\n",
    "y_pred = 1.0143 * df_test['x'] - 0.4618\n",
    "\n",
    "y_pred"
   ]
  },
  {
   "cell_type": "code",
   "execution_count": 10,
   "id": "ae8baeec",
   "metadata": {},
   "outputs": [
    {
     "data": {
      "image/png": "[encoded data removed]",
      "text/plain": [
       "<Figure size 432x288 with 1 Axes>"
      ]
     },
     "metadata": {
      "needs_background": "light"
     },
     "output_type": "display_data"
    }
   ],
   "source": [
    "# [1] Plot the data points.\n",
    "plt.scatter(x, y)\n",
    "\n",
    "# [2] Plot the regression line (in red).\n",
    "plt.plot(x, y_pred, color = 'red')\n",
    "\n",
    "# [3] Set the x and y limits on the axes.\n",
    "plt.xlim(0)\n",
    "plt.ylim(0)\n",
    "\n",
    "plt.show()"
   ]
  },
  {
   "cell_type": "markdown",
   "id": "5db33554",
   "metadata": {},
   "source": [
    "## Linear regression with scikit-learn"
   ]
  },
  {
   "cell_type": "markdown",
   "id": "ee500030",
   "metadata": {},
   "source": [
    "### Install and impor the required modules and packages"
   ]
  },
  {
   "cell_type": "code",
   "execution_count": 13,
   "id": "5a19ec58",
   "metadata": {},
   "outputs": [
    {
     "name": "stdout",
     "output_type": "stream",
     "text": [
      "Requirement already satisfied: numpy in c:\\users\\richa\\anaconda3\\lib\\site-packages (1.20.3)\n",
      "Requirement already satisfied: pandas in c:\\users\\richa\\anaconda3\\lib\\site-packages (1.3.4)\n",
      "Requirement already satisfied: pytz>=2017.3 in c:\\users\\richa\\anaconda3\\lib\\site-packages (from pandas) (2021.3)\n",
      "Requirement already satisfied: python-dateutil>=2.7.3 in c:\\users\\richa\\anaconda3\\lib\\site-packages (from pandas) (2.8.2)\n",
      "Requirement already satisfied: numpy>=1.17.3 in c:\\users\\richa\\anaconda3\\lib\\site-packages (from pandas) (1.20.3)\n",
      "Requirement already satisfied: six>=1.5 in c:\\users\\richa\\anaconda3\\lib\\site-packages (from python-dateutil>=2.7.3->pandas) (1.16.0)\n",
      "Requirement already satisfied: statsmodels in c:\\users\\richa\\anaconda3\\lib\\site-packages (0.12.2)\n",
      "Requirement already satisfied: numpy>=1.15 in c:\\users\\richa\\anaconda3\\lib\\site-packages (from statsmodels) (1.20.3)\n",
      "Requirement already satisfied: scipy>=1.1 in c:\\users\\richa\\anaconda3\\lib\\site-packages (from statsmodels) (1.7.1)\n",
      "Requirement already satisfied: pandas>=0.21 in c:\\users\\richa\\anaconda3\\lib\\site-packages (from statsmodels) (1.3.4)\n",
      "Requirement already satisfied: patsy>=0.5 in c:\\users\\richa\\anaconda3\\lib\\site-packages (from statsmodels) (0.5.2)\n",
      "Requirement already satisfied: pytz>=2017.3 in c:\\users\\richa\\anaconda3\\lib\\site-packages (from pandas>=0.21->statsmodels) (2021.3)\n",
      "Requirement already satisfied: python-dateutil>=2.7.3 in c:\\users\\richa\\anaconda3\\lib\\site-packages (from pandas>=0.21->statsmodels) (2.8.2)\n",
      "Requirement already satisfied: six in c:\\users\\richa\\anaconda3\\lib\\site-packages (from patsy>=0.5->statsmodels) (1.16.0)\n",
      "Requirement already satisfied: scipy in c:\\users\\richa\\anaconda3\\lib\\site-packages (1.7.1)\n",
      "Requirement already satisfied: numpy<1.23.0,>=1.16.5 in c:\\users\\richa\\anaconda3\\lib\\site-packages (from scipy) (1.20.3)\n",
      "Requirement already satisfied: matplotlib in c:\\users\\richa\\anaconda3\\lib\\site-packages (3.4.3)\n",
      "Requirement already satisfied: pyparsing>=2.2.1 in c:\\users\\richa\\anaconda3\\lib\\site-packages (from matplotlib) (3.0.4)\n",
      "Requirement already satisfied: kiwisolver>=1.0.1 in c:\\users\\richa\\anaconda3\\lib\\site-packages (from matplotlib) (1.3.1)\n",
      "Requirement already satisfied: pillow>=6.2.0 in c:\\users\\richa\\anaconda3\\lib\\site-packages (from matplotlib) (8.4.0)\n",
      "Requirement already satisfied: numpy>=1.16 in c:\\users\\richa\\anaconda3\\lib\\site-packages (from matplotlib) (1.20.3)\n",
      "Requirement already satisfied: cycler>=0.10 in c:\\users\\richa\\anaconda3\\lib\\site-packages (from matplotlib) (0.10.0)\n",
      "Requirement already satisfied: python-dateutil>=2.7 in c:\\users\\richa\\anaconda3\\lib\\site-packages (from matplotlib) (2.8.2)\n",
      "Requirement already satisfied: six in c:\\users\\richa\\anaconda3\\lib\\site-packages (from cycler>=0.10->matplotlib) (1.16.0)\n"
     ]
    }
   ],
   "source": [
    "# Install the necessary modules.\n",
    "!pip install numpy\n",
    "!pip install pandas\n",
    "!pip install statsmodels\n",
    "!pip install scipy\n",
    "!pip install matplotlib"
   ]
  },
  {
   "cell_type": "code",
   "execution_count": 14,
   "id": "830814cc",
   "metadata": {},
   "outputs": [],
   "source": [
    "# Import library for statistical analysis.\n",
    "import statsmodels.api as sm\n",
    "# Import inbuilt data sets in sklearn library.\n",
    "from sklearn import datasets\n",
    "# Import for numerical calculations.\n",
    "import numpy as np\n",
    "# Import sklearn's linear model algorithm.\n",
    "from sklearn import linear_model\n",
    "# Import Pandas library.\n",
    "import pandas as pd\n",
    "# Import for plot generation.\n",
    "import matplotlib.pyplot as plt\n",
    "\n",
    "# Import metrics for measuring linear model fit:\n",
    "import sklearn\n",
    "from sklearn.model_selection import train_test_split\n",
    "from sklearn import metrics\n",
    "from sklearn.linear_model import LinearRegression"
   ]
  },
  {
   "cell_type": "markdown",
   "id": "f044ac61",
   "metadata": {},
   "source": [
    "### Create a DataFrame"
   ]
  },
  {
   "cell_type": "code",
   "execution_count": 15,
   "id": "5ea9f9e6",
   "metadata": {},
   "outputs": [
    {
     "data": {
      "text/html": [
       "<div>\n",
       "<style scoped>\n",
       "    .dataframe tbody tr th:only-of-type {\n",
       "        vertical-align: middle;\n",
       "    }\n",
       "\n",
       "    .dataframe tbody tr th {\n",
       "        vertical-align: top;\n",
       "    }\n",
       "\n",
       "    .dataframe thead th {\n",
       "        text-align: right;\n",
       "    }\n",
       "</style>\n",
       "<table border=\"1\" class=\"dataframe\">\n",
       "  <thead>\n",
       "    <tr style=\"text-align: right;\">\n",
       "      <th></th>\n",
       "      <th>YearsExperience</th>\n",
       "      <th>Salary</th>\n",
       "    </tr>\n",
       "  </thead>\n",
       "  <tbody>\n",
       "    <tr>\n",
       "      <th>0</th>\n",
       "      <td>1.1</td>\n",
       "      <td>39343.0</td>\n",
       "    </tr>\n",
       "    <tr>\n",
       "      <th>1</th>\n",
       "      <td>1.3</td>\n",
       "      <td>46205.0</td>\n",
       "    </tr>\n",
       "    <tr>\n",
       "      <th>2</th>\n",
       "      <td>1.5</td>\n",
       "      <td>37731.0</td>\n",
       "    </tr>\n",
       "    <tr>\n",
       "      <th>3</th>\n",
       "      <td>2.0</td>\n",
       "      <td>43525.0</td>\n",
       "    </tr>\n",
       "    <tr>\n",
       "      <th>4</th>\n",
       "      <td>2.2</td>\n",
       "      <td>39891.0</td>\n",
       "    </tr>\n",
       "  </tbody>\n",
       "</table>\n",
       "</div>"
      ],
      "text/plain": [
       "   YearsExperience   Salary\n",
       "0              1.1  39343.0\n",
       "1              1.3  46205.0\n",
       "2              1.5  37731.0\n",
       "3              2.0  43525.0\n",
       "4              2.2  39891.0"
      ]
     },
     "execution_count": 15,
     "metadata": {},
     "output_type": "execute_result"
    }
   ],
   "source": [
    "# Read the 'salary_data.csv' file.\n",
    "data = pd.read_csv(\"salary_data.csv\")\n",
    "\n",
    "# Print the table.\n",
    "data.head()"
   ]
  },
  {
   "cell_type": "code",
   "execution_count": 16,
   "id": "0b971294",
   "metadata": {},
   "outputs": [
    {
     "name": "stdout",
     "output_type": "stream",
     "text": [
      "<class 'pandas.core.frame.DataFrame'>\n",
      "RangeIndex: 30 entries, 0 to 29\n",
      "Data columns (total 2 columns):\n",
      " #   Column           Non-Null Count  Dtype  \n",
      "---  ------           --------------  -----  \n",
      " 0   YearsExperience  30 non-null     float64\n",
      " 1   Salary           30 non-null     float64\n",
      "dtypes: float64(2)\n",
      "memory usage: 608.0 bytes\n"
     ]
    }
   ],
   "source": [
    "# More info about the DataFrame.\n",
    "data.info()"
   ]
  },
  {
   "cell_type": "markdown",
   "id": "1733f9ea",
   "metadata": {},
   "source": [
    "### Determine basic statistics"
   ]
  },
  {
   "cell_type": "code",
   "execution_count": 17,
   "id": "e750eb9d",
   "metadata": {},
   "outputs": [
    {
     "data": {
      "text/html": [
       "<div>\n",
       "<style scoped>\n",
       "    .dataframe tbody tr th:only-of-type {\n",
       "        vertical-align: middle;\n",
       "    }\n",
       "\n",
       "    .dataframe tbody tr th {\n",
       "        vertical-align: top;\n",
       "    }\n",
       "\n",
       "    .dataframe thead th {\n",
       "        text-align: right;\n",
       "    }\n",
       "</style>\n",
       "<table border=\"1\" class=\"dataframe\">\n",
       "  <thead>\n",
       "    <tr style=\"text-align: right;\">\n",
       "      <th></th>\n",
       "      <th>YearsExperience</th>\n",
       "      <th>Salary</th>\n",
       "    </tr>\n",
       "  </thead>\n",
       "  <tbody>\n",
       "    <tr>\n",
       "      <th>count</th>\n",
       "      <td>30.000000</td>\n",
       "      <td>30.000000</td>\n",
       "    </tr>\n",
       "    <tr>\n",
       "      <th>mean</th>\n",
       "      <td>5.313333</td>\n",
       "      <td>76003.000000</td>\n",
       "    </tr>\n",
       "    <tr>\n",
       "      <th>std</th>\n",
       "      <td>2.837888</td>\n",
       "      <td>27414.429785</td>\n",
       "    </tr>\n",
       "    <tr>\n",
       "      <th>min</th>\n",
       "      <td>1.100000</td>\n",
       "      <td>37731.000000</td>\n",
       "    </tr>\n",
       "    <tr>\n",
       "      <th>25%</th>\n",
       "      <td>3.200000</td>\n",
       "      <td>56720.750000</td>\n",
       "    </tr>\n",
       "    <tr>\n",
       "      <th>50%</th>\n",
       "      <td>4.700000</td>\n",
       "      <td>65237.000000</td>\n",
       "    </tr>\n",
       "    <tr>\n",
       "      <th>75%</th>\n",
       "      <td>7.700000</td>\n",
       "      <td>100544.750000</td>\n",
       "    </tr>\n",
       "    <tr>\n",
       "      <th>max</th>\n",
       "      <td>10.500000</td>\n",
       "      <td>122391.000000</td>\n",
       "    </tr>\n",
       "  </tbody>\n",
       "</table>\n",
       "</div>"
      ],
      "text/plain": [
       "       YearsExperience         Salary\n",
       "count        30.000000      30.000000\n",
       "mean          5.313333   76003.000000\n",
       "std           2.837888   27414.429785\n",
       "min           1.100000   37731.000000\n",
       "25%           3.200000   56720.750000\n",
       "50%           4.700000   65237.000000\n",
       "75%           7.700000  100544.750000\n",
       "max          10.500000  122391.000000"
      ]
     },
     "execution_count": 17,
     "metadata": {},
     "output_type": "execute_result"
    }
   ],
   "source": [
    "# Print descriptive statistics.\n",
    "data.describe()"
   ]
  },
  {
   "cell_type": "markdown",
   "id": "42803dee",
   "metadata": {},
   "source": [
    "### Run the regression"
   ]
  },
  {
   "cell_type": "code",
   "execution_count": 18,
   "id": "cb8d98fa",
   "metadata": {},
   "outputs": [],
   "source": [
    "# Define the dependent variable.\n",
    "y = data['Salary'].values.reshape(-1, 1)\n",
    "\n",
    "# Define the independent variable.\n",
    "x = data['YearsExperience'].values.reshape(-1, 1)"
   ]
  },
  {
   "cell_type": "code",
   "execution_count": 19,
   "id": "ba533fc0",
   "metadata": {},
   "outputs": [
    {
     "data": {
      "text/plain": [
       "LinearRegression()"
      ]
     },
     "execution_count": 19,
     "metadata": {},
     "output_type": "execute_result"
    }
   ],
   "source": [
    "lm = LinearRegression()\n",
    "\n",
    "# Fit the model.\n",
    "lm.fit(x, y)"
   ]
  },
  {
   "cell_type": "markdown",
   "id": "b8599808",
   "metadata": {},
   "source": [
    "### Make predictions"
   ]
  },
  {
   "cell_type": "code",
   "execution_count": 20,
   "id": "ceaefbdb",
   "metadata": {},
   "outputs": [
    {
     "data": {
      "text/plain": [
       "array([[3.71815660e+08],\n",
       "       [4.36661301e+08],\n",
       "       [3.56582321e+08],\n",
       "       [4.11335402e+08],\n",
       "       [3.76994239e+08],\n",
       "       [5.35290558e+08],\n",
       "       [5.68441026e+08],\n",
       "       [5.14528991e+08],\n",
       "       [6.09028614e+08],\n",
       "       [5.40459687e+08],\n",
       "       [5.97433510e+08],\n",
       "       [5.27276990e+08],\n",
       "       [5.38267296e+08],\n",
       "       [5.39439091e+08],\n",
       "       [5.77522440e+08],\n",
       "       [6.42037332e+08],\n",
       "       [6.23997354e+08],\n",
       "       [7.85204262e+08],\n",
       "       [7.68903077e+08],\n",
       "       [8.87755253e+08],\n",
       "       [8.66946436e+08],\n",
       "       [9.28701939e+08],\n",
       "       [9.57325875e+08],\n",
       "       [1.07554490e+09],\n",
       "       [1.03414462e+09],\n",
       "       [9.97771714e+08],\n",
       "       [1.10537843e+09],\n",
       "       [1.06442230e+09],\n",
       "       [1.15661613e+09],\n",
       "       [1.15171160e+09]])"
      ]
     },
     "execution_count": 20,
     "metadata": {},
     "output_type": "execute_result"
    }
   ],
   "source": [
    "# Print the target values.\n",
    "lm.predict(y)"
   ]
  },
  {
   "cell_type": "code",
   "execution_count": 21,
   "id": "a465f101",
   "metadata": {},
   "outputs": [
    {
     "data": {
      "text/plain": [
       "array([25792.20019867])"
      ]
     },
     "execution_count": 21,
     "metadata": {},
     "output_type": "execute_result"
    }
   ],
   "source": [
    "## Call the intercept.\n",
    "lm.intercept_"
   ]
  },
  {
   "cell_type": "markdown",
   "id": "389ae2b5",
   "metadata": {},
   "source": [
    "### Estimate coefficients"
   ]
  },
  {
   "cell_type": "code",
   "execution_count": 22,
   "id": "b3de05ef",
   "metadata": {},
   "outputs": [
    {
     "data": {
      "text/plain": [
       "array([[9449.96232146]])"
      ]
     },
     "execution_count": 22,
     "metadata": {},
     "output_type": "execute_result"
    }
   ],
   "source": [
    "# Estimate coefficients.\n",
    "lm.coef_"
   ]
  },
  {
   "cell_type": "code",
   "execution_count": 33,
   "id": "4197f0cc",
   "metadata": {},
   "outputs": [
    {
     "data": {
      "image/png": "[encoded data removed]",
      "text/plain": [
       "<Figure size 432x288 with 1 Axes>"
      ]
     },
     "metadata": {
      "needs_background": "light"
     },
     "output_type": "display_data"
    }
   ],
   "source": [
    "# [1] Create a scatterplot (with red data points).\n",
    "plt.scatter(x, y, color = 'red')\n",
    "# [2] Create a regression line in green.\n",
    "plt.plot(x, lm.predict(x), color = 'green')\n",
    "# [3] Set the title for the graph.\n",
    "plt.title(\"Years of Experience vs Avg. Salary\")\n",
    "# [4] Set the label for the x-axis.\n",
    "plt.xlabel(\"Years of Experience\")\n",
    "# [5] Set the label for the y-axis.\n",
    "plt.ylabel(\"Avg. Salary\")\n",
    "# [6] Print the graph.\n",
    "plt.show()"
   ]
  },
  {
   "cell_type": "markdown",
   "id": "0d41bb7d",
   "metadata": {},
   "source": [
    "### Apply the linear regression model"
   ]
  },
  {
   "cell_type": "code",
   "execution_count": 25,
   "id": "80b51015",
   "metadata": {},
   "outputs": [
    {
     "name": "stdout",
     "output_type": "stream",
     "text": [
      "[[ 73042.01180594]\n",
      " [120291.82341322]\n",
      " [167541.63502049]\n",
      " [214791.44662777]\n",
      " [262041.25823505]\n",
      " [309291.06984232]]\n"
     ]
    }
   ],
   "source": [
    "# Use the predict() method with an array to call the \n",
    "# salaries for each number of years' experience.\n",
    "predictedSalary = lm.predict([[5], [10], [15], [20], [25], [30]])\n",
    "\n",
    "# Print the results.\n",
    "print(predictedSalary)"
   ]
  },
  {
   "cell_type": "markdown",
   "id": "5fa74642",
   "metadata": {},
   "source": [
    "### Run the regression on subsets"
   ]
  },
  {
   "cell_type": "code",
   "execution_count": 30,
   "id": "bf336df5",
   "metadata": {},
   "outputs": [],
   "source": [
    "# [1] Import the sklearn module.\n",
    "from sklearn.model_selection import train_test_split\n",
    "\n",
    "# [2] Create the subset (50/50).\n",
    "# Control the shuffling/avoid variation in values between variable.\n",
    "x_train, x_test, y_train, y_test = train_test_split(x, y, train_size = 0.5,\n",
    "                                                   random_state = 100)"
   ]
  },
  {
   "cell_type": "markdown",
   "id": "eb92eb6c",
   "metadata": {},
   "source": [
    "### Run a regression test and visualise the training data"
   ]
  },
  {
   "cell_type": "code",
   "execution_count": 31,
   "id": "d8a2bb37",
   "metadata": {},
   "outputs": [
    {
     "data": {
      "text/plain": [
       "LinearRegression()"
      ]
     },
     "execution_count": 31,
     "metadata": {},
     "output_type": "execute_result"
    }
   ],
   "source": [
    "# Linear regression; fitting the model.\n",
    "lm.fit(x_train, y_train)"
   ]
  },
  {
   "cell_type": "code",
   "execution_count": 32,
   "id": "e6aab755",
   "metadata": {},
   "outputs": [],
   "source": [
    "# Predict the training set values.\n",
    "y_pred = lm.predict(x_train)"
   ]
  },
  {
   "cell_type": "markdown",
   "id": "d165d1e3",
   "metadata": {},
   "source": [
    "### Plot and visualise the training data"
   ]
  },
  {
   "cell_type": "code",
   "execution_count": 34,
   "id": "5bf4c165",
   "metadata": {},
   "outputs": [
    {
     "data": {
      "image/png": "[encoded data removed]",
      "text/plain": [
       "<Figure size 432x288 with 1 Axes>"
      ]
     },
     "metadata": {
      "needs_background": "light"
     },
     "output_type": "display_data"
    }
   ],
   "source": [
    "# [1] Create a scatterplot (with red data points).\n",
    "plt.scatter(x_train, y_train, color = 'red')\n",
    "# [2] Create a regression line in green.\n",
    "plt.plot(x_train, y_pred, color = 'green')\n",
    "# [3] Set the title for the graph.\n",
    "plt.title(\"Years of Experience vs Avg. Salary\")\n",
    "# [4] set the label for the x-axis.\n",
    "plt.xlabel(\"Years of Experience\")\n",
    "# [5] Set the label for the y-axis.\n",
    "plt.ylabel(\"Avg. Salary\")\n",
    "# [6] Print the graph.\n",
    "plt.show()"
   ]
  },
  {
   "cell_type": "code",
   "execution_count": 35,
   "id": "c0d33381",
   "metadata": {},
   "outputs": [
    {
     "name": "stdout",
     "output_type": "stream",
     "text": [
      "0.9382035605624517\n"
     ]
    }
   ],
   "source": [
    "# Print R-squared value of the training data.\n",
    "print(lm.score(x_train, y_train))"
   ]
  },
  {
   "cell_type": "markdown",
   "id": "3e2f1d16",
   "metadata": {},
   "source": [
    "### Calculate intercept and coefficient values"
   ]
  },
  {
   "cell_type": "code",
   "execution_count": 37,
   "id": "14fe8601",
   "metadata": {},
   "outputs": [
    {
     "name": "stdout",
     "output_type": "stream",
     "text": [
      "Intercept value:  [24768.13991346]\n",
      "Coefficient value:  [[9981.76903593]]\n"
     ]
    }
   ],
   "source": [
    "# Print the intercept value.\n",
    "print(\"Intercept value: \", lm.intercept_)\n",
    "# Print the coefficient value.\n",
    "print(\"Coefficient value: \", lm.coef_)"
   ]
  },
  {
   "cell_type": "markdown",
   "id": "349b96dd",
   "metadata": {},
   "source": [
    "## Testing the model"
   ]
  },
  {
   "cell_type": "markdown",
   "id": "db389851",
   "metadata": {},
   "source": [
    "### Run regression and visualise test data"
   ]
  },
  {
   "cell_type": "code",
   "execution_count": 38,
   "id": "a1f30c6e",
   "metadata": {},
   "outputs": [
    {
     "data": {
      "text/plain": [
       "LinearRegression()"
      ]
     },
     "execution_count": 38,
     "metadata": {},
     "output_type": "execute_result"
    }
   ],
   "source": [
    "# Linear regression; fitting the model.\n",
    "lm.fit(x_test, y_test)"
   ]
  },
  {
   "cell_type": "markdown",
   "id": "ef15deee",
   "metadata": {},
   "source": [
    "### Predict test set values"
   ]
  },
  {
   "cell_type": "code",
   "execution_count": 39,
   "id": "de69a436",
   "metadata": {},
   "outputs": [],
   "source": [
    "# Predict the test set values.\n",
    "y_pred = lm.predict(x_test)"
   ]
  },
  {
   "cell_type": "markdown",
   "id": "d7d700a4",
   "metadata": {},
   "source": [
    "### Visualise"
   ]
  },
  {
   "cell_type": "code",
   "execution_count": 40,
   "id": "05a03c82",
   "metadata": {},
   "outputs": [
    {
     "data": {
      "image/png": "[encoded data removed]",
      "text/plain": [
       "<Figure size 432x288 with 1 Axes>"
      ]
     },
     "metadata": {
      "needs_background": "light"
     },
     "output_type": "display_data"
    }
   ],
   "source": [
    "# [1] Create a scatterplot (with red data points).\n",
    "plt.scatter(x_test, y_test, color = 'red')\n",
    "# [2] Create a regression line in green.\n",
    "plt.plot(x_test, y_pred, color = 'green')\n",
    "# [3] Set the title for the graph.\n",
    "plt.title(\"Years of Experience vs Avg. Salary\")\n",
    "# [4] set the label for the x-axis.\n",
    "plt.xlabel(\"Years of Experience\")\n",
    "# [5] Set the label for the y-axis.\n",
    "plt.ylabel(\"Avg. Salary\")\n",
    "# [6] Print the graph.\n",
    "plt.show()"
   ]
  },
  {
   "cell_type": "markdown",
   "id": "5bc5ad8f",
   "metadata": {},
   "source": [
    "### Print R-squared value"
   ]
  },
  {
   "cell_type": "code",
   "execution_count": 42,
   "id": "5e16d811",
   "metadata": {},
   "outputs": [
    {
     "name": "stdout",
     "output_type": "stream",
     "text": [
      "0.9742725108027231\n"
     ]
    }
   ],
   "source": [
    "# Print R-squared value of the test data.\n",
    "print(lm.score(x_test, y_test))"
   ]
  },
  {
   "cell_type": "markdown",
   "id": "cba92ecf",
   "metadata": {},
   "source": [
    "### Print intercept and coefficient values"
   ]
  },
  {
   "cell_type": "code",
   "execution_count": 43,
   "id": "3df5e2a8",
   "metadata": {},
   "outputs": [
    {
     "name": "stdout",
     "output_type": "stream",
     "text": [
      "Intercept value:  [24929.61625619]\n",
      "Coefficient value:  [[9333.43003625]]\n"
     ]
    }
   ],
   "source": [
    "# Print the intercept value.\n",
    "print(\"Intercept value: \", lm.intercept_)\n",
    "# Print the coefficient value.\n",
    "print(\"Coefficient value: \", lm.coef_)"
   ]
  },
  {
   "cell_type": "markdown",
   "id": "57e59331",
   "metadata": {},
   "source": [
    "## Using statsmodels to check homoscedasticity"
   ]
  },
  {
   "cell_type": "code",
   "execution_count": 45,
   "id": "d99d3627",
   "metadata": {},
   "outputs": [],
   "source": [
    "# Import libraries.\n",
    "import pandas as pd\n",
    "import statsmodels.api as sm\n",
    "from statsmodels.formula.api import ols\n",
    "import statsmodels.stats.api as sms"
   ]
  },
  {
   "cell_type": "code",
   "execution_count": 46,
   "id": "feb313b6",
   "metadata": {},
   "outputs": [],
   "source": [
    "# Import the test data set and run the OLS on the data:\n",
    "df_test = pd.read_csv(\"test.csv\")\n",
    "\n",
    "f = 'y ~ x'\n",
    "test = ols(f, data = df_test).fit()"
   ]
  },
  {
   "cell_type": "code",
   "execution_count": 47,
   "id": "b7c48610",
   "metadata": {},
   "outputs": [],
   "source": [
    "# Run the Breusch-Pagan test function on the model residuals and x-variables:\n",
    "test = sms.het_breuschpagan(test.resid, test.model.exog)"
   ]
  },
  {
   "cell_type": "code",
   "execution_count": 48,
   "id": "f944d0a1",
   "metadata": {},
   "outputs": [
    {
     "name": "stdout",
     "output_type": "stream",
     "text": [
      "{'LM stat': 1.127927731684597, 'LM Test p-value': 0.28821778943913134, 'F-stat': 1.1246365760808066, 'F-test p-value': 0.2897810117091818}\n"
     ]
    }
   ],
   "source": [
    "# Print the results of the Breusch-Pagan test:\n",
    "terms = ['LM stat', 'LM Test p-value', 'F-stat', 'F-test p-value']\n",
    "print(dict(zip(terms, test)))"
   ]
  },
  {
   "cell_type": "code",
   "execution_count": null,
   "id": "92b39cca",
   "metadata": {},
   "outputs": [],
   "source": []
  },
  {
   "cell_type": "markdown",
   "id": "72d11285",
   "metadata": {},
   "source": [
    "# 1.3 CAPM and multiple regression"
   ]
  },
  {
   "cell_type": "markdown",
   "id": "51515638",
   "metadata": {},
   "source": [
    "## Multiple linear regression"
   ]
  },
  {
   "cell_type": "code",
   "execution_count": 49,
   "id": "d7c458df",
   "metadata": {},
   "outputs": [],
   "source": [
    "# Import libraries.\n",
    "import statsmodels.api as sm\n",
    "from sklearn import datasets\n",
    "import numpy as np\n",
    "from sklearn import linear_model\n",
    "import pandas as pd\n",
    "from statsmodels.stats.outliers_influence import variance_inflation_factor\n",
    "import sklearn\n",
    "from sklearn.model_selection import train_test_split\n",
    "from sklearn import metrics\n",
    "from sklearn.linear_model import LinearRegression\n",
    "import matplotlib.pyplot as plt"
   ]
  },
  {
   "cell_type": "code",
   "execution_count": 50,
   "id": "a98aa43f",
   "metadata": {},
   "outputs": [
    {
     "data": {
      "text/html": [
       "<div>\n",
       "<style scoped>\n",
       "    .dataframe tbody tr th:only-of-type {\n",
       "        vertical-align: middle;\n",
       "    }\n",
       "\n",
       "    .dataframe tbody tr th {\n",
       "        vertical-align: top;\n",
       "    }\n",
       "\n",
       "    .dataframe thead th {\n",
       "        text-align: right;\n",
       "    }\n",
       "</style>\n",
       "<table border=\"1\" class=\"dataframe\">\n",
       "  <thead>\n",
       "    <tr style=\"text-align: right;\">\n",
       "      <th></th>\n",
       "      <th>Rooms</th>\n",
       "      <th>Distance</th>\n",
       "      <th>Value</th>\n",
       "    </tr>\n",
       "  </thead>\n",
       "  <tbody>\n",
       "    <tr>\n",
       "      <th>0</th>\n",
       "      <td>6.575</td>\n",
       "      <td>4.0900</td>\n",
       "      <td>24.0</td>\n",
       "    </tr>\n",
       "    <tr>\n",
       "      <th>1</th>\n",
       "      <td>6.421</td>\n",
       "      <td>4.9671</td>\n",
       "      <td>21.6</td>\n",
       "    </tr>\n",
       "    <tr>\n",
       "      <th>2</th>\n",
       "      <td>7.185</td>\n",
       "      <td>4.9671</td>\n",
       "      <td>34.7</td>\n",
       "    </tr>\n",
       "    <tr>\n",
       "      <th>3</th>\n",
       "      <td>6.998</td>\n",
       "      <td>6.0622</td>\n",
       "      <td>33.4</td>\n",
       "    </tr>\n",
       "    <tr>\n",
       "      <th>4</th>\n",
       "      <td>7.147</td>\n",
       "      <td>6.0622</td>\n",
       "      <td>36.2</td>\n",
       "    </tr>\n",
       "  </tbody>\n",
       "</table>\n",
       "</div>"
      ],
      "text/plain": [
       "   Rooms  Distance  Value\n",
       "0  6.575    4.0900   24.0\n",
       "1  6.421    4.9671   21.6\n",
       "2  7.185    4.9671   34.7\n",
       "3  6.998    6.0622   33.4\n",
       "4  7.147    6.0622   36.2"
      ]
     },
     "execution_count": 50,
     "metadata": {},
     "output_type": "execute_result"
    }
   ],
   "source": [
    "# Import csv file.\n",
    "hp = pd.read_csv(\"house_prices.csv\")\n",
    "\n",
    "# Print the DataFrame.\n",
    "hp.head()"
   ]
  },
  {
   "cell_type": "code",
   "execution_count": 51,
   "id": "3ebfb494",
   "metadata": {},
   "outputs": [
    {
     "name": "stdout",
     "output_type": "stream",
     "text": [
      "<class 'pandas.core.frame.DataFrame'>\n",
      "RangeIndex: 506 entries, 0 to 505\n",
      "Data columns (total 3 columns):\n",
      " #   Column    Non-Null Count  Dtype  \n",
      "---  ------    --------------  -----  \n",
      " 0   Rooms     506 non-null    float64\n",
      " 1   Distance  506 non-null    float64\n",
      " 2   Value     506 non-null    float64\n",
      "dtypes: float64(3)\n",
      "memory usage: 12.0 KB\n"
     ]
    }
   ],
   "source": [
    "# Print more information about the DataFrame.\n",
    "hp.info()"
   ]
  },
  {
   "cell_type": "code",
   "execution_count": 53,
   "id": "f6e360bf",
   "metadata": {},
   "outputs": [],
   "source": [
    "# Define the variables.\n",
    "y = hp['Value']\n",
    "X = hp[['Rooms', 'Distance']]"
   ]
  },
  {
   "cell_type": "code",
   "execution_count": 54,
   "id": "2e769b82",
   "metadata": {},
   "outputs": [
    {
     "data": {
      "text/plain": [
       "array([25.23262311, 24.30597474, 31.03025338, 29.9197274 , 31.23113776,\n",
       "       24.92052548, 20.99628003, 22.59515685, 17.89792552, 21.43016488,\n",
       "       24.59312806, 21.29554669, 19.86012857, 20.02480328, 21.19854962,\n",
       "       18.91052046, 19.79946305, 20.16587486, 15.24036623, 17.62554884,\n",
       "       16.24441157, 19.82577837, 21.36632302, 18.52848931, 19.65425152,\n",
       "       16.82067934, 18.81534563, 20.76312523, 24.70679323, 26.17680132,\n",
       "       17.71571146, 20.84706509, 19.68285587, 17.39216584, 20.85532906,\n",
       "       19.22540394, 18.42427779, 18.77543693, 19.75391977, 26.04958067,\n",
       "       29.82538634, 27.7461615 , 22.45651299, 22.82617229, 21.57637181,\n",
       "       17.86689491, 18.78224174, 21.21771802, 15.7523132 , 17.64542212,\n",
       "       21.17812468, 22.51593928, 26.00129836, 21.48617409, 20.7648873 ,\n",
       "       33.41670435, 26.03470634, 29.42393915, 23.26887906, 20.91861579,\n",
       "       19.42498135, 21.20638654, 25.71803969, 28.7805479 , 32.39778062,\n",
       "       23.95685233, 19.52974218, 20.27518634, 17.77558538, 20.33679623,\n",
       "       24.4272984 , 20.4138546 , 21.32920143, 22.91345556, 22.65354578,\n",
       "       22.890714  , 22.60892674, 21.40425339, 22.66548379, 19.26453233,\n",
       "       27.21117149, 26.26061901, 23.47057146, 22.28238086, 23.93257269,\n",
       "       25.8866734 , 20.46867221, 21.0694004 , 28.70813555, 29.33831749,\n",
       "       23.35427586, 23.24856115, 23.85471467, 21.82158854, 22.1311598 ,\n",
       "       25.38192659, 21.31567433, 38.09116527, 35.89961373, 32.34384335,\n",
       "       25.92897066, 26.44252374, 23.06406971, 20.70529134, 20.82575888,\n",
       "       17.89096542, 17.80983337, 20.32773223, 23.53360961, 21.43211252,\n",
       "       21.24661957, 25.77432221, 18.55715411, 20.22773676, 21.51106612,\n",
       "       18.74280198, 21.05607467, 19.70031291, 18.25696233, 17.1536719 ,\n",
       "       18.1319106 , 19.28182222, 18.84934375, 17.85553459, 18.08822678,\n",
       "       19.02342728, 15.62527907, 16.3445952 , 22.85186727, 15.94537952,\n",
       "       23.23909304, 22.15185608, 22.58429208, 17.81317649, 17.18051639,\n",
       "       22.15270637, 18.6234551 , 23.07253379, 17.72951157, 20.31717554,\n",
       "       20.49184141, 10.24188438, 13.56404016, 14.18022607,  9.17521327,\n",
       "       20.01032929, 15.63968329,  9.43381443, 11.75581429, 15.37128804,\n",
       "       20.03714997, 13.70483068, 10.26376982, 16.4047089 , 20.16299455,\n",
       "       20.36352051, 12.61382958, 27.38986751, 19.61236751, 23.52439846,\n",
       "       21.25191896, 32.24119459, 35.03015812, 40.13266443, 18.07140582,\n",
       "       20.17760014, 36.15047943, 18.27574481, 22.0066531 , 22.81660817,\n",
       "       18.25814198, 18.28396388, 15.67451622, 23.127448  , 18.25224159,\n",
       "       24.50921193, 20.0862567 , 22.56662054, 27.16677511, 28.1807569 ,\n",
       "       35.04684651, 20.70980371, 29.65823582, 24.51936744, 16.14769225,\n",
       "       21.12231335, 35.85173009, 26.90717641, 25.29843038, 30.83451843,\n",
       "       29.71020419, 27.84430488, 31.70812468, 28.25399262, 26.5289159 ,\n",
       "       37.43628005, 33.07283177, 31.48857764, 32.95841342, 30.49515072,\n",
       "       31.90337661, 22.66332984, 35.40777416, 36.98336372, 38.57641927,\n",
       "       19.14176992, 23.17056754, 18.39140092, 20.80803787, 14.29298272,\n",
       "       19.71567898, 14.71840923, 18.25931648, 23.40165325, 14.75093477,\n",
       "       21.70298077, 18.7080082 , 25.49532692, 19.15358169, 23.09949169,\n",
       "       27.9415013 , 21.10586268, 27.50842309, 25.2112546 , 39.5313432 ,\n",
       "       43.57119123, 37.69929117, 29.98045299, 34.66151384, 24.68071282,\n",
       "       19.80000137, 32.3948217 , 40.61771646, 39.73441915, 26.34747175,\n",
       "       20.71456818, 25.75385539, 32.15248179, 25.43182344, 26.53199992,\n",
       "       29.16468042, 22.10594813, 24.76262011, 25.07066952, 18.47898741,\n",
       "       18.58460435, 23.06089266, 24.09945926, 25.80940519, 28.31780756,\n",
       "       26.07457433, 25.64330515, 30.94939918, 42.40883738, 23.63030344,\n",
       "       21.58837589, 34.06706681, 42.8518546 , 30.8308752 , 26.56613731,\n",
       "       29.79301622, 32.59660487, 40.39693624, 30.86811263, 29.73045002,\n",
       "       15.27089721, 28.13971743, 39.57305938, 32.51446918, 19.38337199,\n",
       "       19.07012766, 22.4498698 , 24.8226445 , 35.19016533, 26.83721976,\n",
       "       27.77488986, 31.6640253 , 27.81955963, 24.43868089, 27.3237884 ,\n",
       "       36.48598755, 29.25605137, 35.19857294, 37.97440938, 31.32051978,\n",
       "       25.73162327, 24.63998764, 23.58891838, 24.52186803, 26.72222099,\n",
       "       28.25172769, 30.77773288, 26.21860156, 21.98018694, 20.94162034,\n",
       "       27.05351083, 25.91812871, 19.41364706, 25.03551645, 31.16129908,\n",
       "       29.66505907, 26.04986328, 25.21372916, 29.50001672, 31.01711463,\n",
       "       25.24151005, 32.18546498, 27.20067768, 25.38307233, 19.44263385,\n",
       "       10.36497585, 20.53689983, 19.76025002, 22.10861135, 24.92380039,\n",
       "       17.50451178, 19.37020914, 18.22460366, 23.26141757, 21.12330329,\n",
       "       24.14139013, 23.70131954, 20.84118151, 17.91031137, 24.13290953,\n",
       "       24.61338408, 23.56601608, 21.55049277, 19.55978401, 23.65244051,\n",
       "       22.31112486, 18.8311022 , 21.69156104, 24.11084632, 24.05803785,\n",
       "       21.42397818, 19.57665143, 19.99315709, 21.04414102, 20.39283655,\n",
       "       20.24321255, 32.53543999, 25.98874808, 27.10033213, 29.02545606,\n",
       "       22.21307719, 21.19211342, 26.88641821, 27.8402695 , 30.73495172,\n",
       "       26.78311781, 28.50415273, 22.38717151, 30.50787039, 20.38114896,\n",
       "       22.78393439, 21.07575447, 22.87364182, 20.62118801, 20.38474878,\n",
       "       22.90640109, 21.50372698, 13.58546183, 17.36965247, 43.57145549,\n",
       "       -2.50561219,  9.90196602,  0.10225832,  9.75835729, 24.84700588,\n",
       "       27.70244669, 20.64503858, 17.62444762,  9.11768221,  2.34001276,\n",
       "       30.37214586, 24.54198947, 25.8245981 , 22.19455025, 20.81272859,\n",
       "       27.3846414 , 23.71184894, 14.86114194, 14.69719681,  4.51221416,\n",
       "       12.50614694,  7.02535622, 10.11327659,  9.0918643 , 13.64833874,\n",
       "       16.58818231, 19.68101866, 10.5531217 , 20.74671878, 18.04903824,\n",
       "       23.16149169, 22.55669381, 16.7441488 , 14.08623731, 17.60328019,\n",
       "       18.834685  , 21.96080153, 22.52941393, 13.27511298, 14.83033379,\n",
       "       16.07917795,  2.36010443, 15.3505355 , 15.51260803, 26.3876312 ,\n",
       "       16.7244207 , 24.70166451,  6.85650551, 11.51220367,  5.94813852,\n",
       "       22.88912394, 25.94458476, 12.85201613, 18.67515846, 26.30177842,\n",
       "       22.6985216 , 19.14162473, 16.0281651 , 20.06732019, 15.35254561,\n",
       "       18.19057913, 17.7143145 , 20.86098192, 20.81730851, 22.47910898,\n",
       "       22.2387715 , 26.52481036, 22.98868314, 23.14191179, 21.08943367,\n",
       "       24.74716532, 23.20883973, 20.44598926, 18.49032667, 15.77782974,\n",
       "       17.48285298, 22.75531511, 21.07997353, 23.40824348, 17.81407596,\n",
       "       23.18405083, 22.1865964 , 21.45606425, 20.90626183, 22.91074358,\n",
       "       25.90056672, 25.08868162, 21.94413121, 31.63178628, 25.80006344,\n",
       "       23.98389927, 19.22270945, 18.96773829, 22.18216012, 20.21378105,\n",
       "       25.61199456, 22.73667472, 22.29917578, 24.05710312, 21.46056962,\n",
       "       17.55033458, 19.1536816 , 19.44064697, 18.9428834 , 17.02677721,\n",
       "       21.12512972, 21.70303237, 23.43458755, 28.03600885, 14.31701599,\n",
       "       20.67664938, 23.55924665, 13.07356228, 20.86172773, 21.14178537,\n",
       "       21.97627762, 26.40217634, 29.17798557, 18.08113274, 18.85751062,\n",
       "       22.86979799, 20.90918977, 18.87728391, 14.25699424, 13.87291819,\n",
       "       11.08051561, 18.93601475, 19.05421832, 16.75789769, 18.68540688,\n",
       "       16.63604641, 14.1716511 , 17.77342212, 19.51733263, 15.5521999 ,\n",
       "       19.63130033, 24.60331799, 20.34683124, 27.82217794, 26.32855206,\n",
       "       19.66102874])"
      ]
     },
     "execution_count": 54,
     "metadata": {},
     "output_type": "execute_result"
    }
   ],
   "source": [
    "# Fit the regression model.\n",
    "mlr = linear_model.LinearRegression()\n",
    "\n",
    "mlr.fit(X, y)\n",
    "\n",
    "# Call the predictions for X (array).\n",
    "mlr.predict(X)"
   ]
  },
  {
   "cell_type": "code",
   "execution_count": 55,
   "id": "c0091c4b",
   "metadata": {},
   "outputs": [
    {
     "name": "stdout",
     "output_type": "stream",
     "text": [
      "R-squared:  0.4955246476058477\n",
      "Intercept:  -34.63605017547333\n",
      "Coefficient: \n"
     ]
    },
    {
     "data": {
      "text/plain": [
       "[('Rooms', 8.801411828632595), ('Distance', 0.488848536567123)]"
      ]
     },
     "execution_count": 55,
     "metadata": {},
     "output_type": "execute_result"
    }
   ],
   "source": [
    "# Print the R-squared value.\n",
    "print(\"R-squared: \", mlr.score(X, y))\n",
    "# Print the intercept.\n",
    "print(\"Intercept: \", mlr.intercept_)\n",
    "# Print the coefficient.\n",
    "print(\"Coefficient: \")\n",
    "# Map a similar index of multiple containers (to be used as a single entity).\n",
    "list(zip(X, mlr.coef_))"
   ]
  },
  {
   "cell_type": "code",
   "execution_count": 57,
   "id": "c219077d",
   "metadata": {},
   "outputs": [
    {
     "name": "stdout",
     "output_type": "stream",
     "text": [
      "Predicted Value: \n",
      " [23.40256559]\n"
     ]
    }
   ],
   "source": [
    "# Create a new variable 'New_Rooms' and define it as 5.75.\n",
    "New_Rooms = 5.75\n",
    "# Create a new variable 'New_Distance' and define it as 15.2.\n",
    "New_Distance = 15.2\n",
    "\n",
    "print('Predicted Value: \\n', mlr.predict([[New_Rooms, New_Distance]]))"
   ]
  },
  {
   "cell_type": "code",
   "execution_count": 58,
   "id": "620e5b1d",
   "metadata": {},
   "outputs": [
    {
     "name": "stdout",
     "output_type": "stream",
     "text": [
      "Predicted Value: \n",
      " [32.20397742]\n"
     ]
    }
   ],
   "source": [
    "# Create a new variable 'New_Rooms' and define it as 6.75.\n",
    "New_Rooms = 6.75\n",
    "# Create a new variable 'New_Distance' and define it as 15.2.\n",
    "New_Distance = 15.2\n",
    "\n",
    "print('Predicted Value: \\n', mlr.predict([[New_Rooms, New_Distance]]))"
   ]
  },
  {
   "cell_type": "code",
   "execution_count": 60,
   "id": "b4d6da03",
   "metadata": {},
   "outputs": [],
   "source": [
    "# Split the data in 'train' (80%) and 'test' (20%) subsets:\n",
    "X_train, X_test, y_train, y_test = sklearn.model_selection.train_test_split( \\\n",
    "X, y, test_size = 0.2, random_state = 5)"
   ]
  },
  {
   "cell_type": "code",
   "execution_count": 64,
   "id": "74f4f168",
   "metadata": {},
   "outputs": [
    {
     "name": "stdout",
     "output_type": "stream",
     "text": [
      "                            OLS Regression Results                            \n",
      "==============================================================================\n",
      "Dep. Variable:                  Value   R-squared:                       0.449\n",
      "Model:                            OLS   Adj. R-squared:                  0.446\n",
      "Method:                 Least Squares   F-statistic:                     163.3\n",
      "Date:                Tue, 17 May 2022   Prob (F-statistic):           1.33e-52\n",
      "Time:                        22:13:08   Log-Likelihood:                -1352.5\n",
      "No. Observations:                 404   AIC:                             2711.\n",
      "Df Residuals:                     401   BIC:                             2723.\n",
      "Df Model:                           2                                         \n",
      "Covariance Type:            nonrobust                                         \n",
      "==============================================================================\n",
      "                 coef    std err          t      P>|t|      [0.025      0.975]\n",
      "------------------------------------------------------------------------------\n",
      "const        -32.8597      3.141    -10.462      0.000     -39.035     -26.685\n",
      "Rooms          8.4852      0.507     16.733      0.000       7.488       9.482\n",
      "Distance       0.5603      0.171      3.279      0.001       0.224       0.896\n",
      "==============================================================================\n",
      "Omnibus:                      119.542   Durbin-Watson:                   2.115\n",
      "Prob(Omnibus):                  0.000   Jarque-Bera (JB):              620.242\n",
      "Skew:                           1.162   Prob(JB):                    2.07e-135\n",
      "Kurtosis:                       8.607   Cond. No.                         69.9\n",
      "==============================================================================\n",
      "\n",
      "Notes:\n",
      "[1] Standard Errors assume that the covariance matrix of the errors is correctly specified.\n"
     ]
    },
    {
     "name": "stderr",
     "output_type": "stream",
     "text": [
      "C:\\Users\\richa\\anaconda3\\lib\\site-packages\\statsmodels\\tsa\\tsatools.py:142: FutureWarning: In a future version of pandas all arguments of concat except for the argument 'objs' will be keyword-only\n",
      "  x = pd.concat(x[::order], 1)\n"
     ]
    }
   ],
   "source": [
    "# Training the model using the 'statsmodels' OLS library:\n",
    "# Fit the model with the added constant.\n",
    "model = sm.OLS(y_train, sm.add_constant(X_train)).fit()\n",
    "\n",
    "# Set the predicted response vector.\n",
    "y_pred = model.predict(sm.add_constant(X_test))\n",
    "\n",
    "# Call a summary of the model.\n",
    "print_model = model.summary()\n",
    "\n",
    "# Print the summary.\n",
    "print(print_model)"
   ]
  },
  {
   "cell_type": "code",
   "execution_count": 65,
   "id": "d4220a8b",
   "metadata": {},
   "outputs": [
    {
     "name": "stdout",
     "output_type": "stream",
     "text": [
      "Prediction for test subset: [39.5007791  26.01220208 23.40571915  7.97760017 36.32952212 12.03353551\n",
      " 28.71120259 26.60195665 26.25329031 23.55549835 33.39311645 19.5529638\n",
      " 19.00355373 31.74108834 24.80646556 19.47964643  5.31935431 13.00959399\n",
      " 13.16804638 16.45968889  9.9881162  22.77207093 41.65869276 23.16761129\n",
      " 31.08463065 17.53857053 23.35625302 20.93113313 23.23435817 26.88390622\n",
      " 17.57037584 13.14888443 17.83727856 32.90891385 24.76823466 22.30287688\n",
      " 25.7837162  17.95773792 42.81614435 29.98205908 20.86835099  9.16135295\n",
      " 25.43949309 18.91471376 25.41807537 29.06482076  4.2661231  18.64474863\n",
      " 20.12296035 20.63616287 20.29657713 20.67154466 22.45611771 20.39267666\n",
      " 16.03630521 24.5691534  37.39196791 24.31316323 26.69493635 19.82799285\n",
      " 19.39924173 19.58999435 15.91856374 28.31314942 20.44430288 12.49256072\n",
      " 24.51304292 22.0135639  19.43232398 18.35263298 23.8752249  20.37453461\n",
      " 16.0758568  27.31107959 14.9534151  28.7072379  17.87693131 14.90371929\n",
      " 32.16362438 19.03792108 21.54659008 42.55735702 20.89058628 21.12288649\n",
      " 18.03591416 23.18244483 14.84170002  9.41097766 17.99387438 20.00469393\n",
      " 37.42800591 19.15815623 21.26405813 21.1782669  23.09654424 25.2521775\n",
      " 16.68928763 29.97519601 17.50573165 11.73867189 21.75521951 24.72911238]\n"
     ]
    }
   ],
   "source": [
    "# Run model on 'test' subset.\n",
    "mlr = LinearRegression()\n",
    "\n",
    "# Fit the model.\n",
    "mlr.fit(X_test, y_test)\n",
    "\n",
    "# Call the predictions for X in the test subset.\n",
    "y_pred_mlr = mlr.predict(X_test)\n",
    "\n",
    "# Print the predictions.\n",
    "print(\"Prediction for test subset: {}\".format(y_pred_mlr))"
   ]
  },
  {
   "cell_type": "code",
   "execution_count": 66,
   "id": "2d843171",
   "metadata": {},
   "outputs": [
    {
     "name": "stdout",
     "output_type": "stream",
     "text": [
      "71.03671013608054\n"
     ]
    }
   ],
   "source": [
    "# Print the R-squared value.\n",
    "print(mlr.score(X_test, y_test) * 100)"
   ]
  },
  {
   "cell_type": "markdown",
   "id": "c041e6a9",
   "metadata": {},
   "source": [
    "## Check for multicollinearity"
   ]
  },
  {
   "cell_type": "code",
   "execution_count": 70,
   "id": "d9e4407e",
   "metadata": {},
   "outputs": [
    {
     "name": "stdout",
     "output_type": "stream",
     "text": [
      "   VIF Factor   feature\n",
      "0       83.56     const\n",
      "1        1.04     Rooms\n",
      "2        1.04  Distance\n"
     ]
    },
    {
     "name": "stderr",
     "output_type": "stream",
     "text": [
      "C:\\Users\\richa\\anaconda3\\lib\\site-packages\\statsmodels\\tsa\\tsatools.py:142: FutureWarning: In a future version of pandas all arguments of concat except for the argument 'objs' will be keyword-only\n",
      "  x = pd.concat(x[::order], 1)\n"
     ]
    }
   ],
   "source": [
    "# Add a constant.\n",
    "x_temp = sm.add_constant(X_train)\n",
    "\n",
    "# Create an empty DataFrame.\n",
    "vif = pd.DataFrame()\n",
    "\n",
    "# Calculate the VIF (variance inflation factor).\n",
    "vif['VIF Factor'] = [variance_inflation_factor(x_temp.values, i) \\\n",
    "for i in range(x_temp.values.shape[1])]\n",
    "\n",
    "# Create the feature column.\n",
    "vif['feature'] = x_temp.columns\n",
    "\n",
    "# Print the values to two decimal places.\n",
    "print(vif.round(2))"
   ]
  },
  {
   "cell_type": "code",
   "execution_count": 71,
   "id": "2a6a7491",
   "metadata": {},
   "outputs": [
    {
     "name": "stdout",
     "output_type": "stream",
     "text": [
      "Mean Absolute Error (Final):  3.474945101862864\n",
      "Mean Squared Error (Final):  24.056805405025845\n"
     ]
    }
   ],
   "source": [
    "# Call the 'metrics.mean_absolute_error' function.\n",
    "print('Mean Absolute Error (Final): ', metrics.mean_absolute_error(y_test, y_pred))\n",
    "\n",
    "# Call the 'metrics.mean_squared_error' function.\n",
    "print('Mean Squared Error (Final): ', metrics.mean_squared_error(y_test, y_pred))"
   ]
  },
  {
   "cell_type": "code",
   "execution_count": null,
   "id": "52c18b71",
   "metadata": {},
   "outputs": [],
   "source": []
  }
 ],
 "metadata": {
  "kernelspec": {
   "display_name": "Python 3 (ipykernel)",
   "language": "python",
   "name": "python3"
  },
  "language_info": {
   "codemirror_mode": {
    "name": "ipython",
    "version": 3
   },
   "file_extension": ".py",
   "mimetype": "text/x-python",
   "name": "python",
   "nbconvert_exporter": "python",
   "pygments_lexer": "ipython3",
   "version": "3.9.7"
  }
 },
 "nbformat": 4,
 "nbformat_minor": 5
}
