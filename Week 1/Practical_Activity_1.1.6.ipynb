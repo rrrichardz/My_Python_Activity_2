{
 "cells": [
  {
   "cell_type": "markdown",
   "id": "eb72ec4a",
   "metadata": {},
   "source": [
    "## Practical_Activity_1.1.6"
   ]
  },
  {
   "cell_type": "markdown",
   "id": "77c99590",
   "metadata": {},
   "source": [
    "### 1. Prepare your workstation"
   ]
  },
  {
   "cell_type": "code",
   "execution_count": 5,
   "id": "5b7d69b1",
   "metadata": {},
   "outputs": [],
   "source": [
    "# Import the necessary libraries.\n",
    "import statsmodels.stats.api as sms\n",
    "from statsmodels.stats.power import TTestIndPower\n",
    "import pandas as pd\n",
    "import math\n",
    "import numpy as np\n",
    "import scipy.stats as st\n",
    "import matplotlib as mpl\n",
    "import matplotlib.pyplot as plt"
   ]
  },
  {
   "cell_type": "markdown",
   "id": "ee4da9f4",
   "metadata": {},
   "source": [
    "### 2. Perform power analysis"
   ]
  },
  {
   "cell_type": "code",
   "execution_count": 3,
   "id": "3b9e381a",
   "metadata": {},
   "outputs": [
    {
     "name": "stdout",
     "output_type": "stream",
     "text": [
      "Sample Size: 1565.490\n"
     ]
    }
   ],
   "source": [
    "# Perform the power analysis to determine sample size:\n",
    "analysis = TTestIndPower()\n",
    "\n",
    "effect = sms.proportion_effectsize(0.50, 0.55)\n",
    "power = 0.8\n",
    "alpha = 0.05\n",
    "\n",
    "result = analysis.solve_power(effect, power = power, nobs1 = None, ratio = 1, alpha = alpha)\n",
    "\n",
    "print('Sample Size: %.3f' % result)"
   ]
  },
  {
   "cell_type": "markdown",
   "id": "3d7fb98e",
   "metadata": {},
   "source": [
    "### 3. Import data set"
   ]
  },
  {
   "cell_type": "code",
   "execution_count": 10,
   "id": "eb220d6e",
   "metadata": {},
   "outputs": [
    {
     "name": "stdout",
     "output_type": "stream",
     "text": [
      "(184588, 6)\n",
      "   Unnamed: 0  RecordID    IPAddress  LoyaltyPage  ServerID  VisitPageFlag\n",
      "0           0         1  39.13.114.2            1         2              0\n",
      "1           1         2    13.3.25.8            1         1              0\n",
      "2           2         3  247.8.211.8            1         1              0\n",
      "3           3         4  124.8.220.3            0         3              0\n",
      "4           4         5  60.10.192.7            0         2              0\n",
      "<class 'pandas.core.frame.DataFrame'>\n",
      "RangeIndex: 184588 entries, 0 to 184587\n",
      "Data columns (total 6 columns):\n",
      " #   Column         Non-Null Count   Dtype \n",
      "---  ------         --------------   ----- \n",
      " 0   Unnamed: 0     184588 non-null  int64 \n",
      " 1   RecordID       184588 non-null  int64 \n",
      " 2   IPAddress      184588 non-null  object\n",
      " 3   LoyaltyPage    184588 non-null  int64 \n",
      " 4   ServerID       184588 non-null  int64 \n",
      " 5   VisitPageFlag  184588 non-null  int64 \n",
      "dtypes: int64(5), object(1)\n",
      "memory usage: 8.4+ MB\n"
     ]
    }
   ],
   "source": [
    "# Read the data set with Pandas.\n",
    "df = pd.read_csv(\"new_bike_shop_AB.csv\")\n",
    "\n",
    "# View the DataFrame.\n",
    "print(df.shape)\n",
    "print(df.head())\n",
    "df.info()"
   ]
  },
  {
   "cell_type": "markdown",
   "id": "839be2ce",
   "metadata": {},
   "source": [
    "### 4. Clean the data"
   ]
  },
  {
   "cell_type": "code",
   "execution_count": 13,
   "id": "ea7cb31c",
   "metadata": {},
   "outputs": [
    {
     "name": "stdout",
     "output_type": "stream",
     "text": [
      "(184588, 6)\n",
      "   Unnamed: 0  RecordID    IPAddress  LoyaltyPage  ServerID  VisitPageFlag\n",
      "0           0         1  39.13.114.2            1         2              0\n",
      "1           1         2    13.3.25.8            1         1              0\n",
      "2           2         3  247.8.211.8            1         1              0\n",
      "3           3         4  124.8.220.3            0         3              0\n",
      "4           4         5  60.10.192.7            0         2              0\n",
      "<class 'pandas.core.frame.DataFrame'>\n",
      "RangeIndex: 184588 entries, 0 to 184587\n",
      "Data columns (total 6 columns):\n",
      " #   Column         Non-Null Count   Dtype \n",
      "---  ------         --------------   ----- \n",
      " 0   Unnamed: 0     184588 non-null  int64 \n",
      " 1   RecordID       184588 non-null  int64 \n",
      " 2   IPAddress      184588 non-null  object\n",
      " 3   LoyaltyPage    184588 non-null  int64 \n",
      " 4   ServerID       184588 non-null  int64 \n",
      " 5   VisitPageFlag  184588 non-null  int64 \n",
      "dtypes: int64(5), object(1)\n",
      "memory usage: 8.4+ MB\n"
     ]
    }
   ],
   "source": [
    "# Rename the columns.\n",
    "df_new = df.rename(columns = {'IP Address': 'IPAddress', 'LoggedInFlag': \"LoyaltyPage\"})\n",
    "\n",
    "# View the DataFrame.\n",
    "print(df_new.shape)\n",
    "print(df_new.head())\n",
    "df_new.info()"
   ]
  },
  {
   "cell_type": "code",
   "execution_count": 14,
   "id": "989f9e7d",
   "metadata": {},
   "outputs": [
    {
     "name": "stdout",
     "output_type": "stream",
     "text": [
      "(39608, 3)\n",
      "<class 'pandas.core.frame.DataFrame'>\n",
      "Int64Index: 39608 entries, 7 to 184584\n",
      "Data columns (total 3 columns):\n",
      " #   Column       Non-Null Count  Dtype \n",
      "---  ------       --------------  ----- \n",
      " 0   IPAddress    39608 non-null  object\n",
      " 1   LoyaltyPage  39608 non-null  int64 \n",
      " 2   ServerID     39608 non-null  int64 \n",
      "dtypes: int64(2), object(1)\n",
      "memory usage: 1.2+ MB\n"
     ]
    }
   ],
   "source": [
    "# Drop duplicate values.\n",
    "df_new.drop_duplicates(subset =\"IPAddress\", keep = False, inplace = True)\n",
    "\n",
    "# Remove unneeded columns.\n",
    "df_final = df_new.drop(['Unnamed: 0', 'RecordID', 'VisitPageFlag'], axis = 1)\n",
    "\n",
    "# View the DataFrame.\n",
    "print(df_final.shape)\n",
    "df_final.info()"
   ]
  },
  {
   "cell_type": "markdown",
   "id": "2d304a09",
   "metadata": {},
   "source": [
    "### 5. Subset the DataFrame"
   ]
  },
  {
   "cell_type": "code",
   "execution_count": 15,
   "id": "8be023c0",
   "metadata": {},
   "outputs": [
    {
     "name": "stdout",
     "output_type": "stream",
     "text": [
      "(39608, 4)\n"
     ]
    },
    {
     "data": {
      "text/html": [
       "<div>\n",
       "<style scoped>\n",
       "    .dataframe tbody tr th:only-of-type {\n",
       "        vertical-align: middle;\n",
       "    }\n",
       "\n",
       "    .dataframe tbody tr th {\n",
       "        vertical-align: top;\n",
       "    }\n",
       "\n",
       "    .dataframe thead th {\n",
       "        text-align: right;\n",
       "    }\n",
       "</style>\n",
       "<table border=\"1\" class=\"dataframe\">\n",
       "  <thead>\n",
       "    <tr style=\"text-align: right;\">\n",
       "      <th></th>\n",
       "      <th>IPAddress</th>\n",
       "      <th>LoyaltyPage</th>\n",
       "      <th>ServerID</th>\n",
       "      <th>Group</th>\n",
       "    </tr>\n",
       "  </thead>\n",
       "  <tbody>\n",
       "    <tr>\n",
       "      <th>7</th>\n",
       "      <td>97.6.126.6</td>\n",
       "      <td>0</td>\n",
       "      <td>3</td>\n",
       "      <td>Control</td>\n",
       "    </tr>\n",
       "    <tr>\n",
       "      <th>12</th>\n",
       "      <td>188.13.62.2</td>\n",
       "      <td>0</td>\n",
       "      <td>3</td>\n",
       "      <td>Control</td>\n",
       "    </tr>\n",
       "    <tr>\n",
       "      <th>14</th>\n",
       "      <td>234.1.239.1</td>\n",
       "      <td>0</td>\n",
       "      <td>2</td>\n",
       "      <td>Control</td>\n",
       "    </tr>\n",
       "    <tr>\n",
       "      <th>15</th>\n",
       "      <td>167.15.157.7</td>\n",
       "      <td>0</td>\n",
       "      <td>2</td>\n",
       "      <td>Control</td>\n",
       "    </tr>\n",
       "    <tr>\n",
       "      <th>16</th>\n",
       "      <td>123.12.229.8</td>\n",
       "      <td>0</td>\n",
       "      <td>1</td>\n",
       "      <td>Treatment</td>\n",
       "    </tr>\n",
       "  </tbody>\n",
       "</table>\n",
       "</div>"
      ],
      "text/plain": [
       "       IPAddress  LoyaltyPage  ServerID      Group\n",
       "7     97.6.126.6            0         3    Control\n",
       "12   188.13.62.2            0         3    Control\n",
       "14   234.1.239.1            0         2    Control\n",
       "15  167.15.157.7            0         2    Control\n",
       "16  123.12.229.8            0         1  Treatment"
      ]
     },
     "execution_count": 15,
     "metadata": {},
     "output_type": "execute_result"
    }
   ],
   "source": [
    "# Split data set into ID1 as treatment and ID2 & ID3 as control group.\n",
    "df_final['Group'] = df_final['ServerID'].map({1: 'Treatment', 2: 'Control', 3: 'Control'})\n",
    "\n",
    "# View the DataFrame.\n",
    "print(df_final.shape)\n",
    "df_final.head()"
   ]
  },
  {
   "cell_type": "code",
   "execution_count": 16,
   "id": "45edc41a",
   "metadata": {},
   "outputs": [
    {
     "data": {
      "text/plain": [
       "Control      26310\n",
       "Treatment    13298\n",
       "Name: Group, dtype: int64"
      ]
     },
     "execution_count": 16,
     "metadata": {},
     "output_type": "execute_result"
    }
   ],
   "source": [
    "# Count the values.\n",
    "df_final['Group'].value_counts()"
   ]
  },
  {
   "cell_type": "code",
   "execution_count": 17,
   "id": "9c5f934f",
   "metadata": {},
   "outputs": [
    {
     "name": "stdout",
     "output_type": "stream",
     "text": [
      "           IPAddress  LoyaltyPage  ServerID    Group\n",
      "178875   110.13.32.9            0         3  Control\n",
      "127932     11.1.11.1            1         2  Control\n",
      "20425    234.4.250.3            0         2  Control\n",
      "104611   244.12.33.1            1         2  Control\n",
      "132873    232.4.61.9            0         2  Control\n",
      "...              ...          ...       ...      ...\n",
      "113936   111.11.27.7            1         3  Control\n",
      "118109   251.0.237.2            1         3  Control\n",
      "87173     192.2.62.4            1         3  Control\n",
      "44491     65.12.18.6            1         2  Control\n",
      "65759   210.16.220.4            1         3  Control\n",
      "\n",
      "[1565 rows x 4 columns]\n",
      "          IPAddress  LoyaltyPage  ServerID      Group\n",
      "127674   79.7.253.6            1         1  Treatment\n",
      "36272     13.16.6.9            1         1  Treatment\n",
      "100570  213.10.22.5            0         1  Treatment\n",
      "162988   232.4.29.4            1         1  Treatment\n",
      "159937   75.1.232.4            0         1  Treatment\n",
      "...             ...          ...       ...        ...\n",
      "93061   83.12.121.1            0         1  Treatment\n",
      "15561   158.5.109.2            1         1  Treatment\n",
      "6115      28.2.49.7            0         1  Treatment\n",
      "84460    81.8.204.9            1         1  Treatment\n",
      "19161   146.5.252.2            0         1  Treatment\n",
      "\n",
      "[1565 rows x 4 columns]\n"
     ]
    }
   ],
   "source": [
    "# Create two DataFrames.\n",
    "control_sample = df_final[df_final['Group'] == 'Control'].sample(n = 1565, random_state = 22)\n",
    "\n",
    "treatment_sample = df_final[df_final['Group'] == 'Treatment'].sample(n = 1565, random_state = 22)\n",
    "\n",
    "# View the DataFrames.\n",
    "print(control_sample)\n",
    "print(treatment_sample)"
   ]
  },
  {
   "cell_type": "markdown",
   "id": "f8d10521",
   "metadata": {},
   "source": [
    "### 6. Perform A/B testing"
   ]
  },
  {
   "cell_type": "code",
   "execution_count": 18,
   "id": "38ebc744",
   "metadata": {},
   "outputs": [
    {
     "data": {
      "text/html": [
       "<div>\n",
       "<style scoped>\n",
       "    .dataframe tbody tr th:only-of-type {\n",
       "        vertical-align: middle;\n",
       "    }\n",
       "\n",
       "    .dataframe tbody tr th {\n",
       "        vertical-align: top;\n",
       "    }\n",
       "\n",
       "    .dataframe thead th {\n",
       "        text-align: right;\n",
       "    }\n",
       "</style>\n",
       "<table border=\"1\" class=\"dataframe\">\n",
       "  <thead>\n",
       "    <tr style=\"text-align: right;\">\n",
       "      <th></th>\n",
       "      <th>IPAddress</th>\n",
       "      <th>LoyaltyPage</th>\n",
       "      <th>ServerID</th>\n",
       "      <th>Group</th>\n",
       "    </tr>\n",
       "  </thead>\n",
       "  <tbody>\n",
       "    <tr>\n",
       "      <th>0</th>\n",
       "      <td>110.13.32.9</td>\n",
       "      <td>0</td>\n",
       "      <td>3</td>\n",
       "      <td>Control</td>\n",
       "    </tr>\n",
       "    <tr>\n",
       "      <th>1</th>\n",
       "      <td>11.1.11.1</td>\n",
       "      <td>1</td>\n",
       "      <td>2</td>\n",
       "      <td>Control</td>\n",
       "    </tr>\n",
       "    <tr>\n",
       "      <th>2</th>\n",
       "      <td>234.4.250.3</td>\n",
       "      <td>0</td>\n",
       "      <td>2</td>\n",
       "      <td>Control</td>\n",
       "    </tr>\n",
       "    <tr>\n",
       "      <th>3</th>\n",
       "      <td>244.12.33.1</td>\n",
       "      <td>1</td>\n",
       "      <td>2</td>\n",
       "      <td>Control</td>\n",
       "    </tr>\n",
       "    <tr>\n",
       "      <th>4</th>\n",
       "      <td>232.4.61.9</td>\n",
       "      <td>0</td>\n",
       "      <td>2</td>\n",
       "      <td>Control</td>\n",
       "    </tr>\n",
       "    <tr>\n",
       "      <th>...</th>\n",
       "      <td>...</td>\n",
       "      <td>...</td>\n",
       "      <td>...</td>\n",
       "      <td>...</td>\n",
       "    </tr>\n",
       "    <tr>\n",
       "      <th>3125</th>\n",
       "      <td>83.12.121.1</td>\n",
       "      <td>0</td>\n",
       "      <td>1</td>\n",
       "      <td>Treatment</td>\n",
       "    </tr>\n",
       "    <tr>\n",
       "      <th>3126</th>\n",
       "      <td>158.5.109.2</td>\n",
       "      <td>1</td>\n",
       "      <td>1</td>\n",
       "      <td>Treatment</td>\n",
       "    </tr>\n",
       "    <tr>\n",
       "      <th>3127</th>\n",
       "      <td>28.2.49.7</td>\n",
       "      <td>0</td>\n",
       "      <td>1</td>\n",
       "      <td>Treatment</td>\n",
       "    </tr>\n",
       "    <tr>\n",
       "      <th>3128</th>\n",
       "      <td>81.8.204.9</td>\n",
       "      <td>1</td>\n",
       "      <td>1</td>\n",
       "      <td>Treatment</td>\n",
       "    </tr>\n",
       "    <tr>\n",
       "      <th>3129</th>\n",
       "      <td>146.5.252.2</td>\n",
       "      <td>0</td>\n",
       "      <td>1</td>\n",
       "      <td>Treatment</td>\n",
       "    </tr>\n",
       "  </tbody>\n",
       "</table>\n",
       "<p>3130 rows × 4 columns</p>\n",
       "</div>"
      ],
      "text/plain": [
       "        IPAddress  LoyaltyPage  ServerID      Group\n",
       "0     110.13.32.9            0         3    Control\n",
       "1       11.1.11.1            1         2    Control\n",
       "2     234.4.250.3            0         2    Control\n",
       "3     244.12.33.1            1         2    Control\n",
       "4      232.4.61.9            0         2    Control\n",
       "...           ...          ...       ...        ...\n",
       "3125  83.12.121.1            0         1  Treatment\n",
       "3126  158.5.109.2            1         1  Treatment\n",
       "3127    28.2.49.7            0         1  Treatment\n",
       "3128   81.8.204.9            1         1  Treatment\n",
       "3129  146.5.252.2            0         1  Treatment\n",
       "\n",
       "[3130 rows x 4 columns]"
      ]
     },
     "execution_count": 18,
     "metadata": {},
     "output_type": "execute_result"
    }
   ],
   "source": [
    "# Perform A/B testing.\n",
    "# Create variable and merge DataFrames.\n",
    "ab_test = pd.concat([control_sample, treatment_sample], axis = 0)\n",
    "\n",
    "ab_test.reset_index(drop = True, inplace = True)\n",
    "\n",
    "# View the output.\n",
    "ab_test"
   ]
  },
  {
   "cell_type": "code",
   "execution_count": 19,
   "id": "54856744",
   "metadata": {},
   "outputs": [
    {
     "data": {
      "text/html": [
       "<style type=\"text/css\">\n",
       "</style>\n",
       "<table id=\"T_63e13_\">\n",
       "  <thead>\n",
       "    <tr>\n",
       "      <th class=\"blank level0\" >&nbsp;</th>\n",
       "      <th class=\"col_heading level0 col0\" >conversion_rate</th>\n",
       "      <th class=\"col_heading level0 col1\" >std_deviation</th>\n",
       "      <th class=\"col_heading level0 col2\" >std_error</th>\n",
       "    </tr>\n",
       "    <tr>\n",
       "      <th class=\"index_name level0\" >Group</th>\n",
       "      <th class=\"blank col0\" >&nbsp;</th>\n",
       "      <th class=\"blank col1\" >&nbsp;</th>\n",
       "      <th class=\"blank col2\" >&nbsp;</th>\n",
       "    </tr>\n",
       "  </thead>\n",
       "  <tbody>\n",
       "    <tr>\n",
       "      <th id=\"T_63e13_level0_row0\" class=\"row_heading level0 row0\" >Control</th>\n",
       "      <td id=\"T_63e13_row0_col0\" class=\"data row0 col0\" >0.513</td>\n",
       "      <td id=\"T_63e13_row0_col1\" class=\"data row0 col1\" >0.500</td>\n",
       "      <td id=\"T_63e13_row0_col2\" class=\"data row0 col2\" >0.013</td>\n",
       "    </tr>\n",
       "    <tr>\n",
       "      <th id=\"T_63e13_level0_row1\" class=\"row_heading level0 row1\" >Treatment</th>\n",
       "      <td id=\"T_63e13_row1_col0\" class=\"data row1 col0\" >0.498</td>\n",
       "      <td id=\"T_63e13_row1_col1\" class=\"data row1 col1\" >0.500</td>\n",
       "      <td id=\"T_63e13_row1_col2\" class=\"data row1 col2\" >0.013</td>\n",
       "    </tr>\n",
       "  </tbody>\n",
       "</table>\n"
      ],
      "text/plain": [
       "<pandas.io.formats.style.Styler at 0x1f2d15f10a0>"
      ]
     },
     "execution_count": 19,
     "metadata": {},
     "output_type": "execute_result"
    }
   ],
   "source": [
    "# Calculate the conversion rates:\n",
    "conversion_rates = ab_test.groupby('Group')['LoyaltyPage']\n",
    "\n",
    "# Standard deviation of the proportion:\n",
    "STD_p = lambda x: np.std(x, ddof = 0)\n",
    "SE_p = lambda x: st.sem(x, ddof = 0)\n",
    "\n",
    "conversion_rates = conversion_rates.agg([np.mean, STD_p, SE_p])\n",
    "conversion_rates.columns = ['conversion_rate', 'std_deviation', 'std_error']\n",
    "\n",
    "conversion_rates.style.format('{:.3f}')"
   ]
  },
  {
   "cell_type": "code",
   "execution_count": 22,
   "id": "609aafc7",
   "metadata": {},
   "outputs": [
    {
     "name": "stdout",
     "output_type": "stream",
     "text": [
      "Z test stat: 0.86\n",
      "P-value: 0.391\n",
      "Confidence Interval of 95% for control group: [0.488, 0.538]\n",
      "Confidence Interval of 95% for treatment group: [0.473, 0.523]\n"
     ]
    }
   ],
   "source": [
    "# Calculate the p-value and confidence intervals.\n",
    "# Import necessary packages.\n",
    "from statsmodels.stats.proportion import proportions_ztest, proportion_confint\n",
    "\n",
    "control_results = ab_test[ab_test['Group'] == 'Control']['LoyaltyPage']\n",
    "treatment_results = ab_test[ab_test['Group'] == 'Treatment']['LoyaltyPage']\n",
    "\n",
    "n_con = control_results.count()\n",
    "n_treat = treatment_results.count()\n",
    "\n",
    "successes = [control_results.sum(), treatment_results.sum()]\n",
    "\n",
    "nobs = [n_con, n_treat]\n",
    "\n",
    "z_stat, pval = proportions_ztest(successes, nobs = nobs)\n",
    "(lower_con, lower_treat), (upper_con, upper_treat) = proportion_confint(successes, \\\n",
    "nobs = nobs, alpha = 0.05)\n",
    "\n",
    "print(f'Z test stat: {z_stat:.2f}')\n",
    "print(f'P-value: {pval:.3f}')\n",
    "print(f'Confidence Interval of 95% for control group: [{lower_con:.3f}, {upper_con:.3f}]')\n",
    "print(f'Confidence Interval of 95% for treatment group: [{lower_treat:.3f}, {upper_treat:.3f}]')"
   ]
  },
  {
   "cell_type": "markdown",
   "id": "7301b4dd",
   "metadata": {},
   "source": [
    "### 7. Summarise results and explain your answers"
   ]
  },
  {
   "cell_type": "code",
   "execution_count": 24,
   "id": "53b720b0",
   "metadata": {},
   "outputs": [],
   "source": [
    "# The change to the homepage slightly decreased the click through to the log in page. \n",
    "\n",
    "# The p-value is well over the Alpha value of 0.05, meaning the null hypothesis cannot be rejected. "
   ]
  },
  {
   "cell_type": "code",
   "execution_count": null,
   "id": "18880770",
   "metadata": {},
   "outputs": [],
   "source": []
  }
 ],
 "metadata": {
  "kernelspec": {
   "display_name": "Python 3 (ipykernel)",
   "language": "python",
   "name": "python3"
  },
  "language_info": {
   "codemirror_mode": {
    "name": "ipython",
    "version": 3
   },
   "file_extension": ".py",
   "mimetype": "text/x-python",
   "name": "python",
   "nbconvert_exporter": "python",
   "pygments_lexer": "ipython3",
   "version": "3.9.7"
  }
 },
 "nbformat": 4,
 "nbformat_minor": 5
}
